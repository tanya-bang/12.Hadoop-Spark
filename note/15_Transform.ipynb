{
 "cells": [
  {
   "cell_type": "code",
   "execution_count": 1,
   "id": "ffee0de2",
   "metadata": {},
   "outputs": [],
   "source": [
    "from IPython.core.interactiveshell import InteractiveShell\n",
    "InteractiveShell.ast_node_interactivity = \"all\""
   ]
  },
  {
   "cell_type": "code",
   "execution_count": null,
   "id": "f95e956f",
   "metadata": {},
   "outputs": [],
   "source": [
    "# matplotlib 한글 꺠짐 방지\n",
    "# apt-get update\n",
    "# apt-get install fonts-nanum* \n",
    "# apt-get install fontconfig\n",
    "# fc-cache -fv  # font 캐시 날리기\n",
    "# rm -rf /home/hy1/.cache/matplotlib/  #matplotliob 폰트 캐시 날리기\n"
   ]
  },
  {
   "cell_type": "code",
   "execution_count": 2,
   "id": "913eefb5",
   "metadata": {},
   "outputs": [],
   "source": [
    "from datetime import date, datetime\n",
    "from pyspark.sql.types import *\n",
    "from pyspark.sql.functions import *\n",
    "import datetime as dt\n",
    "import pandas as pd\n",
    "import matplotlib.pyplot as plt #그래프 패키지 모듈 등록\n",
    "%matplotlib inline #J."
   ]
  },
  {
   "cell_type": "markdown",
   "id": "ef265623-ccf4-42f1-b681-56bfc51f0179",
   "metadata": {},
   "source": [
    "### DW hdfs에서 파일 읽어와서 transform 진행\n",
    "- hdfs InsecureClient 객체 생성\n",
    "- http://localhost:9870 -> namenode url\n",
    "- user = hadoop user"
   ]
  },
  {
   "cell_type": "code",
   "execution_count": 3,
   "id": "1a967a63-da1e-4813-a114-42decbb6c43a",
   "metadata": {},
   "outputs": [],
   "source": [
    "from hdfs import InsecureClient\n",
    "client = InsecureClient('http://localhost:9870', user='root')"
   ]
  },
  {
   "cell_type": "markdown",
   "id": "bdd16dbe-2365-4830-9817-86fc2632b7c4",
   "metadata": {},
   "source": [
    "- 아래 코드는 matplotlib에 한글폰트 적용하기 위한 코드"
   ]
  },
  {
   "cell_type": "code",
   "execution_count": 4,
   "id": "a4af10ef",
   "metadata": {},
   "outputs": [],
   "source": [
    "import platform\n",
    "\n",
    "from matplotlib import font_manager, rc\n",
    "plt.rcParams['axes.unicode_minus'] = False\n",
    "\n",
    "if platform.system() == 'Darwin':  # 맥OS \n",
    "    rc('font', family='AppleGothic')\n",
    "elif platform.system() == 'Windows':  # 윈도우\n",
    "    path = \"c:/Windows/Fonts/malgun.ttf\"\n",
    "    font_name = font_manager.FontProperties(fname=path).get_name()\n",
    "    rc('font', family=font_name)\n",
    "else:\n",
    "    rc('font', family='NanumGothic')"
   ]
  },
  {
   "cell_type": "markdown",
   "id": "7e8685f5",
   "metadata": {},
   "source": [
    "#### Transform\n",
    "1. 지역(광역시도)별 단위면적당 인구수\n",
    "2. 지역별 단위면적당 인구수 & 코로나 확진자수\n",
    "3. 지역별 단위면적당 인구수 & 코로나 확진자수, 지역별 백신접종률\n",
    "4. 지역별 공공시설과 코로나 확진자 수\n",
    "5. 위 데이터들로(transform data) 그래프 그릴것"
   ]
  },
  {
   "cell_type": "markdown",
   "id": "3979d7bf-87d6-49ab-99df-5fa4932b4993",
   "metadata": {},
   "source": [
    "- 날짜: (n일전) 자동화 되게해야하니까 날짜계산코드 이전노트에서 들고오자"
   ]
  },
  {
   "cell_type": "code",
   "execution_count": 5,
   "id": "587a9188-34c7-48f3-a329-86b0574951bf",
   "metadata": {},
   "outputs": [],
   "source": [
    "def cal_std_day(befor_day):\n",
    "    x = dt.datetime.now() - dt.timedelta(befor_day)\n",
    "    year = x.year\n",
    "    month = x.month if x.month >= 10 else '0'+ str(x.month)\n",
    "    day = x.day if x.day >= 10 else '0' + str(x.day)\n",
    "    return str(year) + '-' + str(month) + '-' + str(day)"
   ]
  },
  {
   "cell_type": "markdown",
   "id": "e910b1a7-9259-48f5-b15d-8d35034b252c",
   "metadata": {},
   "source": [
    "#### 1. 지역(광역시도)별 단위면적당 인구수\n",
    "필요data\n",
    "- 지역별 인구 & 면적 데이터: /corona_data/tmp 안에 있음"
   ]
  },
  {
   "cell_type": "code",
   "execution_count": 6,
   "id": "dc359526-917d-48d9-ad5f-5f1106f19635",
   "metadata": {
    "collapsed": true,
    "jupyter": {
     "outputs_hidden": true
    }
   },
   "outputs": [
    {
     "name": "stderr",
     "output_type": "stream",
     "text": [
      "[Stage 1:>                                                          (0 + 1) / 1]"
     ]
    },
    {
     "name": "stdout",
     "output_type": "stream",
     "text": [
      "+----+------+-----+\n",
      "| loc|  area|ratio|\n",
      "+----+------+-----+\n",
      "|서울|  605 |  0.6|\n",
      "|부산|  770 |  0.8|\n",
      "|대구|  883 |  0.9|\n",
      "|인천| 1065 |  1.1|\n",
      "|광주|  501 |  0.5|\n",
      "|대전|  540 |  0.5|\n",
      "|울산| 1062 |  1.1|\n",
      "|세종|  465 |  0.5|\n",
      "|경기|10195 | 10.2|\n",
      "|강원|16830 | 16.8|\n",
      "|충북| 7407 |  7.4|\n",
      "|충남| 8246 |  8.2|\n",
      "|전북| 8070 |  8.0|\n",
      "|전남|12348 | 12.3|\n",
      "|경북|19034 | 19.0|\n",
      "|경남|10541 | 10.5|\n",
      "|제주| 1850 |  1.8|\n",
      "+----+------+-----+\n",
      "\n"
     ]
    },
    {
     "name": "stderr",
     "output_type": "stream",
     "text": [
      "                                                                                "
     ]
    }
   ],
   "source": [
    "# 지역 면적 데이터 읽어오기\n",
    "# 파일 encoding=CP949\n",
    "area = spark.read.csv('/corona_data/tmp/sido_area.csv', encoding='CP949', header=True)\n",
    "area.show()\n",
    "#ratio는 전체 영토 대비 차지 비율"
   ]
  },
  {
   "cell_type": "code",
   "execution_count": 7,
   "id": "c04853c5-6c8d-40cd-ba28-14efe5a67f23",
   "metadata": {
    "collapsed": true,
    "jupyter": {
     "outputs_hidden": true
    }
   },
   "outputs": [
    {
     "name": "stdout",
     "output_type": "stream",
     "text": [
      "+----+---------+---------+---------+\n",
      "| loc|    total|     male|   female|\n",
      "+----+---------+---------+---------+\n",
      "|전국|52739009 |26360035 |26378974 |\n",
      "|서울| 9736027 | 4721977 | 5014050 |\n",
      "|부산| 3396109 | 1663619 | 1732490 |\n",
      "|대구| 2412642 | 1189901 | 1222741 |\n",
      "|인천| 3014739 | 1513277 | 1501462 |\n",
      "|광주| 1462545 |  724178 |  738367 |\n",
      "|대전| 1469543 |  732593 |  736950 |\n",
      "|울산| 1138419 |  586031 |  552388 |\n",
      "|세종|  376779 |  188619 |  188160 |\n",
      "|경기|13925862 | 7038296 | 6887566 |\n",
      "|강원| 1555876 |  783743 |  772133 |\n",
      "|충북| 1633472 |  832743 |  800729 |\n",
      "|충남| 2181835 | 1120429 | 1061406 |\n",
      "|전북| 1817186 |  905672 |  911514 |\n",
      "|전남| 1865459 |  943018 |  922441 |\n",
      "|경북| 2677709 | 1355128 | 1322581 |\n",
      "|경남| 3377331 | 1709989 | 1667342 |\n",
      "|제주|  697476 |  350822 |  346654 |\n",
      "+----+---------+---------+---------+\n",
      "\n"
     ]
    }
   ],
   "source": [
    "# 지역 인구 데이터 읽어오기\n",
    "# 인구 데이터 특징: 3-4년에 한번 update됨\n",
    "    # airflow구성시 매일 수집 등 자동 수집 구현할 필요 X\n",
    "# 파일 encoding=CP949\n",
    "popu = spark.read.csv('/corona_data/tmp/sido_population.csv', encoding='CP949', header=True)\n",
    "popu.show()\n",
    "#ratio는 전체 영토 대비 차지 비율"
   ]
  },
  {
   "cell_type": "markdown",
   "id": "a83d9897-47e5-4c9b-b511-001afe467eac",
   "metadata": {},
   "source": [
    "### 지역별 단위면적과 인구수 구하기 진행중...\n",
    "- 면적과 인구관련 data는 자주 변경x ==> 자동화에서 제외\n",
    "- ** DM DB에 table로 저장"
   ]
  },
  {
   "cell_type": "code",
   "execution_count": 9,
   "id": "62e512cf-16b6-4229-be13-8c09523b8652",
   "metadata": {},
   "outputs": [
    {
     "name": "stderr",
     "output_type": "stream",
     "text": [
      "[Stage 5:>                                                          (0 + 1) / 1]"
     ]
    },
    {
     "name": "stdout",
     "output_type": "stream",
     "text": [
      "+----+------+-----+---------+--------+--------+\n",
      "| loc|  area|ratio|    total|    male|  female|\n",
      "+----+------+-----+---------+--------+--------+\n",
      "|서울|  605 |  0.6| 9736027 |4721977 |5014050 |\n",
      "|부산|  770 |  0.8| 3396109 |1663619 |1732490 |\n",
      "|대구|  883 |  0.9| 2412642 |1189901 |1222741 |\n",
      "|인천| 1065 |  1.1| 3014739 |1513277 |1501462 |\n",
      "|광주|  501 |  0.5| 1462545 | 724178 | 738367 |\n",
      "|대전|  540 |  0.5| 1469543 | 732593 | 736950 |\n",
      "|울산| 1062 |  1.1| 1138419 | 586031 | 552388 |\n",
      "|세종|  465 |  0.5|  376779 | 188619 | 188160 |\n",
      "|경기|10195 | 10.2|13925862 |7038296 |6887566 |\n",
      "|강원|16830 | 16.8| 1555876 | 783743 | 772133 |\n",
      "|충북| 7407 |  7.4| 1633472 | 832743 | 800729 |\n",
      "|충남| 8246 |  8.2| 2181835 |1120429 |1061406 |\n",
      "|전북| 8070 |  8.0| 1817186 | 905672 | 911514 |\n",
      "|전남|12348 | 12.3| 1865459 | 943018 | 922441 |\n",
      "|경북|19034 | 19.0| 2677709 |1355128 |1322581 |\n",
      "|경남|10541 | 10.5| 3377331 |1709989 |1667342 |\n",
      "|제주| 1850 |  1.8|  697476 | 350822 | 346654 |\n",
      "+----+------+-----+---------+--------+--------+\n",
      "\n"
     ]
    },
    {
     "name": "stderr",
     "output_type": "stream",
     "text": [
      "                                                                                "
     ]
    }
   ],
   "source": [
    "# 면적data와 인구 data loc 기준 join 후 가공 data를 생성\n",
    "# df join(inner join): 양쪽 df에 모두 존재하는 key에 대해서만 join을 진행\n",
    "                        # 인구data: 전국 포함 / 면적data: 전국 미포함 ==> inner join 시 제외됨\n",
    "area_pop = area.join(popu, on='loc')\n",
    "area_pop.show()"
   ]
  },
  {
   "cell_type": "code",
   "execution_count": 11,
   "id": "6703694c-9de4-46e2-84cd-5a61ca6f7c52",
   "metadata": {},
   "outputs": [
    {
     "name": "stdout",
     "output_type": "stream",
     "text": [
      "+----+------------+\n",
      "| loc|popu_density|\n",
      "+----+------------+\n",
      "|서울|       16093|\n",
      "|부산|        4411|\n",
      "|대구|        2733|\n",
      "|인천|        2831|\n",
      "|광주|        2920|\n",
      "|대전|        2722|\n",
      "|울산|        1072|\n",
      "|세종|         811|\n",
      "|경기|        1366|\n",
      "|강원|          93|\n",
      "|충북|         221|\n",
      "|충남|         265|\n",
      "|전북|         226|\n",
      "|전남|         152|\n",
      "|경북|         141|\n",
      "|경남|         321|\n",
      "|제주|         378|\n",
      "+----+------------+\n",
      "\n"
     ]
    },
    {
     "name": "stderr",
     "output_type": "stream",
     "text": [
      "                                                                                "
     ]
    }
   ],
   "source": [
    "# 단위면적당 인구수 정보를 갖고있는 가공 df 생성\n",
    "# 연산 결과는 실수data이므로 올림처리해서 정수\n",
    "area_pop_v1 = area_pop.select(area_pop.loc,\n",
    "                           (ceil(area_pop.total/area_pop.area)).alias('popu_density'))\n",
    "area_pop_v1.show()"
   ]
  },
  {
   "cell_type": "markdown",
   "id": "87c2fa82-79d3-4b85-a5c5-ddec86062f0c",
   "metadata": {},
   "source": [
    "### 지역별 코로나 환자 데이터와 지역/인구 데이터와의 관계\n",
    "- 지역별 누적 발생 현황: deCnt\n",
    "- 지역별 인구 10만명 당 발생률: qurRate"
   ]
  },
  {
   "cell_type": "code",
   "execution_count": 13,
   "id": "3c131f83-5a51-43d1-87ab-b322a19e60ba",
   "metadata": {},
   "outputs": [
    {
     "data": {
      "text/plain": [
       "'2022-01-18'"
      ]
     },
     "execution_count": 13,
     "metadata": {},
     "output_type": "execute_result"
    }
   ],
   "source": [
    "# 특정일까지의 누적 데이터를 활용해서 지역/인구 데이터와의 관계\n",
    "cal_std_day(365*3+3)"
   ]
  },
  {
   "cell_type": "code",
   "execution_count": 14,
   "id": "039e38a8-dcdc-4e20-b82f-72e16fe6b9af",
   "metadata": {},
   "outputs": [
    {
     "name": "stderr",
     "output_type": "stream",
     "text": [
      "[Stage 11:>                                                         (0 + 1) / 1]"
     ]
    },
    {
     "name": "stdout",
     "output_type": "stream",
     "text": [
      "+----------------------+---------+------+----------+--------------+----------+\n",
      "|                 items|numOfRows|pageNo|resultCode|     resultMsg|totalCount|\n",
      "+----------------------+---------+------+----------+--------------+----------+\n",
      "|[{326, 40625, 인천,...|      500|     1|        00|NORMAL SERVICE|        19|\n",
      "+----------------------+---------+------+----------+--------------+----------+\n",
      "\n"
     ]
    },
    {
     "name": "stderr",
     "output_type": "stream",
     "text": [
      "                                                                                "
     ]
    }
   ],
   "source": [
    "# api data > hdfs 저장 > spark.read.json('hdfs url/파일경로/파일명', encoding=) -> df로 읽어오기\n",
    "# 9000 : 기본 hdfs연결 port\n",
    "file_dir = 'hdfs://localhost:9000/corona_data/patient/'\n",
    "file_name = 'corona_patient_'+cal_std_day(365*3+3)+'.json'\n",
    "fname = file_dir+file_name\n",
    "tmpAPI = spark.read.json(fname, encoding='UTF-8')\n",
    "tmpAPI.show()\n",
    "\n",
    "# json파일을 spark.df로 읽어옴\n",
    "# 최상위 lecel key df의 컬럼으로 구성됨\n",
    "# 1행만 갖고있는 df\n",
    "# 실제 사용할 data는 items 컬럼에 list type으로 읽어왔음"
   ]
  },
  {
   "cell_type": "code",
   "execution_count": null,
   "id": "3488a371-cd8d-4c20-859e-58fd887c4a87",
   "metadata": {},
   "outputs": [],
   "source": [
    "# items 가 필요하고 1개의 행으로만 되어있으므로 첫째행의 값을 가져오는 first()활용\n",
    "# show와 다르게 반환값이 있다.\n",
    "# 지금은 데이터가 필요한거니까 반드시 반환값이 있는 메소드 이용이 필요한 상황"
   ]
  },
  {
   "cell_type": "code",
   "execution_count": 17,
   "id": "85f6000f-94c5-4e80-bc40-0bcf156fa8b5",
   "metadata": {},
   "outputs": [
    {
     "name": "stderr",
     "output_type": "stream",
     "text": [
      "                                                                                "
     ]
    }
   ],
   "source": [
    "tmpFin = tmpAPI.select('items').first()\n",
    "#tmpFin\n",
    "#tmpFin['items'] > 리스트의 객체가 각 행을 만들 수 있는 형태\n",
    "# spark에서 DF만들기\n",
    "coPatient=spark.createDataFrame(tmpFin['items']) #json > DF > 필요컬럼추출> DF로 구성한 과정"
   ]
  },
  {
   "cell_type": "code",
   "execution_count": 18,
   "id": "6bf5590e-47f6-4630-b190-8e448c2a6d8b",
   "metadata": {},
   "outputs": [
    {
     "name": "stderr",
     "output_type": "stream",
     "text": [
      "                                                                                "
     ]
    },
    {
     "name": "stdout",
     "output_type": "stream",
     "text": [
      "+--------+------+-----+-------+-----------------+------+------------+----------+-----------+-----------+-------+----------+\n",
      "|deathCnt|defCnt|gubun|gubunCn|          gubunEn|incDec|isolClearCnt|isolIngCnt|localOccCnt|overFlowCnt|qurRate|    stdDay|\n",
      "+--------+------+-----+-------+-----------------+------+------------+----------+-----------+-----------+-------+----------+\n",
      "|     326| 40625| 인천|   仁川|          Incheon|   196|       35422|         0|        177|         19|   1378|2022-01-18|\n",
      "|     123| 12555| 충북|   忠北|Chungcheongbuk-do|    59|       11766|         0|         55|          4|    786|2022-01-18|\n",
      "|     110| 13838| 강원|   江原|       Gangwon-do|    94|       12657|         0|         94|          0|    899|2022-01-18|\n",
      "|     344| 28102| 부산|   釜山|            Busan|   114|       25796|         0|        102|         12|    839|2022-01-18|\n",
      "|      65|  7459| 울산|   蔚山|            Ulsan|    35|        7107|         0|         33|          2|    665|2022-01-18|\n",
      "|      60| 10475| 광주|   光州|          Gwangju|   184|        8523|         0|        174|         10|    727|2022-01-18|\n",
      "|    6378|700102| 합계|   合计|            Total|  4072|      585673|         0|       3763|        309|   1356|2022-01-18|\n",
      "|       4|  2388| 세종|   世宗|           Sejong|    23|        2242|         0|         21|          2|    642|2022-01-18|\n",
      "|      16|  7960| 검역| 隔離區|        Lazaretto|    77|        6734|         0|          0|         77|      -|2022-01-18|\n",
      "|     385| 25155| 대구|   大邱|            Daegu|   171|       23380|         0|        162|          9|   1055|2022-01-18|\n",
      "|     189| 16962| 경북|   庆北| Gyeongsangbuk-do|   138|       15281|         0|        129|          9|    646|2022-01-18|\n",
      "|     114| 22778| 경남|   庆南| Gyeongsangnam-do|   142|       21299|         0|        134|          8|    687|2022-01-18|\n",
      "|    2063|243337| 서울|   首尔|            Seoul|   763|      198148|         0|        684|         79|   2559|2022-01-18|\n",
      "|      45|  7935| 전남|   全南|     Jeollanam-do|   139|        5885|         0|        138|          1|    433|2022-01-18|\n",
      "|      13|  4900| 제주|   济州|             Jeju|     3|        4792|         0|          2|          1|    724|2022-01-18|\n",
      "|    2036|210984| 경기|   京畿|      Gyeonggi-do|  1530|      167373|         0|       1470|         60|   1555|2022-01-18|\n",
      "|     121| 11245| 전북|   全北|     Jeollabuk-do|   151|       10086|         0|        147|          4|    629|2022-01-18|\n",
      "|     177| 20142| 충남|   忠南|Chungcheongnam-do|   145|       17373|         0|        140|          5|    950|2022-01-18|\n",
      "|     187| 13262| 대전|   大田|          Daejeon|   108|       11809|         0|        101|          7|    913|2022-01-18|\n",
      "+--------+------+-----+-------+-----------------+------+------------+----------+-----------+-----------+-------+----------+\n",
      "\n"
     ]
    }
   ],
   "source": [
    "coPatient.show()"
   ]
  },
  {
   "cell_type": "markdown",
   "id": "0b9554fc-5389-41dd-9c2d-7bd5a1428299",
   "metadata": {},
   "source": [
    "- 일간 수집해야하는 data\n",
    "- 최종부서에서 사용할 data DW -> DM까지 저장되어야하는 data\n",
    "    - 사용 결정 컬럼만 추출해서 DM DB에 저장\n",
    "    - 운영DB에는 다른 data와 연결 가공해서 저장"
   ]
  },
  {
   "cell_type": "code",
   "execution_count": 21,
   "id": "5c90b693-9932-4bd6-99e9-75d38c6b5df9",
   "metadata": {},
   "outputs": [
    {
     "name": "stdout",
     "output_type": "stream",
     "text": [
      "+----+------+-------+\n",
      "| loc|defCnt|qurRate|\n",
      "+----+------+-------+\n",
      "|인천| 40625|   1378|\n",
      "|충북| 12555|    786|\n",
      "|강원| 13838|    899|\n",
      "|부산| 28102|    839|\n",
      "|울산|  7459|    665|\n",
      "|광주| 10475|    727|\n",
      "|합계|700102|   1356|\n",
      "|세종|  2388|    642|\n",
      "|검역|  7960|      -|\n",
      "|대구| 25155|   1055|\n",
      "|경북| 16962|    646|\n",
      "|경남| 22778|    687|\n",
      "|서울|243337|   2559|\n",
      "|전남|  7935|    433|\n",
      "|제주|  4900|    724|\n",
      "|경기|210984|   1555|\n",
      "|전북| 11245|    629|\n",
      "|충남| 20142|    950|\n",
      "|대전| 13262|    913|\n",
      "+----+------+-------+\n",
      "\n"
     ]
    }
   ],
   "source": [
    "coDMFin = coPatient.select(coPatient.gubun.alias('loc'),\n",
    "                           coPatient.defCnt,\n",
    "                           coPatient.qurRate) #지역별 코로나환자 누적 발생수/단위당 발생률 현황\n",
    "coDMFin.show()"
   ]
  },
  {
   "cell_type": "markdown",
   "id": "b5ee99fa-151d-4108-b57c-af578da63038",
   "metadata": {},
   "source": [
    "- 인구 면적 data와 발생현황 관계 data\n",
    "    - 인구 면적 data에 검역과 합계 data는 없음\n",
    "    - 검역과 합계는 처리되어야함"
   ]
  },
  {
   "cell_type": "code",
   "execution_count": 24,
   "id": "36c2eff2-4b4a-4e4f-b8a5-3d79a856c492",
   "metadata": {},
   "outputs": [
    {
     "name": "stdout",
     "output_type": "stream",
     "text": [
      "+----+------------+------+-------+\n",
      "| loc|popu_density|defCnt|qurRate|\n",
      "+----+------------+------+-------+\n",
      "|강원|          93| 13838|    899|\n",
      "|경기|        1366|210984|   1555|\n",
      "|경남|         321| 22778|    687|\n",
      "|경북|         141| 16962|    646|\n",
      "|광주|        2920| 10475|    727|\n",
      "|대구|        2733| 25155|   1055|\n",
      "|대전|        2722| 13262|    913|\n",
      "|부산|        4411| 28102|    839|\n",
      "|서울|       16093|243337|   2559|\n",
      "|세종|         811|  2388|    642|\n",
      "|울산|        1072|  7459|    665|\n",
      "|인천|        2831| 40625|   1378|\n",
      "|전남|         152|  7935|    433|\n",
      "|전북|         226| 11245|    629|\n",
      "|제주|         378|  4900|    724|\n",
      "|충남|         265| 20142|    950|\n",
      "|충북|         221| 12555|    786|\n",
      "+----+------------+------+-------+\n",
      "\n"
     ]
    }
   ],
   "source": [
    "# area_pop: 인구면적\n",
    "# coDMFin: 2022-01-18 기준 누적 발생 현황\n",
    "coRate = area_pop_v1.join(coDMFin, on='loc').orderBy(col('loc'))\n",
    "coRate.show()"
   ]
  },
  {
   "cell_type": "code",
   "execution_count": 25,
   "id": "1dd6b20f-822f-45a7-b8bb-b4c16c4e8821",
   "metadata": {},
   "outputs": [
    {
     "name": "stdout",
     "output_type": "stream",
     "text": [
      "root\n",
      " |-- loc: string (nullable = true)\n",
      " |-- popu_density: long (nullable = true)\n",
      " |-- defCnt: string (nullable = true)\n",
      " |-- qurRate: string (nullable = true)\n",
      "\n"
     ]
    }
   ],
   "source": [
    "# 그래프 생성\n",
    "# coRate DF는 spark sql df. 이걸 pandas df로 변경 후 그래프 그리기\n",
    "coRate.printSchema()"
   ]
  },
  {
   "cell_type": "code",
   "execution_count": 26,
   "id": "891d6bf9-2d28-426e-aed8-78ad1c18fe63",
   "metadata": {},
   "outputs": [
    {
     "name": "stderr",
     "output_type": "stream",
     "text": [
      "                                                                                "
     ]
    }
   ],
   "source": [
    "pdCoRate = coRate.toPandas()"
   ]
  },
  {
   "cell_type": "code",
   "execution_count": 27,
   "id": "df9c3271-169c-47aa-8440-2ff3a5d949ac",
   "metadata": {},
   "outputs": [
    {
     "name": "stdout",
     "output_type": "stream",
     "text": [
      "<class 'pandas.core.frame.DataFrame'>\n",
      "RangeIndex: 17 entries, 0 to 16\n",
      "Data columns (total 4 columns):\n",
      " #   Column        Non-Null Count  Dtype \n",
      "---  ------        --------------  ----- \n",
      " 0   loc           17 non-null     object\n",
      " 1   popu_density  17 non-null     int64 \n",
      " 2   defCnt        17 non-null     object\n",
      " 3   qurRate       17 non-null     object\n",
      "dtypes: int64(1), object(3)\n",
      "memory usage: 672.0+ bytes\n"
     ]
    }
   ],
   "source": [
    "pdCoRate.info()"
   ]
  },
  {
   "cell_type": "code",
   "execution_count": 47,
   "id": "ed7ad8dc-8245-4f47-8ab4-df70283d6014",
   "metadata": {},
   "outputs": [
    {
     "name": "stdout",
     "output_type": "stream",
     "text": [
      "<class 'pandas.core.frame.DataFrame'>\n",
      "RangeIndex: 17 entries, 0 to 16\n",
      "Data columns (total 4 columns):\n",
      " #   Column        Non-Null Count  Dtype \n",
      "---  ------        --------------  ----- \n",
      " 0   loc           17 non-null     object\n",
      " 1   popu_density  17 non-null     int64 \n",
      " 2   defCnt        17 non-null     int64 \n",
      " 3   qurRate       17 non-null     int64 \n",
      "dtypes: int64(3), object(1)\n",
      "memory usage: 672.0+ bytes\n"
     ]
    }
   ],
   "source": [
    "# 컬럼 타입 변경\n",
    "pdCoRate['qurRate'] = pdCoRate['qurRate'].astype(int)\n",
    "pdCoRate.info()"
   ]
  },
  {
   "cell_type": "code",
   "execution_count": 51,
   "id": "4b226120-3288-47e0-bb9d-a45d236c40f0",
   "metadata": {
    "collapsed": true,
    "jupyter": {
     "outputs_hidden": true
    }
   },
   "outputs": [
    {
     "data": {
      "text/plain": [
       "<Axes: xlabel='popu_density', ylabel='qurRate'>"
      ]
     },
     "execution_count": 51,
     "metadata": {},
     "output_type": "execute_result"
    },
    {
     "name": "stderr",
     "output_type": "stream",
     "text": [
      "findfont: Font family 'NanumGothic' not found.\n",
      "findfont: Font family 'NanumGothic' not found.\n",
      "findfont: Font family 'NanumGothic' not found.\n",
      "findfont: Font family 'NanumGothic' not found.\n",
      "findfont: Font family 'NanumGothic' not found.\n",
      "findfont: Font family 'NanumGothic' not found.\n",
      "findfont: Font family 'NanumGothic' not found.\n",
      "findfont: Font family 'NanumGothic' not found.\n",
      "findfont: Font family 'NanumGothic' not found.\n",
      "findfont: Font family 'NanumGothic' not found.\n",
      "findfont: Font family 'NanumGothic' not found.\n",
      "findfont: Font family 'NanumGothic' not found.\n",
      "findfont: Font family 'NanumGothic' not found.\n",
      "findfont: Font family 'NanumGothic' not found.\n",
      "findfont: Font family 'NanumGothic' not found.\n",
      "findfont: Font family 'NanumGothic' not found.\n",
      "findfont: Font family 'NanumGothic' not found.\n",
      "findfont: Font family 'NanumGothic' not found.\n",
      "findfont: Font family 'NanumGothic' not found.\n",
      "findfont: Font family 'NanumGothic' not found.\n",
      "findfont: Font family 'NanumGothic' not found.\n",
      "findfont: Font family 'NanumGothic' not found.\n",
      "findfont: Font family 'NanumGothic' not found.\n",
      "findfont: Font family 'NanumGothic' not found.\n",
      "findfont: Font family 'NanumGothic' not found.\n",
      "findfont: Font family 'NanumGothic' not found.\n",
      "findfont: Font family 'NanumGothic' not found.\n",
      "findfont: Font family 'NanumGothic' not found.\n",
      "findfont: Font family 'NanumGothic' not found.\n",
      "findfont: Font family 'NanumGothic' not found.\n",
      "findfont: Font family 'NanumGothic' not found.\n",
      "findfont: Font family 'NanumGothic' not found.\n",
      "findfont: Font family 'NanumGothic' not found.\n",
      "findfont: Font family 'NanumGothic' not found.\n",
      "findfont: Font family 'NanumGothic' not found.\n",
      "findfont: Font family 'NanumGothic' not found.\n",
      "findfont: Font family 'NanumGothic' not found.\n",
      "findfont: Font family 'NanumGothic' not found.\n",
      "findfont: Font family 'NanumGothic' not found.\n",
      "findfont: Font family 'NanumGothic' not found.\n",
      "findfont: Font family 'NanumGothic' not found.\n",
      "findfont: Font family 'NanumGothic' not found.\n",
      "findfont: Font family 'NanumGothic' not found.\n",
      "findfont: Font family 'NanumGothic' not found.\n",
      "findfont: Font family 'NanumGothic' not found.\n",
      "findfont: Font family 'NanumGothic' not found.\n",
      "findfont: Font family 'NanumGothic' not found.\n",
      "findfont: Font family 'NanumGothic' not found.\n",
      "findfont: Font family 'NanumGothic' not found.\n",
      "findfont: Font family 'NanumGothic' not found.\n",
      "findfont: Font family 'NanumGothic' not found.\n",
      "findfont: Font family 'NanumGothic' not found.\n",
      "findfont: Font family 'NanumGothic' not found.\n",
      "findfont: Font family 'NanumGothic' not found.\n",
      "findfont: Font family 'NanumGothic' not found.\n",
      "findfont: Font family 'NanumGothic' not found.\n",
      "findfont: Font family 'NanumGothic' not found.\n",
      "findfont: Font family 'NanumGothic' not found.\n",
      "findfont: Font family 'NanumGothic' not found.\n",
      "findfont: Font family 'NanumGothic' not found.\n",
      "findfont: Font family 'NanumGothic' not found.\n",
      "findfont: Font family 'NanumGothic' not found.\n",
      "findfont: Font family 'NanumGothic' not found.\n",
      "findfont: Font family 'NanumGothic' not found.\n",
      "findfont: Font family 'NanumGothic' not found.\n",
      "findfont: Font family 'NanumGothic' not found.\n",
      "findfont: Font family 'NanumGothic' not found.\n",
      "findfont: Font family 'NanumGothic' not found.\n",
      "findfont: Font family 'NanumGothic' not found.\n",
      "findfont: Font family 'NanumGothic' not found.\n",
      "findfont: Font family 'NanumGothic' not found.\n",
      "findfont: Font family 'NanumGothic' not found.\n",
      "findfont: Font family 'NanumGothic' not found.\n",
      "findfont: Font family 'NanumGothic' not found.\n",
      "findfont: Font family 'NanumGothic' not found.\n",
      "findfont: Font family 'NanumGothic' not found.\n"
     ]
    },
    {
     "data": {
      "image/png": "[encoded data removed]",
      "text/plain": [
       "<Figure size 600x600 with 1 Axes>"
      ]
     },
     "metadata": {},
     "output_type": "display_data"
    }
   ],
   "source": [
    "pdCoRate.plot(kind='scatter',\n",
    "              x = 'popu_density',\n",
    "              #y = 'defCnt',\n",
    "              y = 'qurRate',\n",
    "              #xlim = (0, 8000),\n",
    "              ylim = (600, 2500),\n",
    "              figsize = (6, 6))"
   ]
  },
  {
   "cell_type": "markdown",
   "id": "5cbb5e7a-91bc-4670-be0d-ee24909d371a",
   "metadata": {},
   "source": [
    "### 백신 접종 현황 데이터\n",
    "- 지역별 3차 접종현황 데이터와 인구대비 접종율 데이터\n",
    "    - dm db에 저장"
   ]
  },
  {
   "cell_type": "code",
   "execution_count": 56,
   "id": "de572d05-fa93-4c4d-a146-0264da5a564a",
   "metadata": {
    "collapsed": true,
    "jupyter": {
     "outputs_hidden": true
    }
   },
   "outputs": [
    {
     "data": {
      "text/plain": [
       "DataFrame[loc: string, total: string, male: string, female: string]"
      ]
     },
     "execution_count": 56,
     "metadata": {},
     "output_type": "execute_result"
    },
    {
     "name": "stderr",
     "output_type": "stream",
     "text": [
      "                                                                                "
     ]
    },
    {
     "name": "stdout",
     "output_type": "stream",
     "text": [
      "+----------------------+---------------------------+\n",
      "|                  data|                       meta|\n",
      "+----------------------+---------------------------+\n",
      "|[{광주, 1247764, 12...|{{지역, 1차 접종 누적, 2...|\n",
      "+----------------------+---------------------------+\n",
      "\n"
     ]
    },
    {
     "name": "stderr",
     "output_type": "stream",
     "text": [
      "                                                                                "
     ]
    },
    {
     "data": {
      "text/plain": [
       "Row(data=[Row(loc='광주', v1='1247764', v2='1220758.0', v3='682394.0'), Row(loc='울산', v1='956895', v2='933311.0', v3='476692.0'), Row(loc='인천', v1='2532911', v2='2484196.0', v3='1330273.0'), Row(loc='대전', v1='1231435', v2='1203724.0', v3='628469.0'), Row(loc='대구', v1='1997407', v2='1945813.0', v3='978794.0'), Row(loc='부산', v1='2849093', v2='2788089.0', v3='1554554.0'), Row(loc='서울', v1='8239400', v2='8090244.0', v3='4304485.0'), Row(loc='전국', v1='44505276', v2='43582128.0', v3='23741205.0'), Row(loc='세종', v1='290455', v2='282507.0', v3='138100.0'), Row(loc='경기', v1='11652853', v2='11414202.0', v3='5970505.0'), Row(loc='제주', v1='580579', v2='566811.0', v3='295807.0'), Row(loc='경남', v1='2848083', v2='2783896.0', v3='1517240.0'), Row(loc='경북', v1='2260963', v2='2202814.0', v3='1247047.0'), Row(loc='전남', v1='1632045', v2='1602479.0', v3='1031459.0'), Row(loc='전북', v1='1574779', v2='1547262.0', v3='958100.0'), Row(loc='충남', v1='1870124', v2='1830143.0', v3='1048429.0'), Row(loc='충북', v1='1408620', v2='1379378.0', v3='783588.0'), Row(loc='강원', v1='1331870', v2='1306501.0', v3='795269.0')])"
      ]
     },
     "execution_count": 56,
     "metadata": {},
     "output_type": "execute_result"
    },
    {
     "data": {
      "text/plain": [
       "[Row(loc='광주', v1='1247764', v2='1220758.0', v3='682394.0'),\n",
       " Row(loc='울산', v1='956895', v2='933311.0', v3='476692.0'),\n",
       " Row(loc='인천', v1='2532911', v2='2484196.0', v3='1330273.0'),\n",
       " Row(loc='대전', v1='1231435', v2='1203724.0', v3='628469.0'),\n",
       " Row(loc='대구', v1='1997407', v2='1945813.0', v3='978794.0'),\n",
       " Row(loc='부산', v1='2849093', v2='2788089.0', v3='1554554.0'),\n",
       " Row(loc='서울', v1='8239400', v2='8090244.0', v3='4304485.0'),\n",
       " Row(loc='전국', v1='44505276', v2='43582128.0', v3='23741205.0'),\n",
       " Row(loc='세종', v1='290455', v2='282507.0', v3='138100.0'),\n",
       " Row(loc='경기', v1='11652853', v2='11414202.0', v3='5970505.0'),\n",
       " Row(loc='제주', v1='580579', v2='566811.0', v3='295807.0'),\n",
       " Row(loc='경남', v1='2848083', v2='2783896.0', v3='1517240.0'),\n",
       " Row(loc='경북', v1='2260963', v2='2202814.0', v3='1247047.0'),\n",
       " Row(loc='전남', v1='1632045', v2='1602479.0', v3='1031459.0'),\n",
       " Row(loc='전북', v1='1574779', v2='1547262.0', v3='958100.0'),\n",
       " Row(loc='충남', v1='1870124', v2='1830143.0', v3='1048429.0'),\n",
       " Row(loc='충북', v1='1408620', v2='1379378.0', v3='783588.0'),\n",
       " Row(loc='강원', v1='1331870', v2='1306501.0', v3='795269.0')]"
      ]
     },
     "execution_count": 56,
     "metadata": {},
     "output_type": "execute_result"
    }
   ],
   "source": [
    "# 인구 data\n",
    "popu\n",
    "# 백신 data\n",
    "file_dir_vac = '/corona_data/vaccine/'\n",
    "file_name = 'corona_vaccine_'+cal_std_day(365*3+3)+'.json'\n",
    "fname = file_dir_vac+file_name\n",
    "vaccine = spark.read.json(fname)\n",
    "vaccine.show()\n",
    "vaccine.select('data').first()\n",
    "vaccine.select('data').first()['data']\n"
   ]
  },
  {
   "cell_type": "code",
   "execution_count": 57,
   "id": "e46ade35-1ac6-497f-bfe1-ac9fa70a3781",
   "metadata": {},
   "outputs": [
    {
     "name": "stderr",
     "output_type": "stream",
     "text": [
      "[Stage 42:>                                                         (0 + 1) / 1]"
     ]
    },
    {
     "name": "stdout",
     "output_type": "stream",
     "text": [
      "+----+--------+----------+----------+\n",
      "| loc|      v1|        v2|        v3|\n",
      "+----+--------+----------+----------+\n",
      "|광주| 1247764| 1220758.0|  682394.0|\n",
      "|울산|  956895|  933311.0|  476692.0|\n",
      "|인천| 2532911| 2484196.0| 1330273.0|\n",
      "|대전| 1231435| 1203724.0|  628469.0|\n",
      "|대구| 1997407| 1945813.0|  978794.0|\n",
      "|부산| 2849093| 2788089.0| 1554554.0|\n",
      "|서울| 8239400| 8090244.0| 4304485.0|\n",
      "|전국|44505276|43582128.0|23741205.0|\n",
      "|세종|  290455|  282507.0|  138100.0|\n",
      "|경기|11652853|11414202.0| 5970505.0|\n",
      "|제주|  580579|  566811.0|  295807.0|\n",
      "|경남| 2848083| 2783896.0| 1517240.0|\n",
      "|경북| 2260963| 2202814.0| 1247047.0|\n",
      "|전남| 1632045| 1602479.0| 1031459.0|\n",
      "|전북| 1574779| 1547262.0|  958100.0|\n",
      "|충남| 1870124| 1830143.0| 1048429.0|\n",
      "|충북| 1408620| 1379378.0|  783588.0|\n",
      "|강원| 1331870| 1306501.0|  795269.0|\n",
      "+----+--------+----------+----------+\n",
      "\n"
     ]
    },
    {
     "name": "stderr",
     "output_type": "stream",
     "text": [
      "                                                                                "
     ]
    }
   ],
   "source": [
    "tmpVac = spark.createDataFrame(vaccine.select('data').first()['data'])\n",
    "tmpVac.show()"
   ]
  },
  {
   "cell_type": "code",
   "execution_count": 58,
   "id": "8d5750a4-fb36-4223-a53f-57401fd17851",
   "metadata": {},
   "outputs": [
    {
     "name": "stdout",
     "output_type": "stream",
     "text": [
      "+----+--------+----------+----------+---------+---------+---------+\n",
      "| loc|      v1|        v2|        v3|    total|     male|   female|\n",
      "+----+--------+----------+----------+---------+---------+---------+\n",
      "|광주| 1247764| 1220758.0|  682394.0| 1462545 |  724178 |  738367 |\n",
      "|울산|  956895|  933311.0|  476692.0| 1138419 |  586031 |  552388 |\n",
      "|인천| 2532911| 2484196.0| 1330273.0| 3014739 | 1513277 | 1501462 |\n",
      "|대전| 1231435| 1203724.0|  628469.0| 1469543 |  732593 |  736950 |\n",
      "|대구| 1997407| 1945813.0|  978794.0| 2412642 | 1189901 | 1222741 |\n",
      "|부산| 2849093| 2788089.0| 1554554.0| 3396109 | 1663619 | 1732490 |\n",
      "|서울| 8239400| 8090244.0| 4304485.0| 9736027 | 4721977 | 5014050 |\n",
      "|전국|44505276|43582128.0|23741205.0|52739009 |26360035 |26378974 |\n",
      "|세종|  290455|  282507.0|  138100.0|  376779 |  188619 |  188160 |\n",
      "|경기|11652853|11414202.0| 5970505.0|13925862 | 7038296 | 6887566 |\n",
      "|제주|  580579|  566811.0|  295807.0|  697476 |  350822 |  346654 |\n",
      "|경남| 2848083| 2783896.0| 1517240.0| 3377331 | 1709989 | 1667342 |\n",
      "|경북| 2260963| 2202814.0| 1247047.0| 2677709 | 1355128 | 1322581 |\n",
      "|전남| 1632045| 1602479.0| 1031459.0| 1865459 |  943018 |  922441 |\n",
      "|전북| 1574779| 1547262.0|  958100.0| 1817186 |  905672 |  911514 |\n",
      "|충남| 1870124| 1830143.0| 1048429.0| 2181835 | 1120429 | 1061406 |\n",
      "|충북| 1408620| 1379378.0|  783588.0| 1633472 |  832743 |  800729 |\n",
      "|강원| 1331870| 1306501.0|  795269.0| 1555876 |  783743 |  772133 |\n",
      "+----+--------+----------+----------+---------+---------+---------+\n",
      "\n"
     ]
    }
   ],
   "source": [
    "# 인구대비 3차 접종률 컬럼 추가\n",
    "popVac = tmpVac.join(popu, on='loc')\n",
    "popVac.show()"
   ]
  },
  {
   "cell_type": "code",
   "execution_count": 60,
   "id": "888cd5b0-731e-4eb1-ad7d-6529cc181cbf",
   "metadata": {},
   "outputs": [
    {
     "name": "stdout",
     "output_type": "stream",
     "text": [
      "+----+----------+----------+\n",
      "| loc|        v2|vacPopRate|\n",
      "+----+----------+----------+\n",
      "|광주| 1220758.0|        84|\n",
      "|울산|  933311.0|        82|\n",
      "|인천| 2484196.0|        83|\n",
      "|대전| 1203724.0|        82|\n",
      "|대구| 1945813.0|        81|\n",
      "|부산| 2788089.0|        83|\n",
      "|서울| 8090244.0|        84|\n",
      "|전국|43582128.0|        83|\n",
      "|세종|  282507.0|        75|\n",
      "|경기|11414202.0|        82|\n",
      "|제주|  566811.0|        82|\n",
      "|경남| 2783896.0|        83|\n",
      "|경북| 2202814.0|        83|\n",
      "|전남| 1602479.0|        86|\n",
      "|전북| 1547262.0|        86|\n",
      "|충남| 1830143.0|        84|\n",
      "|충북| 1379378.0|        85|\n",
      "|강원| 1306501.0|        84|\n",
      "+----+----------+----------+\n",
      "\n"
     ]
    }
   ],
   "source": [
    "# V2와 total 활용 가공 데이터 : v3 수집 잘못함 - 변경해야 함\n",
    "popVac2 = popVac.select('loc', 'v2',\n",
    "                        ceil((popVac.v2 / popVac.total)*100).alias('vacPopRate'))\n",
    "popVac2.show()\n",
    "# dm db 저장"
   ]
  },
  {
   "cell_type": "markdown",
   "id": "a8ae925d-2e87-40e0-849c-31d6e3526688",
   "metadata": {},
   "source": [
    "- 코로나 발생 현황 vs 접종률 관계 확인 위한 그래프\n",
    "    - 그래프 그리기 위한 data구성\n",
    "    - 운영 db에 저장\n",
    "    - 지역별 코로나 발생률과 접종률"
   ]
  },
  {
   "cell_type": "code",
   "execution_count": 62,
   "id": "80c1de85-c1e0-4cca-84d6-b5db6f2a051e",
   "metadata": {},
   "outputs": [
    {
     "data": {
      "text/plain": [
       "['loc', 'popu_density', 'defCnt', 'qurRate']"
      ]
     },
     "execution_count": 62,
     "metadata": {},
     "output_type": "execute_result"
    },
    {
     "data": {
      "text/plain": [
       "['loc', 'v2', 'vacPopRate']"
      ]
     },
     "execution_count": 62,
     "metadata": {},
     "output_type": "execute_result"
    }
   ],
   "source": [
    "coRate.columns\n",
    "popVac2.columns\n",
    "coVacPact = coRate.join(popVac2, on='loc')\\\n",
    "        .select('loc','qurRate','vacPopRate')"
   ]
  },
  {
   "cell_type": "code",
   "execution_count": 63,
   "id": "95f99237-fa3e-473c-b345-eca02558d6a1",
   "metadata": {},
   "outputs": [
    {
     "name": "stdout",
     "output_type": "stream",
     "text": [
      "root\n",
      " |-- loc: string (nullable = true)\n",
      " |-- qurRate: string (nullable = true)\n",
      " |-- vacPopRate: long (nullable = true)\n",
      "\n"
     ]
    }
   ],
   "source": [
    "coVacPact.printSchema()"
   ]
  },
  {
   "cell_type": "code",
   "execution_count": 66,
   "id": "64c53d53-75c1-43d9-a064-1320fe7a2ffb",
   "metadata": {},
   "outputs": [
    {
     "name": "stdout",
     "output_type": "stream",
     "text": [
      "<class 'pandas.core.frame.DataFrame'>\n",
      "RangeIndex: 17 entries, 0 to 16\n",
      "Data columns (total 3 columns):\n",
      " #   Column      Non-Null Count  Dtype \n",
      "---  ------      --------------  ----- \n",
      " 0   loc         17 non-null     object\n",
      " 1   qurRate     17 non-null     object\n",
      " 2   vacPopRate  17 non-null     int64 \n",
      "dtypes: int64(1), object(2)\n",
      "memory usage: 536.0+ bytes\n"
     ]
    }
   ],
   "source": [
    "pdVacPat = coVacPact.toPandas()\n",
    "pdVacPat.info()\n",
    "# str == object type"
   ]
  },
  {
   "cell_type": "code",
   "execution_count": 67,
   "id": "4996d491-359f-490c-a9fa-b35827b28506",
   "metadata": {},
   "outputs": [
    {
     "name": "stdout",
     "output_type": "stream",
     "text": [
      "<class 'pandas.core.frame.DataFrame'>\n",
      "RangeIndex: 17 entries, 0 to 16\n",
      "Data columns (total 3 columns):\n",
      " #   Column      Non-Null Count  Dtype \n",
      "---  ------      --------------  ----- \n",
      " 0   loc         17 non-null     object\n",
      " 1   qurRate     17 non-null     int64 \n",
      " 2   vacPopRate  17 non-null     int64 \n",
      "dtypes: int64(2), object(1)\n",
      "memory usage: 536.0+ bytes\n"
     ]
    }
   ],
   "source": [
    "pdVacPat['qurRate'] = pdVacPat['qurRate'].astype(int)\n",
    "pdVacPat.info()"
   ]
  },
  {
   "cell_type": "code",
   "execution_count": 69,
   "id": "48c1b4f7-0c73-41e2-ab60-6a5a8de80ba6",
   "metadata": {
    "collapsed": true,
    "jupyter": {
     "outputs_hidden": true
    },
    "scrolled": true
   },
   "outputs": [
    {
     "data": {
      "text/plain": [
       "<Axes: xlabel='vacPopRate', ylabel='qurRate'>"
      ]
     },
     "execution_count": 69,
     "metadata": {},
     "output_type": "execute_result"
    },
    {
     "name": "stderr",
     "output_type": "stream",
     "text": [
      "findfont: Font family 'NanumGothic' not found.\n",
      "findfont: Font family 'NanumGothic' not found.\n",
      "findfont: Font family 'NanumGothic' not found.\n",
      "findfont: Font family 'NanumGothic' not found.\n",
      "findfont: Font family 'NanumGothic' not found.\n",
      "findfont: Font family 'NanumGothic' not found.\n",
      "findfont: Font family 'NanumGothic' not found.\n",
      "findfont: Font family 'NanumGothic' not found.\n",
      "findfont: Font family 'NanumGothic' not found.\n",
      "findfont: Font family 'NanumGothic' not found.\n",
      "findfont: Font family 'NanumGothic' not found.\n",
      "findfont: Font family 'NanumGothic' not found.\n",
      "findfont: Font family 'NanumGothic' not found.\n",
      "findfont: Font family 'NanumGothic' not found.\n",
      "findfont: Font family 'NanumGothic' not found.\n",
      "findfont: Font family 'NanumGothic' not found.\n",
      "findfont: Font family 'NanumGothic' not found.\n",
      "findfont: Font family 'NanumGothic' not found.\n",
      "findfont: Font family 'NanumGothic' not found.\n",
      "findfont: Font family 'NanumGothic' not found.\n",
      "findfont: Font family 'NanumGothic' not found.\n",
      "findfont: Font family 'NanumGothic' not found.\n",
      "findfont: Font family 'NanumGothic' not found.\n",
      "findfont: Font family 'NanumGothic' not found.\n",
      "findfont: Font family 'NanumGothic' not found.\n",
      "findfont: Font family 'NanumGothic' not found.\n",
      "findfont: Font family 'NanumGothic' not found.\n",
      "findfont: Font family 'NanumGothic' not found.\n",
      "findfont: Font family 'NanumGothic' not found.\n",
      "findfont: Font family 'NanumGothic' not found.\n",
      "findfont: Font family 'NanumGothic' not found.\n",
      "findfont: Font family 'NanumGothic' not found.\n",
      "findfont: Font family 'NanumGothic' not found.\n",
      "findfont: Font family 'NanumGothic' not found.\n",
      "findfont: Font family 'NanumGothic' not found.\n",
      "findfont: Font family 'NanumGothic' not found.\n",
      "findfont: Font family 'NanumGothic' not found.\n",
      "findfont: Font family 'NanumGothic' not found.\n",
      "findfont: Font family 'NanumGothic' not found.\n",
      "findfont: Font family 'NanumGothic' not found.\n",
      "findfont: Font family 'NanumGothic' not found.\n",
      "findfont: Font family 'NanumGothic' not found.\n",
      "findfont: Font family 'NanumGothic' not found.\n",
      "findfont: Font family 'NanumGothic' not found.\n",
      "findfont: Font family 'NanumGothic' not found.\n",
      "findfont: Font family 'NanumGothic' not found.\n",
      "findfont: Font family 'NanumGothic' not found.\n",
      "findfont: Font family 'NanumGothic' not found.\n",
      "findfont: Font family 'NanumGothic' not found.\n",
      "findfont: Font family 'NanumGothic' not found.\n",
      "findfont: Font family 'NanumGothic' not found.\n",
      "findfont: Font family 'NanumGothic' not found.\n",
      "findfont: Font family 'NanumGothic' not found.\n",
      "findfont: Font family 'NanumGothic' not found.\n"
     ]
    },
    {
     "data": {
      "image/png": "[encoded data removed]",
      "text/plain": [
       "<Figure size 500x500 with 1 Axes>"
      ]
     },
     "metadata": {},
     "output_type": "display_data"
    }
   ],
   "source": [
    "pdVacPat.plot(kind='scatter',\n",
    "              x = 'vacPopRate',\n",
    "              y = 'qurRate',\n",
    "              figsize=(5,5))"
   ]
  },
  {
   "cell_type": "markdown",
   "id": "3b2aac90-3e6e-4257-b7e8-d3a6b6d66c75",
   "metadata": {},
   "source": [
    "###  지역별 다중이용시설 data와 인구와의 가공 data 구성\n",
    "- 지역별 다중이용시설과 코로나 발생현황에 대한 관계\n",
    "- 지역별 인구 10만명 당 다중이용시설 개수"
   ]
  },
  {
   "cell_type": "code",
   "execution_count": 70,
   "id": "4ea64005-d82f-4911-8aa5-4e332c2a3dab",
   "metadata": {},
   "outputs": [
    {
     "data": {
      "text/plain": [
       "DataFrame[loc: string, total: string, male: string, female: string]"
      ]
     },
     "execution_count": 70,
     "metadata": {},
     "output_type": "execute_result"
    }
   ],
   "source": [
    "# 인구data\n",
    "popu"
   ]
  },
  {
   "cell_type": "code",
   "execution_count": 72,
   "id": "92de9c6d-7884-4278-a2fb-2f4002babf50",
   "metadata": {},
   "outputs": [
    {
     "name": "stdout",
     "output_type": "stream",
     "text": [
      "+----+----+------+---------------------+--------------+----------------+\n",
      "|연도|광역|시군구|               시설명|사업자등록번호|          시설군|\n",
      "+----+----+------+---------------------+--------------+----------------+\n",
      "|2020|강원|강릉시|     (주)경포솔향온천|  127-86-57613|          목욕장|\n",
      "|2020|강원|강릉시|       24시황실사우나|  226-33-03247|          목욕장|\n",
      "|2020|강원|강릉시|         강릉고려병원|  226-82-03662|        의료기관|\n",
      "|2020|강원|강릉시|   강릉고속버스터미널|  219-81-01636|여객자동차터미널|\n",
      "|2020|강원|강릉시|       강릉교육문화관|  226-83-03107|          도서관|\n",
      "|2020|강원|강릉시|         강릉동인병원|  226-82-01835|        의료기관|\n",
      "|2020|강원|강릉시|         강릉동인병원|  226-82-01835|        장례식장|\n",
      "|2020|강원|강릉시|강릉동인병원 장례식장|  226-90-93776|        장례식장|\n",
      "|2020|강원|강릉시|   강릉빛나라어린이집|  226-82-12841|        어린이집|\n",
      "|2020|강원|강릉시|     강릉삼성어린이집|  226-80-04288|        어린이집|\n",
      "|2020|강원|강릉시|          강릉시 기관|  226-83-00245|          도서관|\n",
      "|2020|강원|강릉시|          강릉시 기관|  226-83-00245|        어린이집|\n",
      "|2020|강원|강릉시|          강릉시 기관|  226-83-00245|          박물관|\n",
      "|2020|강원|강릉시|         강릉시보건소|  226-83-00264|        의료기관|\n",
      "|2020|강원|강릉시|   강릉시외버스터미널|  226-81-00066|여객자동차터미널|\n",
      "|2020|강원|강릉시|         강릉아나병원|  226-82-12614|        의료기관|\n",
      "|2020|강원|강릉시|         강릉아산병원|  226-82-04297|        의료기관|\n",
      "|2020|강원|강릉시|         강릉아산병원|  226-82-04297|        장례식장|\n",
      "|2020|강원|강릉시|         강릉어린이집|  226-82-02246|        어린이집|\n",
      "|2020|강원|강릉시|     강릉연세요양병원|  226-90-52421|        의료기관|\n",
      "+----+----+------+---------------------+--------------+----------------+\n",
      "only showing top 20 rows\n",
      "\n"
     ]
    }
   ],
   "source": [
    "# 다중이용시설\n",
    "fasc= spark.read.csv('/corona_data/tmp/전국다중이용시설.csv', encoding='CP949', header=True)\n",
    "fasc.show()"
   ]
  },
  {
   "cell_type": "code",
   "execution_count": 73,
   "id": "681c2c02-618b-4823-9e32-5e54dc0023fc",
   "metadata": {},
   "outputs": [
    {
     "name": "stderr",
     "output_type": "stream",
     "text": [
      "[Stage 65:>                                                         (0 + 1) / 1]"
     ]
    },
    {
     "name": "stdout",
     "output_type": "stream",
     "text": [
      "+----+-------+\n",
      "| loc|fascCnt|\n",
      "+----+-------+\n",
      "|경북|    944|\n",
      "|대전|    767|\n",
      "|전북|    759|\n",
      "|충북|    617|\n",
      "|울산|    431|\n",
      "|경남|   1357|\n",
      "|제주|    310|\n",
      "|충남|    824|\n",
      "|전남|    825|\n",
      "|인천|   1386|\n",
      "|부산|   1462|\n",
      "|대구|   1015|\n",
      "|경기|   6303|\n",
      "|서울|   5224|\n",
      "|광주|    732|\n",
      "|세종|    243|\n",
      "|강원|    584|\n",
      "+----+-------+\n",
      "\n"
     ]
    },
    {
     "name": "stderr",
     "output_type": "stream",
     "text": [
      "                                                                                "
     ]
    }
   ],
   "source": [
    "# 데이터 열어봤더니 지역별로 다중이용시설 갯수가 있는 게 아니라\n",
    "# 영업점 별로 data가 구성되어있네\n",
    "# 광역 행의 갯수를 세서 다중이용시설의 수를 연산 - 인구대비 다중이용시설 수\n",
    "fasc_v1 = fasc.groupby(col('광역').alias('loc')).agg(count('*').alias('fascCnt'))\n",
    "fasc_v1.show()"
   ]
  },
  {
   "cell_type": "code",
   "execution_count": 83,
   "id": "2dc1a5c6-7a8b-43df-b580-3068eb64ad12",
   "metadata": {},
   "outputs": [
    {
     "name": "stdout",
     "output_type": "stream",
     "text": [
      "+----+---------+-------+------+\n",
      "| loc|    total|fascCnt|facPop|\n",
      "+----+---------+-------+------+\n",
      "|경북| 2677709 |    944|    36|\n",
      "|대전| 1469543 |    767|    53|\n",
      "|전북| 1817186 |    759|    42|\n",
      "|충북| 1633472 |    617|    38|\n",
      "|울산| 1138419 |    431|    38|\n",
      "|경남| 3377331 |   1357|    41|\n",
      "|제주|  697476 |    310|    45|\n",
      "|충남| 2181835 |    824|    38|\n",
      "|전남| 1865459 |    825|    45|\n",
      "|인천| 3014739 |   1386|    46|\n",
      "|부산| 3396109 |   1462|    44|\n",
      "|대구| 2412642 |   1015|    43|\n",
      "|경기|13925862 |   6303|    46|\n",
      "|서울| 9736027 |   5224|    54|\n",
      "|광주| 1462545 |    732|    51|\n",
      "|세종|  376779 |    243|    65|\n",
      "|강원| 1555876 |    584|    38|\n",
      "+----+---------+-------+------+\n",
      "\n"
     ]
    }
   ],
   "source": [
    "# 인구data와 결합\n",
    "# dmdb에 저장\n",
    "popFac = popu.join(fasc_v1, on='loc')\\\n",
    "        .select('loc', 'total', 'fascCnt',\n",
    "                ceil((col('fascCnt')/col('total')*100000)).alias('facPop')) # 10만명당 다중이용시설 몇개?\n",
    "popFac.show()"
   ]
  },
  {
   "cell_type": "code",
   "execution_count": 84,
   "id": "4c56cebb-2a6c-4f9e-98e9-7f3664396cc6",
   "metadata": {},
   "outputs": [
    {
     "name": "stderr",
     "output_type": "stream",
     "text": [
      "                                                                                "
     ]
    },
    {
     "name": "stdout",
     "output_type": "stream",
     "text": [
      "+----+------------+------+-------+\n",
      "| loc|popu_density|defCnt|qurRate|\n",
      "+----+------------+------+-------+\n",
      "|강원|          93| 13838|    899|\n",
      "+----+------------+------+-------+\n",
      "only showing top 1 row\n",
      "\n",
      "+----+--------+-------+------+\n",
      "| loc|   total|fascCnt|facPop|\n",
      "+----+--------+-------+------+\n",
      "|경북|2677709 |    944|    36|\n",
      "+----+--------+-------+------+\n",
      "only showing top 1 row\n",
      "\n"
     ]
    }
   ],
   "source": [
    "coRate.show(1)\n",
    "popFac.show(1)"
   ]
  },
  {
   "cell_type": "code",
   "execution_count": 87,
   "id": "ead3994b-ae27-4c7d-8ed5-bac6b9b80552",
   "metadata": {},
   "outputs": [
    {
     "name": "stderr",
     "output_type": "stream",
     "text": [
      "                                                                                "
     ]
    },
    {
     "name": "stdout",
     "output_type": "stream",
     "text": [
      "+----+-------+------+\n",
      "| loc|qurRate|facPop|\n",
      "+----+-------+------+\n",
      "|인천|   1378|    46|\n",
      "|충북|    786|    38|\n",
      "|강원|    899|    38|\n",
      "|부산|    839|    44|\n",
      "|울산|    665|    38|\n",
      "|광주|    727|    51|\n",
      "|세종|    642|    65|\n",
      "|대구|   1055|    43|\n",
      "|경북|    646|    36|\n",
      "|경남|    687|    41|\n",
      "|서울|   2559|    54|\n",
      "|전남|    433|    45|\n",
      "|제주|    724|    45|\n",
      "|경기|   1555|    46|\n",
      "|전북|    629|    42|\n",
      "|충남|    950|    38|\n",
      "|대전|    913|    53|\n",
      "+----+-------+------+\n",
      "\n"
     ]
    }
   ],
   "source": [
    "# 운영db저장\n",
    "coFac = coRate.join(popFac, on='loc').select('loc', 'qurRate', 'facPop')\n",
    "coFac.show()"
   ]
  },
  {
   "cell_type": "code",
   "execution_count": 89,
   "id": "0ca0e9f5-ef46-4e59-bc2b-19ff2acc68c5",
   "metadata": {},
   "outputs": [
    {
     "name": "stderr",
     "output_type": "stream",
     "text": [
      "[Stage 121:============================>                            (1 + 1) / 2]"
     ]
    },
    {
     "name": "stdout",
     "output_type": "stream",
     "text": [
      "<class 'pandas.core.frame.DataFrame'>\n",
      "RangeIndex: 17 entries, 0 to 16\n",
      "Data columns (total 3 columns):\n",
      " #   Column   Non-Null Count  Dtype \n",
      "---  ------   --------------  ----- \n",
      " 0   loc      17 non-null     object\n",
      " 1   qurRate  17 non-null     object\n",
      " 2   facPop   17 non-null     int64 \n",
      "dtypes: int64(1), object(2)\n",
      "memory usage: 536.0+ bytes\n"
     ]
    },
    {
     "name": "stderr",
     "output_type": "stream",
     "text": [
      "                                                                                "
     ]
    }
   ],
   "source": [
    "pdCoFac = coFac.toPandas()\n",
    "pdCoFac.info()"
   ]
  },
  {
   "cell_type": "code",
   "execution_count": 90,
   "id": "3828ec4e-28c9-491b-a981-b89b6fcb7631",
   "metadata": {},
   "outputs": [
    {
     "name": "stdout",
     "output_type": "stream",
     "text": [
      "<class 'pandas.core.frame.DataFrame'>\n",
      "RangeIndex: 17 entries, 0 to 16\n",
      "Data columns (total 3 columns):\n",
      " #   Column   Non-Null Count  Dtype \n",
      "---  ------   --------------  ----- \n",
      " 0   loc      17 non-null     object\n",
      " 1   qurRate  17 non-null     int64 \n",
      " 2   facPop   17 non-null     int64 \n",
      "dtypes: int64(2), object(1)\n",
      "memory usage: 536.0+ bytes\n"
     ]
    }
   ],
   "source": [
    "pdCoFac['qurRate'] = pdCoFac['qurRate'].astype(int)\n",
    "pdCoFac.info()"
   ]
  },
  {
   "cell_type": "code",
   "execution_count": 93,
   "id": "5531be95-fa57-4957-b2cd-5c6a6377ae98",
   "metadata": {},
   "outputs": [
    {
     "data": {
      "text/plain": [
       "<Axes: xlabel='facPop', ylabel='qurRate'>"
      ]
     },
     "execution_count": 93,
     "metadata": {},
     "output_type": "execute_result"
    },
    {
     "name": "stderr",
     "output_type": "stream",
     "text": [
      "findfont: Font family 'NanumGothic' not found.\n",
      "findfont: Font family 'NanumGothic' not found.\n",
      "findfont: Font family 'NanumGothic' not found.\n",
      "findfont: Font family 'NanumGothic' not found.\n",
      "findfont: Font family 'NanumGothic' not found.\n",
      "findfont: Font family 'NanumGothic' not found.\n",
      "findfont: Font family 'NanumGothic' not found.\n",
      "findfont: Font family 'NanumGothic' not found.\n",
      "findfont: Font family 'NanumGothic' not found.\n",
      "findfont: Font family 'NanumGothic' not found.\n",
      "findfont: Font family 'NanumGothic' not found.\n",
      "findfont: Font family 'NanumGothic' not found.\n",
      "findfont: Font family 'NanumGothic' not found.\n",
      "findfont: Font family 'NanumGothic' not found.\n",
      "findfont: Font family 'NanumGothic' not found.\n",
      "findfont: Font family 'NanumGothic' not found.\n",
      "findfont: Font family 'NanumGothic' not found.\n",
      "findfont: Font family 'NanumGothic' not found.\n",
      "findfont: Font family 'NanumGothic' not found.\n",
      "findfont: Font family 'NanumGothic' not found.\n",
      "findfont: Font family 'NanumGothic' not found.\n",
      "findfont: Font family 'NanumGothic' not found.\n",
      "findfont: Font family 'NanumGothic' not found.\n",
      "findfont: Font family 'NanumGothic' not found.\n",
      "findfont: Font family 'NanumGothic' not found.\n",
      "findfont: Font family 'NanumGothic' not found.\n",
      "findfont: Font family 'NanumGothic' not found.\n",
      "findfont: Font family 'NanumGothic' not found.\n",
      "findfont: Font family 'NanumGothic' not found.\n",
      "findfont: Font family 'NanumGothic' not found.\n",
      "findfont: Font family 'NanumGothic' not found.\n",
      "findfont: Font family 'NanumGothic' not found.\n",
      "findfont: Font family 'NanumGothic' not found.\n",
      "findfont: Font family 'NanumGothic' not found.\n",
      "findfont: Font family 'NanumGothic' not found.\n",
      "findfont: Font family 'NanumGothic' not found.\n",
      "findfont: Font family 'NanumGothic' not found.\n",
      "findfont: Font family 'NanumGothic' not found.\n",
      "findfont: Font family 'NanumGothic' not found.\n",
      "findfont: Font family 'NanumGothic' not found.\n",
      "findfont: Font family 'NanumGothic' not found.\n",
      "findfont: Font family 'NanumGothic' not found.\n",
      "findfont: Font family 'NanumGothic' not found.\n",
      "findfont: Font family 'NanumGothic' not found.\n",
      "findfont: Font family 'NanumGothic' not found.\n",
      "findfont: Font family 'NanumGothic' not found.\n",
      "findfont: Font family 'NanumGothic' not found.\n",
      "findfont: Font family 'NanumGothic' not found.\n",
      "findfont: Font family 'NanumGothic' not found.\n",
      "findfont: Font family 'NanumGothic' not found.\n",
      "findfont: Font family 'NanumGothic' not found.\n",
      "findfont: Font family 'NanumGothic' not found.\n",
      "findfont: Font family 'NanumGothic' not found.\n",
      "findfont: Font family 'NanumGothic' not found.\n",
      "findfont: Font family 'NanumGothic' not found.\n",
      "findfont: Font family 'NanumGothic' not found.\n",
      "findfont: Font family 'NanumGothic' not found.\n",
      "findfont: Font family 'NanumGothic' not found.\n",
      "findfont: Font family 'NanumGothic' not found.\n",
      "findfont: Font family 'NanumGothic' not found.\n",
      "findfont: Font family 'NanumGothic' not found.\n",
      "findfont: Font family 'NanumGothic' not found.\n",
      "findfont: Font family 'NanumGothic' not found.\n",
      "findfont: Font family 'NanumGothic' not found.\n",
      "findfont: Font family 'NanumGothic' not found.\n",
      "findfont: Font family 'NanumGothic' not found.\n",
      "findfont: Font family 'NanumGothic' not found.\n",
      "findfont: Font family 'NanumGothic' not found.\n",
      "findfont: Font family 'NanumGothic' not found.\n",
      "findfont: Font family 'NanumGothic' not found.\n",
      "findfont: Font family 'NanumGothic' not found.\n",
      "findfont: Font family 'NanumGothic' not found.\n",
      "findfont: Font family 'NanumGothic' not found.\n",
      "findfont: Font family 'NanumGothic' not found.\n",
      "findfont: Font family 'NanumGothic' not found.\n",
      "findfont: Font family 'NanumGothic' not found.\n",
      "findfont: Font family 'NanumGothic' not found.\n",
      "findfont: Font family 'NanumGothic' not found.\n"
     ]
    },
    {
     "data": {
      "image/png": "[encoded data removed]",
      "text/plain": [
       "<Figure size 600x600 with 1 Axes>"
      ]
     },
     "metadata": {},
     "output_type": "display_data"
    },
    {
     "name": "stderr",
     "output_type": "stream",
     "text": [
      "ERROR:root:Exception while sending command.\n",
      "Traceback (most recent call last):\n",
      "  File \"/usr/local/lib/python3.10/dist-packages/py4j/clientserver.py\", line 516, in send_command\n",
      "    raise Py4JNetworkError(\"Answer from Java side is empty\")\n",
      "py4j.protocol.Py4JNetworkError: Answer from Java side is empty\n",
      "\n",
      "During handling of the above exception, another exception occurred:\n",
      "\n",
      "Traceback (most recent call last):\n",
      "  File \"/usr/local/lib/python3.10/dist-packages/py4j/java_gateway.py\", line 1038, in send_command\n",
      "    response = connection.send_command(command)\n",
      "  File \"/usr/local/lib/python3.10/dist-packages/py4j/clientserver.py\", line 539, in send_command\n",
      "    raise Py4JNetworkError(\n",
      "py4j.protocol.Py4JNetworkError: Error while sending or receiving\n"
     ]
    }
   ],
   "source": [
    "pdCoFac.plot(kind='scatter',\n",
    "             x = 'facPop',\n",
    "             y = 'qurRate',\n",
    "             ylim = (600,2600),\n",
    "             xlim = (30,70),\n",
    "             figsize = (6,6))"
   ]
  }
 ],
 "metadata": {
  "kernelspec": {
   "display_name": "Python 3 (ipykernel)",
   "language": "python",
   "name": "python3"
  },
  "language_info": {
   "codemirror_mode": {
    "name": "ipython",
    "version": 3
   },
   "file_extension": ".py",
   "mimetype": "text/x-python",
   "name": "python",
   "nbconvert_exporter": "python",
   "pygments_lexer": "ipython3",
   "version": "3.10.12"
  }
 },
 "nbformat": 4,
 "nbformat_minor": 5
}
