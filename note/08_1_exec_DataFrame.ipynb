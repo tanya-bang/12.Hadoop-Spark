{
 "cells": [
  {
   "cell_type": "code",
   "execution_count": 41,
   "id": "a1b0d903-bbbd-4656-b8c6-9e490a01ac1b",
   "metadata": {},
   "outputs": [],
   "source": [
    "from IPython.core.interactiveshell import InteractiveShell\n",
    "InteractiveShell.ast_node_interactivity = \"all\""
   ]
  },
  {
   "cell_type": "code",
   "execution_count": 42,
   "id": "3df29128-c49c-4d8e-bf7c-f64bc0509629",
   "metadata": {},
   "outputs": [],
   "source": [
    "import pandas as pd\n",
    "from datetime import date, datetime\n",
    "from pyspark.sql import *\n",
    "from pyspark.sql.functions import col, lit, when"
   ]
  },
  {
   "cell_type": "code",
   "execution_count": 43,
   "id": "249fa502-c5a4-4fdb-b9b8-3dea847d44f1",
   "metadata": {},
   "outputs": [],
   "source": [
    "#1. 아래 data를 이용해 spark df를 생성하고 변수 sp_df에 저장하시오\n",
    "stocks = [\n",
    "    ('Google', 'GOOGL', 'USA', 2984, 'USD'), \n",
    "    ('Netflix', 'NFLX', 'USA', 645, 'USD'),\n",
    "    ('Amazon', 'AMZN', 'USA', 3518, 'USD'),\n",
    "    ('Tesla', 'TSLA', 'USA', 1222, 'USD'),\n",
    "    ('Tencent', '0700', 'Hong Kong', 483, 'HKD'),\n",
    "    ('Toyota', '7203', 'Japan', 2006, 'JPY'),\n",
    "    ('Samsung', '005930', 'Korea', 70600, 'KRW'),\n",
    "    ('Kakao', '035720', 'Korea', 125000, 'KRW'),\n",
    "]\n",
    "stockSchema = [\"name\", \"ticker\", \"country\", \"price\", \"currency\"]"
   ]
  },
  {
   "cell_type": "code",
   "execution_count": 44,
   "id": "b455912d-27a0-4965-9264-64f39c429db5",
   "metadata": {},
   "outputs": [
    {
     "data": {
      "text/plain": [
       "pyspark.sql.dataframe.DataFrame"
      ]
     },
     "execution_count": 44,
     "metadata": {},
     "output_type": "execute_result"
    },
    {
     "name": "stdout",
     "output_type": "stream",
     "text": [
      "+-------+------+---------+------+--------+\n",
      "|   name|ticker|  country| price|currency|\n",
      "+-------+------+---------+------+--------+\n",
      "| Google| GOOGL|      USA|  2984|     USD|\n",
      "|Netflix|  NFLX|      USA|   645|     USD|\n",
      "| Amazon|  AMZN|      USA|  3518|     USD|\n",
      "|  Tesla|  TSLA|      USA|  1222|     USD|\n",
      "|Tencent|  0700|Hong Kong|   483|     HKD|\n",
      "| Toyota|  7203|    Japan|  2006|     JPY|\n",
      "|Samsung|005930|    Korea| 70600|     KRW|\n",
      "|  Kakao|035720|    Korea|125000|     KRW|\n",
      "+-------+------+---------+------+--------+\n",
      "\n"
     ]
    }
   ],
   "source": [
    "sp_df = spark.createDataFrame(data=stocks, schema=stockSchema)\n",
    "type(sp_df)\n",
    "sp_df.show()"
   ]
  },
  {
   "cell_type": "code",
   "execution_count": 35,
   "id": "89382971-6d6f-494b-a205-62fa33e5ad00",
   "metadata": {},
   "outputs": [],
   "source": [
    "#2. 변수 df의 컬럼별 type을 확인하시오(tip. dtypes 속성 활용)"
   ]
  },
  {
   "cell_type": "code",
   "execution_count": 9,
   "id": "5efe1c9f-a154-4012-b939-c23c4725d8b9",
   "metadata": {},
   "outputs": [
    {
     "data": {
      "text/plain": [
       "[('name', 'string'),\n",
       " ('ticker', 'string'),\n",
       " ('country', 'string'),\n",
       " ('price', 'bigint'),\n",
       " ('currency', 'string')]"
      ]
     },
     "execution_count": 9,
     "metadata": {},
     "output_type": "execute_result"
    }
   ],
   "source": [
    "sp_df.dtypes"
   ]
  },
  {
   "cell_type": "code",
   "execution_count": 37,
   "id": "775ecc00-b339-4f9a-85da-15859f362879",
   "metadata": {},
   "outputs": [],
   "source": [
    "#3. df를 출력하여 내용을 확인 하시오"
   ]
  },
  {
   "cell_type": "code",
   "execution_count": 10,
   "id": "cfb6ca3d-9681-4516-bde4-67e7a0648e9d",
   "metadata": {},
   "outputs": [
    {
     "name": "stdout",
     "output_type": "stream",
     "text": [
      "+-------+------+---------+------+--------+\n",
      "|   name|ticker|  country| price|currency|\n",
      "+-------+------+---------+------+--------+\n",
      "| Google| GOOGL|      USA|  2984|     USD|\n",
      "|Netflix|  NFLX|      USA|   645|     USD|\n",
      "| Amazon|  AMZN|      USA|  3518|     USD|\n",
      "|  Tesla|  TSLA|      USA|  1222|     USD|\n",
      "|Tencent|  0700|Hong Kong|   483|     HKD|\n",
      "| Toyota|  7203|    Japan|  2006|     JPY|\n",
      "|Samsung|005930|    Korea| 70600|     KRW|\n",
      "|  Kakao|035720|    Korea|125000|     KRW|\n",
      "+-------+------+---------+------+--------+\n",
      "\n"
     ]
    }
   ],
   "source": [
    "sp_df.show()"
   ]
  },
  {
   "cell_type": "code",
   "execution_count": null,
   "id": "7cedaa7c",
   "metadata": {},
   "outputs": [],
   "source": [
    "#3_1. df를 출력하여 내용을 확인 하되 모든 컬럼의 출력 글자수를 2로 제한하시오"
   ]
  },
  {
   "cell_type": "code",
   "execution_count": 12,
   "id": "c5cbdfdf-07d0-48b1-a479-2d025ffe3345",
   "metadata": {},
   "outputs": [
    {
     "name": "stdout",
     "output_type": "stream",
     "text": [
      "+----+------+-------+-----+--------+\n",
      "|name|ticker|country|price|currency|\n",
      "+----+------+-------+-----+--------+\n",
      "|  Go|    GO|     US|   29|      US|\n",
      "|  Ne|    NF|     US|   64|      US|\n",
      "|  Am|    AM|     US|   35|      US|\n",
      "|  Te|    TS|     US|   12|      US|\n",
      "|  Te|    07|     Ho|   48|      HK|\n",
      "|  To|    72|     Ja|   20|      JP|\n",
      "|  Sa|    00|     Ko|   70|      KR|\n",
      "|  Ka|    03|     Ko|   12|      KR|\n",
      "+----+------+-------+-----+--------+\n",
      "\n"
     ]
    }
   ],
   "source": [
    "sp_df.show(truncate=2)"
   ]
  },
  {
   "cell_type": "code",
   "execution_count": null,
   "id": "a8719c19",
   "metadata": {},
   "outputs": [],
   "source": [
    "#3_2. df를 출력하여 내용을 확인 하되 레코드별로 세로로 출력하시오"
   ]
  },
  {
   "cell_type": "code",
   "execution_count": 11,
   "id": "13307af2-949a-405b-80f7-c20a49759066",
   "metadata": {
    "scrolled": true
   },
   "outputs": [
    {
     "name": "stdout",
     "output_type": "stream",
     "text": [
      "-RECORD 0-------------\n",
      " name     | Google    \n",
      " ticker   | GOOGL     \n",
      " country  | USA       \n",
      " price    | 2984      \n",
      " currency | USD       \n",
      "-RECORD 1-------------\n",
      " name     | Netflix   \n",
      " ticker   | NFLX      \n",
      " country  | USA       \n",
      " price    | 645       \n",
      " currency | USD       \n",
      "-RECORD 2-------------\n",
      " name     | Amazon    \n",
      " ticker   | AMZN      \n",
      " country  | USA       \n",
      " price    | 3518      \n",
      " currency | USD       \n",
      "-RECORD 3-------------\n",
      " name     | Tesla     \n",
      " ticker   | TSLA      \n",
      " country  | USA       \n",
      " price    | 1222      \n",
      " currency | USD       \n",
      "-RECORD 4-------------\n",
      " name     | Tencent   \n",
      " ticker   | 0700      \n",
      " country  | Hong Kong \n",
      " price    | 483       \n",
      " currency | HKD       \n",
      "-RECORD 5-------------\n",
      " name     | Toyota    \n",
      " ticker   | 7203      \n",
      " country  | Japan     \n",
      " price    | 2006      \n",
      " currency | JPY       \n",
      "-RECORD 6-------------\n",
      " name     | Samsung   \n",
      " ticker   | 005930    \n",
      " country  | Korea     \n",
      " price    | 70600     \n",
      " currency | KRW       \n",
      "-RECORD 7-------------\n",
      " name     | Kakao     \n",
      " ticker   | 035720    \n",
      " country  | Korea     \n",
      " price    | 125000    \n",
      " currency | KRW       \n",
      "\n"
     ]
    }
   ],
   "source": [
    "sp_df.show(vertical=True)"
   ]
  },
  {
   "cell_type": "code",
   "execution_count": 39,
   "id": "f2e962a6-cfc2-4a32-ad25-49567e44e7ba",
   "metadata": {},
   "outputs": [],
   "source": [
    "#4. df에 mn_trade_v 컬럼을 추가하시오"
   ]
  },
  {
   "cell_type": "code",
   "execution_count": 16,
   "id": "c314009b-de25-472e-81ee-279abeae3ab7",
   "metadata": {},
   "outputs": [
    {
     "data": {
      "text/plain": [
       "DataFrame[name: string, ticker: string, country: string, price: bigint, currency: string, mn_trade_v: string]"
      ]
     },
     "execution_count": 16,
     "metadata": {},
     "output_type": "execute_result"
    },
    {
     "name": "stdout",
     "output_type": "stream",
     "text": [
      "+-------+------+---------+------+--------+----------+\n",
      "|   name|ticker|  country| price|currency|mn_trade_v|\n",
      "+-------+------+---------+------+--------+----------+\n",
      "| Google| GOOGL|      USA|  2984|     USD|          |\n",
      "|Netflix|  NFLX|      USA|   645|     USD|          |\n",
      "| Amazon|  AMZN|      USA|  3518|     USD|          |\n",
      "|  Tesla|  TSLA|      USA|  1222|     USD|          |\n",
      "|Tencent|  0700|Hong Kong|   483|     HKD|          |\n",
      "| Toyota|  7203|    Japan|  2006|     JPY|          |\n",
      "|Samsung|005930|    Korea| 70600|     KRW|          |\n",
      "|  Kakao|035720|    Korea|125000|     KRW|          |\n",
      "+-------+------+---------+------+--------+----------+\n",
      "\n"
     ]
    }
   ],
   "source": [
    "sp_df.withColumn('mn_trade_v',lit(''))\n",
    "sp_df.withColumn('mn_trade_v',lit('')).show()"
   ]
  },
  {
   "cell_type": "code",
   "execution_count": 27,
   "id": "e1e902de-a8bc-43d6-9946-62d65d48f1fd",
   "metadata": {},
   "outputs": [],
   "source": [
    "#4. df에 qty 컬럼을 추가하되 값을 0으로 초기화 하시오"
   ]
  },
  {
   "cell_type": "code",
   "execution_count": 20,
   "id": "a011e2a6-0dbd-4efc-8fa7-5adf5c90f751",
   "metadata": {},
   "outputs": [
    {
     "name": "stdout",
     "output_type": "stream",
     "text": [
      "+-------+------+---------+------+--------+---+\n",
      "|   name|ticker|  country| price|currency|qty|\n",
      "+-------+------+---------+------+--------+---+\n",
      "| Google| GOOGL|      USA|  2984|     USD|  0|\n",
      "|Netflix|  NFLX|      USA|   645|     USD|  0|\n",
      "| Amazon|  AMZN|      USA|  3518|     USD|  0|\n",
      "|  Tesla|  TSLA|      USA|  1222|     USD|  0|\n",
      "|Tencent|  0700|Hong Kong|   483|     HKD|  0|\n",
      "| Toyota|  7203|    Japan|  2006|     JPY|  0|\n",
      "|Samsung|005930|    Korea| 70600|     KRW|  0|\n",
      "|  Kakao|035720|    Korea|125000|     KRW|  0|\n",
      "+-------+------+---------+------+--------+---+\n",
      "\n"
     ]
    }
   ],
   "source": [
    "sp_df.withColumn('qty',lit(0)).show()"
   ]
  },
  {
   "cell_type": "code",
   "execution_count": 30,
   "id": "49a7b07a-4c84-47d3-bd33-712899e093d8",
   "metadata": {},
   "outputs": [],
   "source": [
    "#5. df에 qty 컬럼을 추가하되 값을 0으로 초기화하고 df2에 저장하시오"
   ]
  },
  {
   "cell_type": "code",
   "execution_count": 46,
   "id": "e439cba7-5555-449f-9f11-ac094952658f",
   "metadata": {},
   "outputs": [
    {
     "name": "stdout",
     "output_type": "stream",
     "text": [
      "+-------+------+---------+------+--------+---+\n",
      "|   name|ticker|  country| price|currency|qty|\n",
      "+-------+------+---------+------+--------+---+\n",
      "| Google| GOOGL|      USA|  2984|     USD|  0|\n",
      "|Netflix|  NFLX|      USA|   645|     USD|  0|\n",
      "| Amazon|  AMZN|      USA|  3518|     USD|  0|\n",
      "|  Tesla|  TSLA|      USA|  1222|     USD|  0|\n",
      "|Tencent|  0700|Hong Kong|   483|     HKD|  0|\n",
      "| Toyota|  7203|    Japan|  2006|     JPY|  0|\n",
      "|Samsung|005930|    Korea| 70600|     KRW|  0|\n",
      "|  Kakao|035720|    Korea|125000|     KRW|  0|\n",
      "+-------+------+---------+------+--------+---+\n",
      "\n"
     ]
    }
   ],
   "source": [
    "df2 = sp_df.withColumn('qty',lit(0))\n",
    "df2.show()"
   ]
  },
  {
   "cell_type": "code",
   "execution_count": null,
   "id": "95593872-e9bf-49ca-8d48-41a7a10af9e1",
   "metadata": {},
   "outputs": [],
   "source": [
    "#6. df의 qty 변수에 대하여 country가 usa 면 100 hong kong 은 500 japan은 100  한국 1 로 설정하고 df_tmp에 저장하시오"
   ]
  },
  {
   "cell_type": "code",
   "execution_count": 47,
   "id": "f9f56b17-95b8-4a86-b9bb-6c35cd73b0d1",
   "metadata": {},
   "outputs": [
    {
     "name": "stdout",
     "output_type": "stream",
     "text": [
      "+-------+------+---------+------+--------+---+\n",
      "|   name|ticker|  country| price|currency|qty|\n",
      "+-------+------+---------+------+--------+---+\n",
      "| Google| GOOGL|      USA|  2984|     USD|  0|\n",
      "|Netflix|  NFLX|      USA|   645|     USD|  0|\n",
      "| Amazon|  AMZN|      USA|  3518|     USD|  0|\n",
      "|  Tesla|  TSLA|      USA|  1222|     USD|  0|\n",
      "|Tencent|  0700|Hong Kong|   483|     HKD|  0|\n",
      "| Toyota|  7203|    Japan|  2006|     JPY|  0|\n",
      "|Samsung|005930|    Korea| 70600|     KRW|  0|\n",
      "|  Kakao|035720|    Korea|125000|     KRW|  0|\n",
      "+-------+------+---------+------+--------+---+\n",
      "\n"
     ]
    }
   ],
   "source": [
    "df2.show()"
   ]
  },
  {
   "cell_type": "code",
   "execution_count": 48,
   "id": "2376e8f2-4ea7-4d4c-950b-23a96b5b22cb",
   "metadata": {},
   "outputs": [
    {
     "name": "stdout",
     "output_type": "stream",
     "text": [
      "+-------+------+---------+------+--------+---+\n",
      "|   name|ticker|  country| price|currency|qty|\n",
      "+-------+------+---------+------+--------+---+\n",
      "| Google| GOOGL|      USA|  2984|     USD|100|\n",
      "|Netflix|  NFLX|      USA|   645|     USD|100|\n",
      "| Amazon|  AMZN|      USA|  3518|     USD|100|\n",
      "|  Tesla|  TSLA|      USA|  1222|     USD|100|\n",
      "|Tencent|  0700|Hong Kong|   483|     HKD|500|\n",
      "| Toyota|  7203|    Japan|  2006|     JPY|100|\n",
      "|Samsung|005930|    Korea| 70600|     KRW|  1|\n",
      "|  Kakao|035720|    Korea|125000|     KRW|  1|\n",
      "+-------+------+---------+------+--------+---+\n",
      "\n"
     ]
    }
   ],
   "source": [
    "df_tmp = df2.withColumn('qty',when(col('country')=='USA',100)\n",
    "                 .when(col('country')=='Hong Kong',500)\n",
    "                 .when(col('country')=='Japan',100)\n",
    "                 .otherwise(1))\n",
    "df_tmp.show()       "
   ]
  },
  {
   "cell_type": "code",
   "execution_count": null,
   "id": "71e6d3d6-4afc-4505-bf4d-6c747b210262",
   "metadata": {},
   "outputs": [],
   "source": [
    "#7. df_tmp의 컬럼명을 종목, 종목코드, 국가, 현재가,통화, 최소거래량으로 변경하시오 "
   ]
  },
  {
   "cell_type": "code",
   "execution_count": 38,
   "id": "ca3cabce-c169-4308-aa34-71a165407fa3",
   "metadata": {},
   "outputs": [
    {
     "name": "stdout",
     "output_type": "stream",
     "text": [
      "+-------+--------+---------+------+----+----------+\n",
      "|   종목|종목코드|     국가|현재가|통화|최소거래량|\n",
      "+-------+--------+---------+------+----+----------+\n",
      "| Google|   GOOGL|      USA|  2984| USD|       100|\n",
      "|Netflix|    NFLX|      USA|   645| USD|       100|\n",
      "| Amazon|    AMZN|      USA|  3518| USD|       100|\n",
      "|  Tesla|    TSLA|      USA|  1222| USD|       100|\n",
      "|Tencent|    0700|Hong Kong|   483| HKD|       500|\n",
      "| Toyota|    7203|    Japan|  2006| JPY|       100|\n",
      "|Samsung|  005930|    Korea| 70600| KRW|         1|\n",
      "|  Kakao|  035720|    Korea|125000| KRW|         1|\n",
      "+-------+--------+---------+------+----+----------+\n",
      "\n"
     ]
    }
   ],
   "source": [
    "df_tmp.withColumnRenamed('name','종목')\\\n",
    "       .withColumnRenamed('ticker','종목코드')\\\n",
    "       .withColumnRenamed('country','국가')\\\n",
    "       .withColumnRenamed('price','현재가')\\\n",
    "       .withColumnRenamed('currency','통화')\\\n",
    "       .withColumnRenamed('qty','최소거래량').show()"
   ]
  },
  {
   "cell_type": "code",
   "execution_count": null,
   "id": "668abebc-66bb-4459-ad24-b06fa46b5f47",
   "metadata": {},
   "outputs": [],
   "source": [
    "#8.df_tmp의 최소 거래량 컬럼을 삭제하시오"
   ]
  },
  {
   "cell_type": "code",
   "execution_count": 39,
   "id": "6e07b8e6-e03f-43f1-b57e-5a1dfe108a97",
   "metadata": {},
   "outputs": [
    {
     "name": "stdout",
     "output_type": "stream",
     "text": [
      "+-------+--------+---------+------+----+----------+\n",
      "|   종목|종목코드|     국가|현재가|통화|최소거래량|\n",
      "+-------+--------+---------+------+----+----------+\n",
      "| Google|   GOOGL|      USA|  2984| USD|       100|\n",
      "|Netflix|    NFLX|      USA|   645| USD|       100|\n",
      "| Amazon|    AMZN|      USA|  3518| USD|       100|\n",
      "|  Tesla|    TSLA|      USA|  1222| USD|       100|\n",
      "|Tencent|    0700|Hong Kong|   483| HKD|       500|\n",
      "| Toyota|    7203|    Japan|  2006| JPY|       100|\n",
      "|Samsung|  005930|    Korea| 70600| KRW|         1|\n",
      "|  Kakao|  035720|    Korea|125000| KRW|         1|\n",
      "+-------+--------+---------+------+----+----------+\n",
      "\n"
     ]
    }
   ],
   "source": [
    "df_tmp=df_tmp.withColumnRenamed('name','종목')\\\n",
    "       .withColumnRenamed('ticker','종목코드')\\\n",
    "       .withColumnRenamed('country','국가')\\\n",
    "       .withColumnRenamed('price','현재가')\\\n",
    "       .withColumnRenamed('currency','통화')\\\n",
    "       .withColumnRenamed('qty','최소거래량')\n",
    "df_tmp.show()"
   ]
  },
  {
   "cell_type": "code",
   "execution_count": 40,
   "id": "83fc9932-edc1-4d0c-8296-fe50cd7eef46",
   "metadata": {},
   "outputs": [
    {
     "name": "stdout",
     "output_type": "stream",
     "text": [
      "+-------+--------+---------+------+----+\n",
      "|   종목|종목코드|     국가|현재가|통화|\n",
      "+-------+--------+---------+------+----+\n",
      "| Google|   GOOGL|      USA|  2984| USD|\n",
      "|Netflix|    NFLX|      USA|   645| USD|\n",
      "| Amazon|    AMZN|      USA|  3518| USD|\n",
      "|  Tesla|    TSLA|      USA|  1222| USD|\n",
      "|Tencent|    0700|Hong Kong|   483| HKD|\n",
      "| Toyota|    7203|    Japan|  2006| JPY|\n",
      "|Samsung|  005930|    Korea| 70600| KRW|\n",
      "|  Kakao|  035720|    Korea|125000| KRW|\n",
      "+-------+--------+---------+------+----+\n",
      "\n"
     ]
    }
   ],
   "source": [
    "df_tmp = df_tmp.drop('최소거래량')\n",
    "df_tmp.show()"
   ]
  },
  {
   "cell_type": "code",
   "execution_count": null,
   "id": "6c4a96fe-e092-460f-a6de-28e743311ccf",
   "metadata": {},
   "outputs": [],
   "source": []
  }
 ],
 "metadata": {
  "kernelspec": {
   "display_name": "Python 3 (ipykernel)",
   "language": "python",
   "name": "python3"
  },
  "language_info": {
   "codemirror_mode": {
    "name": "ipython",
    "version": 3
   },
   "file_extension": ".py",
   "mimetype": "text/x-python",
   "name": "python",
   "nbconvert_exporter": "python",
   "pygments_lexer": "ipython3",
   "version": "3.10.12"
  }
 },
 "nbformat": 4,
 "nbformat_minor": 5
}
