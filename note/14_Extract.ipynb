{
 "cells": [
  {
   "cell_type": "code",
   "execution_count": 1,
   "id": "b50d6624",
   "metadata": {
    "collapsed": true,
    "jupyter": {
     "outputs_hidden": true
    }
   },
   "outputs": [
    {
     "name": "stdout",
     "output_type": "stream",
     "text": [
      "Collecting hdfs\n",
      "  Downloading hdfs-2.7.3.tar.gz (43 kB)\n",
      "\u001b[2K     \u001b[38;2;114;156;31m━━━━━━━━━━━━━━━━━━━━━━━━━━━━━━━━━━━━━━━━\u001b[0m \u001b[32m43.5/43.5 KB\u001b[0m \u001b[31m6.2 MB/s\u001b[0m eta \u001b[36m0:00:00\u001b[0m\n",
      "  Preparing metadata (setup.py) ... \u001b[?25ldone\n",
      "\u001b[?25hCollecting docopt\n",
      "  Downloading docopt-0.6.2.tar.gz (25 kB)\n",
      "  Preparing metadata (setup.py) ... \u001b[?25ldone\n",
      "\u001b[?25hRequirement already satisfied: requests>=2.7.0 in /usr/local/lib/python3.10/dist-packages (from hdfs) (2.32.3)\n",
      "Requirement already satisfied: six>=1.9.0 in /usr/local/lib/python3.10/dist-packages (from hdfs) (1.17.0)\n",
      "Requirement already satisfied: charset-normalizer<4,>=2 in /usr/local/lib/python3.10/dist-packages (from requests>=2.7.0->hdfs) (3.4.1)\n",
      "Requirement already satisfied: certifi>=2017.4.17 in /usr/local/lib/python3.10/dist-packages (from requests>=2.7.0->hdfs) (2024.12.14)\n",
      "Requirement already satisfied: idna<4,>=2.5 in /usr/local/lib/python3.10/dist-packages (from requests>=2.7.0->hdfs) (3.10)\n",
      "Requirement already satisfied: urllib3<3,>=1.21.1 in /usr/local/lib/python3.10/dist-packages (from requests>=2.7.0->hdfs) (2.3.0)\n",
      "Building wheels for collected packages: hdfs, docopt\n",
      "  Building wheel for hdfs (setup.py) ... \u001b[?25ldone\n",
      "\u001b[?25h  Created wheel for hdfs: filename=hdfs-2.7.3-py3-none-any.whl size=34347 sha256=0bf18877a9b2265c9ccf4d570f5efba8243f7b40aac330d43a6cb5199096778c\n",
      "  Stored in directory: /root/.cache/pip/wheels/e5/8d/b6/99c1c0a3ac5788c866b0ecd3f48b0134a5910e6ed26011800b\n",
      "  Building wheel for docopt (setup.py) ... \u001b[?25ldone\n",
      "\u001b[?25h  Created wheel for docopt: filename=docopt-0.6.2-py2.py3-none-any.whl size=13723 sha256=8fe7347d523ce5daee37764c7e05eadb5399c692753827ffbc1d014721d00805\n",
      "  Stored in directory: /root/.cache/pip/wheels/fc/ab/d4/5da2067ac95b36618c629a5f93f809425700506f72c9732fac\n",
      "Successfully built hdfs docopt\n",
      "Installing collected packages: docopt, hdfs\n",
      "Successfully installed docopt-0.6.2 hdfs-2.7.3\n",
      "\u001b[33mWARNING: Running pip as the 'root' user can result in broken permissions and conflicting behaviour with the system package manager. It is recommended to use a virtual environment instead: https://pip.pypa.io/warnings/venv\u001b[0m\u001b[33m\n",
      "\u001b[0m"
     ]
    }
   ],
   "source": [
    "!pip install hdfs\n",
    "# ref : https://hdfscli.readthedocs.io/en/latest/quickstart.html#python-bindings"
   ]
  },
  {
   "cell_type": "code",
   "execution_count": 2,
   "id": "eda3e61a-7dd4-4a46-b3fd-c0c8930d406f",
   "metadata": {},
   "outputs": [],
   "source": [
    "from IPython.core.interactiveshell import InteractiveShell\n",
    "InteractiveShell.ast_node_interactivity = \"all\""
   ]
  },
  {
   "cell_type": "code",
   "execution_count": 3,
   "id": "96d45deb",
   "metadata": {},
   "outputs": [],
   "source": [
    "from hdfs import InsecureClient # hdfs 연결 담당 모듈 - 클라이언트 프로그램 구성 시 \n",
    "import requests # api 요청시 사용\n",
    "import json # api다운받은 data와 vaccine data json 처리시 사용\n",
    "import datetime as dt # 날짜 시간관련 기능을 제공하는 클래스"
   ]
  },
  {
   "cell_type": "markdown",
   "id": "2a419f8f-f23c-46bc-920a-0bf98a97f00e",
   "metadata": {},
   "source": [
    "## hdfs 사용 클라이언트 객체 생성\n",
    "- hdfs 연결 담당\n",
    "- read/write/append/update 등과 관련된 모듈 포함하고 있음\n",
    "- InsecureClient(연결주소, user=사용자)\n",
    "- 파일읽기\n",
    "    - InsecureClient.read(파일명(파일경로 포함))\n",
    "        - 해당 파일을 읽을 수 있는 reader 객체를 반환\n",
    "    - InsecureClient.write(저장될파일명(파일경로 포함))\n",
    "        - 해당 파일에 쓸 수 있는 writer 객체를 반환\n",
    "    - InsecureClient.write(저장될파일명(파일경로 포함),'추가될 내용',append=True)\n",
    "        - 기존파일에 추가될내용을 append(파일 끝에 쓰기)        \n",
    "    - InsecureClient.upload(hdfs에 복사될 폴더명(경로포함), 원본 폴더명(경로포함))\n",
    "        - 지정된 원본 폴더 파일을 저장할 hsdf 폴더에 복사\n",
    "        - 폴더를 생성하고 시작 : 기존에 동일 이름의 폴더가 있으면 에러발생함 "
   ]
  },
  {
   "cell_type": "code",
   "execution_count": 4,
   "id": "03a71f0f",
   "metadata": {},
   "outputs": [],
   "source": [
    "client = InsecureClient('http://localhost:9870', user='root')"
   ]
  },
  {
   "cell_type": "markdown",
   "id": "b712a763",
   "metadata": {},
   "source": [
    "## hdfs로 부터 읽기"
   ]
  },
  {
   "cell_type": "markdown",
   "id": "15e37de0-2220-4811-9b1d-90682f5b0e53",
   "metadata": {},
   "source": [
    "- 파일 읽어올때\n",
    "    - 파일과 연결(open)\n",
    "    - 파일읽기\n",
    "    - 파일 연결 끊기(close) : 개발자가 close해야 자원 정리가 됨\n",
    "        - with문 사용하면 자동 open ~ close를 진행함\n",
    "        - "
   ]
  },
  {
   "cell_type": "code",
   "execution_count": 5,
   "id": "b1f5fa11-4538-4a98-a2b7-534c286e0f06",
   "metadata": {},
   "outputs": [],
   "source": [
    "# 파일 읽기위한 reader 객체 생성 후 진행\n",
    "with client.read('/rdd/score.txt') as reader :\n",
    "    score = reader.read()\n",
    "    "
   ]
  },
  {
   "cell_type": "code",
   "execution_count": 6,
   "id": "6021961a-e62b-4f8c-ae4e-7b094b545c25",
   "metadata": {},
   "outputs": [
    {
     "data": {
      "text/plain": [
       "b'\\xea\\xb9\\x80\\xec\\xb2\\xa0\\xec\\x88\\x98 \\xec\\x8a\\xa4\\xed\\x8c\\x8c\\xed\\x81\\xac 50\\r\\n\\xed\\x99\\x8d\\xea\\xb8\\xb8\\xeb\\x8f\\x99 \\xec\\x8a\\xa4\\xed\\x8c\\x8c\\xed\\x81\\xac 80\\r\\n\\xec\\x9e\\x84\\xea\\xba\\xbd\\xec\\xa0\\x95 \\xec\\x8a\\xa4\\xed\\x8c\\x8c\\xed\\x81\\xac 60\\r\\n\\xec\\x9e\\x84\\xec\\x9a\\x94\\xed\\x99\\x98 \\xed\\x85\\x90\\xec\\x84\\x9c\\xed\\x94\\x8c\\xeb\\xa1\\x9c\\xec\\x9a\\xb0 100\\r\\n\\xed\\x99\\x8d\\xec\\xa7\\x84\\xed\\x98\\xb8 \\xed\\x85\\x90\\xec\\x84\\x9c\\xed\\x94\\x8c\\xeb\\xa1\\x9c\\xec\\x9a\\xb0 22\\r\\n\\xed\\x99\\x8d\\xec\\xa7\\x84\\xed\\x98\\xb8 \\xed\\x85\\x90\\xec\\x84\\x9c\\xed\\x94\\x8c\\xeb\\xa1\\x9c\\xec\\x9a\\xb0 22\\r\\n\\xec\\x9d\\xb4\\xec\\x9c\\xa4\\xec\\x97\\xb4 \\xed\\x85\\x90\\xec\\x84\\x9c\\xed\\x94\\x8c\\xeb\\xa1\\x9c\\xec\\x9a\\xb0 90\\r\\n'"
      ]
     },
     "execution_count": 6,
     "metadata": {},
     "output_type": "execute_result"
    }
   ],
   "source": [
    "# byte code 읽어옴\n",
    "score"
   ]
  },
  {
   "cell_type": "code",
   "execution_count": 7,
   "id": "890bb35b",
   "metadata": {},
   "outputs": [
    {
     "name": "stdout",
     "output_type": "stream",
     "text": [
      "김철수 스파크 50\n",
      "홍길동 스파크 80\n",
      "임꺽정 스파크 60\n",
      "임요환 텐서플로우 100\n",
      "홍진호 텐서플로우 22\n",
      "홍진호 텐서플로우 22\n",
      "이윤열 텐서플로우 90\n",
      "\n"
     ]
    }
   ],
   "source": [
    "# https://docs.python.org/ko/3/library/stdtypes.html#bytes-and-bytearray-operations\n",
    "# byte code decode해서 저장 후 확인\n",
    "# bytes.decode(data)\n",
    "score_data = bytes.decode(score)\n",
    "print(score_data)"
   ]
  },
  {
   "cell_type": "markdown",
   "id": "82ef087e",
   "metadata": {},
   "source": [
    "## hdfs에 쓰기"
   ]
  },
  {
   "cell_type": "code",
   "execution_count": 8,
   "id": "458c67df",
   "metadata": {},
   "outputs": [],
   "source": [
    "# 파일쓰기\n",
    "# hdd(note 디렉터리)에 있는 data(file)를 hdfs로 복사\n",
    "# 1. 로컬데이터 파일 열기 : open() python method 사용, width 등록\n",
    "# 2. hdfs client 통해서 쓰기 객체 with 등록\n",
    "# 3. open 객체 이용해서 한줄씩 읽어서 -> hdfs에 쓰기\n",
    "# 현재 위치 : /root/note\n",
    "# 복사할 sido_area.csv 윈도우 10 버전에서 생성, encoding type 'CP949'\n",
    "with open('data/corona_data/sido_area.csv', encoding='CP949') as reader, client.write('/corona_data/sido_area_tmp.csv') as writer :\n",
    "    for line in reader : # 읽어와서\n",
    "        writer.write(line.encode('CP949')) # 원래 encoding 방식 유지 시켜야 함, 바로쓰기"
   ]
  },
  {
   "cell_type": "code",
   "execution_count": 9,
   "id": "d7a45228",
   "metadata": {},
   "outputs": [
    {
     "data": {
      "text/plain": [
       "'/corona_data/tmp'"
      ]
     },
     "execution_count": 9,
     "metadata": {},
     "output_type": "execute_result"
    }
   ],
   "source": [
    "# 폴더 전송 : 폴더내에있는 파일을 hdfs 특정 디렉터리 모두 복사\n",
    "# 해당 모듈은 디렉터리와 파일부터 생성하고 쓰기 진행\n",
    "# 프로그램으로 파일 한줄씩 읽어와서 바로 hdfs 파일에 쓰기\n",
    "# client.upload(dest, source)\n",
    "client.upload('/corona_data/tmp', 'data/corona_data')"
   ]
  },
  {
   "cell_type": "markdown",
   "id": "2925af9e",
   "metadata": {},
   "source": [
    "## hdfs 파일 수정하기\n",
    "- data 추가이므로 data 형식과 encoding 방식은 기존 파일과 동일하게 구성"
   ]
  },
  {
   "cell_type": "code",
   "execution_count": 10,
   "id": "0f64f640",
   "metadata": {},
   "outputs": [],
   "source": [
    "client.write('/rdd/score.txt','최연성 장고 100'.encode('UTF-8'), append=True)"
   ]
  },
  {
   "cell_type": "code",
   "execution_count": 11,
   "id": "f6314b11-c74e-4aa6-bf8d-b6e3d7649483",
   "metadata": {},
   "outputs": [
    {
     "name": "stdout",
     "output_type": "stream",
     "text": [
      "김철수 스파크 50\n",
      "홍길동 스파크 80\n",
      "임꺽정 스파크 60\n",
      "임요환 텐서플로우 100\n",
      "홍진호 텐서플로우 22\n",
      "홍진호 텐서플로우 22\n",
      "이윤열 텐서플로우 90\n",
      "최연성 장고 100\n"
     ]
    }
   ],
   "source": [
    "# 수정된 파일 읽어와서 확인\n",
    "# reader = client.read('/rdd/score.txt')와 같은 동작이므로 reader는 객체 변수\n",
    "with client.read('/rdd/score.txt') as reader :\n",
    "    score = reader.read()\n",
    "score_data = bytes.decode(score)\n",
    "print(score_data)"
   ]
  },
  {
   "cell_type": "markdown",
   "id": "eb095c70",
   "metadata": {},
   "source": [
    "## hdfs 파일 권한 수정\n",
    "- 리눅스 명령어(chmod)\n",
    "- InsecureClient클래스의 set_permission('권한변경할파일(폴더도 파일임)','권한문자')\n",
    "    - 권한문자 : 10진수 권한\n",
    "    - ex. 777 : rwxrwxrwx -> 모든 user가 읽기/쓰기/실행 권한을 갖는다\n",
    "    - tip. 777 권한은 temp 폴더 등이 갖는 권한이고 공격 대상이 될수 있는 권한(부여시 주의해야 함)"
   ]
  },
  {
   "cell_type": "code",
   "execution_count": 12,
   "id": "9826da16",
   "metadata": {},
   "outputs": [],
   "source": [
    "client.set_permission('/corona_data/tmp','777')"
   ]
  },
  {
   "cell_type": "markdown",
   "id": "6a1672dc",
   "metadata": {},
   "source": [
    "## hdfs 파일 삭제\n",
    "- InsecureClient클래스의 delete('삭제할파일(경로 포함)')\n",
    "    - 삭제가 정상적으로 진행되면 True 반환\n",
    "    - False 반환인 경우 대부분 파일명 문제임"
   ]
  },
  {
   "cell_type": "code",
   "execution_count": 13,
   "id": "c8cd2e28",
   "metadata": {
    "scrolled": true
   },
   "outputs": [
    {
     "data": {
      "text/plain": [
       "True"
      ]
     },
     "execution_count": 13,
     "metadata": {},
     "output_type": "execute_result"
    }
   ],
   "source": [
    "client.delete('/corona_data/tmp/sido_area.xlsx')"
   ]
  },
  {
   "cell_type": "markdown",
   "id": "b7fff302-c812-421d-945e-10fd34209c5e",
   "metadata": {},
   "source": [
    "############################################################\n"
   ]
  },
  {
   "cell_type": "markdown",
   "id": "a3dafbcb-d697-457f-af55-5f4d24399218",
   "metadata": {},
   "source": [
    "## 실습 DataPipeline\n",
    "- DataWarehouse Extract\n",
    "    - 현재 실행중인 ubuntu server의 HDD -> Hadoop FS로 변경된 공간\n",
    "        - hadoop설치 : hdfs 구성\n",
    "    - Extract 과정 거쳐서 hdfs에 data 저장\n",
    "        1. corona 발생현황(일간데이터) : api 수집(json형식)\n",
    "        2. corona vaccine 접종현황(일간데이터) : 파일데이터에서 특정일에 대한 데이터 json형식으로 변환 수집\n",
    "        3. 인구 사회 데이터 : 파일데이터(변환없이 사용)\n",
    "- Transformation\n",
    "    -  HDFS에서 데이터 load와서 spark 모듈이용 transformation 진행\n",
    "        -  DaraWarehouse의 데이터보다 정형화된 데이터로 trans\n",
    "- DataMart Load\n",
    "    - transformation 진행된 data를 MySql db에 저장(적재)\n",
    "- Transformation\n",
    "    -  DM에서 데이터 load해와서 spark 모듈이용 transformation 진행\n",
    "        -  DM의 데이터보다 정형화되고 논리적 의미를 포함하는 데이터로 trans\n",
    "- 운영DB Load\n",
    "    - transformation 진행된 data를 MySql db에 저장(적재)\n",
    "    - 운영DB에 적재되는 데이터는 서비스와 연결됨\n",
    "    - 정형화되고 논리적의미를 포함해야 함"
   ]
  },
  {
   "cell_type": "markdown",
   "id": "1a63d843",
   "metadata": {},
   "source": [
    "### REST_API로 데이터를 호출해 HDFS에 저장"
   ]
  },
  {
   "cell_type": "markdown",
   "id": "d17b5a70-cb9d-4910-8875-9a83f48bab0f",
   "metadata": {},
   "source": [
    "#### API 데이터 수집 과정\n",
    "1. 데이터신청\n",
    "2. site에서 데이터 수집을 위한 url을 알아와야 함\n",
    "3. site에서 가이드하고 있는 방식(get/post)으로 데이터 요청 진행\n",
    "    - header와 params를 요구하게됨\n",
    "        -  생성해서 요청시마다 사용\n",
    "        -  params에 service key를 포함시켜서 구성\n",
    "5. 요청된 데이터가 프로그램 변수에 저장되면 이 data를 정리해서 저장\\\n",
    "6. executeRestApi() 요청하고 데이터받아 변수저장 함수를 호출한 곳에 데이터 반환(json형태의 text객체를 반환)"
   ]
  },
  {
   "cell_type": "code",
   "execution_count": 14,
   "id": "58f6aa36",
   "metadata": {},
   "outputs": [],
   "source": [
    "# 데이터요청에 필요한 함수 인수를 받아서\n",
    "# 데이터 요청하고 전송된 데이터를 반환하는 함수\n",
    "# 데이터 요청이 실패했을 경우 예외 발생시킴 \n",
    "# log를 구성해서 예외발생 시 log에 기록되도록 진행\n",
    "def executeRestApi(method, url, headers, params):  \n",
    "    # params, headers는 dict로 구성되어야 함\n",
    "    # raise Exception('응답코드 : 500')  # 예외 테스트\n",
    "    # err_num = 10/0 # 예외 테스트\n",
    "    if method == \"get\": # header가 필요없음 - 파라미터로 사용해야 된다면 보통 {} 빈디렉터리가 전달됨\n",
    "        res = requests.get(url, params=params, headers=headers)\n",
    "    else: # post 요청 : header 필요, header는 {}로 구성되어야 함\n",
    "        res = requests.post(url, data=params, headers=headers)\n",
    "\n",
    "    if res == None or res.status_code != 200:\n",
    "        raise Exception('응답코드 : ' + str(res.status_code))\n",
    "       \n",
    "    return res.text\n",
    "\n"
   ]
  },
  {
   "cell_type": "markdown",
   "id": "ffc3de26",
   "metadata": {},
   "source": [
    "### 기준일자 생성 함수\n",
    "- 요청 data의 기준이 되는 yyyy-mm-dd 형식의 날짜형태 문자열을 생성하는 함수\n",
    "- 현시점으로부터 며칠전 data인지에 대한 기준으로 날짜 생성\n",
    "- ex. 어제 data : 오늘부터 1일전\n",
    "- ex. 1년전 data : 오늘부터 365일전\n",
    "- ex. 오늘 : 오늘부터 0일전\n",
    "- ex. 내일 : 오늘부터 -1일전 (이후의 개념)"
   ]
  },
  {
   "cell_type": "code",
   "execution_count": 20,
   "id": "590ec46e-0d86-43b6-8c6e-341764c7df00",
   "metadata": {},
   "outputs": [
    {
     "data": {
      "text/plain": [
       "datetime.datetime(2024, 1, 18, 4, 40, 35, 918965)"
      ]
     },
     "execution_count": 20,
     "metadata": {},
     "output_type": "execute_result"
    },
    {
     "data": {
      "text/plain": [
       "int"
      ]
     },
     "execution_count": 20,
     "metadata": {},
     "output_type": "execute_result"
    }
   ],
   "source": [
    "dt.datetime.now() - dt.timedelta(365)\n",
    "d = dt.datetime.now()\n",
    "type(d.month)"
   ]
  },
  {
   "cell_type": "code",
   "execution_count": 21,
   "id": "32ba1811",
   "metadata": {},
   "outputs": [],
   "source": [
    "# 오늘부터 얼마나 이전 날짜인지\n",
    "def cal_std_day(befor_day):\n",
    "    x = dt.datetime.now() - dt.timedelta(befor_day)\n",
    "    year = x.year\n",
    "    month = x.month if x.month >= 10 else '0'+ str(x.month)\n",
    "    day = x.day if x.day >= 10 else '0' + str(x.day)\n",
    "    return str(year) + '-' + str(month) + '-' + str(day)    \n"
   ]
  },
  {
   "cell_type": "code",
   "execution_count": 26,
   "id": "eac4b648-5aa3-47b7-93df-d98a05a5eeda",
   "metadata": {},
   "outputs": [
    {
     "data": {
      "text/plain": [
       "'2022-01-18'"
      ]
     },
     "execution_count": 26,
     "metadata": {},
     "output_type": "execute_result"
    },
    {
     "data": {
      "text/plain": [
       "'2025-01-17'"
      ]
     },
     "execution_count": 26,
     "metadata": {},
     "output_type": "execute_result"
    },
    {
     "data": {
      "text/plain": [
       "'2025-01-18'"
      ]
     },
     "execution_count": 26,
     "metadata": {},
     "output_type": "execute_result"
    }
   ],
   "source": [
    "cal_std_day(365*3)\n",
    "cal_std_day(0)\n",
    "cal_std_day(-1)"
   ]
  },
  {
   "cell_type": "markdown",
   "id": "478d7a95-f2a4-45cb-8341-47def86e2885",
   "metadata": {},
   "source": [
    "## log 기록"
   ]
  },
  {
   "cell_type": "markdown",
   "id": "d496c812",
   "metadata": {},
   "source": [
    "#### logger \n",
    "- log 기록하는 프로그램\n",
    "- log  : 프로그램을 실행하면서 나타나는 일련의 사건(error, event등 물리적으로 발생하는 내용이나 네트워크 송수신중 발생하는 많은 내용)\n",
    "- 파이썬 패키지 : logging"
   ]
  },
  {
   "cell_type": "markdown",
   "id": "1c93760c-5ec2-413e-bc60-8135f0c1cc49",
   "metadata": {},
   "source": [
    "- log는 외부연결시 오류 관련 확인 위해서 사용자 정의를 기록 해야함\n",
    "- respAPI는 외부 서버 : log 기록\n",
    "- 사용자 정의 log 생성\n",
    "    1. 로그 저장할 dir 필요\n",
    "    2. 로그 관련 패키지 import\n",
    "    3. 모듈 활용 객체 logger 생성 (logging.getLogger('로거이름'))\n",
    "    4. 로그파일 핸들러 생성 (logging.FileHandler('로그파일명.log'))\n",
    "    5. 로그파일 핸들러 로거에 추가(로거와 로그파일 연결) : logger.addHandler(로그파일핸들러 객체명)"
   ]
  },
  {
   "cell_type": "code",
   "execution_count": 27,
   "id": "ba9ddc6a",
   "metadata": {},
   "outputs": [],
   "source": [
    "import logging # 로그관련 패키지"
   ]
  },
  {
   "cell_type": "code",
   "execution_count": 29,
   "id": "1166eb94-7bca-4e52-98d8-91a9dc7bbfc7",
   "metadata": {},
   "outputs": [],
   "source": [
    "co_logger = logging.getLogger('corona_api')\n",
    "f_handler = logging.FileHandler('./log/rest_api/'+cal_std_day(0)+'.log')\n",
    "co_logger.addHandler(f_handler)"
   ]
  },
  {
   "cell_type": "code",
   "execution_count": 30,
   "id": "a6e7b30c",
   "metadata": {},
   "outputs": [],
   "source": [
    "# 이렇게 문자열로 찍을 수도 있음\n",
    "# json양식으로 log를 저장하면 다음에 읽어와서 처리하기도 편하다.\n",
    "# 강제 error 발생시켜서 log에 기록 text\n",
    "co_logger.error('corona_patient_'+cal_std_day(0)+'.json 다운로드 실패')\n",
    "# 발생된 에러의 log는 /root/note/log/rest_api/ 디렉터리내 log 파일에서 확인해야 함"
   ]
  },
  {
   "cell_type": "markdown",
   "id": "7a4dda89",
   "metadata": {},
   "source": [
    "### api 호출"
   ]
  },
  {
   "cell_type": "code",
   "execution_count": 46,
   "id": "22ce26ed",
   "metadata": {},
   "outputs": [],
   "source": [
    "# base var 생성\n",
    "url = 'http://apis.data.go.kr/1352000/ODMS_COVID_04/callCovid04Api'\n",
    "service_key = 'azOlzHmE12kpPv/6L9CM1ylcu+fqgba5RR/xip8K1OQuncWE3OGzAW5hiE2oKb6fbaMFwkSf8YGy1sytUI5feA=='\n",
    "# 요청해 응답받은 rest_api data를 hdfs에 저장할 dir\n",
    "file_dir = '/corona_data/patient/'\n"
   ]
  },
  {
   "cell_type": "markdown",
   "id": "965975cf-dad0-432e-b3ab-4e8c018aa62d",
   "metadata": {},
   "source": [
    "- 기본함수\n",
    "    - executerRestApi(method, url, headers, params)\n",
    "    - params는 여러 data를 설정해야 함\n",
    "        - 파라미터 생성 함수 : create_param(std_day)\n",
    "            - std_day : 날짜가 아닌 오늘부터 얼마나 이전 데이터를 요청할것인에 대한 수치"
   ]
  },
  {
   "cell_type": "code",
   "execution_count": 31,
   "id": "add73847-b3b1-4134-a90d-c4197b69ae6c",
   "metadata": {},
   "outputs": [],
   "source": [
    "def create_param(std_day) :\n",
    "    return {'serviceKey':service_key\n",
    "        ,'pageNo':1\n",
    "        ,'numOfRows':'500'\n",
    "        ,'apiType':'JSON'\n",
    "        ,'std_day':cal_std_day(std_day)}"
   ]
  },
  {
   "cell_type": "code",
   "execution_count": 35,
   "id": "fb0360e7-ad03-4193-b1bb-32a7253b9f8b",
   "metadata": {},
   "outputs": [
    {
     "data": {
      "text/plain": [
       "{'serviceKey': 'azOlzHmE12kpPv%2F6L9CM1ylcu%2Bfqgba5RR%2Fxip8K1OQuncWE3OGzAW5hiE2oKb6fbaMFwkSf8YGy1sytUI5feA%3D%3D',\n",
       " 'pageNo': 1,\n",
       " 'numOfRows': '500',\n",
       " 'apiType': 'JSON',\n",
       " 'std_day': '2022-01-18'}"
      ]
     },
     "execution_count": 35,
     "metadata": {},
     "output_type": "execute_result"
    }
   ],
   "source": [
    "create_param(365*3)"
   ]
  },
  {
   "cell_type": "code",
   "execution_count": 57,
   "id": "fc55d4d9-465c-445e-8995-efeff1a607ee",
   "metadata": {},
   "outputs": [],
   "source": [
    "params = create_param(365*3)\n",
    "#log기록 할 내용 결정(개발자가 결정)\n",
    "log_dict={\n",
    "    \"is_success\":\"Fail\"\n",
    "    ,\"type\":\"corona_patient\"\n",
    "    ,\"std_day\":params['std_day']\n",
    "    ,\"params\":params\n",
    "}"
   ]
  },
  {
   "cell_type": "markdown",
   "id": "a6fb2163-f105-40d5-9caf-9ffbae3b04e1",
   "metadata": {},
   "source": [
    "- 날짜별 발생현황 파일 요청\n",
    "    - 해당파일에 날짜를 파일명에 포함시켜서\n",
    "    - 정리없이 hdfs 저장"
   ]
  },
  {
   "cell_type": "code",
   "execution_count": 52,
   "id": "b7543f5f-47a4-4673-b6f8-9b7ab477134b",
   "metadata": {},
   "outputs": [],
   "source": [
    "# 요청해서 json 응답받고 hdfs에 저장 - 날짜별로 파일명 구분\n",
    "try : \n",
    "    res=executeRestApi('get',url,{},params) # api에 data 요청후 결과 응답\n",
    "    file_name='corona_patient_'+cal_std_day(365*3)+'.json' # hdfs에 저장할 파일명 생성\n",
    "    client.write(file_dir+file_name,res,encoding='utf-8') # hdfs에 저장\n",
    "except Exception as e: # 일반 python 예외\n",
    "    log_dict['err_msg']= e.__str__()\n",
    "    log_json = json.dumps(log_dict, ensure_ascii=False) #log json 형태로 기록\n",
    "    co_logger.error(log_json) #logger가 발생시키는 에러 - log 기록을 위함  \n",
    "# print(res)    "
   ]
  },
  {
   "cell_type": "code",
   "execution_count": 64,
   "id": "a1893299-0d16-48a0-9f18-db2d5d0e3cab",
   "metadata": {
    "collapsed": true,
    "jupyter": {
     "outputs_hidden": true
    }
   },
   "outputs": [
    {
     "name": "stdout",
     "output_type": "stream",
     "text": [
      "{\"pageNo\":\"1\",\"resultCode\":\"00\",\"totalCount\":19,\"items\":[{\"gubunEn\":\"Total\",\"deathCnt\":\"6210\",\"defCnt\":\"679030\",\"isolClearCnt\":\"575763\",\"stdDay\":\"2022-01-13\",\"localOccCnt\":\"3776\",\"qurRate\":\"1315\",\"overFlowCnt\":\"391\",\"gubunCn\":\"合计\",\"incDec\":\"4167\",\"isolIngCnt\":\"0\",\"gubun\":\"합계\"},{\"gubunEn\":\"Gwangju\",\"deathCnt\":\"54\",\"defCnt\":\"9436\",\"isolClearCnt\":\"8221\",\"stdDay\":\"2022-01-13\",\"localOccCnt\":\"182\",\"qurRate\":\"655\",\"overFlowCnt\":\"6\",\"gubunCn\":\"光州\",\"incDec\":\"188\",\"isolIngCnt\":\"0\",\"gubun\":\"광주\"},{\"gubunEn\":\"Daegu\",\"deathCnt\":\"382\",\"defCnt\":\"24436\",\"isolClearCnt\":\"22883\",\"stdDay\":\"2022-01-13\",\"localOccCnt\":\"119\",\"qurRate\":\"1024\",\"overFlowCnt\":\"6\",\"gubunCn\":\"大邱\",\"incDec\":\"125\",\"isolIngCnt\":\"0\",\"gubun\":\"대구\"},{\"gubunEn\":\"Gangwon-do\",\"deathCnt\":\"110\",\"defCnt\":\"13368\",\"isolClearCnt\":\"12342\",\"stdDay\":\"2022-01-13\",\"localOccCnt\":\"82\",\"qurRate\":\"869\",\"overFlowCnt\":\"7\",\"gubunCn\":\"江原\",\"incDec\":\"89\",\"isolIngCnt\":\"0\",\"gubun\":\"강원\"},{\"gubunEn\":\"Jeollanam-do\",\"deathCnt\":\"44\",\"defCnt\":\"7174\",\"isolClearCnt\":\"5884\",\"stdDay\":\"2022-01-13\",\"localOccCnt\":\"133\",\"qurRate\":\"391\",\"overFlowCnt\":\"3\",\"gubunCn\":\"全南\",\"incDec\":\"136\",\"isolIngCnt\":\"0\",\"gubun\":\"전남\"},{\"gubunEn\":\"Sejong\",\"deathCnt\":\"4\",\"defCnt\":\"2315\",\"isolClearCnt\":\"2172\",\"stdDay\":\"2022-01-13\",\"localOccCnt\":\"6\",\"qurRate\":\"622\",\"overFlowCnt\":\"1\",\"gubunCn\":\"世宗\",\"incDec\":\"7\",\"isolIngCnt\":\"0\",\"gubun\":\"세종\"},{\"gubunEn\":\"Incheon\",\"deathCnt\":\"315\",\"defCnt\":\"39456\",\"isolClearCnt\":\"34847\",\"stdDay\":\"2022-01-13\",\"localOccCnt\":\"224\",\"qurRate\":\"1338\",\"overFlowCnt\":\"16\",\"gubunCn\":\"仁川\",\"incDec\":\"240\",\"isolIngCnt\":\"0\",\"gubun\":\"인천\"},{\"gubunEn\":\"Daejeon\",\"deathCnt\":\"181\",\"defCnt\":\"12899\",\"isolClearCnt\":\"11636\",\"stdDay\":\"2022-01-13\",\"localOccCnt\":\"63\",\"qurRate\":\"888\",\"overFlowCnt\":\"5\",\"gubunCn\":\"大田\",\"incDec\":\"68\",\"isolIngCnt\":\"0\",\"gubun\":\"대전\"},{\"gubunEn\":\"Gyeongsangbuk-do\",\"deathCnt\":\"186\",\"defCnt\":\"16433\",\"isolClearCnt\":\"14975\",\"stdDay\":\"2022-01-13\",\"localOccCnt\":\"92\",\"qurRate\":\"626\",\"overFlowCnt\":\"7\",\"gubunCn\":\"庆北\",\"incDec\":\"99\",\"isolIngCnt\":\"0\",\"gubun\":\"경북\"},{\"gubunEn\":\"Gyeongsangnam-do\",\"deathCnt\":\"112\",\"defCnt\":\"22152\",\"isolClearCnt\":\"20757\",\"stdDay\":\"2022-01-13\",\"localOccCnt\":\"94\",\"qurRate\":\"668\",\"overFlowCnt\":\"21\",\"gubunCn\":\"庆南\",\"incDec\":\"115\",\"isolIngCnt\":\"0\",\"gubun\":\"경남\"},{\"gubunEn\":\"Busan\",\"deathCnt\":\"329\",\"defCnt\":\"27456\",\"isolClearCnt\":\"24812\",\"stdDay\":\"2022-01-13\",\"localOccCnt\":\"156\",\"qurRate\":\"819\",\"overFlowCnt\":\"6\",\"gubunCn\":\"釜山\",\"incDec\":\"162\",\"isolIngCnt\":\"0\",\"gubun\":\"부산\"},{\"gubunEn\":\"Jeju\",\"deathCnt\":\"13\",\"defCnt\":\"4858\",\"isolClearCnt\":\"4687\",\"stdDay\":\"2022-01-13\",\"localOccCnt\":\"7\",\"qurRate\":\"718\",\"overFlowCnt\":\"0\",\"gubunCn\":\"济州\",\"incDec\":\"7\",\"isolIngCnt\":\"0\",\"gubun\":\"제주\"},{\"gubunEn\":\"Chungcheongnam-do\",\"deathCnt\":\"165\",\"defCnt\":\"19553\",\"isolClearCnt\":\"17151\",\"stdDay\":\"2022-01-13\",\"localOccCnt\":\"126\",\"qurRate\":\"923\",\"overFlowCnt\":\"5\",\"gubunCn\":\"忠南\",\"incDec\":\"131\",\"isolIngCnt\":\"0\",\"gubun\":\"충남\"},{\"gubunEn\":\"Lazaretto\",\"deathCnt\":\"16\",\"defCnt\":\"7503\",\"isolClearCnt\":\"6595\",\"stdDay\":\"2022-01-13\",\"localOccCnt\":\"0\",\"qurRate\":\"-\",\"overFlowCnt\":\"93\",\"gubunCn\":\"隔離區\",\"incDec\":\"93\",\"isolIngCnt\":\"0\",\"gubun\":\"검역\"},{\"gubunEn\":\"Seoul\",\"deathCnt\":\"2009\",\"defCnt\":\"239014\",\"isolClearCnt\":\"194346\",\"stdDay\":\"2022-01-13\",\"localOccCnt\":\"858\",\"qurRate\":\"2513\",\"overFlowCnt\":\"120\",\"gubunCn\":\"首尔\",\"incDec\":\"978\",\"isolIngCnt\":\"0\",\"gubun\":\"서울\"},{\"gubunEn\":\"Chungcheongbuk-do\",\"deathCnt\":\"120\",\"defCnt\":\"12263\",\"isolClearCnt\":\"11491\",\"stdDay\":\"2022-01-13\",\"localOccCnt\":\"58\",\"qurRate\":\"768\",\"overFlowCnt\":\"3\",\"gubunCn\":\"忠北\",\"incDec\":\"61\",\"isolIngCnt\":\"0\",\"gubun\":\"충북\"},{\"gubunEn\":\"Jeollabuk-do\",\"deathCnt\":\"120\",\"defCnt\":\"10623\",\"isolClearCnt\":\"9632\",\"stdDay\":\"2022-01-13\",\"localOccCnt\":\"106\",\"qurRate\":\"595\",\"overFlowCnt\":\"0\",\"gubunCn\":\"全北\",\"incDec\":\"106\",\"isolIngCnt\":\"0\",\"gubun\":\"전북\"},{\"gubunEn\":\"Ulsan\",\"deathCnt\":\"65\",\"defCnt\":\"7329\",\"isolClearCnt\":\"6928\",\"stdDay\":\"2022-01-13\",\"localOccCnt\":\"26\",\"qurRate\":\"653\",\"overFlowCnt\":\"1\",\"gubunCn\":\"蔚山\",\"incDec\":\"27\",\"isolIngCnt\":\"0\",\"gubun\":\"울산\"},{\"gubunEn\":\"Gyeonggi-do\",\"deathCnt\":\"1985\",\"defCnt\":\"202762\",\"isolClearCnt\":\"166404\",\"stdDay\":\"2022-01-13\",\"localOccCnt\":\"1444\",\"qurRate\":\"1495\",\"overFlowCnt\":\"91\",\"gubunCn\":\"京畿\",\"incDec\":\"1535\",\"isolIngCnt\":\"0\",\"gubun\":\"경기\"}],\"numOfRows\":\"500\",\"resultMsg\":\"NORMAL SERVICE\"}\n"
     ]
    }
   ],
   "source": [
    "print(res)"
   ]
  },
  {
   "cell_type": "code",
   "execution_count": 54,
   "id": "065986ae-9815-45cc-aea5-4869f3ca9365",
   "metadata": {},
   "outputs": [
    {
     "data": {
      "text/plain": [
       "'2022-01-18'"
      ]
     },
     "execution_count": 54,
     "metadata": {},
     "output_type": "execute_result"
    },
    {
     "data": {
      "text/plain": [
       "'2022-01-12'"
      ]
     },
     "execution_count": 54,
     "metadata": {},
     "output_type": "execute_result"
    }
   ],
   "source": [
    "cal_std_day(365*3)\n",
    "cal_std_day(367*3)"
   ]
  },
  {
   "cell_type": "code",
   "execution_count": 59,
   "id": "1032833c-50b9-43a4-bb1b-b8a48629f132",
   "metadata": {},
   "outputs": [
    {
     "name": "stdout",
     "output_type": "stream",
     "text": [
      "2022-01-18\n",
      "2022-01-17\n",
      "2022-01-16\n",
      "2022-01-15\n",
      "2022-01-14\n",
      "2022-01-13\n"
     ]
    }
   ],
   "source": [
    "# ETL 연습용 data hdfs에 저장\n",
    "for i in range(365*3, 367*3) :\n",
    "    params = create_param(i)\n",
    "    print(params['std_day'])\n",
    "    try : \n",
    "        res=executeRestApi('get',url,{},params)\n",
    "        file_name='corona_patient_'+cal_std_day(i)+'.json'\n",
    "        client.write(file_dir+file_name,res,encoding='utf-8') \n",
    "    except Exception as e:\n",
    "        log_dict['err_msg']= e.__str__()\n",
    "        log_json = json.dumps(log_dict, ensure_ascii=False) \n",
    "        co_logger.error(log_json) "
   ]
  },
  {
   "cell_type": "markdown",
   "id": "c5ea121f-3ef0-4591-8de5-6f0e6d76e288",
   "metadata": {},
   "source": [
    "- 2022-01-13 ~ 2022-01-18 코로나 발생현황 data hdfs에 저장\n",
    "- Json 형식으로 저장"
   ]
  },
  {
   "cell_type": "code",
   "execution_count": null,
   "id": "84d92887-6467-428a-ab54-205425fdde5b",
   "metadata": {},
   "outputs": [],
   "source": []
  },
  {
   "cell_type": "markdown",
   "id": "1c03b62d",
   "metadata": {},
   "source": [
    "## corona_vaccine 접종현황 data\n",
    "- 파일로 제공\n",
    "- 파일 data 읽어서 Json 형식으로 변경한 후에 hdfs에 저장\n",
    "- 필요 data 추출 후 정리 형식 변환"
   ]
  },
  {
   "cell_type": "code",
   "execution_count": 60,
   "id": "aaa536d8-d47c-46bc-b078-d32b1a6afc2c",
   "metadata": {},
   "outputs": [],
   "source": [
    "import pandas as pd"
   ]
  },
  {
   "cell_type": "code",
   "execution_count": 75,
   "id": "05515c55-ba5e-4e39-84b3-0fefadfbf80b",
   "metadata": {
    "collapsed": true,
    "jupyter": {
     "outputs_hidden": true
    },
    "scrolled": true
   },
   "outputs": [
    {
     "data": {
      "text/plain": [
       "RangeIndex(start=0, stop=18, step=1)"
      ]
     },
     "execution_count": 75,
     "metadata": {},
     "output_type": "execute_result"
    },
    {
     "data": {
      "text/html": [
       "<div>\n",
       "<style scoped>\n",
       "    .dataframe tbody tr th:only-of-type {\n",
       "        vertical-align: middle;\n",
       "    }\n",
       "\n",
       "    .dataframe tbody tr th {\n",
       "        vertical-align: top;\n",
       "    }\n",
       "\n",
       "    .dataframe thead th {\n",
       "        text-align: right;\n",
       "    }\n",
       "</style>\n",
       "<table border=\"1\" class=\"dataframe\">\n",
       "  <thead>\n",
       "    <tr style=\"text-align: right;\">\n",
       "      <th></th>\n",
       "      <th>loc</th>\n",
       "      <th>total</th>\n",
       "      <th>male</th>\n",
       "      <th>female</th>\n",
       "    </tr>\n",
       "  </thead>\n",
       "  <tbody>\n",
       "    <tr>\n",
       "      <th>0</th>\n",
       "      <td>전국</td>\n",
       "      <td>52739009</td>\n",
       "      <td>26360035</td>\n",
       "      <td>26378974</td>\n",
       "    </tr>\n",
       "    <tr>\n",
       "      <th>1</th>\n",
       "      <td>서울</td>\n",
       "      <td>9736027</td>\n",
       "      <td>4721977</td>\n",
       "      <td>5014050</td>\n",
       "    </tr>\n",
       "    <tr>\n",
       "      <th>2</th>\n",
       "      <td>부산</td>\n",
       "      <td>3396109</td>\n",
       "      <td>1663619</td>\n",
       "      <td>1732490</td>\n",
       "    </tr>\n",
       "    <tr>\n",
       "      <th>3</th>\n",
       "      <td>대구</td>\n",
       "      <td>2412642</td>\n",
       "      <td>1189901</td>\n",
       "      <td>1222741</td>\n",
       "    </tr>\n",
       "    <tr>\n",
       "      <th>4</th>\n",
       "      <td>인천</td>\n",
       "      <td>3014739</td>\n",
       "      <td>1513277</td>\n",
       "      <td>1501462</td>\n",
       "    </tr>\n",
       "  </tbody>\n",
       "</table>\n",
       "</div>"
      ],
      "text/plain": [
       "  loc     total      male    female\n",
       "0  전국  52739009  26360035  26378974\n",
       "1  서울   9736027   4721977   5014050\n",
       "2  부산   3396109   1663619   1732490\n",
       "3  대구   2412642   1189901   1222741\n",
       "4  인천   3014739   1513277   1501462"
      ]
     },
     "execution_count": 75,
     "metadata": {},
     "output_type": "execute_result"
    }
   ],
   "source": [
    "# 광역 시도별 인구 data\n",
    "pop = pd.read_csv('data/corona_data/sido_population.csv',encoding='CP949')\n",
    "pop.index\n",
    "pop.head()"
   ]
  },
  {
   "cell_type": "code",
   "execution_count": 62,
   "id": "cb02c77d-b710-4e82-b0c5-f6c2091e64eb",
   "metadata": {
    "collapsed": true,
    "jupyter": {
     "outputs_hidden": true
    }
   },
   "outputs": [
    {
     "data": {
      "text/html": [
       "<div>\n",
       "<style scoped>\n",
       "    .dataframe tbody tr th:only-of-type {\n",
       "        vertical-align: middle;\n",
       "    }\n",
       "\n",
       "    .dataframe tbody tr th {\n",
       "        vertical-align: top;\n",
       "    }\n",
       "\n",
       "    .dataframe thead th {\n",
       "        text-align: right;\n",
       "    }\n",
       "</style>\n",
       "<table border=\"1\" class=\"dataframe\">\n",
       "  <thead>\n",
       "    <tr style=\"text-align: right;\">\n",
       "      <th></th>\n",
       "      <th>sido</th>\n",
       "      <th>firstCnt</th>\n",
       "      <th>secondCnt</th>\n",
       "      <th>totalFirstCnt</th>\n",
       "      <th>totalSecondCnt</th>\n",
       "      <th>accumulatedFirstCnt</th>\n",
       "      <th>accumulatedSecondCnt</th>\n",
       "      <th>id</th>\n",
       "      <th>thirdCnt</th>\n",
       "      <th>totalThirdCnt</th>\n",
       "      <th>accumulatedThirdCnt</th>\n",
       "    </tr>\n",
       "    <tr>\n",
       "      <th>baseDate</th>\n",
       "      <th></th>\n",
       "      <th></th>\n",
       "      <th></th>\n",
       "      <th></th>\n",
       "      <th></th>\n",
       "      <th></th>\n",
       "      <th></th>\n",
       "      <th></th>\n",
       "      <th></th>\n",
       "      <th></th>\n",
       "      <th></th>\n",
       "    </tr>\n",
       "  </thead>\n",
       "  <tbody>\n",
       "    <tr>\n",
       "      <th>2022-11-09 00:00:00</th>\n",
       "      <td>제주특별자치도</td>\n",
       "      <td>6.0</td>\n",
       "      <td>5.0</td>\n",
       "      <td>591064</td>\n",
       "      <td>585442.0</td>\n",
       "      <td>591058</td>\n",
       "      <td>585437.0</td>\n",
       "      <td>10176</td>\n",
       "      <td>38.0</td>\n",
       "      <td>439144.0</td>\n",
       "      <td>439106.0</td>\n",
       "    </tr>\n",
       "    <tr>\n",
       "      <th>2022-11-09 00:00:00</th>\n",
       "      <td>전국</td>\n",
       "      <td>175.0</td>\n",
       "      <td>224.0</td>\n",
       "      <td>45123225</td>\n",
       "      <td>44693321.0</td>\n",
       "      <td>45123050</td>\n",
       "      <td>44693097.0</td>\n",
       "      <td>10159</td>\n",
       "      <td>1678.0</td>\n",
       "      <td>33673146.0</td>\n",
       "      <td>33671468.0</td>\n",
       "    </tr>\n",
       "    <tr>\n",
       "      <th>2022-11-09 00:00:00</th>\n",
       "      <td>서울특별시</td>\n",
       "      <td>28.0</td>\n",
       "      <td>43.0</td>\n",
       "      <td>8335326</td>\n",
       "      <td>8257811.0</td>\n",
       "      <td>8335298</td>\n",
       "      <td>8257768.0</td>\n",
       "      <td>10160</td>\n",
       "      <td>482.0</td>\n",
       "      <td>6076911.0</td>\n",
       "      <td>6076429.0</td>\n",
       "    </tr>\n",
       "    <tr>\n",
       "      <th>2022-11-09 00:00:00</th>\n",
       "      <td>부산광역시</td>\n",
       "      <td>8.0</td>\n",
       "      <td>14.0</td>\n",
       "      <td>2879908</td>\n",
       "      <td>2851376.0</td>\n",
       "      <td>2879900</td>\n",
       "      <td>2851362.0</td>\n",
       "      <td>10161</td>\n",
       "      <td>136.0</td>\n",
       "      <td>2140909.0</td>\n",
       "      <td>2140773.0</td>\n",
       "    </tr>\n",
       "    <tr>\n",
       "      <th>2022-11-09 00:00:00</th>\n",
       "      <td>대구광역시</td>\n",
       "      <td>8.0</td>\n",
       "      <td>8.0</td>\n",
       "      <td>2018612</td>\n",
       "      <td>1995791.0</td>\n",
       "      <td>2018604</td>\n",
       "      <td>1995783.0</td>\n",
       "      <td>10162</td>\n",
       "      <td>56.0</td>\n",
       "      <td>1405219.0</td>\n",
       "      <td>1405163.0</td>\n",
       "    </tr>\n",
       "  </tbody>\n",
       "</table>\n",
       "</div>"
      ],
      "text/plain": [
       "                        sido  firstCnt  secondCnt  totalFirstCnt  \\\n",
       "baseDate                                                           \n",
       "2022-11-09 00:00:00  제주특별자치도       6.0        5.0         591064   \n",
       "2022-11-09 00:00:00       전국     175.0      224.0       45123225   \n",
       "2022-11-09 00:00:00    서울특별시      28.0       43.0        8335326   \n",
       "2022-11-09 00:00:00    부산광역시       8.0       14.0        2879908   \n",
       "2022-11-09 00:00:00    대구광역시       8.0        8.0        2018612   \n",
       "\n",
       "                     totalSecondCnt  accumulatedFirstCnt  \\\n",
       "baseDate                                                   \n",
       "2022-11-09 00:00:00        585442.0               591058   \n",
       "2022-11-09 00:00:00      44693321.0             45123050   \n",
       "2022-11-09 00:00:00       8257811.0              8335298   \n",
       "2022-11-09 00:00:00       2851376.0              2879900   \n",
       "2022-11-09 00:00:00       1995791.0              2018604   \n",
       "\n",
       "                     accumulatedSecondCnt     id  thirdCnt  totalThirdCnt  \\\n",
       "baseDate                                                                    \n",
       "2022-11-09 00:00:00              585437.0  10176      38.0       439144.0   \n",
       "2022-11-09 00:00:00            44693097.0  10159    1678.0     33673146.0   \n",
       "2022-11-09 00:00:00             8257768.0  10160     482.0      6076911.0   \n",
       "2022-11-09 00:00:00             2851362.0  10161     136.0      2140909.0   \n",
       "2022-11-09 00:00:00             1995783.0  10162      56.0      1405219.0   \n",
       "\n",
       "                     accumulatedThirdCnt  \n",
       "baseDate                                  \n",
       "2022-11-09 00:00:00             439106.0  \n",
       "2022-11-09 00:00:00           33671468.0  \n",
       "2022-11-09 00:00:00            6076429.0  \n",
       "2022-11-09 00:00:00            2140773.0  \n",
       "2022-11-09 00:00:00            1405163.0  "
      ]
     },
     "execution_count": 62,
     "metadata": {},
     "output_type": "execute_result"
    }
   ],
   "source": [
    "vac_v1 = pd.read_csv('data/corona_data/Covid19Vaccine.csv', index_col=0)\n",
    "vac_v1.head(5)"
   ]
  },
  {
   "cell_type": "code",
   "execution_count": 63,
   "id": "cf9b3f2b-4a19-4898-8576-4fc3e2880cc8",
   "metadata": {
    "collapsed": true,
    "jupyter": {
     "outputs_hidden": true
    }
   },
   "outputs": [
    {
     "name": "stdout",
     "output_type": "stream",
     "text": [
      "<class 'pandas.core.frame.DataFrame'>\n",
      "Index: 10158 entries, 2022-11-09 00:00:00 to 2021-03-11 00:00:00\n",
      "Data columns (total 11 columns):\n",
      " #   Column                Non-Null Count  Dtype  \n",
      "---  ------                --------------  -----  \n",
      " 0   sido                  10158 non-null  object \n",
      " 1   firstCnt              9839 non-null   float64\n",
      " 2   secondCnt             9339 non-null   float64\n",
      " 3   totalFirstCnt         10158 non-null  int64  \n",
      " 4   totalSecondCnt        9867 non-null   float64\n",
      " 5   accumulatedFirstCnt   10158 non-null  int64  \n",
      " 6   accumulatedSecondCnt  9851 non-null   float64\n",
      " 7   id                    10158 non-null  int64  \n",
      " 8   thirdCnt              6191 non-null   float64\n",
      " 9   totalThirdCnt         6261 non-null   float64\n",
      " 10  accumulatedThirdCnt   6243 non-null   float64\n",
      "dtypes: float64(7), int64(3), object(1)\n",
      "memory usage: 952.3+ KB\n"
     ]
    }
   ],
   "source": [
    "vac_v1.info()"
   ]
  },
  {
   "cell_type": "markdown",
   "id": "f8cfb59d-1615-470f-8af8-811f28dd4759",
   "metadata": {},
   "source": [
    "- 백신 데이터 광역시도명이 기 수집한 데이터의 광역시도명과 다르기때문에\n",
    "    - 백신 데이터를 변경 후 파일 저장"
   ]
  },
  {
   "cell_type": "code",
   "execution_count": 66,
   "id": "d8c86f08-62cd-42e3-a59c-cbb62c5da29b",
   "metadata": {
    "collapsed": true,
    "jupyter": {
     "outputs_hidden": true
    }
   },
   "outputs": [
    {
     "data": {
      "text/plain": [
       "baseDate\n",
       "2022-11-09 00:00:00    제주특별자치도\n",
       "2022-11-09 00:00:00         전국\n",
       "2022-11-09 00:00:00      서울특별시\n",
       "2022-11-09 00:00:00      부산광역시\n",
       "2022-11-09 00:00:00      대구광역시\n",
       "2022-11-09 00:00:00      광주광역시\n",
       "2022-11-09 00:00:00      인천광역시\n",
       "2022-11-09 00:00:00      대전광역시\n",
       "2022-11-09 00:00:00        경기도\n",
       "2022-11-09 00:00:00    세종특별자치시\n",
       "2022-11-09 00:00:00       경상남도\n",
       "2022-11-09 00:00:00       경상북도\n",
       "2022-11-09 00:00:00       전라남도\n",
       "2022-11-09 00:00:00       전라북도\n",
       "2022-11-09 00:00:00       충청남도\n",
       "2022-11-09 00:00:00       충청북도\n",
       "2022-11-09 00:00:00        강원도\n",
       "2022-11-09 00:00:00      울산광역시\n",
       "2021-04-26 00:00:00         기타\n",
       "Name: sido, dtype: object"
      ]
     },
     "execution_count": 66,
     "metadata": {},
     "output_type": "execute_result"
    }
   ],
   "source": [
    "# 원본 data 추출 : 중복 없이 추출\n",
    "vac_v1[['sido']].drop_duplicates()['sido']"
   ]
  },
  {
   "cell_type": "code",
   "execution_count": 69,
   "id": "e34a99a8",
   "metadata": {},
   "outputs": [
    {
     "name": "stdout",
     "output_type": "stream",
     "text": [
      "['강원도', '경기도', '경상남도', '경상북도', '광주광역시', '대구광역시', '대전광역시', '부산광역시', '서울특별시', '세종특별자치시', '울산광역시', '인천광역시', '전국', '전라남도', '전라북도', '제주특별자치도', '충청남도', '충청북도']\n"
     ]
    }
   ],
   "source": [
    "before = [ sido for sido in vac_v1[['sido']].drop_duplicates()['sido']]\n",
    "before.sort()\n",
    "before.remove('기타')\n",
    "print(before)"
   ]
  },
  {
   "cell_type": "code",
   "execution_count": 77,
   "id": "c05b9420-8205-4669-8f50-aac94c3e4ada",
   "metadata": {
    "collapsed": true,
    "jupyter": {
     "outputs_hidden": true
    }
   },
   "outputs": [
    {
     "data": {
      "text/plain": [
       "0     전국\n",
       "1     서울\n",
       "2     부산\n",
       "3     대구\n",
       "4     인천\n",
       "5     광주\n",
       "6     대전\n",
       "7     울산\n",
       "8     세종\n",
       "9     경기\n",
       "10    강원\n",
       "11    충북\n",
       "12    충남\n",
       "13    전북\n",
       "14    전남\n",
       "15    경북\n",
       "16    경남\n",
       "17    제주\n",
       "Name: loc, dtype: object"
      ]
     },
     "execution_count": 77,
     "metadata": {},
     "output_type": "execute_result"
    }
   ],
   "source": [
    "pop['loc'] # 시리즈"
   ]
  },
  {
   "cell_type": "code",
   "execution_count": 79,
   "id": "426bfe69-f250-4ded-83bd-3957f12cb56d",
   "metadata": {},
   "outputs": [
    {
     "name": "stdout",
     "output_type": "stream",
     "text": [
      "['강원', '경기', '경남', '경북', '광주', '대구', '대전', '부산', '서울', '세종', '울산', '인천', '전국', '전남', '전북', '제주', '충남', '충북']\n"
     ]
    }
   ],
   "source": [
    "after = [sido for sido in pop['loc']]\n",
    "after.sort()\n",
    "print(after)"
   ]
  },
  {
   "cell_type": "code",
   "execution_count": 80,
   "id": "c939cf25-9d35-4c3b-a956-a7d1a3ef44d8",
   "metadata": {},
   "outputs": [],
   "source": [
    "for i in range(0, len(after)) :\n",
    "    vac_v1['sido'] = vac_v1['sido'].replace(before[i], after[i])"
   ]
  },
  {
   "cell_type": "code",
   "execution_count": 81,
   "id": "71a1f861-b578-4d1c-9980-a3f824e4d15b",
   "metadata": {
    "collapsed": true,
    "jupyter": {
     "outputs_hidden": true
    },
    "scrolled": true
   },
   "outputs": [
    {
     "data": {
      "text/html": [
       "<div>\n",
       "<style scoped>\n",
       "    .dataframe tbody tr th:only-of-type {\n",
       "        vertical-align: middle;\n",
       "    }\n",
       "\n",
       "    .dataframe tbody tr th {\n",
       "        vertical-align: top;\n",
       "    }\n",
       "\n",
       "    .dataframe thead th {\n",
       "        text-align: right;\n",
       "    }\n",
       "</style>\n",
       "<table border=\"1\" class=\"dataframe\">\n",
       "  <thead>\n",
       "    <tr style=\"text-align: right;\">\n",
       "      <th></th>\n",
       "      <th>sido</th>\n",
       "      <th>firstCnt</th>\n",
       "      <th>secondCnt</th>\n",
       "      <th>totalFirstCnt</th>\n",
       "      <th>totalSecondCnt</th>\n",
       "      <th>accumulatedFirstCnt</th>\n",
       "      <th>accumulatedSecondCnt</th>\n",
       "      <th>id</th>\n",
       "      <th>thirdCnt</th>\n",
       "      <th>totalThirdCnt</th>\n",
       "      <th>accumulatedThirdCnt</th>\n",
       "    </tr>\n",
       "    <tr>\n",
       "      <th>baseDate</th>\n",
       "      <th></th>\n",
       "      <th></th>\n",
       "      <th></th>\n",
       "      <th></th>\n",
       "      <th></th>\n",
       "      <th></th>\n",
       "      <th></th>\n",
       "      <th></th>\n",
       "      <th></th>\n",
       "      <th></th>\n",
       "      <th></th>\n",
       "    </tr>\n",
       "  </thead>\n",
       "  <tbody>\n",
       "    <tr>\n",
       "      <th>2022-11-09 00:00:00</th>\n",
       "      <td>제주</td>\n",
       "      <td>6.0</td>\n",
       "      <td>5.0</td>\n",
       "      <td>591064</td>\n",
       "      <td>585442.0</td>\n",
       "      <td>591058</td>\n",
       "      <td>585437.0</td>\n",
       "      <td>10176</td>\n",
       "      <td>38.0</td>\n",
       "      <td>439144.0</td>\n",
       "      <td>439106.0</td>\n",
       "    </tr>\n",
       "    <tr>\n",
       "      <th>2022-11-09 00:00:00</th>\n",
       "      <td>전국</td>\n",
       "      <td>175.0</td>\n",
       "      <td>224.0</td>\n",
       "      <td>45123225</td>\n",
       "      <td>44693321.0</td>\n",
       "      <td>45123050</td>\n",
       "      <td>44693097.0</td>\n",
       "      <td>10159</td>\n",
       "      <td>1678.0</td>\n",
       "      <td>33673146.0</td>\n",
       "      <td>33671468.0</td>\n",
       "    </tr>\n",
       "    <tr>\n",
       "      <th>2022-11-09 00:00:00</th>\n",
       "      <td>서울</td>\n",
       "      <td>28.0</td>\n",
       "      <td>43.0</td>\n",
       "      <td>8335326</td>\n",
       "      <td>8257811.0</td>\n",
       "      <td>8335298</td>\n",
       "      <td>8257768.0</td>\n",
       "      <td>10160</td>\n",
       "      <td>482.0</td>\n",
       "      <td>6076911.0</td>\n",
       "      <td>6076429.0</td>\n",
       "    </tr>\n",
       "    <tr>\n",
       "      <th>2022-11-09 00:00:00</th>\n",
       "      <td>부산</td>\n",
       "      <td>8.0</td>\n",
       "      <td>14.0</td>\n",
       "      <td>2879908</td>\n",
       "      <td>2851376.0</td>\n",
       "      <td>2879900</td>\n",
       "      <td>2851362.0</td>\n",
       "      <td>10161</td>\n",
       "      <td>136.0</td>\n",
       "      <td>2140909.0</td>\n",
       "      <td>2140773.0</td>\n",
       "    </tr>\n",
       "    <tr>\n",
       "      <th>2022-11-09 00:00:00</th>\n",
       "      <td>대구</td>\n",
       "      <td>8.0</td>\n",
       "      <td>8.0</td>\n",
       "      <td>2018612</td>\n",
       "      <td>1995791.0</td>\n",
       "      <td>2018604</td>\n",
       "      <td>1995783.0</td>\n",
       "      <td>10162</td>\n",
       "      <td>56.0</td>\n",
       "      <td>1405219.0</td>\n",
       "      <td>1405163.0</td>\n",
       "    </tr>\n",
       "    <tr>\n",
       "      <th>2022-11-09 00:00:00</th>\n",
       "      <td>광주</td>\n",
       "      <td>6.0</td>\n",
       "      <td>6.0</td>\n",
       "      <td>1261987</td>\n",
       "      <td>1250574.0</td>\n",
       "      <td>1261981</td>\n",
       "      <td>1250568.0</td>\n",
       "      <td>10163</td>\n",
       "      <td>29.0</td>\n",
       "      <td>968976.0</td>\n",
       "      <td>968947.0</td>\n",
       "    </tr>\n",
       "    <tr>\n",
       "      <th>2022-11-09 00:00:00</th>\n",
       "      <td>인천</td>\n",
       "      <td>8.0</td>\n",
       "      <td>8.0</td>\n",
       "      <td>2574241</td>\n",
       "      <td>2550089.0</td>\n",
       "      <td>2574233</td>\n",
       "      <td>2550081.0</td>\n",
       "      <td>10164</td>\n",
       "      <td>99.0</td>\n",
       "      <td>1915365.0</td>\n",
       "      <td>1915266.0</td>\n",
       "    </tr>\n",
       "    <tr>\n",
       "      <th>2022-11-09 00:00:00</th>\n",
       "      <td>대전</td>\n",
       "      <td>6.0</td>\n",
       "      <td>1.0</td>\n",
       "      <td>1245479</td>\n",
       "      <td>1233377.0</td>\n",
       "      <td>1245473</td>\n",
       "      <td>1233376.0</td>\n",
       "      <td>10165</td>\n",
       "      <td>40.0</td>\n",
       "      <td>909142.0</td>\n",
       "      <td>909102.0</td>\n",
       "    </tr>\n",
       "    <tr>\n",
       "      <th>2022-11-09 00:00:00</th>\n",
       "      <td>경기</td>\n",
       "      <td>54.0</td>\n",
       "      <td>54.0</td>\n",
       "      <td>11837228</td>\n",
       "      <td>11723312.0</td>\n",
       "      <td>11837174</td>\n",
       "      <td>11723258.0</td>\n",
       "      <td>10167</td>\n",
       "      <td>476.0</td>\n",
       "      <td>8708303.0</td>\n",
       "      <td>8707827.0</td>\n",
       "    </tr>\n",
       "    <tr>\n",
       "      <th>2022-11-09 00:00:00</th>\n",
       "      <td>세종</td>\n",
       "      <td>0.0</td>\n",
       "      <td>4.0</td>\n",
       "      <td>300568</td>\n",
       "      <td>296863.0</td>\n",
       "      <td>300568</td>\n",
       "      <td>296859.0</td>\n",
       "      <td>10168</td>\n",
       "      <td>3.0</td>\n",
       "      <td>211098.0</td>\n",
       "      <td>211095.0</td>\n",
       "    </tr>\n",
       "    <tr>\n",
       "      <th>2022-11-09 00:00:00</th>\n",
       "      <td>경남</td>\n",
       "      <td>13.0</td>\n",
       "      <td>16.0</td>\n",
       "      <td>2882836</td>\n",
       "      <td>2853771.0</td>\n",
       "      <td>2882823</td>\n",
       "      <td>2853755.0</td>\n",
       "      <td>10175</td>\n",
       "      <td>97.0</td>\n",
       "      <td>2145749.0</td>\n",
       "      <td>2145652.0</td>\n",
       "    </tr>\n",
       "    <tr>\n",
       "      <th>2022-11-09 00:00:00</th>\n",
       "      <td>경북</td>\n",
       "      <td>5.0</td>\n",
       "      <td>9.0</td>\n",
       "      <td>2293230</td>\n",
       "      <td>2269602.0</td>\n",
       "      <td>2293225</td>\n",
       "      <td>2269593.0</td>\n",
       "      <td>10174</td>\n",
       "      <td>52.0</td>\n",
       "      <td>1727240.0</td>\n",
       "      <td>1727188.0</td>\n",
       "    </tr>\n",
       "    <tr>\n",
       "      <th>2022-11-09 00:00:00</th>\n",
       "      <td>전남</td>\n",
       "      <td>7.0</td>\n",
       "      <td>9.0</td>\n",
       "      <td>1655640</td>\n",
       "      <td>1641357.0</td>\n",
       "      <td>1655633</td>\n",
       "      <td>1641348.0</td>\n",
       "      <td>10173</td>\n",
       "      <td>23.0</td>\n",
       "      <td>1365268.0</td>\n",
       "      <td>1365245.0</td>\n",
       "    </tr>\n",
       "    <tr>\n",
       "      <th>2022-11-09 00:00:00</th>\n",
       "      <td>전북</td>\n",
       "      <td>3.0</td>\n",
       "      <td>10.0</td>\n",
       "      <td>1593953</td>\n",
       "      <td>1581101.0</td>\n",
       "      <td>1593950</td>\n",
       "      <td>1581091.0</td>\n",
       "      <td>10172</td>\n",
       "      <td>23.0</td>\n",
       "      <td>1285790.0</td>\n",
       "      <td>1285767.0</td>\n",
       "    </tr>\n",
       "    <tr>\n",
       "      <th>2022-11-09 00:00:00</th>\n",
       "      <td>충남</td>\n",
       "      <td>7.0</td>\n",
       "      <td>8.0</td>\n",
       "      <td>1902015</td>\n",
       "      <td>1884592.0</td>\n",
       "      <td>1902008</td>\n",
       "      <td>1884584.0</td>\n",
       "      <td>10171</td>\n",
       "      <td>36.0</td>\n",
       "      <td>1479772.0</td>\n",
       "      <td>1479736.0</td>\n",
       "    </tr>\n",
       "    <tr>\n",
       "      <th>2022-11-09 00:00:00</th>\n",
       "      <td>충북</td>\n",
       "      <td>11.0</td>\n",
       "      <td>18.0</td>\n",
       "      <td>1430888</td>\n",
       "      <td>1418462.0</td>\n",
       "      <td>1430877</td>\n",
       "      <td>1418444.0</td>\n",
       "      <td>10170</td>\n",
       "      <td>20.0</td>\n",
       "      <td>1108528.0</td>\n",
       "      <td>1108508.0</td>\n",
       "    </tr>\n",
       "    <tr>\n",
       "      <th>2022-11-09 00:00:00</th>\n",
       "      <td>강원</td>\n",
       "      <td>1.0</td>\n",
       "      <td>7.0</td>\n",
       "      <td>1352086</td>\n",
       "      <td>1340877.0</td>\n",
       "      <td>1352085</td>\n",
       "      <td>1340870.0</td>\n",
       "      <td>10169</td>\n",
       "      <td>44.0</td>\n",
       "      <td>1065187.0</td>\n",
       "      <td>1065143.0</td>\n",
       "    </tr>\n",
       "    <tr>\n",
       "      <th>2022-11-09 00:00:00</th>\n",
       "      <td>울산</td>\n",
       "      <td>4.0</td>\n",
       "      <td>4.0</td>\n",
       "      <td>968164</td>\n",
       "      <td>958924.0</td>\n",
       "      <td>968160</td>\n",
       "      <td>958920.0</td>\n",
       "      <td>10166</td>\n",
       "      <td>24.0</td>\n",
       "      <td>720545.0</td>\n",
       "      <td>720521.0</td>\n",
       "    </tr>\n",
       "    <tr>\n",
       "      <th>2022-11-08 00:00:00</th>\n",
       "      <td>대전</td>\n",
       "      <td>5.0</td>\n",
       "      <td>4.0</td>\n",
       "      <td>1245467</td>\n",
       "      <td>1233370.0</td>\n",
       "      <td>1245462</td>\n",
       "      <td>1233366.0</td>\n",
       "      <td>10148</td>\n",
       "      <td>46.0</td>\n",
       "      <td>909106.0</td>\n",
       "      <td>909060.0</td>\n",
       "    </tr>\n",
       "    <tr>\n",
       "      <th>2022-11-08 00:00:00</th>\n",
       "      <td>울산</td>\n",
       "      <td>2.0</td>\n",
       "      <td>1.0</td>\n",
       "      <td>968226</td>\n",
       "      <td>958984.0</td>\n",
       "      <td>968224</td>\n",
       "      <td>958983.0</td>\n",
       "      <td>10147</td>\n",
       "      <td>44.0</td>\n",
       "      <td>720567.0</td>\n",
       "      <td>720523.0</td>\n",
       "    </tr>\n",
       "    <tr>\n",
       "      <th>2022-11-08 00:00:00</th>\n",
       "      <td>인천</td>\n",
       "      <td>14.0</td>\n",
       "      <td>13.0</td>\n",
       "      <td>2574190</td>\n",
       "      <td>2550037.0</td>\n",
       "      <td>2574176</td>\n",
       "      <td>2550024.0</td>\n",
       "      <td>10146</td>\n",
       "      <td>174.0</td>\n",
       "      <td>1915222.0</td>\n",
       "      <td>1915048.0</td>\n",
       "    </tr>\n",
       "    <tr>\n",
       "      <th>2022-11-08 00:00:00</th>\n",
       "      <td>광주</td>\n",
       "      <td>2.0</td>\n",
       "      <td>2.0</td>\n",
       "      <td>1261993</td>\n",
       "      <td>1250579.0</td>\n",
       "      <td>1261991</td>\n",
       "      <td>1250577.0</td>\n",
       "      <td>10145</td>\n",
       "      <td>38.0</td>\n",
       "      <td>968952.0</td>\n",
       "      <td>968914.0</td>\n",
       "    </tr>\n",
       "    <tr>\n",
       "      <th>2022-11-08 00:00:00</th>\n",
       "      <td>대구</td>\n",
       "      <td>6.0</td>\n",
       "      <td>7.0</td>\n",
       "      <td>2018618</td>\n",
       "      <td>1995797.0</td>\n",
       "      <td>2018612</td>\n",
       "      <td>1995790.0</td>\n",
       "      <td>10144</td>\n",
       "      <td>83.0</td>\n",
       "      <td>1405176.0</td>\n",
       "      <td>1405093.0</td>\n",
       "    </tr>\n",
       "    <tr>\n",
       "      <th>2022-11-08 00:00:00</th>\n",
       "      <td>부산</td>\n",
       "      <td>8.0</td>\n",
       "      <td>8.0</td>\n",
       "      <td>2879867</td>\n",
       "      <td>2851325.0</td>\n",
       "      <td>2879859</td>\n",
       "      <td>2851317.0</td>\n",
       "      <td>10143</td>\n",
       "      <td>150.0</td>\n",
       "      <td>2140730.0</td>\n",
       "      <td>2140580.0</td>\n",
       "    </tr>\n",
       "    <tr>\n",
       "      <th>2022-11-08 00:00:00</th>\n",
       "      <td>서울</td>\n",
       "      <td>43.0</td>\n",
       "      <td>50.0</td>\n",
       "      <td>8335466</td>\n",
       "      <td>8257937.0</td>\n",
       "      <td>8335423</td>\n",
       "      <td>8257887.0</td>\n",
       "      <td>10142</td>\n",
       "      <td>655.0</td>\n",
       "      <td>6076577.0</td>\n",
       "      <td>6075922.0</td>\n",
       "    </tr>\n",
       "    <tr>\n",
       "      <th>2022-11-08 00:00:00</th>\n",
       "      <td>전국</td>\n",
       "      <td>173.0</td>\n",
       "      <td>172.0</td>\n",
       "      <td>45122937</td>\n",
       "      <td>44692975.0</td>\n",
       "      <td>45122764</td>\n",
       "      <td>44692803.0</td>\n",
       "      <td>10141</td>\n",
       "      <td>2261.0</td>\n",
       "      <td>33671281.0</td>\n",
       "      <td>33669020.0</td>\n",
       "    </tr>\n",
       "    <tr>\n",
       "      <th>2022-11-08 00:00:00</th>\n",
       "      <td>세종</td>\n",
       "      <td>3.0</td>\n",
       "      <td>2.0</td>\n",
       "      <td>300534</td>\n",
       "      <td>296823.0</td>\n",
       "      <td>300531</td>\n",
       "      <td>296821.0</td>\n",
       "      <td>10149</td>\n",
       "      <td>8.0</td>\n",
       "      <td>211063.0</td>\n",
       "      <td>211055.0</td>\n",
       "    </tr>\n",
       "    <tr>\n",
       "      <th>2022-11-08 00:00:00</th>\n",
       "      <td>경기</td>\n",
       "      <td>51.0</td>\n",
       "      <td>44.0</td>\n",
       "      <td>11837075</td>\n",
       "      <td>11723148.0</td>\n",
       "      <td>11837024</td>\n",
       "      <td>11723104.0</td>\n",
       "      <td>10150</td>\n",
       "      <td>666.0</td>\n",
       "      <td>8707688.0</td>\n",
       "      <td>8707022.0</td>\n",
       "    </tr>\n",
       "    <tr>\n",
       "      <th>2022-11-08 00:00:00</th>\n",
       "      <td>전북</td>\n",
       "      <td>3.0</td>\n",
       "      <td>5.0</td>\n",
       "      <td>1593916</td>\n",
       "      <td>1581055.0</td>\n",
       "      <td>1593913</td>\n",
       "      <td>1581050.0</td>\n",
       "      <td>10154</td>\n",
       "      <td>41.0</td>\n",
       "      <td>1285724.0</td>\n",
       "      <td>1285683.0</td>\n",
       "    </tr>\n",
       "    <tr>\n",
       "      <th>2022-11-08 00:00:00</th>\n",
       "      <td>제주</td>\n",
       "      <td>1.0</td>\n",
       "      <td>4.0</td>\n",
       "      <td>591058</td>\n",
       "      <td>585438.0</td>\n",
       "      <td>591057</td>\n",
       "      <td>585434.0</td>\n",
       "      <td>10158</td>\n",
       "      <td>33.0</td>\n",
       "      <td>439106.0</td>\n",
       "      <td>439073.0</td>\n",
       "    </tr>\n",
       "    <tr>\n",
       "      <th>2022-11-08 00:00:00</th>\n",
       "      <td>경남</td>\n",
       "      <td>10.0</td>\n",
       "      <td>11.0</td>\n",
       "      <td>2882844</td>\n",
       "      <td>2853777.0</td>\n",
       "      <td>2882834</td>\n",
       "      <td>2853766.0</td>\n",
       "      <td>10157</td>\n",
       "      <td>102.0</td>\n",
       "      <td>2145661.0</td>\n",
       "      <td>2145559.0</td>\n",
       "    </tr>\n",
       "    <tr>\n",
       "      <th>2022-11-08 00:00:00</th>\n",
       "      <td>경북</td>\n",
       "      <td>6.0</td>\n",
       "      <td>5.0</td>\n",
       "      <td>2293183</td>\n",
       "      <td>2269555.0</td>\n",
       "      <td>2293177</td>\n",
       "      <td>2269550.0</td>\n",
       "      <td>10156</td>\n",
       "      <td>58.0</td>\n",
       "      <td>1727160.0</td>\n",
       "      <td>1727102.0</td>\n",
       "    </tr>\n",
       "    <tr>\n",
       "      <th>2022-11-08 00:00:00</th>\n",
       "      <td>전남</td>\n",
       "      <td>6.0</td>\n",
       "      <td>2.0</td>\n",
       "      <td>1655623</td>\n",
       "      <td>1641342.0</td>\n",
       "      <td>1655617</td>\n",
       "      <td>1641340.0</td>\n",
       "      <td>10155</td>\n",
       "      <td>47.0</td>\n",
       "      <td>1365237.0</td>\n",
       "      <td>1365190.0</td>\n",
       "    </tr>\n",
       "    <tr>\n",
       "      <th>2022-11-08 00:00:00</th>\n",
       "      <td>충남</td>\n",
       "      <td>6.0</td>\n",
       "      <td>5.0</td>\n",
       "      <td>1901959</td>\n",
       "      <td>1884539.0</td>\n",
       "      <td>1901953</td>\n",
       "      <td>1884534.0</td>\n",
       "      <td>10153</td>\n",
       "      <td>55.0</td>\n",
       "      <td>1479706.0</td>\n",
       "      <td>1479651.0</td>\n",
       "    </tr>\n",
       "    <tr>\n",
       "      <th>2022-11-08 00:00:00</th>\n",
       "      <td>충북</td>\n",
       "      <td>2.0</td>\n",
       "      <td>5.0</td>\n",
       "      <td>1430831</td>\n",
       "      <td>1418399.0</td>\n",
       "      <td>1430829</td>\n",
       "      <td>1418394.0</td>\n",
       "      <td>10152</td>\n",
       "      <td>23.0</td>\n",
       "      <td>1108465.0</td>\n",
       "      <td>1108442.0</td>\n",
       "    </tr>\n",
       "    <tr>\n",
       "      <th>2022-11-08 00:00:00</th>\n",
       "      <td>강원</td>\n",
       "      <td>5.0</td>\n",
       "      <td>4.0</td>\n",
       "      <td>1352087</td>\n",
       "      <td>1340870.0</td>\n",
       "      <td>1352082</td>\n",
       "      <td>1340866.0</td>\n",
       "      <td>10151</td>\n",
       "      <td>38.0</td>\n",
       "      <td>1065141.0</td>\n",
       "      <td>1065103.0</td>\n",
       "    </tr>\n",
       "    <tr>\n",
       "      <th>2022-11-07 00:00:00</th>\n",
       "      <td>대전</td>\n",
       "      <td>0.0</td>\n",
       "      <td>0.0</td>\n",
       "      <td>1245428</td>\n",
       "      <td>1233334.0</td>\n",
       "      <td>1245428</td>\n",
       "      <td>1233334.0</td>\n",
       "      <td>10130</td>\n",
       "      <td>0.0</td>\n",
       "      <td>909032.0</td>\n",
       "      <td>909032.0</td>\n",
       "    </tr>\n",
       "    <tr>\n",
       "      <th>2022-11-07 00:00:00</th>\n",
       "      <td>울산</td>\n",
       "      <td>0.0</td>\n",
       "      <td>0.0</td>\n",
       "      <td>968161</td>\n",
       "      <td>958920.0</td>\n",
       "      <td>968161</td>\n",
       "      <td>958920.0</td>\n",
       "      <td>10129</td>\n",
       "      <td>0.0</td>\n",
       "      <td>720480.0</td>\n",
       "      <td>720480.0</td>\n",
       "    </tr>\n",
       "    <tr>\n",
       "      <th>2022-11-07 00:00:00</th>\n",
       "      <td>인천</td>\n",
       "      <td>0.0</td>\n",
       "      <td>0.0</td>\n",
       "      <td>2574131</td>\n",
       "      <td>2549979.0</td>\n",
       "      <td>2574131</td>\n",
       "      <td>2549979.0</td>\n",
       "      <td>10128</td>\n",
       "      <td>4.0</td>\n",
       "      <td>1915014.0</td>\n",
       "      <td>1915010.0</td>\n",
       "    </tr>\n",
       "    <tr>\n",
       "      <th>2022-11-07 00:00:00</th>\n",
       "      <td>광주</td>\n",
       "      <td>0.0</td>\n",
       "      <td>0.0</td>\n",
       "      <td>1261998</td>\n",
       "      <td>1250584.0</td>\n",
       "      <td>1261998</td>\n",
       "      <td>1250584.0</td>\n",
       "      <td>10127</td>\n",
       "      <td>2.0</td>\n",
       "      <td>968920.0</td>\n",
       "      <td>968918.0</td>\n",
       "    </tr>\n",
       "    <tr>\n",
       "      <th>2022-11-07 00:00:00</th>\n",
       "      <td>대구</td>\n",
       "      <td>0.0</td>\n",
       "      <td>0.0</td>\n",
       "      <td>2018578</td>\n",
       "      <td>1995756.0</td>\n",
       "      <td>2018578</td>\n",
       "      <td>1995756.0</td>\n",
       "      <td>10126</td>\n",
       "      <td>0.0</td>\n",
       "      <td>1405073.0</td>\n",
       "      <td>1405073.0</td>\n",
       "    </tr>\n",
       "    <tr>\n",
       "      <th>2022-11-07 00:00:00</th>\n",
       "      <td>부산</td>\n",
       "      <td>0.0</td>\n",
       "      <td>0.0</td>\n",
       "      <td>2879854</td>\n",
       "      <td>2851310.0</td>\n",
       "      <td>2879854</td>\n",
       "      <td>2851310.0</td>\n",
       "      <td>10125</td>\n",
       "      <td>7.0</td>\n",
       "      <td>2140567.0</td>\n",
       "      <td>2140560.0</td>\n",
       "    </tr>\n",
       "    <tr>\n",
       "      <th>2022-11-07 00:00:00</th>\n",
       "      <td>서울</td>\n",
       "      <td>1.0</td>\n",
       "      <td>0.0</td>\n",
       "      <td>8335290</td>\n",
       "      <td>8257755.0</td>\n",
       "      <td>8335289</td>\n",
       "      <td>8257755.0</td>\n",
       "      <td>10124</td>\n",
       "      <td>9.0</td>\n",
       "      <td>6075805.0</td>\n",
       "      <td>6075796.0</td>\n",
       "    </tr>\n",
       "    <tr>\n",
       "      <th>2022-11-07 00:00:00</th>\n",
       "      <td>전국</td>\n",
       "      <td>2.0</td>\n",
       "      <td>0.0</td>\n",
       "      <td>45122610</td>\n",
       "      <td>44692654.0</td>\n",
       "      <td>45122608</td>\n",
       "      <td>44692654.0</td>\n",
       "      <td>10123</td>\n",
       "      <td>38.0</td>\n",
       "      <td>33668884.0</td>\n",
       "      <td>33668846.0</td>\n",
       "    </tr>\n",
       "    <tr>\n",
       "      <th>2022-11-07 00:00:00</th>\n",
       "      <td>세종</td>\n",
       "      <td>0.0</td>\n",
       "      <td>0.0</td>\n",
       "      <td>300552</td>\n",
       "      <td>296842.0</td>\n",
       "      <td>300552</td>\n",
       "      <td>296842.0</td>\n",
       "      <td>10131</td>\n",
       "      <td>0.0</td>\n",
       "      <td>211071.0</td>\n",
       "      <td>211071.0</td>\n",
       "    </tr>\n",
       "    <tr>\n",
       "      <th>2022-11-07 00:00:00</th>\n",
       "      <td>경기</td>\n",
       "      <td>1.0</td>\n",
       "      <td>0.0</td>\n",
       "      <td>11837068</td>\n",
       "      <td>11723153.0</td>\n",
       "      <td>11837067</td>\n",
       "      <td>11723153.0</td>\n",
       "      <td>10132</td>\n",
       "      <td>15.0</td>\n",
       "      <td>8707047.0</td>\n",
       "      <td>8707032.0</td>\n",
       "    </tr>\n",
       "    <tr>\n",
       "      <th>2022-11-07 00:00:00</th>\n",
       "      <td>제주</td>\n",
       "      <td>0.0</td>\n",
       "      <td>0.0</td>\n",
       "      <td>591055</td>\n",
       "      <td>585433.0</td>\n",
       "      <td>591055</td>\n",
       "      <td>585433.0</td>\n",
       "      <td>10140</td>\n",
       "      <td>0.0</td>\n",
       "      <td>439071.0</td>\n",
       "      <td>439071.0</td>\n",
       "    </tr>\n",
       "    <tr>\n",
       "      <th>2022-11-07 00:00:00</th>\n",
       "      <td>경남</td>\n",
       "      <td>0.0</td>\n",
       "      <td>0.0</td>\n",
       "      <td>2882879</td>\n",
       "      <td>2853813.0</td>\n",
       "      <td>2882879</td>\n",
       "      <td>2853813.0</td>\n",
       "      <td>10139</td>\n",
       "      <td>0.0</td>\n",
       "      <td>2145589.0</td>\n",
       "      <td>2145589.0</td>\n",
       "    </tr>\n",
       "    <tr>\n",
       "      <th>2022-11-07 00:00:00</th>\n",
       "      <td>경북</td>\n",
       "      <td>0.0</td>\n",
       "      <td>0.0</td>\n",
       "      <td>2293246</td>\n",
       "      <td>2269619.0</td>\n",
       "      <td>2293246</td>\n",
       "      <td>2269619.0</td>\n",
       "      <td>10138</td>\n",
       "      <td>0.0</td>\n",
       "      <td>1727144.0</td>\n",
       "      <td>1727144.0</td>\n",
       "    </tr>\n",
       "    <tr>\n",
       "      <th>2022-11-07 00:00:00</th>\n",
       "      <td>전남</td>\n",
       "      <td>0.0</td>\n",
       "      <td>0.0</td>\n",
       "      <td>1655598</td>\n",
       "      <td>1641318.0</td>\n",
       "      <td>1655598</td>\n",
       "      <td>1641318.0</td>\n",
       "      <td>10137</td>\n",
       "      <td>0.0</td>\n",
       "      <td>1365173.0</td>\n",
       "      <td>1365173.0</td>\n",
       "    </tr>\n",
       "  </tbody>\n",
       "</table>\n",
       "</div>"
      ],
      "text/plain": [
       "                    sido  firstCnt  secondCnt  totalFirstCnt  totalSecondCnt  \\\n",
       "baseDate                                                                       \n",
       "2022-11-09 00:00:00   제주       6.0        5.0         591064        585442.0   \n",
       "2022-11-09 00:00:00   전국     175.0      224.0       45123225      44693321.0   \n",
       "2022-11-09 00:00:00   서울      28.0       43.0        8335326       8257811.0   \n",
       "2022-11-09 00:00:00   부산       8.0       14.0        2879908       2851376.0   \n",
       "2022-11-09 00:00:00   대구       8.0        8.0        2018612       1995791.0   \n",
       "2022-11-09 00:00:00   광주       6.0        6.0        1261987       1250574.0   \n",
       "2022-11-09 00:00:00   인천       8.0        8.0        2574241       2550089.0   \n",
       "2022-11-09 00:00:00   대전       6.0        1.0        1245479       1233377.0   \n",
       "2022-11-09 00:00:00   경기      54.0       54.0       11837228      11723312.0   \n",
       "2022-11-09 00:00:00   세종       0.0        4.0         300568        296863.0   \n",
       "2022-11-09 00:00:00   경남      13.0       16.0        2882836       2853771.0   \n",
       "2022-11-09 00:00:00   경북       5.0        9.0        2293230       2269602.0   \n",
       "2022-11-09 00:00:00   전남       7.0        9.0        1655640       1641357.0   \n",
       "2022-11-09 00:00:00   전북       3.0       10.0        1593953       1581101.0   \n",
       "2022-11-09 00:00:00   충남       7.0        8.0        1902015       1884592.0   \n",
       "2022-11-09 00:00:00   충북      11.0       18.0        1430888       1418462.0   \n",
       "2022-11-09 00:00:00   강원       1.0        7.0        1352086       1340877.0   \n",
       "2022-11-09 00:00:00   울산       4.0        4.0         968164        958924.0   \n",
       "2022-11-08 00:00:00   대전       5.0        4.0        1245467       1233370.0   \n",
       "2022-11-08 00:00:00   울산       2.0        1.0         968226        958984.0   \n",
       "2022-11-08 00:00:00   인천      14.0       13.0        2574190       2550037.0   \n",
       "2022-11-08 00:00:00   광주       2.0        2.0        1261993       1250579.0   \n",
       "2022-11-08 00:00:00   대구       6.0        7.0        2018618       1995797.0   \n",
       "2022-11-08 00:00:00   부산       8.0        8.0        2879867       2851325.0   \n",
       "2022-11-08 00:00:00   서울      43.0       50.0        8335466       8257937.0   \n",
       "2022-11-08 00:00:00   전국     173.0      172.0       45122937      44692975.0   \n",
       "2022-11-08 00:00:00   세종       3.0        2.0         300534        296823.0   \n",
       "2022-11-08 00:00:00   경기      51.0       44.0       11837075      11723148.0   \n",
       "2022-11-08 00:00:00   전북       3.0        5.0        1593916       1581055.0   \n",
       "2022-11-08 00:00:00   제주       1.0        4.0         591058        585438.0   \n",
       "2022-11-08 00:00:00   경남      10.0       11.0        2882844       2853777.0   \n",
       "2022-11-08 00:00:00   경북       6.0        5.0        2293183       2269555.0   \n",
       "2022-11-08 00:00:00   전남       6.0        2.0        1655623       1641342.0   \n",
       "2022-11-08 00:00:00   충남       6.0        5.0        1901959       1884539.0   \n",
       "2022-11-08 00:00:00   충북       2.0        5.0        1430831       1418399.0   \n",
       "2022-11-08 00:00:00   강원       5.0        4.0        1352087       1340870.0   \n",
       "2022-11-07 00:00:00   대전       0.0        0.0        1245428       1233334.0   \n",
       "2022-11-07 00:00:00   울산       0.0        0.0         968161        958920.0   \n",
       "2022-11-07 00:00:00   인천       0.0        0.0        2574131       2549979.0   \n",
       "2022-11-07 00:00:00   광주       0.0        0.0        1261998       1250584.0   \n",
       "2022-11-07 00:00:00   대구       0.0        0.0        2018578       1995756.0   \n",
       "2022-11-07 00:00:00   부산       0.0        0.0        2879854       2851310.0   \n",
       "2022-11-07 00:00:00   서울       1.0        0.0        8335290       8257755.0   \n",
       "2022-11-07 00:00:00   전국       2.0        0.0       45122610      44692654.0   \n",
       "2022-11-07 00:00:00   세종       0.0        0.0         300552        296842.0   \n",
       "2022-11-07 00:00:00   경기       1.0        0.0       11837068      11723153.0   \n",
       "2022-11-07 00:00:00   제주       0.0        0.0         591055        585433.0   \n",
       "2022-11-07 00:00:00   경남       0.0        0.0        2882879       2853813.0   \n",
       "2022-11-07 00:00:00   경북       0.0        0.0        2293246       2269619.0   \n",
       "2022-11-07 00:00:00   전남       0.0        0.0        1655598       1641318.0   \n",
       "\n",
       "                     accumulatedFirstCnt  accumulatedSecondCnt     id  \\\n",
       "baseDate                                                                \n",
       "2022-11-09 00:00:00               591058              585437.0  10176   \n",
       "2022-11-09 00:00:00             45123050            44693097.0  10159   \n",
       "2022-11-09 00:00:00              8335298             8257768.0  10160   \n",
       "2022-11-09 00:00:00              2879900             2851362.0  10161   \n",
       "2022-11-09 00:00:00              2018604             1995783.0  10162   \n",
       "2022-11-09 00:00:00              1261981             1250568.0  10163   \n",
       "2022-11-09 00:00:00              2574233             2550081.0  10164   \n",
       "2022-11-09 00:00:00              1245473             1233376.0  10165   \n",
       "2022-11-09 00:00:00             11837174            11723258.0  10167   \n",
       "2022-11-09 00:00:00               300568              296859.0  10168   \n",
       "2022-11-09 00:00:00              2882823             2853755.0  10175   \n",
       "2022-11-09 00:00:00              2293225             2269593.0  10174   \n",
       "2022-11-09 00:00:00              1655633             1641348.0  10173   \n",
       "2022-11-09 00:00:00              1593950             1581091.0  10172   \n",
       "2022-11-09 00:00:00              1902008             1884584.0  10171   \n",
       "2022-11-09 00:00:00              1430877             1418444.0  10170   \n",
       "2022-11-09 00:00:00              1352085             1340870.0  10169   \n",
       "2022-11-09 00:00:00               968160              958920.0  10166   \n",
       "2022-11-08 00:00:00              1245462             1233366.0  10148   \n",
       "2022-11-08 00:00:00               968224              958983.0  10147   \n",
       "2022-11-08 00:00:00              2574176             2550024.0  10146   \n",
       "2022-11-08 00:00:00              1261991             1250577.0  10145   \n",
       "2022-11-08 00:00:00              2018612             1995790.0  10144   \n",
       "2022-11-08 00:00:00              2879859             2851317.0  10143   \n",
       "2022-11-08 00:00:00              8335423             8257887.0  10142   \n",
       "2022-11-08 00:00:00             45122764            44692803.0  10141   \n",
       "2022-11-08 00:00:00               300531              296821.0  10149   \n",
       "2022-11-08 00:00:00             11837024            11723104.0  10150   \n",
       "2022-11-08 00:00:00              1593913             1581050.0  10154   \n",
       "2022-11-08 00:00:00               591057              585434.0  10158   \n",
       "2022-11-08 00:00:00              2882834             2853766.0  10157   \n",
       "2022-11-08 00:00:00              2293177             2269550.0  10156   \n",
       "2022-11-08 00:00:00              1655617             1641340.0  10155   \n",
       "2022-11-08 00:00:00              1901953             1884534.0  10153   \n",
       "2022-11-08 00:00:00              1430829             1418394.0  10152   \n",
       "2022-11-08 00:00:00              1352082             1340866.0  10151   \n",
       "2022-11-07 00:00:00              1245428             1233334.0  10130   \n",
       "2022-11-07 00:00:00               968161              958920.0  10129   \n",
       "2022-11-07 00:00:00              2574131             2549979.0  10128   \n",
       "2022-11-07 00:00:00              1261998             1250584.0  10127   \n",
       "2022-11-07 00:00:00              2018578             1995756.0  10126   \n",
       "2022-11-07 00:00:00              2879854             2851310.0  10125   \n",
       "2022-11-07 00:00:00              8335289             8257755.0  10124   \n",
       "2022-11-07 00:00:00             45122608            44692654.0  10123   \n",
       "2022-11-07 00:00:00               300552              296842.0  10131   \n",
       "2022-11-07 00:00:00             11837067            11723153.0  10132   \n",
       "2022-11-07 00:00:00               591055              585433.0  10140   \n",
       "2022-11-07 00:00:00              2882879             2853813.0  10139   \n",
       "2022-11-07 00:00:00              2293246             2269619.0  10138   \n",
       "2022-11-07 00:00:00              1655598             1641318.0  10137   \n",
       "\n",
       "                     thirdCnt  totalThirdCnt  accumulatedThirdCnt  \n",
       "baseDate                                                           \n",
       "2022-11-09 00:00:00      38.0       439144.0             439106.0  \n",
       "2022-11-09 00:00:00    1678.0     33673146.0           33671468.0  \n",
       "2022-11-09 00:00:00     482.0      6076911.0            6076429.0  \n",
       "2022-11-09 00:00:00     136.0      2140909.0            2140773.0  \n",
       "2022-11-09 00:00:00      56.0      1405219.0            1405163.0  \n",
       "2022-11-09 00:00:00      29.0       968976.0             968947.0  \n",
       "2022-11-09 00:00:00      99.0      1915365.0            1915266.0  \n",
       "2022-11-09 00:00:00      40.0       909142.0             909102.0  \n",
       "2022-11-09 00:00:00     476.0      8708303.0            8707827.0  \n",
       "2022-11-09 00:00:00       3.0       211098.0             211095.0  \n",
       "2022-11-09 00:00:00      97.0      2145749.0            2145652.0  \n",
       "2022-11-09 00:00:00      52.0      1727240.0            1727188.0  \n",
       "2022-11-09 00:00:00      23.0      1365268.0            1365245.0  \n",
       "2022-11-09 00:00:00      23.0      1285790.0            1285767.0  \n",
       "2022-11-09 00:00:00      36.0      1479772.0            1479736.0  \n",
       "2022-11-09 00:00:00      20.0      1108528.0            1108508.0  \n",
       "2022-11-09 00:00:00      44.0      1065187.0            1065143.0  \n",
       "2022-11-09 00:00:00      24.0       720545.0             720521.0  \n",
       "2022-11-08 00:00:00      46.0       909106.0             909060.0  \n",
       "2022-11-08 00:00:00      44.0       720567.0             720523.0  \n",
       "2022-11-08 00:00:00     174.0      1915222.0            1915048.0  \n",
       "2022-11-08 00:00:00      38.0       968952.0             968914.0  \n",
       "2022-11-08 00:00:00      83.0      1405176.0            1405093.0  \n",
       "2022-11-08 00:00:00     150.0      2140730.0            2140580.0  \n",
       "2022-11-08 00:00:00     655.0      6076577.0            6075922.0  \n",
       "2022-11-08 00:00:00    2261.0     33671281.0           33669020.0  \n",
       "2022-11-08 00:00:00       8.0       211063.0             211055.0  \n",
       "2022-11-08 00:00:00     666.0      8707688.0            8707022.0  \n",
       "2022-11-08 00:00:00      41.0      1285724.0            1285683.0  \n",
       "2022-11-08 00:00:00      33.0       439106.0             439073.0  \n",
       "2022-11-08 00:00:00     102.0      2145661.0            2145559.0  \n",
       "2022-11-08 00:00:00      58.0      1727160.0            1727102.0  \n",
       "2022-11-08 00:00:00      47.0      1365237.0            1365190.0  \n",
       "2022-11-08 00:00:00      55.0      1479706.0            1479651.0  \n",
       "2022-11-08 00:00:00      23.0      1108465.0            1108442.0  \n",
       "2022-11-08 00:00:00      38.0      1065141.0            1065103.0  \n",
       "2022-11-07 00:00:00       0.0       909032.0             909032.0  \n",
       "2022-11-07 00:00:00       0.0       720480.0             720480.0  \n",
       "2022-11-07 00:00:00       4.0      1915014.0            1915010.0  \n",
       "2022-11-07 00:00:00       2.0       968920.0             968918.0  \n",
       "2022-11-07 00:00:00       0.0      1405073.0            1405073.0  \n",
       "2022-11-07 00:00:00       7.0      2140567.0            2140560.0  \n",
       "2022-11-07 00:00:00       9.0      6075805.0            6075796.0  \n",
       "2022-11-07 00:00:00      38.0     33668884.0           33668846.0  \n",
       "2022-11-07 00:00:00       0.0       211071.0             211071.0  \n",
       "2022-11-07 00:00:00      15.0      8707047.0            8707032.0  \n",
       "2022-11-07 00:00:00       0.0       439071.0             439071.0  \n",
       "2022-11-07 00:00:00       0.0      2145589.0            2145589.0  \n",
       "2022-11-07 00:00:00       0.0      1727144.0            1727144.0  \n",
       "2022-11-07 00:00:00       0.0      1365173.0            1365173.0  "
      ]
     },
     "execution_count": 81,
     "metadata": {},
     "output_type": "execute_result"
    }
   ],
   "source": [
    "vac_v1.head(50)"
   ]
  },
  {
   "cell_type": "markdown",
   "id": "63223a58-7595-4ac6-beb1-d2e0fcc17f07",
   "metadata": {},
   "source": [
    "- 2022-01-18 에 해당하는 data를 vac_v1에서 추출"
   ]
  },
  {
   "cell_type": "code",
   "execution_count": 97,
   "id": "c8955423-3afa-450b-af24-1a3e7fe074cb",
   "metadata": {},
   "outputs": [
    {
     "data": {
      "text/plain": [
       "'2022-01-18'"
      ]
     },
     "execution_count": 97,
     "metadata": {},
     "output_type": "execute_result"
    }
   ],
   "source": [
    "cal_std_day(365*3)"
   ]
  },
  {
   "cell_type": "code",
   "execution_count": 90,
   "id": "4ad2a690-6dc0-47a2-acd0-099be6106b7c",
   "metadata": {
    "collapsed": true,
    "jupyter": {
     "outputs_hidden": true
    }
   },
   "outputs": [
    {
     "name": "stdout",
     "output_type": "stream",
     "text": [
      "<class 'pandas.core.frame.DataFrame'>\n",
      "Index: 18 entries, 2022-01-18 00:00:00 to 2022-01-18 00:00:00\n",
      "Data columns (total 11 columns):\n",
      " #   Column                Non-Null Count  Dtype  \n",
      "---  ------                --------------  -----  \n",
      " 0   sido                  18 non-null     object \n",
      " 1   firstCnt              18 non-null     float64\n",
      " 2   secondCnt             18 non-null     float64\n",
      " 3   totalFirstCnt         18 non-null     int64  \n",
      " 4   totalSecondCnt        18 non-null     float64\n",
      " 5   accumulatedFirstCnt   18 non-null     int64  \n",
      " 6   accumulatedSecondCnt  18 non-null     float64\n",
      " 7   id                    18 non-null     int64  \n",
      " 8   thirdCnt              18 non-null     float64\n",
      " 9   totalThirdCnt         18 non-null     float64\n",
      " 10  accumulatedThirdCnt   18 non-null     float64\n",
      "dtypes: float64(7), int64(3), object(1)\n",
      "memory usage: 1.7+ KB\n"
     ]
    }
   ],
   "source": [
    "# T/F를 이용한 논리 indexing\n",
    "# loc에 논리 인덱싱 행 index만 구성하면 레코드를 추출\n",
    "finVac = vac_v1.loc[vac_v1.index.str.contains(cal_std_day(365*3)]\n",
    "finVac.info()"
   ]
  },
  {
   "cell_type": "code",
   "execution_count": 92,
   "id": "ba00feaf-801b-460b-9be7-16ef889a9a35",
   "metadata": {
    "scrolled": true
   },
   "outputs": [
    {
     "data": {
      "text/html": [
       "<div>\n",
       "<style scoped>\n",
       "    .dataframe tbody tr th:only-of-type {\n",
       "        vertical-align: middle;\n",
       "    }\n",
       "\n",
       "    .dataframe tbody tr th {\n",
       "        vertical-align: top;\n",
       "    }\n",
       "\n",
       "    .dataframe thead th {\n",
       "        text-align: right;\n",
       "    }\n",
       "</style>\n",
       "<table border=\"1\" class=\"dataframe\">\n",
       "  <thead>\n",
       "    <tr style=\"text-align: right;\">\n",
       "      <th></th>\n",
       "      <th>sido</th>\n",
       "      <th>firstCnt</th>\n",
       "      <th>secondCnt</th>\n",
       "      <th>totalFirstCnt</th>\n",
       "      <th>totalSecondCnt</th>\n",
       "      <th>accumulatedFirstCnt</th>\n",
       "      <th>accumulatedSecondCnt</th>\n",
       "      <th>id</th>\n",
       "      <th>thirdCnt</th>\n",
       "      <th>totalThirdCnt</th>\n",
       "      <th>accumulatedThirdCnt</th>\n",
       "    </tr>\n",
       "    <tr>\n",
       "      <th>baseDate</th>\n",
       "      <th></th>\n",
       "      <th></th>\n",
       "      <th></th>\n",
       "      <th></th>\n",
       "      <th></th>\n",
       "      <th></th>\n",
       "      <th></th>\n",
       "      <th></th>\n",
       "      <th></th>\n",
       "      <th></th>\n",
       "      <th></th>\n",
       "    </tr>\n",
       "  </thead>\n",
       "  <tbody>\n",
       "    <tr>\n",
       "      <th>2022-01-18 00:00:00</th>\n",
       "      <td>광주</td>\n",
       "      <td>523.0</td>\n",
       "      <td>2469.0</td>\n",
       "      <td>1247764</td>\n",
       "      <td>1220758.0</td>\n",
       "      <td>1247241</td>\n",
       "      <td>1218289.0</td>\n",
       "      <td>5648</td>\n",
       "      <td>11353.0</td>\n",
       "      <td>682394.0</td>\n",
       "      <td>671041.0</td>\n",
       "    </tr>\n",
       "    <tr>\n",
       "      <th>2022-01-18 00:00:00</th>\n",
       "      <td>울산</td>\n",
       "      <td>382.0</td>\n",
       "      <td>2280.0</td>\n",
       "      <td>956895</td>\n",
       "      <td>933311.0</td>\n",
       "      <td>956513</td>\n",
       "      <td>931031.0</td>\n",
       "      <td>5647</td>\n",
       "      <td>9470.0</td>\n",
       "      <td>476692.0</td>\n",
       "      <td>467222.0</td>\n",
       "    </tr>\n",
       "    <tr>\n",
       "      <th>2022-01-18 00:00:00</th>\n",
       "      <td>인천</td>\n",
       "      <td>985.0</td>\n",
       "      <td>3663.0</td>\n",
       "      <td>2532911</td>\n",
       "      <td>2484196.0</td>\n",
       "      <td>2531926</td>\n",
       "      <td>2480533.0</td>\n",
       "      <td>5646</td>\n",
       "      <td>23198.0</td>\n",
       "      <td>1330273.0</td>\n",
       "      <td>1307075.0</td>\n",
       "    </tr>\n",
       "    <tr>\n",
       "      <th>2022-01-18 00:00:00</th>\n",
       "      <td>대전</td>\n",
       "      <td>422.0</td>\n",
       "      <td>2197.0</td>\n",
       "      <td>1231435</td>\n",
       "      <td>1203724.0</td>\n",
       "      <td>1231013</td>\n",
       "      <td>1201527.0</td>\n",
       "      <td>5645</td>\n",
       "      <td>10221.0</td>\n",
       "      <td>628469.0</td>\n",
       "      <td>618248.0</td>\n",
       "    </tr>\n",
       "    <tr>\n",
       "      <th>2022-01-18 00:00:00</th>\n",
       "      <td>대구</td>\n",
       "      <td>893.0</td>\n",
       "      <td>4524.0</td>\n",
       "      <td>1997407</td>\n",
       "      <td>1945813.0</td>\n",
       "      <td>1996514</td>\n",
       "      <td>1941289.0</td>\n",
       "      <td>5644</td>\n",
       "      <td>15716.0</td>\n",
       "      <td>978794.0</td>\n",
       "      <td>963078.0</td>\n",
       "    </tr>\n",
       "  </tbody>\n",
       "</table>\n",
       "</div>"
      ],
      "text/plain": [
       "                    sido  firstCnt  secondCnt  totalFirstCnt  totalSecondCnt  \\\n",
       "baseDate                                                                       \n",
       "2022-01-18 00:00:00   광주     523.0     2469.0        1247764       1220758.0   \n",
       "2022-01-18 00:00:00   울산     382.0     2280.0         956895        933311.0   \n",
       "2022-01-18 00:00:00   인천     985.0     3663.0        2532911       2484196.0   \n",
       "2022-01-18 00:00:00   대전     422.0     2197.0        1231435       1203724.0   \n",
       "2022-01-18 00:00:00   대구     893.0     4524.0        1997407       1945813.0   \n",
       "\n",
       "                     accumulatedFirstCnt  accumulatedSecondCnt    id  \\\n",
       "baseDate                                                               \n",
       "2022-01-18 00:00:00              1247241             1218289.0  5648   \n",
       "2022-01-18 00:00:00               956513              931031.0  5647   \n",
       "2022-01-18 00:00:00              2531926             2480533.0  5646   \n",
       "2022-01-18 00:00:00              1231013             1201527.0  5645   \n",
       "2022-01-18 00:00:00              1996514             1941289.0  5644   \n",
       "\n",
       "                     thirdCnt  totalThirdCnt  accumulatedThirdCnt  \n",
       "baseDate                                                           \n",
       "2022-01-18 00:00:00   11353.0       682394.0             671041.0  \n",
       "2022-01-18 00:00:00    9470.0       476692.0             467222.0  \n",
       "2022-01-18 00:00:00   23198.0      1330273.0            1307075.0  \n",
       "2022-01-18 00:00:00   10221.0       628469.0             618248.0  \n",
       "2022-01-18 00:00:00   15716.0       978794.0             963078.0  "
      ]
     },
     "execution_count": 92,
     "metadata": {},
     "output_type": "execute_result"
    }
   ],
   "source": [
    "finVac.head()"
   ]
  },
  {
   "cell_type": "code",
   "execution_count": 93,
   "id": "e2fda0fd-17e6-40f5-95ad-760e912487c9",
   "metadata": {},
   "outputs": [
    {
     "data": {
      "text/plain": [
       "sido                           대구\n",
       "firstCnt                    893.0\n",
       "secondCnt                  4524.0\n",
       "totalFirstCnt             1997407\n",
       "totalSecondCnt          1945813.0\n",
       "accumulatedFirstCnt       1996514\n",
       "accumulatedSecondCnt    1941289.0\n",
       "id                           5644\n",
       "thirdCnt                  15716.0\n",
       "totalThirdCnt            978794.0\n",
       "accumulatedThirdCnt      963078.0\n",
       "Name: 2022-01-18 00:00:00, dtype: object"
      ]
     },
     "execution_count": 93,
     "metadata": {},
     "output_type": "execute_result"
    }
   ],
   "source": [
    "# 레코드 추출 - iloc[위치값]\n",
    "finVac.iloc[4]"
   ]
  },
  {
   "cell_type": "markdown",
   "id": "ba88245a-ac11-4eb7-9133-e271929795d7",
   "metadata": {},
   "source": [
    "#### Json 구성"
   ]
  },
  {
   "cell_type": "code",
   "execution_count": 91,
   "id": "861982a1-9fdd-4223-813b-d4bbb0c593ba",
   "metadata": {},
   "outputs": [],
   "source": [
    "# hdfs에 저장할 data\n",
    "cols = ['loc', 'v1', 'v2', 'v3']\n",
    "data = []"
   ]
  },
  {
   "cell_type": "code",
   "execution_count": 95,
   "id": "91ba60f9-92d1-4aaf-a240-72cfdd6edf22",
   "metadata": {},
   "outputs": [],
   "source": [
    "for idx in range(0, len(finVac.index)) :\n",
    "    tuple_t=[]\n",
    "    tmp = finVac.iloc[idx]\n",
    "    tuple_t.append(str(tmp.sido))\n",
    "    tuple_t.append(str(tmp.totalFirstCnt))\n",
    "    tuple_t.append(str(tmp.totalSecondCnt))\n",
    "    tuple_t.append(str(tmp.thirdCnt))\n",
    "    # print(tuple_t)\n",
    "    data.append(dict(zip(cols,tuple_t)))"
   ]
  },
  {
   "cell_type": "code",
   "execution_count": 96,
   "id": "00b4751e-078b-45ec-8938-336261cfec9f",
   "metadata": {
    "collapsed": true,
    "jupyter": {
     "outputs_hidden": true
    }
   },
   "outputs": [
    {
     "data": {
      "text/plain": [
       "[{'loc': '광주', 'v1': '1247764', 'v2': '1220758.0', 'v3': '11353.0'},\n",
       " {'loc': '울산', 'v1': '956895', 'v2': '933311.0', 'v3': '9470.0'},\n",
       " {'loc': '인천', 'v1': '2532911', 'v2': '2484196.0', 'v3': '23198.0'},\n",
       " {'loc': '대전', 'v1': '1231435', 'v2': '1203724.0', 'v3': '10221.0'},\n",
       " {'loc': '대구', 'v1': '1997407', 'v2': '1945813.0', 'v3': '15716.0'},\n",
       " {'loc': '부산', 'v1': '2849093', 'v2': '2788089.0', 'v3': '22579.0'},\n",
       " {'loc': '서울', 'v1': '8239400', 'v2': '8090244.0', 'v3': '70311.0'},\n",
       " {'loc': '전국', 'v1': '44505276', 'v2': '43582128.0', 'v3': '384948.0'},\n",
       " {'loc': '세종', 'v1': '290455', 'v2': '282507.0', 'v3': '2330.0'},\n",
       " {'loc': '경기', 'v1': '11652853', 'v2': '11414202.0', 'v3': '104972.0'},\n",
       " {'loc': '제주', 'v1': '580579', 'v2': '566811.0', 'v3': '4782.0'},\n",
       " {'loc': '경남', 'v1': '2848083', 'v2': '2783896.0', 'v3': '22358.0'},\n",
       " {'loc': '경북', 'v1': '2260963', 'v2': '2202814.0', 'v3': '18629.0'},\n",
       " {'loc': '전남', 'v1': '1632045', 'v2': '1602479.0', 'v3': '14141.0'},\n",
       " {'loc': '전북', 'v1': '1574779', 'v2': '1547262.0', 'v3': '14177.0'},\n",
       " {'loc': '충남', 'v1': '1870124', 'v2': '1830143.0', 'v3': '16536.0'},\n",
       " {'loc': '충북', 'v1': '1408620', 'v2': '1379378.0', 'v3': '12355.0'},\n",
       " {'loc': '강원', 'v1': '1331870', 'v2': '1306501.0', 'v3': '11820.0'}]"
      ]
     },
     "execution_count": 96,
     "metadata": {},
     "output_type": "execute_result"
    }
   ],
   "source": [
    "# 실제 data\n",
    "data"
   ]
  },
  {
   "cell_type": "code",
   "execution_count": 98,
   "id": "661700c8-e21d-46ce-ae0b-bbffb00cbdd0",
   "metadata": {},
   "outputs": [],
   "source": [
    "# data를 설명하는 메타 데이터 포함한 최종 결과 생성\n",
    "res = {\n",
    "    'meta' : {\n",
    "        'desc':'지역별 코로나 예방접종 인구 현황',\n",
    "        'cols':{\n",
    "            'loc':'지역'\n",
    "            ,'v1':'1차 접종 누적'\n",
    "            ,'v2':'2차 접종 누적'\n",
    "            ,'v3':'3차 접종 누적'\n",
    "        },\n",
    "        'stdDay':cal_std_day(365*3)\n",
    "    },\n",
    "    'data':data\n",
    "}"
   ]
  },
  {
   "cell_type": "code",
   "execution_count": 99,
   "id": "e71044ed-de25-4d43-b0ce-b8b6b756a61f",
   "metadata": {
    "collapsed": true,
    "jupyter": {
     "outputs_hidden": true
    }
   },
   "outputs": [
    {
     "data": {
      "text/plain": [
       "{'meta': {'desc': '지역별 코로나 예방접종 인구 현황',\n",
       "  'cols': {'loc': '지역', 'v1': '1차 접종 누적', 'v2': '2차 접종 누적', 'v3': '3차 접종 누적'},\n",
       "  'stdDay': '2022-01-18'},\n",
       " 'data': [{'loc': '광주', 'v1': '1247764', 'v2': '1220758.0', 'v3': '11353.0'},\n",
       "  {'loc': '울산', 'v1': '956895', 'v2': '933311.0', 'v3': '9470.0'},\n",
       "  {'loc': '인천', 'v1': '2532911', 'v2': '2484196.0', 'v3': '23198.0'},\n",
       "  {'loc': '대전', 'v1': '1231435', 'v2': '1203724.0', 'v3': '10221.0'},\n",
       "  {'loc': '대구', 'v1': '1997407', 'v2': '1945813.0', 'v3': '15716.0'},\n",
       "  {'loc': '부산', 'v1': '2849093', 'v2': '2788089.0', 'v3': '22579.0'},\n",
       "  {'loc': '서울', 'v1': '8239400', 'v2': '8090244.0', 'v3': '70311.0'},\n",
       "  {'loc': '전국', 'v1': '44505276', 'v2': '43582128.0', 'v3': '384948.0'},\n",
       "  {'loc': '세종', 'v1': '290455', 'v2': '282507.0', 'v3': '2330.0'},\n",
       "  {'loc': '경기', 'v1': '11652853', 'v2': '11414202.0', 'v3': '104972.0'},\n",
       "  {'loc': '제주', 'v1': '580579', 'v2': '566811.0', 'v3': '4782.0'},\n",
       "  {'loc': '경남', 'v1': '2848083', 'v2': '2783896.0', 'v3': '22358.0'},\n",
       "  {'loc': '경북', 'v1': '2260963', 'v2': '2202814.0', 'v3': '18629.0'},\n",
       "  {'loc': '전남', 'v1': '1632045', 'v2': '1602479.0', 'v3': '14141.0'},\n",
       "  {'loc': '전북', 'v1': '1574779', 'v2': '1547262.0', 'v3': '14177.0'},\n",
       "  {'loc': '충남', 'v1': '1870124', 'v2': '1830143.0', 'v3': '16536.0'},\n",
       "  {'loc': '충북', 'v1': '1408620', 'v2': '1379378.0', 'v3': '12355.0'},\n",
       "  {'loc': '강원', 'v1': '1331870', 'v2': '1306501.0', 'v3': '11820.0'}]}"
      ]
     },
     "execution_count": 99,
     "metadata": {},
     "output_type": "execute_result"
    }
   ],
   "source": [
    "res"
   ]
  },
  {
   "cell_type": "code",
   "execution_count": 100,
   "id": "8c53cab4-45c1-4706-b6b3-29c7ea431175",
   "metadata": {},
   "outputs": [],
   "source": [
    "file_dir_vac = '/corona_data/vaccine/'\n",
    "file_name = 'corona_vaccine_'+cal_std_day(365*3)+'.json'\n",
    "client.write(file_dir_vac+file_name,json.dumps(res, ensure_ascii=False),encoding='utf-8')"
   ]
  },
  {
   "cell_type": "code",
   "execution_count": 101,
   "id": "e05fedfe-8a49-4c54-aa35-6bcd1cf33023",
   "metadata": {},
   "outputs": [
    {
     "name": "stderr",
     "output_type": "stream",
     "text": [
      "[Stage 1:>                                                          (0 + 1) / 1]"
     ]
    },
    {
     "name": "stdout",
     "output_type": "stream",
     "text": [
      "+----------------------+---------------------------+\n",
      "|                  data|                       meta|\n",
      "+----------------------+---------------------------+\n",
      "|[{광주, 1247764, 12...|{{지역, 1차 접종 누적, 2...|\n",
      "+----------------------+---------------------------+\n",
      "\n"
     ]
    },
    {
     "name": "stderr",
     "output_type": "stream",
     "text": [
      "                                                                                "
     ]
    }
   ],
   "source": [
    "# spark 모듈(read.json) : df로 지연연산\n",
    "file_dir_vac = '/corona_data/vaccine/'\n",
    "file_name = 'corona_vaccine_'+cal_std_day(365*3)+'.json'\n",
    "vaccine=spark.read.json(file_dir_vac+file_name)\n",
    "vaccine.show()"
   ]
  },
  {
   "cell_type": "code",
   "execution_count": null,
   "id": "56e76d5d-2fdd-4b6e-bce5-c09dfb6458a3",
   "metadata": {},
   "outputs": [],
   "source": [
    "### 파일 읽어오기\n",
    "vac_v1 = pd.read_csv('data/corona_data/Covid19VaccineV2.csv',index_col=0)\n"
   ]
  },
  {
   "cell_type": "code",
   "execution_count": null,
   "id": "53b98325-6450-4b46-a8a1-472972160efa",
   "metadata": {},
   "outputs": [],
   "source": [
    "# 전체 코드\n",
    "cols = ['loc', 'v1', 'v2', 'v3']\n",
    "data = []\n",
    "finVac = vac_v1.loc[vac_v1.index.str.contains(cal_std_day(365*3)]\n",
    "\n",
    "for idx in range(0, len(finVac.index)) :\n",
    "    tuple_t=[]\n",
    "    tmp = finVac.iloc[idx]\n",
    "    tuple_t.append(str(tmp.sido))\n",
    "    tuple_t.append(str(tmp.totalFirstCnt))\n",
    "    tuple_t.append(str(tmp.totalSecondCnt))\n",
    "    tuple_t.append(str(tmp.thirdCnt))\n",
    "    # print(tuple_t)\n",
    "    data.append(dict(zip(cols,tuple_t)))\n",
    "\n",
    "res = {\n",
    "    'meta' : {\n",
    "        'desc':'지역별 코로나 예방접종 인구 현황',\n",
    "        'cols':{\n",
    "            'loc':'지역'\n",
    "            ,'v1':'1차 접종 누적'\n",
    "            ,'v2':'2차 접종 누적'\n",
    "            ,'v3':'3차 접종 누적'\n",
    "        },\n",
    "        'stdDay':cal_std_day(365*3)\n",
    "    },\n",
    "    'data':data\n",
    "}    \n",
    "\n",
    "file_dir_vac = '/corona_data/vaccine/'\n",
    "file_name = 'corona_vaccine_'+cal_std_day(365*3)+'.json'\n",
    "client.write(file_dir_vac+file_name,json.dumps(res, ensure_ascii=False),encoding='utf-8')"
   ]
  },
  {
   "cell_type": "code",
   "execution_count": 104,
   "id": "f1a3f75a-e90d-4c63-b940-052390180794",
   "metadata": {},
   "outputs": [
    {
     "name": "stderr",
     "output_type": "stream",
     "text": [
      "ERROR:corona_api:{\"type\": \"/corona_data/vaccine/\", \"err_msg\": \"/corona_data/vaccine/corona_vaccine_2022-01-18.json for client 127.0.0.1 already exists\\n\\tat org.apache.hadoop.hdfs.server.namenode.FSDirWriteFileOp.startFile(FSDirWriteFileOp.java:388)\\n\\tat org.apache.hadoop.hdfs.server.namenode.FSNamesystem.startFileInt(FSNamesystem.java:2819)\\n\\tat org.apache.hadoop.hdfs.server.namenode.FSNamesystem.startFile(FSNamesystem.java:2713)\\n\\tat org.apache.hadoop.hdfs.server.namenode.NameNodeRpcServer.create(NameNodeRpcServer.java:830)\\n\\tat org.apache.hadoop.hdfs.protocolPB.ClientNamenodeProtocolServerSideTranslatorPB.create(ClientNamenodeProtocolServerSideTranslatorPB.java:504)\\n\\tat org.apache.hadoop.hdfs.protocol.proto.ClientNamenodeProtocolProtos$ClientNamenodeProtocol$2.callBlockingMethod(ClientNamenodeProtocolProtos.java)\\n\\tat org.apache.hadoop.ipc.ProtobufRpcEngine2$Server$ProtoBufRpcInvoker.call(ProtobufRpcEngine2.java:621)\\n\\tat org.apache.hadoop.ipc.ProtobufRpcEngine2$Server$ProtoBufRpcInvoker.call(ProtobufRpcEngine2.java:589)\\n\\tat org.apache.hadoop.ipc.ProtobufRpcEngine2$Server$ProtoBufRpcInvoker.call(ProtobufRpcEngine2.java:573)\\n\\tat org.apache.hadoop.ipc.RPC$Server.call(RPC.java:1227)\\n\\tat org.apache.hadoop.ipc.Server$RpcCall.run(Server.java:1246)\\n\\tat org.apache.hadoop.ipc.Server$RpcCall.run(Server.java:1169)\\n\\tat java.base/java.security.AccessController.doPrivileged(Native Method)\\n\\tat java.base/javax.security.auth.Subject.doAs(Subject.java:423)\\n\\tat org.apache.hadoop.security.UserGroupInformation.doAs(UserGroupInformation.java:1953)\\n\\tat org.apache.hadoop.ipc.Server$Handler.run(Server.java:3203)\\n\"}\n"
     ]
    },
    {
     "name": "stdout",
     "output_type": "stream",
     "text": [
      "2022-01-18\n",
      "2022-01-17\n",
      "2022-01-16\n",
      "2022-01-15\n",
      "2022-01-14\n",
      "2022-01-13\n"
     ]
    }
   ],
   "source": [
    "# 연습용 파일 생성 -> hdfs에 저장\n",
    "for i in range(365*3, 367*3) :\n",
    "    print(cal_std_day(i))\n",
    "    cols = ['loc', 'v1', 'v2', 'v3']\n",
    "    data = []\n",
    "    finVac = vac_v1.loc[vac_v1.index.str.contains(cal_std_day(i))]\n",
    "    \n",
    "    for idx in range(0, len(finVac.index)) :\n",
    "        tuple_t=[]\n",
    "        tmp = finVac.iloc[idx]\n",
    "        tuple_t.append(str(tmp.sido))\n",
    "        tuple_t.append(str(tmp.totalFirstCnt))\n",
    "        tuple_t.append(str(tmp.totalSecondCnt))\n",
    "        tuple_t.append(str(tmp.thirdCnt))\n",
    "        # print(tuple_t)\n",
    "        data.append(dict(zip(cols,tuple_t)))\n",
    "    \n",
    "    res = {\n",
    "        'meta' : {\n",
    "            'desc':'지역별 코로나 예방접종 인구 현황',\n",
    "            'cols':{\n",
    "                'loc':'지역'\n",
    "                ,'v1':'1차 접종 누적'\n",
    "                ,'v2':'2차 접종 누적'\n",
    "                ,'v3':'3차 접종 누적'\n",
    "            },\n",
    "            'stdDay':cal_std_day(365*3)\n",
    "        },\n",
    "        'data':data\n",
    "    }    \n",
    "    try : \n",
    "        file_dir_vac = '/corona_data/vaccine/'\n",
    "        file_name = 'corona_vaccine_'+cal_std_day(i)+'.json'\n",
    "        client.write(file_dir_vac+file_name,json.dumps(res, ensure_ascii=False),encoding='utf-8')\n",
    "    except Exception as e :\n",
    "        log_dict = {\n",
    "            'type':'/corona_data/vaccine/'\n",
    "            ,'err_msg':e.__str__()}\n",
    "        log_json = json.dumps(log_dict, ensure_ascii=False)\n",
    "        co_logger.error(log_json)"
   ]
  }
 ],
 "metadata": {
  "kernelspec": {
   "display_name": "Python 3 (ipykernel)",
   "language": "python",
   "name": "python3"
  },
  "language_info": {
   "codemirror_mode": {
    "name": "ipython",
    "version": 3
   },
   "file_extension": ".py",
   "mimetype": "text/x-python",
   "name": "python",
   "nbconvert_exporter": "python",
   "pygments_lexer": "ipython3",
   "version": "3.10.12"
  },
  "vscode": {
   "interpreter": {
    "hash": "916dbcbb3f70747c44a77c7bcd40155683ae19c65e1c03b4aa3499c5328201f1"
   }
  }
 },
 "nbformat": 4,
 "nbformat_minor": 5
}
