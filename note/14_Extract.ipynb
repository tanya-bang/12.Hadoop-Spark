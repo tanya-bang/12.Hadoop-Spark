{
 "cells": [
  {
   "cell_type": "code",
   "execution_count": 1,
   "id": "b50d6624",
   "metadata": {},
   "outputs": [],
   "source": [
    "# \n",
    "# !pip install hdfs\n",
    "# ref : https://hdfscli.readthedocs.io/en/latest/quickstart.html#python-bindings"
   ]
  },
  {
   "cell_type": "code",
   "execution_count": 1,
   "id": "56f8b5cc-929a-401a-aec1-bdd77aece7f7",
   "metadata": {},
   "outputs": [],
   "source": [
    "from IPython.core.interactiveshell import InteractiveShell\n",
    "InteractiveShell.ast_node_interactivity = \"all\""
   ]
  },
  {
   "cell_type": "code",
   "execution_count": 2,
   "id": "96d45deb",
   "metadata": {},
   "outputs": [],
   "source": [
    "from hdfs import InsecureClient #hdfs 연결 담당 모듈 - 클라이언트 프로그램 구성시\n",
    "import requests #api 요청시 사용\n",
    "import json #api 다운받은 data와 vaccine data json 처리시 사용\n",
    "import datetime as dt"
   ]
  },
  {
   "cell_type": "markdown",
   "id": "cf46769c-508f-45d4-996e-e9932cbe41c6",
   "metadata": {},
   "source": [
    "## 클라이언트 객체 생성\n",
    "- hdfs 공간 사용을 위해서는 클라이언트 객체를 생성해야한다.\n",
    "- hdfs 연결 담당\n",
    "- read/write/append/update 등과 관련된 모듈도 포함하고 있다.\n",
    "- InsecureClient 모듈 사용해서 만들기\n",
    "    - InsecureClient(연결주소, user=사용자)\n",
    "- 파일읽기\n",
    "    - InsecureClient.read(파일명(파일경로포함))\n",
    "        - 해당 파일을 읽을 수 있는 reader 객체를 반환\n",
    "- 파일쓰기\n",
    "    - InsecureClient.write(저장될파일명(파일경로포함))\n",
    "        - 해당 파일에 쓸 수 있는 reader 객체를 반환\n",
    "    - InsecureClient.write(저장될파일명(파일경로 포함),'추가될 내용',append=True)\n",
    "        - 기존파일에 추가될내용을 append(파일 끝에 쓰기)        \n",
    "    - InsecureClient.upload(hdfs에 복사될 폴더명(경로포함), 원본 폴더명(경로포함))\n",
    "        - 지정된 원본 폴더 파일을 저장할 hsdf 폴더에 복사\n",
    "        - 폴더를 생성하고 시작 : 기존에 동일 이름의 폴더가 있으면 에러발생함"
   ]
  },
  {
   "cell_type": "code",
   "execution_count": 3,
   "id": "03a71f0f",
   "metadata": {},
   "outputs": [],
   "source": [
    "# port 9870: name node 연결 port\n",
    "# port 9000: data node(hdfs) 연결 port\n",
    "client = InsecureClient('http://localhost:9870', user='root')"
   ]
  },
  {
   "cell_type": "markdown",
   "id": "b712a763",
   "metadata": {
    "jp-MarkdownHeadingCollapsed": true
   },
   "source": [
    "## hdfs로부터 읽기\n",
    "- 파일 읽어올 때 필요한 순서\n",
    "1) 파일과 연결(open)\n",
    "2) 파일읽기\n",
    "3) 파일 연결 끊기(close): 개발자가 close해야 자원 정리가 가능\n",
    "    - with문 사용하면 자동으로 open~close를 진행한다."
   ]
  },
  {
   "cell_type": "code",
   "execution_count": 5,
   "id": "432b7084-1527-4100-99ca-04736eb984bc",
   "metadata": {},
   "outputs": [],
   "source": [
    "# 파일 읽기위한 reader 객체 생성 후 진행\n",
    "with client.read('/rdd/score.txt') as reader : \n",
    "    score = reader.read()"
   ]
  },
  {
   "cell_type": "code",
   "execution_count": 11,
   "id": "377ad21e-2852-4557-8b83-7a0d7ab430ce",
   "metadata": {},
   "outputs": [
    {
     "data": {
      "text/plain": [
       "b'\\xea\\xb9\\x80\\xec\\xb2\\xa0\\xec\\x88\\x98 \\xec\\x8a\\xa4\\xed\\x8c\\x8c\\xed\\x81\\xac 50\\r\\n\\xed\\x99\\x8d\\xea\\xb8\\xb8\\xeb\\x8f\\x99 \\xec\\x8a\\xa4\\xed\\x8c\\x8c\\xed\\x81\\xac 80\\r\\n\\xec\\x9e\\x84\\xea\\xba\\xbd\\xec\\xa0\\x95 \\xec\\x8a\\xa4\\xed\\x8c\\x8c\\xed\\x81\\xac 60\\r\\n\\xec\\x9e\\x84\\xec\\x9a\\x94\\xed\\x99\\x98 \\xed\\x85\\x90\\xec\\x84\\x9c\\xed\\x94\\x8c\\xeb\\xa1\\x9c\\xec\\x9a\\xb0 100\\r\\n\\xed\\x99\\x8d\\xec\\xa7\\x84\\xed\\x98\\xb8 \\xed\\x85\\x90\\xec\\x84\\x9c\\xed\\x94\\x8c\\xeb\\xa1\\x9c\\xec\\x9a\\xb0 22\\r\\n\\xed\\x99\\x8d\\xec\\xa7\\x84\\xed\\x98\\xb8 \\xed\\x85\\x90\\xec\\x84\\x9c\\xed\\x94\\x8c\\xeb\\xa1\\x9c\\xec\\x9a\\xb0 22\\r\\n\\xec\\x9d\\xb4\\xec\\x9c\\xa4\\xec\\x97\\xb4 \\xed\\x85\\x90\\xec\\x84\\x9c\\xed\\x94\\x8c\\xeb\\xa1\\x9c\\xec\\x9a\\xb0 90\\r\\n'"
      ]
     },
     "execution_count": 11,
     "metadata": {},
     "output_type": "execute_result"
    },
    {
     "name": "stdout",
     "output_type": "stream",
     "text": [
      "김철수 스파크 50\n",
      "홍길동 스파크 80\n",
      "임꺽정 스파크 60\n",
      "임요환 텐서플로우 100\n",
      "홍진호 텐서플로우 22\n",
      "홍진호 텐서플로우 22\n",
      "이윤열 텐서플로우 90\n",
      "\n"
     ]
    }
   ],
   "source": [
    "# byte code로 읽어옴 (low-level로 읽어오기 때문)\n",
    "score\n",
    "# byte code data를 decode해서 저장 후 확인할 수 있다.\n",
    "# https://docs.python.org/ko/3/library/stdtypes.html#bytes-and-bytearray-operations\n",
    "# bytes.decode(data)\n",
    "score_data = bytes.decode(score)\n",
    "print(score_data)"
   ]
  },
  {
   "cell_type": "markdown",
   "id": "82ef087e",
   "metadata": {
    "jp-MarkdownHeadingCollapsed": true
   },
   "source": [
    "## hdfs에 쓰기"
   ]
  },
  {
   "cell_type": "code",
   "execution_count": 21,
   "id": "f9f5ea6d-54a9-42d3-b949-bbb3b4cf1420",
   "metadata": {},
   "outputs": [],
   "source": [
    "# hdd(note 디렉터리)에 있는 data(file)를 hdfs로 복사\n",
    "# 1. 로컬데이터 파일 열기: open() python\n",
    "# 2. hdfs client 통해서 쓰기 객체 with등록\n",
    "# 3. open 객체 이용해서 한 줄 씩 읽어서 -> hdfs에 쓰기\n",
    "# 현재위치: /root/note\n",
    "# 복사할 sido_area.csv 윈도우 10버전에서 생성, encoding='CP949'\n",
    "with open('data/corona_data/sido_area.csv', encoding='CP949') as reader, client.write('/corona_data/sido_area_tmp.csv') as writer:\n",
    "    for line in reader: # 읽어와서\n",
    "        writer.write(line.encode('CP949')) #원래 encoding 방식 유지 시켜야 함, 바로쓰기"
   ]
  },
  {
   "cell_type": "markdown",
   "id": "1796b222-d04d-407e-80b4-cebd1c4d1963",
   "metadata": {},
   "source": [
    "### 인구사회 data를 D.W에 저장\n",
    "- 현재 Linux FS에 있는 파일을 HDFS로 가져오기\n",
    "- 인구, 면적, 다중이용시설 data"
   ]
  },
  {
   "cell_type": "code",
   "execution_count": 13,
   "id": "d7a45228",
   "metadata": {},
   "outputs": [
    {
     "data": {
      "text/plain": [
       "'/corona_data/tmp'"
      ]
     },
     "execution_count": 13,
     "metadata": {},
     "output_type": "execute_result"
    }
   ],
   "source": [
    "# 폴더 전송: 폴더 내에 있는 파일을 hdfs 특정 디렉터리에 모두 복사\n",
    "# 해당 모듈은 디렉터리와 파일부터 생성하고 쓰기 진행\n",
    "# 프로그램으로 파일 한줄씩 읽어와서 바로 hdfs파일에 쓰기\n",
    "# client.upload(dest, source)\n",
    "client.upload('/corona_data/tmp', 'data/corona_data')"
   ]
  },
  {
   "cell_type": "markdown",
   "id": "2925af9e",
   "metadata": {
    "jp-MarkdownHeadingCollapsed": true
   },
   "source": [
    "## hdfs에 수정하기\n",
    "- data 추가이므로 data형식과 encoding방식은 기존 파일과 동일하게 구성"
   ]
  },
  {
   "cell_type": "code",
   "execution_count": 15,
   "id": "0f64f640",
   "metadata": {},
   "outputs": [],
   "source": [
    "client.write('/rdd/score.txt', '최연성 장고 100'.encode('UTF-8'), append=True)"
   ]
  },
  {
   "cell_type": "code",
   "execution_count": 16,
   "id": "f0ea8a63-b205-4a87-ae0e-f5607c8dd749",
   "metadata": {},
   "outputs": [
    {
     "name": "stdout",
     "output_type": "stream",
     "text": [
      "김철수 스파크 50\n",
      "홍길동 스파크 80\n",
      "임꺽정 스파크 60\n",
      "임요환 텐서플로우 100\n",
      "홍진호 텐서플로우 22\n",
      "홍진호 텐서플로우 22\n",
      "이윤열 텐서플로우 90\n",
      "최연성 장고 100\n"
     ]
    }
   ],
   "source": [
    "# 수정된 파일 읽어와서 확인\n",
    "with client.read('/rdd/score.txt') as reader :\n",
    "    score = reader.read()\n",
    "score_data = bytes.decode(score)\n",
    "print(score_data)"
   ]
  },
  {
   "cell_type": "markdown",
   "id": "eb095c70",
   "metadata": {
    "jp-MarkdownHeadingCollapsed": true
   },
   "source": [
    "## hdfs 권한 수정\n",
    "- 리눅스 명령어(chmod)\n",
    "- InsecureClient클래스의 set_permission('권한변경할파일(폴더도 파일임)','권한문자')\n",
    "    - 권한문자: 10진수 권한\n",
    "    - eg) 777 : rwxrwxrwx : 모든 user가 읽기/쓰기/실행 권한을 갖는다\n",
    "          777권한은 temp폴더 등이 갖는 권한(완전 풀권한이라 위험,, 아무나 들어갈 수 있으니까 공격 대상이 될 수 있음)"
   ]
  },
  {
   "cell_type": "code",
   "execution_count": 18,
   "id": "9826da16",
   "metadata": {},
   "outputs": [],
   "source": [
    "client.set_permission('/corona_data/tmp', '777')"
   ]
  },
  {
   "cell_type": "markdown",
   "id": "6a1672dc",
   "metadata": {
    "jp-MarkdownHeadingCollapsed": true
   },
   "source": [
    "## hdfs 삭제\n",
    "- InsecureClient클래스의 delete('삭제할파일(경로 포함)')\n",
    "    - 삭제가 정상적으로 진행되면 True반환\n",
    "    - False반환인 경우 대부분 파일명 문제"
   ]
  },
  {
   "cell_type": "code",
   "execution_count": 22,
   "id": "c8cd2e28",
   "metadata": {
    "scrolled": true
   },
   "outputs": [
    {
     "data": {
      "text/plain": [
       "True"
      ]
     },
     "execution_count": 22,
     "metadata": {},
     "output_type": "execute_result"
    }
   ],
   "source": [
    "client.delete('/corona_data/tmp/sido_area.xlsx')"
   ]
  },
  {
   "cell_type": "markdown",
   "id": "08bfad3d-a54d-4c32-9449-c500fed408d9",
   "metadata": {},
   "source": [
    "################################################################### "
   ]
  },
  {
   "cell_type": "markdown",
   "id": "a068d88b-8c8f-421b-8e6a-82212d23f028",
   "metadata": {
    "jp-MarkdownHeadingCollapsed": true
   },
   "source": [
    "## 실습 Data Pipeline\n",
    "- Data Warehouse Extract\n",
    "    - 현재 실행중인 ubuntu server의 HDD -> Hadoop File System으로 변경된 공간\n",
    "        - hadoop 설치 & hdfs 사용가능하도록 구성 완료\n",
    "    - Extract 과정을 거쳐 hdfs에 data가 저장됨\n",
    "        1. 코로나 발생현황(일간데이터): API로 수집 (json형식)\n",
    "        2. 코로나 백신 접종 현황(일간데이터): 파일로 보관중, 파일데이터에서 특정 일에 대한 데이터를 json형식으로 변환하여 수집 예정\n",
    "        3. 인구 사회 데이터: 파일데이터(변환없이 사용)\n",
    "- Transformation\n",
    "    - HDFS에서 데이터 load해와서(RAM에다가 ㅇㅇ) spark 모듈 이용해서 transformation진행\n",
    "    - W.H의 데이터보다 정형화된 데이터로 transformation\n",
    "\n",
    "- Data Mart Load\n",
    "    - transformation 진행된 데이터를 MySQL DB에 저장(적재)\n",
    "- 한번더 Transformation\n",
    "    - DM에서 데이터 load해와서 spark 모듈 이용해서 transformation진행\n",
    "    - DM의 데이터보다 정형화되고 논리적인 의미를 포함하는 데이터로 transformation\n",
    "- 운영 DB Load\n",
    "    - transformation 진행된 데이터를 MySQL DB에 저장(적재)\n",
    "    - 운영DB에 적재되는 데이터는 서비스와 연결됨\n",
    "    - 정형화되고 논리적 의미를 포함해야함\n",
    "        - 단순 결합이 아니라, 데이터의 조합을 통해 유의미한 결과를 보일 수 있어야함"
   ]
  },
  {
   "cell_type": "markdown",
   "id": "1a63d843",
   "metadata": {},
   "source": [
    "## REST_API로 데이터를 호출해 HDFS에 저장"
   ]
  },
  {
   "cell_type": "markdown",
   "id": "ae417992-2709-4294-95a1-99517031909e",
   "metadata": {},
   "source": [
    "#### API 데이터 수집 과정\n",
    "1. 데이터 이용 신청\n",
    "2. site에서 데이터 수집을 위한 url을 알아와야함\n",
    "3. site에서 가이드하고 있는 방식(get/post)으로 데이터 요청 진행\n",
    "    - header와 parameters를 요구하게 됨\n",
    "        - 생성해서 요청시마다 사용\n",
    "        - params에 service key를 포함시켜서 구성\n",
    "4. 요청된 데이터가 프로그램 변수에 저장되면 이 data를 정리해서 저장\n",
    "5. excuteRestApi() 요청하고 데이터 받아서 변수저장 함수를 호출한 곳에 데이터 반환(그래서 return 문이 있다.)\n",
    "   - json형태의 text 객체를 반환"
   ]
  },
  {
   "cell_type": "code",
   "execution_count": 3,
   "id": "58f6aa36",
   "metadata": {},
   "outputs": [],
   "source": [
    "# 데이터 요청에 필요한 함수 인수를 받아서\n",
    "# 데이터 요청하고 전송된 데이터를 반환하는 함수\n",
    "# 데이터 요청이 실패했을 경우 예외 발생시킴\n",
    "# log를 구성해서 예외 발생 시 log에 기록되도록 진행\n",
    "\n",
    "def executeRestApi(method, url, headers, params):  \n",
    "    # params, headers는 dict로 구성되어야 함\n",
    "    # raise Exception('응답코드 : 500')  # 예외 테스트\n",
    "    # err_num = 10/0 # 예외 테스트\n",
    "    if method == \"get\": # header가 필요없음 - 파라미터로 사용해야 된다면 보통 {}(빈딕셔너리)가 전달됨\n",
    "        res = requests.get(url, params=params, headers=headers)\n",
    "    else: # post 요청: header필요, header는 {}로 구성되어야함\n",
    "        res = requests.post(url, data=params, headers=headers)\n",
    "\n",
    "    if res == None or res.status_code != 200:\n",
    "        raise Exception('응답코드 : ' + str(res.status_code))\n",
    "       \n",
    "    return res.text\n",
    "\n"
   ]
  },
  {
   "cell_type": "markdown",
   "id": "ffc3de26",
   "metadata": {
    "jp-MarkdownHeadingCollapsed": true
   },
   "source": [
    "### 기준일자 함수\n",
    "- 요청 data의 기준이 되는 yyyy-mm-dd 형식의 날짜형태 문자열을 생성하는 함수\n",
    "- 현 시점으로부터 며칠전 data인지 기준으로 날짜 생성\n",
    "    - eg) 어제data: 오늘로부터 1일전\n",
    "    - 이 기간을 인수로 전달하면 됨\n",
    "- 위에서 import datetime as dt로 패키지 import했었다."
   ]
  },
  {
   "cell_type": "code",
   "execution_count": 4,
   "id": "e88ea091-5634-4bea-9bc5-08745235e1ef",
   "metadata": {},
   "outputs": [
    {
     "data": {
      "text/plain": [
       "datetime.datetime(2024, 1, 21, 1, 23, 10, 757505)"
      ]
     },
     "execution_count": 4,
     "metadata": {},
     "output_type": "execute_result"
    },
    {
     "data": {
      "text/plain": [
       "2025"
      ]
     },
     "execution_count": 4,
     "metadata": {},
     "output_type": "execute_result"
    },
    {
     "data": {
      "text/plain": [
       "1"
      ]
     },
     "execution_count": 4,
     "metadata": {},
     "output_type": "execute_result"
    },
    {
     "data": {
      "text/plain": [
       "int"
      ]
     },
     "execution_count": 4,
     "metadata": {},
     "output_type": "execute_result"
    }
   ],
   "source": [
    "dt.datetime.now() - dt.timedelta(365)\n",
    "d = dt.datetime.now()\n",
    "d.year\n",
    "d.month\n",
    "type(d.year)"
   ]
  },
  {
   "cell_type": "code",
   "execution_count": 5,
   "id": "32ba1811",
   "metadata": {},
   "outputs": [],
   "source": [
    "# 오늘부터 얼마나 이전 날짜인지\n",
    "def cal_std_day(before_day):\n",
    "    x = dt.datetime.now() - dt.timedelta(before_day)\n",
    "    year = x.year\n",
    "    month = x.month if x.month >= 10 else '0'+ str(x.month) #원래 int타입이라 str로 변환\n",
    "    day = x.day if x.day >= 10 else '0' + str(x.day)\n",
    "    return str(year)+'-'+str(month)+'-'+str(day) #if에 안걸리면 int타입으로 반환되니까 str필요"
   ]
  },
  {
   "cell_type": "code",
   "execution_count": null,
   "id": "02dec740-5522-44cf-b455-aa7bb8a4159c",
   "metadata": {},
   "outputs": [],
   "source": []
  },
  {
   "cell_type": "code",
   "execution_count": 6,
   "id": "c4187936-e0fa-4259-a3e4-7823a3f909cc",
   "metadata": {},
   "outputs": [
    {
     "data": {
      "text/plain": [
       "'2025-01-19'"
      ]
     },
     "execution_count": 6,
     "metadata": {},
     "output_type": "execute_result"
    },
    {
     "data": {
      "text/plain": [
       "'2022-01-21'"
      ]
     },
     "execution_count": 6,
     "metadata": {},
     "output_type": "execute_result"
    },
    {
     "data": {
      "text/plain": [
       "'2025-01-20'"
      ]
     },
     "execution_count": 6,
     "metadata": {},
     "output_type": "execute_result"
    },
    {
     "data": {
      "text/plain": [
       "'2025-01-21'"
      ]
     },
     "execution_count": 6,
     "metadata": {},
     "output_type": "execute_result"
    },
    {
     "data": {
      "text/plain": [
       "'2022-01-18'"
      ]
     },
     "execution_count": 6,
     "metadata": {},
     "output_type": "execute_result"
    }
   ],
   "source": [
    "cal_std_day(1)\n",
    "cal_std_day(365*3) #오늘부터 3년전\n",
    "cal_std_day(0)\n",
    "cal_std_day(-1)\n",
    "cal_std_day(365*3+3)"
   ]
  },
  {
   "cell_type": "markdown",
   "id": "0ff62436-4735-42d9-b39c-4a755ff27519",
   "metadata": {
    "jp-MarkdownHeadingCollapsed": true
   },
   "source": [
    "## log 기록"
   ]
  },
  {
   "cell_type": "markdown",
   "id": "d496c812",
   "metadata": {
    "jp-MarkdownHeadingCollapsed": true
   },
   "source": [
    "#### logger\n",
    "- log 기록 프로그램\n",
    "- log : 프로그램을 실행하면서 나타나는 일련의 사건(error, event등 물리적으로 발생하는 내용이나 네트워크 송수신중 발생하는 이벤트)을 기록하는 프로그램\n",
    "- 파이썬 패키지 : logging"
   ]
  },
  {
   "cell_type": "markdown",
   "id": "f535dd9f-04cb-4211-9348-fcd959c64b21",
   "metadata": {},
   "source": [
    "- log는 외부연결 시 오류 관련 정보를 확인하기 위해 사용자 정의를 기록해야한다.\n",
    "- restAPI는 외부서버: log 기록\n",
    "- 사용자 정의 log 생성 순서\n",
    "    1. 로그 저장할 dir필요\n",
    "    2. 로그 관련 패키지 import\n",
    "    3. 모듈 활용 객체 logger생성 (logging.getLogger('로거이름'))\n",
    "    4. 로그파일 핸들러 생성 (logging.FileHandler('로그파일명.log'))\n",
    "    5. 로그파일 핸들러를 로거에 추가(로거와 로그파일 연결) : logger.addHandler(로그파일 핸들러 객체명)"
   ]
  },
  {
   "cell_type": "code",
   "execution_count": 7,
   "id": "ba9ddc6a",
   "metadata": {},
   "outputs": [],
   "source": [
    "import logging #로그 관련 패키지 import"
   ]
  },
  {
   "cell_type": "code",
   "execution_count": 8,
   "id": "a3f3f160-ba96-4d63-a8d4-b9363149932b",
   "metadata": {},
   "outputs": [],
   "source": [
    "co_logger = logging.getLogger('corona_api')\n",
    "f_handler = logging.FileHandler('./log/rest_api/'+cal_std_day(0)+'.log')\n",
    "co_logger.addHandler(f_handler) # log를 기록할 파일에 연결된 logger가 생성\n",
    "# note아래 log/rest_api라는 폴더가 없어서 에러가 났었다. vscode에서 dir생성해줌\n",
    "# dir만들고 들어가보면 오늘날짜.log라는 파일이 생성되어있다. -> 에러 없어서 현재는 빈파일로 확인됨"
   ]
  },
  {
   "cell_type": "code",
   "execution_count": 9,
   "id": "a6e7b30c",
   "metadata": {},
   "outputs": [],
   "source": [
    "# 강제 error 발생시켜서 log에 기록하는 test진행\n",
    "    # 실재 프로그램에서는 예외 또는 에러가 발생했을 때 기록을 위한 logger error발생\n",
    "# 이렇게 문자열로 찍을 수도 있음. json양식으로 log를 저장하면 다음에 읽어와서 처리하기도 편하다.\n",
    "co_logger.error('corona_patient_'+cal_std_day(0)+'.json 다운로드실패')\n",
    "# 실행하고 가보면 \"corona_patient_2025-01-17.json 다운로드실패\" 라고 한 줄 찍혀있음\n",
    "# 발생된 에러의 log는 /root/note/log/rest_api/ 디렉터리 내 log 파일에서 확인해야 함"
   ]
  },
  {
   "cell_type": "markdown",
   "id": "7a4dda89",
   "metadata": {},
   "source": [
    "## api 호출"
   ]
  },
  {
   "cell_type": "code",
   "execution_count": 10,
   "id": "22ce26ed",
   "metadata": {},
   "outputs": [],
   "source": [
    "# base var 생성\n",
    "url = 'http://apis.data.go.kr/1352000/ODMS_COVID_04/callCovid04Api'\n",
    "service_key = 'UlT9VwHvrFyq4AtJdmGh0byLAh3I/aaMbqLw9Lq1uigvSei2yTpPyBnrNKIbJlLV7oBc1hcnfI+ri7nq9XdcOg=='\n",
    "# 요청해 응답받은 rest_api data를 hdfs에 저장할 dir\n",
    "file_dir = '/corona_data/patient/'"
   ]
  },
  {
   "cell_type": "markdown",
   "id": "d26b0fc0-c1d4-43a5-89cf-a72a401b68c2",
   "metadata": {},
   "source": [
    "- 기본함수\n",
    "    - executeRestApi(method, url, headers, params)\n",
    "        - 데부분의 요청에 적용되는 함수\n",
    "    - params는 여러 data를 설정해야함\n",
    "        - 파라미터 생성 함수: create_param(std_day)\n",
    "            - std_day: 날짜가 아닌 오늘부터 얼마나 이전 데이터를 요청할 것인가에 대한 수치\n",
    "            - 이번 코로나발생현황 공공data api에만 적용되는 함수"
   ]
  },
  {
   "cell_type": "code",
   "execution_count": 12,
   "id": "d7b90343-4438-4990-bef2-b3aeeeba0087",
   "metadata": {},
   "outputs": [],
   "source": [
    "# 데이터별로 요청변수가 상이함(api 데이터가 다르면 당연히 return내용이 달라져야함)\n",
    "def create_param(std_day) :\n",
    "    return {'serviceKey':service_key\n",
    "        ,'pageNo':1\n",
    "        ,'numOfRows':'500'\n",
    "        ,'apiType':'JSON'\n",
    "        ,'std_day':cal_std_day(std_day)}"
   ]
  },
  {
   "cell_type": "code",
   "execution_count": 14,
   "id": "9383abb5-77b0-4e1f-8177-bcc4807ff242",
   "metadata": {},
   "outputs": [
    {
     "data": {
      "text/plain": [
       "{'serviceKey': 'UlT9VwHvrFyq4AtJdmGh0byLAh3I/aaMbqLw9Lq1uigvSei2yTpPyBnrNKIbJlLV7oBc1hcnfI+ri7nq9XdcOg==',\n",
       " 'pageNo': 1,\n",
       " 'numOfRows': '500',\n",
       " 'apiType': 'JSON',\n",
       " 'std_day': '2022-01-18'}"
      ]
     },
     "execution_count": 14,
     "metadata": {},
     "output_type": "execute_result"
    }
   ],
   "source": [
    "create_param(365*3+3)"
   ]
  },
  {
   "cell_type": "code",
   "execution_count": 15,
   "id": "1fefe85b-1102-4a84-b8bd-dc6a8470e9ae",
   "metadata": {},
   "outputs": [],
   "source": [
    "# 필요변수 생성\n",
    "params = create_param(365*3)\n",
    "# log기록 내용은 개발자가 결정, 형식은dict\n",
    "    #json형식(dict)로 log기록하면 분석이 쉬워짐(단순 문자열보다 형식이 있는 데이터 구성해야 나중에 분석하기가 좋음)\n",
    "log_dict={\n",
    "    \"is_success\":\"Fail\"\n",
    "    ,\"type\":\"corona_patient\"\n",
    "    ,\"std_day\":params['std_day']\n",
    "    ,\"params\":params\n",
    "}"
   ]
  },
  {
   "cell_type": "code",
   "execution_count": 30,
   "id": "caf3cfcc-841c-447a-8229-0524056d4d54",
   "metadata": {
    "collapsed": true,
    "jupyter": {
     "outputs_hidden": true
    }
   },
   "outputs": [
    {
     "name": "stdout",
     "output_type": "stream",
     "text": [
      "{\"pageNo\":\"1\",\"resultCode\":\"00\",\"totalCount\":19,\"items\":[{\"gubunEn\":\"Incheon\",\"deathCnt\":\"326\",\"defCnt\":\"40625\",\"isolClearCnt\":\"35422\",\"stdDay\":\"2022-01-18\",\"localOccCnt\":\"177\",\"qurRate\":\"1378\",\"overFlowCnt\":\"19\",\"gubunCn\":\"仁川\",\"incDec\":\"196\",\"isolIngCnt\":\"0\",\"gubun\":\"인천\"},{\"gubunEn\":\"Chungcheongbuk-do\",\"deathCnt\":\"123\",\"defCnt\":\"12555\",\"isolClearCnt\":\"11766\",\"stdDay\":\"2022-01-18\",\"localOccCnt\":\"55\",\"qurRate\":\"786\",\"overFlowCnt\":\"4\",\"gubunCn\":\"忠北\",\"incDec\":\"59\",\"isolIngCnt\":\"0\",\"gubun\":\"충북\"},{\"gubunEn\":\"Gangwon-do\",\"deathCnt\":\"110\",\"defCnt\":\"13838\",\"isolClearCnt\":\"12657\",\"stdDay\":\"2022-01-18\",\"localOccCnt\":\"94\",\"qurRate\":\"899\",\"overFlowCnt\":\"0\",\"gubunCn\":\"江原\",\"incDec\":\"94\",\"isolIngCnt\":\"0\",\"gubun\":\"강원\"},{\"gubunEn\":\"Busan\",\"deathCnt\":\"344\",\"defCnt\":\"28102\",\"isolClearCnt\":\"25796\",\"stdDay\":\"2022-01-18\",\"localOccCnt\":\"102\",\"qurRate\":\"839\",\"overFlowCnt\":\"12\",\"gubunCn\":\"釜山\",\"incDec\":\"114\",\"isolIngCnt\":\"0\",\"gubun\":\"부산\"},{\"gubunEn\":\"Ulsan\",\"deathCnt\":\"65\",\"defCnt\":\"7459\",\"isolClearCnt\":\"7107\",\"stdDay\":\"2022-01-18\",\"localOccCnt\":\"33\",\"qurRate\":\"665\",\"overFlowCnt\":\"2\",\"gubunCn\":\"蔚山\",\"incDec\":\"35\",\"isolIngCnt\":\"0\",\"gubun\":\"울산\"},{\"gubunEn\":\"Gwangju\",\"deathCnt\":\"60\",\"defCnt\":\"10475\",\"isolClearCnt\":\"8523\",\"stdDay\":\"2022-01-18\",\"localOccCnt\":\"174\",\"qurRate\":\"727\",\"overFlowCnt\":\"10\",\"gubunCn\":\"光州\",\"incDec\":\"184\",\"isolIngCnt\":\"0\",\"gubun\":\"광주\"},{\"gubunEn\":\"Total\",\"deathCnt\":\"6378\",\"defCnt\":\"700102\",\"isolClearCnt\":\"585673\",\"stdDay\":\"2022-01-18\",\"localOccCnt\":\"3763\",\"qurRate\":\"1356\",\"overFlowCnt\":\"309\",\"gubunCn\":\"合计\",\"incDec\":\"4072\",\"isolIngCnt\":\"0\",\"gubun\":\"합계\"},{\"gubunEn\":\"Sejong\",\"deathCnt\":\"4\",\"defCnt\":\"2388\",\"isolClearCnt\":\"2242\",\"stdDay\":\"2022-01-18\",\"localOccCnt\":\"21\",\"qurRate\":\"642\",\"overFlowCnt\":\"2\",\"gubunCn\":\"世宗\",\"incDec\":\"23\",\"isolIngCnt\":\"0\",\"gubun\":\"세종\"},{\"gubunEn\":\"Lazaretto\",\"deathCnt\":\"16\",\"defCnt\":\"7960\",\"isolClearCnt\":\"6734\",\"stdDay\":\"2022-01-18\",\"localOccCnt\":\"0\",\"qurRate\":\"-\",\"overFlowCnt\":\"77\",\"gubunCn\":\"隔離區\",\"incDec\":\"77\",\"isolIngCnt\":\"0\",\"gubun\":\"검역\"},{\"gubunEn\":\"Daegu\",\"deathCnt\":\"385\",\"defCnt\":\"25155\",\"isolClearCnt\":\"23380\",\"stdDay\":\"2022-01-18\",\"localOccCnt\":\"162\",\"qurRate\":\"1055\",\"overFlowCnt\":\"9\",\"gubunCn\":\"大邱\",\"incDec\":\"171\",\"isolIngCnt\":\"0\",\"gubun\":\"대구\"},{\"gubunEn\":\"Gyeongsangbuk-do\",\"deathCnt\":\"189\",\"defCnt\":\"16962\",\"isolClearCnt\":\"15281\",\"stdDay\":\"2022-01-18\",\"localOccCnt\":\"129\",\"qurRate\":\"646\",\"overFlowCnt\":\"9\",\"gubunCn\":\"庆北\",\"incDec\":\"138\",\"isolIngCnt\":\"0\",\"gubun\":\"경북\"},{\"gubunEn\":\"Gyeongsangnam-do\",\"deathCnt\":\"114\",\"defCnt\":\"22778\",\"isolClearCnt\":\"21299\",\"stdDay\":\"2022-01-18\",\"localOccCnt\":\"134\",\"qurRate\":\"687\",\"overFlowCnt\":\"8\",\"gubunCn\":\"庆南\",\"incDec\":\"142\",\"isolIngCnt\":\"0\",\"gubun\":\"경남\"},{\"gubunEn\":\"Seoul\",\"deathCnt\":\"2063\",\"defCnt\":\"243337\",\"isolClearCnt\":\"198148\",\"stdDay\":\"2022-01-18\",\"localOccCnt\":\"684\",\"qurRate\":\"2559\",\"overFlowCnt\":\"79\",\"gubunCn\":\"首尔\",\"incDec\":\"763\",\"isolIngCnt\":\"0\",\"gubun\":\"서울\"},{\"gubunEn\":\"Jeollanam-do\",\"deathCnt\":\"45\",\"defCnt\":\"7935\",\"isolClearCnt\":\"5885\",\"stdDay\":\"2022-01-18\",\"localOccCnt\":\"138\",\"qurRate\":\"433\",\"overFlowCnt\":\"1\",\"gubunCn\":\"全南\",\"incDec\":\"139\",\"isolIngCnt\":\"0\",\"gubun\":\"전남\"},{\"gubunEn\":\"Jeju\",\"deathCnt\":\"13\",\"defCnt\":\"4900\",\"isolClearCnt\":\"4792\",\"stdDay\":\"2022-01-18\",\"localOccCnt\":\"2\",\"qurRate\":\"724\",\"overFlowCnt\":\"1\",\"gubunCn\":\"济州\",\"incDec\":\"3\",\"isolIngCnt\":\"0\",\"gubun\":\"제주\"},{\"gubunEn\":\"Gyeonggi-do\",\"deathCnt\":\"2036\",\"defCnt\":\"210984\",\"isolClearCnt\":\"167373\",\"stdDay\":\"2022-01-18\",\"localOccCnt\":\"1470\",\"qurRate\":\"1555\",\"overFlowCnt\":\"60\",\"gubunCn\":\"京畿\",\"incDec\":\"1530\",\"isolIngCnt\":\"0\",\"gubun\":\"경기\"},{\"gubunEn\":\"Jeollabuk-do\",\"deathCnt\":\"121\",\"defCnt\":\"11245\",\"isolClearCnt\":\"10086\",\"stdDay\":\"2022-01-18\",\"localOccCnt\":\"147\",\"qurRate\":\"629\",\"overFlowCnt\":\"4\",\"gubunCn\":\"全北\",\"incDec\":\"151\",\"isolIngCnt\":\"0\",\"gubun\":\"전북\"},{\"gubunEn\":\"Chungcheongnam-do\",\"deathCnt\":\"177\",\"defCnt\":\"20142\",\"isolClearCnt\":\"17373\",\"stdDay\":\"2022-01-18\",\"localOccCnt\":\"140\",\"qurRate\":\"950\",\"overFlowCnt\":\"5\",\"gubunCn\":\"忠南\",\"incDec\":\"145\",\"isolIngCnt\":\"0\",\"gubun\":\"충남\"},{\"gubunEn\":\"Daejeon\",\"deathCnt\":\"187\",\"defCnt\":\"13262\",\"isolClearCnt\":\"11809\",\"stdDay\":\"2022-01-18\",\"localOccCnt\":\"101\",\"qurRate\":\"913\",\"overFlowCnt\":\"7\",\"gubunCn\":\"大田\",\"incDec\":\"108\",\"isolIngCnt\":\"0\",\"gubun\":\"대전\"}],\"numOfRows\":\"500\",\"resultMsg\":\"NORMAL SERVICE\"}\n"
     ]
    }
   ],
   "source": [
    "# 요청해서 json응답받고 hdfs에 저장 - 날짜별로 파일명 구분\n",
    "# 외부파일시스템과 연결하는 경우 try-except구문을 반드시 넣어야함\n",
    "try : \n",
    "    res=executeRestApi('get',url,{},params) #api에 data요청 후 결과 응답(res변수에 json형식으로 반환)\n",
    "    file_name='corona_patient_'+cal_std_day(365*3)+'.json' #hdfs에 저장할 파일명 생성\n",
    "    client.write(file_dir+file_name,res,encoding='utf-8') #hdfs에 저장\n",
    "except Exception as e: # 일반 python 예외\n",
    "    log_dict['err_msg']= e.__str__()\n",
    "    log_json = json.dumps(log_dict, ensure_ascii=False) #log json 형태로 기록\n",
    "    co_logger.error(log_json) #logger가 발생시키는 에러 - log 기록을 위함  \n",
    "print(res)"
   ]
  },
  {
   "cell_type": "markdown",
   "id": "ba06ff2b-c0db-4c49-becb-c6f09c457713",
   "metadata": {
    "jp-MarkdownHeadingCollapsed": true
   },
   "source": [
    "## 6일간의 발생현황 API로 받아서 데이터 hdfs에 저장"
   ]
  },
  {
   "cell_type": "markdown",
   "id": "2259c133-c49c-454e-a244-f19da7779091",
   "metadata": {},
   "source": [
    "- 날짜별 발생현황 파일 요청\n",
    "    - 해당 파일에 날짜를 파일명에 포함시켜서\n",
    "    - 정리없이 hdfs저장"
   ]
  },
  {
   "cell_type": "code",
   "execution_count": 44,
   "id": "afdb232e-a27d-42cb-a749-961fccf2736a",
   "metadata": {},
   "outputs": [
    {
     "name": "stdout",
     "output_type": "stream",
     "text": [
      "2022-01-18\n",
      "2022-01-17\n",
      "2022-01-16\n",
      "2022-01-15\n",
      "2022-01-14\n",
      "2022-01-13\n"
     ]
    }
   ],
   "source": [
    "# ETL 연습용 data hdfs에 저장\n",
    "for i in range(365*3, 367*3):\n",
    "    params = create_param(i)\n",
    "    print(params['std_day'])\n",
    "    try : \n",
    "        res=executeRestApi('get',url,{},params)\n",
    "        file_name='corona_patient_'+cal_std_day(i)+'.json' #hdfs에 저장할 파일명 생성\n",
    "        client.write(file_dir+file_name,res,encoding='utf-8') #hdfs에 저장\n",
    "    except Exception as e: # 일반 python 예외\n",
    "        log_dict['err_msg']= e.__str__()\n",
    "        log_json = json.dumps(log_dict, ensure_ascii=False) #log json 형태로 기록\n",
    "        co_logger.error(log_json) #logger가 발생시키는 에러 - log 기록을 위함  "
   ]
  },
  {
   "cell_type": "markdown",
   "id": "24c768e6-cfe7-4d0f-acd4-390a98c9890d",
   "metadata": {},
   "source": [
    "- 2022-01-13 ~ 2022-01-18 코로나 발생현황 data hdfs에 저장\n",
    "- json 형식으로 저장"
   ]
  },
  {
   "cell_type": "code",
   "execution_count": null,
   "id": "4d22c900-def0-402d-b33e-621c451459ed",
   "metadata": {},
   "outputs": [],
   "source": []
  },
  {
   "cell_type": "markdown",
   "id": "1c03b62d",
   "metadata": {},
   "source": [
    "## corona_vaccine 접종현황 data\n",
    "- 파일로 제공\n",
    "- 파일 data 읽어서 json형식으로 변경한 후에 hdfs에 저장\n",
    "- 필요 data 추출 후 정리 & 형식 변환"
   ]
  },
  {
   "cell_type": "code",
   "execution_count": 17,
   "id": "aaa536d8-d47c-46bc-b078-d32b1a6afc2c",
   "metadata": {},
   "outputs": [],
   "source": [
    "import pandas as pd"
   ]
  },
  {
   "cell_type": "code",
   "execution_count": 18,
   "id": "d6b8e146-1b56-4bc9-b5f5-59acd786accb",
   "metadata": {},
   "outputs": [
    {
     "data": {
      "text/html": [
       "<div>\n",
       "<style scoped>\n",
       "    .dataframe tbody tr th:only-of-type {\n",
       "        vertical-align: middle;\n",
       "    }\n",
       "\n",
       "    .dataframe tbody tr th {\n",
       "        vertical-align: top;\n",
       "    }\n",
       "\n",
       "    .dataframe thead th {\n",
       "        text-align: right;\n",
       "    }\n",
       "</style>\n",
       "<table border=\"1\" class=\"dataframe\">\n",
       "  <thead>\n",
       "    <tr style=\"text-align: right;\">\n",
       "      <th></th>\n",
       "      <th>loc</th>\n",
       "      <th>total</th>\n",
       "      <th>male</th>\n",
       "      <th>female</th>\n",
       "    </tr>\n",
       "  </thead>\n",
       "  <tbody>\n",
       "    <tr>\n",
       "      <th>0</th>\n",
       "      <td>전국</td>\n",
       "      <td>52739009</td>\n",
       "      <td>26360035</td>\n",
       "      <td>26378974</td>\n",
       "    </tr>\n",
       "    <tr>\n",
       "      <th>1</th>\n",
       "      <td>서울</td>\n",
       "      <td>9736027</td>\n",
       "      <td>4721977</td>\n",
       "      <td>5014050</td>\n",
       "    </tr>\n",
       "  </tbody>\n",
       "</table>\n",
       "</div>"
      ],
      "text/plain": [
       "  loc     total      male    female\n",
       "0  전국  52739009  26360035  26378974\n",
       "1  서울   9736027   4721977   5014050"
      ]
     },
     "execution_count": 18,
     "metadata": {},
     "output_type": "execute_result"
    }
   ],
   "source": [
    "# 인구data\n",
    "pop = pd.read_csv('data/corona_data/sido_population.csv',encoding='CP949')\n",
    "pop.head(2)"
   ]
  },
  {
   "cell_type": "code",
   "execution_count": 19,
   "id": "cb02c77d-b710-4e82-b0c5-f6c2091e64eb",
   "metadata": {
    "collapsed": true,
    "jupyter": {
     "outputs_hidden": true
    },
    "scrolled": true
   },
   "outputs": [
    {
     "data": {
      "text/html": [
       "<div>\n",
       "<style scoped>\n",
       "    .dataframe tbody tr th:only-of-type {\n",
       "        vertical-align: middle;\n",
       "    }\n",
       "\n",
       "    .dataframe tbody tr th {\n",
       "        vertical-align: top;\n",
       "    }\n",
       "\n",
       "    .dataframe thead th {\n",
       "        text-align: right;\n",
       "    }\n",
       "</style>\n",
       "<table border=\"1\" class=\"dataframe\">\n",
       "  <thead>\n",
       "    <tr style=\"text-align: right;\">\n",
       "      <th></th>\n",
       "      <th>sido</th>\n",
       "      <th>firstCnt</th>\n",
       "      <th>secondCnt</th>\n",
       "      <th>totalFirstCnt</th>\n",
       "      <th>totalSecondCnt</th>\n",
       "      <th>accumulatedFirstCnt</th>\n",
       "      <th>accumulatedSecondCnt</th>\n",
       "      <th>id</th>\n",
       "      <th>thirdCnt</th>\n",
       "      <th>totalThirdCnt</th>\n",
       "      <th>accumulatedThirdCnt</th>\n",
       "    </tr>\n",
       "    <tr>\n",
       "      <th>baseDate</th>\n",
       "      <th></th>\n",
       "      <th></th>\n",
       "      <th></th>\n",
       "      <th></th>\n",
       "      <th></th>\n",
       "      <th></th>\n",
       "      <th></th>\n",
       "      <th></th>\n",
       "      <th></th>\n",
       "      <th></th>\n",
       "      <th></th>\n",
       "    </tr>\n",
       "  </thead>\n",
       "  <tbody>\n",
       "    <tr>\n",
       "      <th>2022-11-09 00:00:00</th>\n",
       "      <td>제주특별자치도</td>\n",
       "      <td>6.0</td>\n",
       "      <td>5.0</td>\n",
       "      <td>591064</td>\n",
       "      <td>585442.0</td>\n",
       "      <td>591058</td>\n",
       "      <td>585437.0</td>\n",
       "      <td>10176</td>\n",
       "      <td>38.0</td>\n",
       "      <td>439144.0</td>\n",
       "      <td>439106.0</td>\n",
       "    </tr>\n",
       "    <tr>\n",
       "      <th>2022-11-09 00:00:00</th>\n",
       "      <td>전국</td>\n",
       "      <td>175.0</td>\n",
       "      <td>224.0</td>\n",
       "      <td>45123225</td>\n",
       "      <td>44693321.0</td>\n",
       "      <td>45123050</td>\n",
       "      <td>44693097.0</td>\n",
       "      <td>10159</td>\n",
       "      <td>1678.0</td>\n",
       "      <td>33673146.0</td>\n",
       "      <td>33671468.0</td>\n",
       "    </tr>\n",
       "    <tr>\n",
       "      <th>2022-11-09 00:00:00</th>\n",
       "      <td>서울특별시</td>\n",
       "      <td>28.0</td>\n",
       "      <td>43.0</td>\n",
       "      <td>8335326</td>\n",
       "      <td>8257811.0</td>\n",
       "      <td>8335298</td>\n",
       "      <td>8257768.0</td>\n",
       "      <td>10160</td>\n",
       "      <td>482.0</td>\n",
       "      <td>6076911.0</td>\n",
       "      <td>6076429.0</td>\n",
       "    </tr>\n",
       "    <tr>\n",
       "      <th>2022-11-09 00:00:00</th>\n",
       "      <td>부산광역시</td>\n",
       "      <td>8.0</td>\n",
       "      <td>14.0</td>\n",
       "      <td>2879908</td>\n",
       "      <td>2851376.0</td>\n",
       "      <td>2879900</td>\n",
       "      <td>2851362.0</td>\n",
       "      <td>10161</td>\n",
       "      <td>136.0</td>\n",
       "      <td>2140909.0</td>\n",
       "      <td>2140773.0</td>\n",
       "    </tr>\n",
       "    <tr>\n",
       "      <th>2022-11-09 00:00:00</th>\n",
       "      <td>대구광역시</td>\n",
       "      <td>8.0</td>\n",
       "      <td>8.0</td>\n",
       "      <td>2018612</td>\n",
       "      <td>1995791.0</td>\n",
       "      <td>2018604</td>\n",
       "      <td>1995783.0</td>\n",
       "      <td>10162</td>\n",
       "      <td>56.0</td>\n",
       "      <td>1405219.0</td>\n",
       "      <td>1405163.0</td>\n",
       "    </tr>\n",
       "  </tbody>\n",
       "</table>\n",
       "</div>"
      ],
      "text/plain": [
       "                        sido  firstCnt  secondCnt  totalFirstCnt  \\\n",
       "baseDate                                                           \n",
       "2022-11-09 00:00:00  제주특별자치도       6.0        5.0         591064   \n",
       "2022-11-09 00:00:00       전국     175.0      224.0       45123225   \n",
       "2022-11-09 00:00:00    서울특별시      28.0       43.0        8335326   \n",
       "2022-11-09 00:00:00    부산광역시       8.0       14.0        2879908   \n",
       "2022-11-09 00:00:00    대구광역시       8.0        8.0        2018612   \n",
       "\n",
       "                     totalSecondCnt  accumulatedFirstCnt  \\\n",
       "baseDate                                                   \n",
       "2022-11-09 00:00:00        585442.0               591058   \n",
       "2022-11-09 00:00:00      44693321.0             45123050   \n",
       "2022-11-09 00:00:00       8257811.0              8335298   \n",
       "2022-11-09 00:00:00       2851376.0              2879900   \n",
       "2022-11-09 00:00:00       1995791.0              2018604   \n",
       "\n",
       "                     accumulatedSecondCnt     id  thirdCnt  totalThirdCnt  \\\n",
       "baseDate                                                                    \n",
       "2022-11-09 00:00:00              585437.0  10176      38.0       439144.0   \n",
       "2022-11-09 00:00:00            44693097.0  10159    1678.0     33673146.0   \n",
       "2022-11-09 00:00:00             8257768.0  10160     482.0      6076911.0   \n",
       "2022-11-09 00:00:00             2851362.0  10161     136.0      2140909.0   \n",
       "2022-11-09 00:00:00             1995783.0  10162      56.0      1405219.0   \n",
       "\n",
       "                     accumulatedThirdCnt  \n",
       "baseDate                                  \n",
       "2022-11-09 00:00:00             439106.0  \n",
       "2022-11-09 00:00:00           33671468.0  \n",
       "2022-11-09 00:00:00            6076429.0  \n",
       "2022-11-09 00:00:00            2140773.0  \n",
       "2022-11-09 00:00:00            1405163.0  "
      ]
     },
     "execution_count": 19,
     "metadata": {},
     "output_type": "execute_result"
    }
   ],
   "source": [
    "vac_v1 = pd.read_csv('data/corona_data/Covid19Vaccine.csv', index_col=0)\n",
    "vac_v1.head(5)"
   ]
  },
  {
   "cell_type": "code",
   "execution_count": 6,
   "id": "b5319fac-324f-47b0-a1db-fcac7e49a18d",
   "metadata": {
    "collapsed": true,
    "jupyter": {
     "outputs_hidden": true
    },
    "scrolled": true
   },
   "outputs": [
    {
     "name": "stdout",
     "output_type": "stream",
     "text": [
      "<class 'pandas.core.frame.DataFrame'>\n",
      "Index: 10158 entries, 2022-11-09 00:00:00 to 2021-03-11 00:00:00\n",
      "Data columns (total 11 columns):\n",
      " #   Column                Non-Null Count  Dtype  \n",
      "---  ------                --------------  -----  \n",
      " 0   sido                  10158 non-null  object \n",
      " 1   firstCnt              9839 non-null   float64\n",
      " 2   secondCnt             9339 non-null   float64\n",
      " 3   totalFirstCnt         10158 non-null  int64  \n",
      " 4   totalSecondCnt        9867 non-null   float64\n",
      " 5   accumulatedFirstCnt   10158 non-null  int64  \n",
      " 6   accumulatedSecondCnt  9851 non-null   float64\n",
      " 7   id                    10158 non-null  int64  \n",
      " 8   thirdCnt              6191 non-null   float64\n",
      " 9   totalThirdCnt         6261 non-null   float64\n",
      " 10  accumulatedThirdCnt   6243 non-null   float64\n",
      "dtypes: float64(7), int64(3), object(1)\n",
      "memory usage: 952.3+ KB\n"
     ]
    }
   ],
   "source": [
    "vac_v1.info()"
   ]
  },
  {
   "cell_type": "code",
   "execution_count": null,
   "id": "cf9b3f2b-4a19-4898-8576-4fc3e2880cc8",
   "metadata": {},
   "outputs": [],
   "source": [
    "- 백신 데이터 광역시도명이 기 수집한 데이터의 광역시도명과 다르기 때문에\n",
    "    - 백신데이터를 변경 후 파일 저장"
   ]
  },
  {
   "cell_type": "code",
   "execution_count": 20,
   "id": "b0e5ca91-ddb5-4e2a-afe5-13242df2e59a",
   "metadata": {
    "collapsed": true,
    "jupyter": {
     "outputs_hidden": true
    },
    "scrolled": true
   },
   "outputs": [
    {
     "data": {
      "text/plain": [
       "baseDate\n",
       "2022-11-09 00:00:00    제주특별자치도\n",
       "2022-11-09 00:00:00         전국\n",
       "2022-11-09 00:00:00      서울특별시\n",
       "2022-11-09 00:00:00      부산광역시\n",
       "2022-11-09 00:00:00      대구광역시\n",
       "2022-11-09 00:00:00      광주광역시\n",
       "2022-11-09 00:00:00      인천광역시\n",
       "2022-11-09 00:00:00      대전광역시\n",
       "2022-11-09 00:00:00        경기도\n",
       "2022-11-09 00:00:00    세종특별자치시\n",
       "2022-11-09 00:00:00       경상남도\n",
       "2022-11-09 00:00:00       경상북도\n",
       "2022-11-09 00:00:00       전라남도\n",
       "2022-11-09 00:00:00       전라북도\n",
       "2022-11-09 00:00:00       충청남도\n",
       "2022-11-09 00:00:00       충청북도\n",
       "2022-11-09 00:00:00        강원도\n",
       "2022-11-09 00:00:00      울산광역시\n",
       "2021-04-26 00:00:00         기타\n",
       "Name: sido, dtype: object"
      ]
     },
     "execution_count": 20,
     "metadata": {},
     "output_type": "execute_result"
    }
   ],
   "source": [
    "# 원본 data추출: 의미없이 반복문 안돌게 중복 없이 추출\n",
    "vac_v1[['sido']].drop_duplicates()['sido']"
   ]
  },
  {
   "cell_type": "code",
   "execution_count": 18,
   "id": "d8c86f08-62cd-42e3-a59c-cbb62c5da29b",
   "metadata": {},
   "outputs": [
    {
     "name": "stdout",
     "output_type": "stream",
     "text": [
      "['제주특별자치도', '전국', '서울특별시', '부산광역시', '대구광역시', '광주광역시', '인천광역시', '대전광역시', '경기도', '세종특별자치시', '경상남도', '경상북도', '전라남도', '전라북도', '충청남도', '충청북도', '강원도', '울산광역시', '기타']\n",
      "['강원도', '경기도', '경상남도', '경상북도', '광주광역시', '대구광역시', '대전광역시', '부산광역시', '서울특별시', '세종특별자치시', '울산광역시', '인천광역시', '전국', '전라남도', '전라북도', '제주특별자치도', '충청남도', '충청북도']\n"
     ]
    }
   ],
   "source": [
    "before = [sido for sido in vac_v1[['sido']].drop_duplicates()['sido']]\n",
    "print(before)\n",
    "before.sort()\n",
    "before.remove('기타')\n",
    "print(before)"
   ]
  },
  {
   "cell_type": "code",
   "execution_count": 9,
   "id": "e34a99a8",
   "metadata": {
    "collapsed": true,
    "jupyter": {
     "outputs_hidden": true
    }
   },
   "outputs": [
    {
     "data": {
      "text/plain": [
       "0     전국\n",
       "1     서울\n",
       "2     부산\n",
       "3     대구\n",
       "4     인천\n",
       "5     광주\n",
       "6     대전\n",
       "7     울산\n",
       "8     세종\n",
       "9     경기\n",
       "10    강원\n",
       "11    충북\n",
       "12    충남\n",
       "13    전북\n",
       "14    전남\n",
       "15    경북\n",
       "16    경남\n",
       "17    제주\n",
       "Name: loc, dtype: object"
      ]
     },
     "execution_count": 9,
     "metadata": {},
     "output_type": "execute_result"
    }
   ],
   "source": [
    "pop['loc']"
   ]
  },
  {
   "cell_type": "code",
   "execution_count": 19,
   "id": "713c6e55-9501-4e93-bddc-206d65371a69",
   "metadata": {},
   "outputs": [
    {
     "name": "stdout",
     "output_type": "stream",
     "text": [
      "['강원', '경기', '경남', '경북', '광주', '대구', '대전', '부산', '서울', '세종', '울산', '인천', '전국', '전남', '전북', '제주', '충남', '충북']\n"
     ]
    }
   ],
   "source": [
    "after = [sido for sido in pop['loc']]\n",
    "after.sort()\n",
    "print(after)"
   ]
  },
  {
   "cell_type": "code",
   "execution_count": 20,
   "id": "bb1960f3-a8d1-4d75-92fc-7efc40dbc673",
   "metadata": {},
   "outputs": [],
   "source": [
    "for i in range(0, len(after)):\n",
    "    vac_v1['sido'] = vac_v1['sido'].replace(before[i], after[i])"
   ]
  },
  {
   "cell_type": "code",
   "execution_count": 21,
   "id": "4d6ca806-e85b-4f34-b6f2-8ce995bfb42c",
   "metadata": {
    "collapsed": true,
    "jupyter": {
     "outputs_hidden": true
    },
    "scrolled": true
   },
   "outputs": [
    {
     "data": {
      "text/html": [
       "<div>\n",
       "<style scoped>\n",
       "    .dataframe tbody tr th:only-of-type {\n",
       "        vertical-align: middle;\n",
       "    }\n",
       "\n",
       "    .dataframe tbody tr th {\n",
       "        vertical-align: top;\n",
       "    }\n",
       "\n",
       "    .dataframe thead th {\n",
       "        text-align: right;\n",
       "    }\n",
       "</style>\n",
       "<table border=\"1\" class=\"dataframe\">\n",
       "  <thead>\n",
       "    <tr style=\"text-align: right;\">\n",
       "      <th></th>\n",
       "      <th>sido</th>\n",
       "      <th>firstCnt</th>\n",
       "      <th>secondCnt</th>\n",
       "      <th>totalFirstCnt</th>\n",
       "      <th>totalSecondCnt</th>\n",
       "      <th>accumulatedFirstCnt</th>\n",
       "      <th>accumulatedSecondCnt</th>\n",
       "      <th>id</th>\n",
       "      <th>thirdCnt</th>\n",
       "      <th>totalThirdCnt</th>\n",
       "      <th>accumulatedThirdCnt</th>\n",
       "    </tr>\n",
       "    <tr>\n",
       "      <th>baseDate</th>\n",
       "      <th></th>\n",
       "      <th></th>\n",
       "      <th></th>\n",
       "      <th></th>\n",
       "      <th></th>\n",
       "      <th></th>\n",
       "      <th></th>\n",
       "      <th></th>\n",
       "      <th></th>\n",
       "      <th></th>\n",
       "      <th></th>\n",
       "    </tr>\n",
       "  </thead>\n",
       "  <tbody>\n",
       "    <tr>\n",
       "      <th>2022-11-09 00:00:00</th>\n",
       "      <td>제주</td>\n",
       "      <td>6.0</td>\n",
       "      <td>5.0</td>\n",
       "      <td>591064</td>\n",
       "      <td>585442.0</td>\n",
       "      <td>591058</td>\n",
       "      <td>585437.0</td>\n",
       "      <td>10176</td>\n",
       "      <td>38.0</td>\n",
       "      <td>439144.0</td>\n",
       "      <td>439106.0</td>\n",
       "    </tr>\n",
       "    <tr>\n",
       "      <th>2022-11-09 00:00:00</th>\n",
       "      <td>전국</td>\n",
       "      <td>175.0</td>\n",
       "      <td>224.0</td>\n",
       "      <td>45123225</td>\n",
       "      <td>44693321.0</td>\n",
       "      <td>45123050</td>\n",
       "      <td>44693097.0</td>\n",
       "      <td>10159</td>\n",
       "      <td>1678.0</td>\n",
       "      <td>33673146.0</td>\n",
       "      <td>33671468.0</td>\n",
       "    </tr>\n",
       "    <tr>\n",
       "      <th>2022-11-09 00:00:00</th>\n",
       "      <td>서울</td>\n",
       "      <td>28.0</td>\n",
       "      <td>43.0</td>\n",
       "      <td>8335326</td>\n",
       "      <td>8257811.0</td>\n",
       "      <td>8335298</td>\n",
       "      <td>8257768.0</td>\n",
       "      <td>10160</td>\n",
       "      <td>482.0</td>\n",
       "      <td>6076911.0</td>\n",
       "      <td>6076429.0</td>\n",
       "    </tr>\n",
       "    <tr>\n",
       "      <th>2022-11-09 00:00:00</th>\n",
       "      <td>부산</td>\n",
       "      <td>8.0</td>\n",
       "      <td>14.0</td>\n",
       "      <td>2879908</td>\n",
       "      <td>2851376.0</td>\n",
       "      <td>2879900</td>\n",
       "      <td>2851362.0</td>\n",
       "      <td>10161</td>\n",
       "      <td>136.0</td>\n",
       "      <td>2140909.0</td>\n",
       "      <td>2140773.0</td>\n",
       "    </tr>\n",
       "    <tr>\n",
       "      <th>2022-11-09 00:00:00</th>\n",
       "      <td>대구</td>\n",
       "      <td>8.0</td>\n",
       "      <td>8.0</td>\n",
       "      <td>2018612</td>\n",
       "      <td>1995791.0</td>\n",
       "      <td>2018604</td>\n",
       "      <td>1995783.0</td>\n",
       "      <td>10162</td>\n",
       "      <td>56.0</td>\n",
       "      <td>1405219.0</td>\n",
       "      <td>1405163.0</td>\n",
       "    </tr>\n",
       "  </tbody>\n",
       "</table>\n",
       "</div>"
      ],
      "text/plain": [
       "                    sido  firstCnt  secondCnt  totalFirstCnt  totalSecondCnt  \\\n",
       "baseDate                                                                       \n",
       "2022-11-09 00:00:00   제주       6.0        5.0         591064        585442.0   \n",
       "2022-11-09 00:00:00   전국     175.0      224.0       45123225      44693321.0   \n",
       "2022-11-09 00:00:00   서울      28.0       43.0        8335326       8257811.0   \n",
       "2022-11-09 00:00:00   부산       8.0       14.0        2879908       2851376.0   \n",
       "2022-11-09 00:00:00   대구       8.0        8.0        2018612       1995791.0   \n",
       "\n",
       "                     accumulatedFirstCnt  accumulatedSecondCnt     id  \\\n",
       "baseDate                                                                \n",
       "2022-11-09 00:00:00               591058              585437.0  10176   \n",
       "2022-11-09 00:00:00             45123050            44693097.0  10159   \n",
       "2022-11-09 00:00:00              8335298             8257768.0  10160   \n",
       "2022-11-09 00:00:00              2879900             2851362.0  10161   \n",
       "2022-11-09 00:00:00              2018604             1995783.0  10162   \n",
       "\n",
       "                     thirdCnt  totalThirdCnt  accumulatedThirdCnt  \n",
       "baseDate                                                           \n",
       "2022-11-09 00:00:00      38.0       439144.0             439106.0  \n",
       "2022-11-09 00:00:00    1678.0     33673146.0           33671468.0  \n",
       "2022-11-09 00:00:00     482.0      6076911.0            6076429.0  \n",
       "2022-11-09 00:00:00     136.0      2140909.0            2140773.0  \n",
       "2022-11-09 00:00:00      56.0      1405219.0            1405163.0  "
      ]
     },
     "execution_count": 21,
     "metadata": {},
     "output_type": "execute_result"
    }
   ],
   "source": [
    "vac_v1.head(5)"
   ]
  },
  {
   "cell_type": "markdown",
   "id": "3f5bc9f1-64ff-4a80-83e0-baf92c1ee26a",
   "metadata": {},
   "source": [
    "- 2022-01-18에 해당하는 데이터를 vac_v1에서 추출"
   ]
  },
  {
   "cell_type": "code",
   "execution_count": 37,
   "id": "5ed94fa8-d906-405c-821f-0cc5d4d0d30f",
   "metadata": {},
   "outputs": [
    {
     "data": {
      "text/plain": [
       "'2022-01-18'"
      ]
     },
     "execution_count": 37,
     "metadata": {},
     "output_type": "execute_result"
    }
   ],
   "source": [
    "cal_std_day(365*3)"
   ]
  },
  {
   "cell_type": "code",
   "execution_count": 22,
   "id": "a853a467-8cec-4f85-b6ac-08a12518af32",
   "metadata": {},
   "outputs": [
    {
     "data": {
      "text/html": [
       "<div>\n",
       "<style scoped>\n",
       "    .dataframe tbody tr th:only-of-type {\n",
       "        vertical-align: middle;\n",
       "    }\n",
       "\n",
       "    .dataframe tbody tr th {\n",
       "        vertical-align: top;\n",
       "    }\n",
       "\n",
       "    .dataframe thead th {\n",
       "        text-align: right;\n",
       "    }\n",
       "</style>\n",
       "<table border=\"1\" class=\"dataframe\">\n",
       "  <thead>\n",
       "    <tr style=\"text-align: right;\">\n",
       "      <th></th>\n",
       "      <th>sido</th>\n",
       "      <th>firstCnt</th>\n",
       "      <th>secondCnt</th>\n",
       "      <th>totalFirstCnt</th>\n",
       "      <th>totalSecondCnt</th>\n",
       "      <th>accumulatedFirstCnt</th>\n",
       "      <th>accumulatedSecondCnt</th>\n",
       "      <th>id</th>\n",
       "      <th>thirdCnt</th>\n",
       "      <th>totalThirdCnt</th>\n",
       "      <th>accumulatedThirdCnt</th>\n",
       "    </tr>\n",
       "    <tr>\n",
       "      <th>baseDate</th>\n",
       "      <th></th>\n",
       "      <th></th>\n",
       "      <th></th>\n",
       "      <th></th>\n",
       "      <th></th>\n",
       "      <th></th>\n",
       "      <th></th>\n",
       "      <th></th>\n",
       "      <th></th>\n",
       "      <th></th>\n",
       "      <th></th>\n",
       "    </tr>\n",
       "  </thead>\n",
       "  <tbody>\n",
       "    <tr>\n",
       "      <th>2022-01-18 00:00:00</th>\n",
       "      <td>광주</td>\n",
       "      <td>523.0</td>\n",
       "      <td>2469.0</td>\n",
       "      <td>1247764</td>\n",
       "      <td>1220758.0</td>\n",
       "      <td>1247241</td>\n",
       "      <td>1218289.0</td>\n",
       "      <td>5648</td>\n",
       "      <td>11353.0</td>\n",
       "      <td>682394.0</td>\n",
       "      <td>671041.0</td>\n",
       "    </tr>\n",
       "    <tr>\n",
       "      <th>2022-01-18 00:00:00</th>\n",
       "      <td>울산</td>\n",
       "      <td>382.0</td>\n",
       "      <td>2280.0</td>\n",
       "      <td>956895</td>\n",
       "      <td>933311.0</td>\n",
       "      <td>956513</td>\n",
       "      <td>931031.0</td>\n",
       "      <td>5647</td>\n",
       "      <td>9470.0</td>\n",
       "      <td>476692.0</td>\n",
       "      <td>467222.0</td>\n",
       "    </tr>\n",
       "  </tbody>\n",
       "</table>\n",
       "</div>"
      ],
      "text/plain": [
       "                    sido  firstCnt  secondCnt  totalFirstCnt  totalSecondCnt  \\\n",
       "baseDate                                                                       \n",
       "2022-01-18 00:00:00   광주     523.0     2469.0        1247764       1220758.0   \n",
       "2022-01-18 00:00:00   울산     382.0     2280.0         956895        933311.0   \n",
       "\n",
       "                     accumulatedFirstCnt  accumulatedSecondCnt    id  \\\n",
       "baseDate                                                               \n",
       "2022-01-18 00:00:00              1247241             1218289.0  5648   \n",
       "2022-01-18 00:00:00               956513              931031.0  5647   \n",
       "\n",
       "                     thirdCnt  totalThirdCnt  accumulatedThirdCnt  \n",
       "baseDate                                                           \n",
       "2022-01-18 00:00:00   11353.0       682394.0             671041.0  \n",
       "2022-01-18 00:00:00    9470.0       476692.0             467222.0  "
      ]
     },
     "execution_count": 22,
     "metadata": {},
     "output_type": "execute_result"
    }
   ],
   "source": [
    "# T/F를 이용한 논리 indexing\n",
    "# loc에 논리 인덱싱 행 index만 구성하면 레코드를 추출\n",
    "finVac = vac_v1.loc[vac_v1.index.str.contains(cal_std_day(365*3))]\n",
    "finVac.head(2)"
   ]
  },
  {
   "cell_type": "code",
   "execution_count": null,
   "id": "29d1c05e-0c3b-4c60-93f3-fde67754ac44",
   "metadata": {},
   "outputs": [],
   "source": [
    "# duf dntjs dlseprtlr\n",
    "vax_v1[1]\n",
    "# 행우선 인덱서: loc[], iloc[]: 인덱서처럼 사용하기 위해서 대괄호 이용하여 사용하는 모듈이다.\n",
    "# 열우선vac_va['sido',1:3] : 행을 가져오고싶어서 이런코딩하면 출력 불가\n"
   ]
  },
  {
   "cell_type": "markdown",
   "id": "8c0b4577-3013-4dbc-a17a-361657dc61c4",
   "metadata": {},
   "source": [
    "#### Json 구성"
   ]
  },
  {
   "cell_type": "code",
   "execution_count": 23,
   "id": "7fc2923d-802f-4caa-a454-9401dac4b39a",
   "metadata": {},
   "outputs": [
    {
     "data": {
      "text/plain": [
       "sido                           대구\n",
       "firstCnt                    893.0\n",
       "secondCnt                  4524.0\n",
       "totalFirstCnt             1997407\n",
       "totalSecondCnt          1945813.0\n",
       "accumulatedFirstCnt       1996514\n",
       "accumulatedSecondCnt    1941289.0\n",
       "id                           5644\n",
       "thirdCnt                  15716.0\n",
       "totalThirdCnt            978794.0\n",
       "accumulatedThirdCnt      963078.0\n",
       "Name: 2022-01-18 00:00:00, dtype: object"
      ]
     },
     "execution_count": 23,
     "metadata": {},
     "output_type": "execute_result"
    }
   ],
   "source": [
    "# 레코드 추출 - iloc[위치값] (행추출)\n",
    "finVac.iloc[4]"
   ]
  },
  {
   "cell_type": "code",
   "execution_count": 24,
   "id": "b8abfc58-d1a9-4717-b5a0-e72f7fc20a0c",
   "metadata": {},
   "outputs": [],
   "source": [
    "# hdfs에 저장할 data\n",
    "cols = ['loc', 'v1', 'v2', 'v3']\n",
    "data = []"
   ]
  },
  {
   "cell_type": "code",
   "execution_count": 105,
   "id": "91c207e6-4304-4ef2-ba43-460a7204a622",
   "metadata": {
    "collapsed": true,
    "jupyter": {
     "outputs_hidden": true
    },
    "scrolled": true
   },
   "outputs": [
    {
     "name": "stdout",
     "output_type": "stream",
     "text": [
      "['광주', '1247764', '1220758.0', '682394.0']\n",
      "['울산', '956895', '933311.0', '476692.0']\n",
      "['인천', '2532911', '2484196.0', '1330273.0']\n",
      "['대전', '1231435', '1203724.0', '628469.0']\n",
      "['대구', '1997407', '1945813.0', '978794.0']\n",
      "['부산', '2849093', '2788089.0', '1554554.0']\n",
      "['서울', '8239400', '8090244.0', '4304485.0']\n",
      "['전국', '44505276', '43582128.0', '23741205.0']\n",
      "['세종', '290455', '282507.0', '138100.0']\n",
      "['경기', '11652853', '11414202.0', '5970505.0']\n",
      "['제주', '580579', '566811.0', '295807.0']\n",
      "['경남', '2848083', '2783896.0', '1517240.0']\n",
      "['경북', '2260963', '2202814.0', '1247047.0']\n",
      "['전남', '1632045', '1602479.0', '1031459.0']\n",
      "['전북', '1574779', '1547262.0', '958100.0']\n",
      "['충남', '1870124', '1830143.0', '1048429.0']\n",
      "['충북', '1408620', '1379378.0', '783588.0']\n",
      "['강원', '1331870', '1306501.0', '795269.0']\n"
     ]
    }
   ],
   "source": [
    "# for idx in range (0, len(finVac.index)):\n",
    "#     tuple_t=[]\n",
    "#     tmp = finVac.iloc[idx]\n",
    "#     tuple_t.append(str(tmp.sido))\n",
    "#     tuple_t.append(str(tmp.totalFirstCnt))\n",
    "#     tuple_t.append(str(tmp.totalSecondCnt))\n",
    "#     tuple_t.append(str(tmp.totalThirdCnt))\n",
    "#     print(tuple_t)"
   ]
  },
  {
   "cell_type": "code",
   "execution_count": 25,
   "id": "2d8500f1-3f30-45d9-97a5-1bb9a1e45063",
   "metadata": {},
   "outputs": [],
   "source": [
    "# 얘를 위에 hdfs에 저장할 data로 만들어 놓은 cols 와 인덱스 별로 매칭시켜서 데이터 구성 ==> zip함수 이용\n",
    "for idx in range (0, len(finVac.index)):\n",
    "    tuple_t=[]\n",
    "    tmp = finVac.iloc[idx]\n",
    "    tuple_t.append(str(tmp.sido))\n",
    "    tuple_t.append(str(tmp.totalFirstCnt))\n",
    "    tuple_t.append(str(tmp.totalSecondCnt))\n",
    "    tuple_t.append(str(tmp.totalThirdCnt))\n",
    "    data.append(dict(zip(cols, tuple_t)))"
   ]
  },
  {
   "cell_type": "code",
   "execution_count": 26,
   "id": "de93389e-dd17-4681-8619-ab7a2ba6c75a",
   "metadata": {},
   "outputs": [
    {
     "data": {
      "text/plain": [
       "[{'loc': '광주', 'v1': '1247764', 'v2': '1220758.0', 'v3': '682394.0'},\n",
       " {'loc': '울산', 'v1': '956895', 'v2': '933311.0', 'v3': '476692.0'},\n",
       " {'loc': '인천', 'v1': '2532911', 'v2': '2484196.0', 'v3': '1330273.0'},\n",
       " {'loc': '대전', 'v1': '1231435', 'v2': '1203724.0', 'v3': '628469.0'},\n",
       " {'loc': '대구', 'v1': '1997407', 'v2': '1945813.0', 'v3': '978794.0'},\n",
       " {'loc': '부산', 'v1': '2849093', 'v2': '2788089.0', 'v3': '1554554.0'},\n",
       " {'loc': '서울', 'v1': '8239400', 'v2': '8090244.0', 'v3': '4304485.0'},\n",
       " {'loc': '전국', 'v1': '44505276', 'v2': '43582128.0', 'v3': '23741205.0'},\n",
       " {'loc': '세종', 'v1': '290455', 'v2': '282507.0', 'v3': '138100.0'},\n",
       " {'loc': '경기', 'v1': '11652853', 'v2': '11414202.0', 'v3': '5970505.0'},\n",
       " {'loc': '제주', 'v1': '580579', 'v2': '566811.0', 'v3': '295807.0'},\n",
       " {'loc': '경남', 'v1': '2848083', 'v2': '2783896.0', 'v3': '1517240.0'},\n",
       " {'loc': '경북', 'v1': '2260963', 'v2': '2202814.0', 'v3': '1247047.0'},\n",
       " {'loc': '전남', 'v1': '1632045', 'v2': '1602479.0', 'v3': '1031459.0'},\n",
       " {'loc': '전북', 'v1': '1574779', 'v2': '1547262.0', 'v3': '958100.0'},\n",
       " {'loc': '충남', 'v1': '1870124', 'v2': '1830143.0', 'v3': '1048429.0'},\n",
       " {'loc': '충북', 'v1': '1408620', 'v2': '1379378.0', 'v3': '783588.0'},\n",
       " {'loc': '강원', 'v1': '1331870', 'v2': '1306501.0', 'v3': '795269.0'}]"
      ]
     },
     "execution_count": 26,
     "metadata": {},
     "output_type": "execute_result"
    }
   ],
   "source": [
    "# 실제 data\n",
    "data"
   ]
  },
  {
   "cell_type": "code",
   "execution_count": 16,
   "id": "17e0e3ef-bc7e-4e78-9b21-29aa1b689964",
   "metadata": {},
   "outputs": [
    {
     "ename": "NameError",
     "evalue": "name 'data' is not defined",
     "output_type": "error",
     "traceback": [
      "\u001b[0;31m---------------------------------------------------------------------------\u001b[0m",
      "\u001b[0;31mNameError\u001b[0m                                 Traceback (most recent call last)",
      "Cell \u001b[0;32mIn[16], line 13\u001b[0m\n\u001b[1;32m      1\u001b[0m \u001b[38;5;66;03m# data를 설명하는 메타 데이터 포함한 최종 결과 생성\u001b[39;00m\n\u001b[1;32m      2\u001b[0m res \u001b[38;5;241m=\u001b[39m {\n\u001b[1;32m      3\u001b[0m     \u001b[38;5;124m'\u001b[39m\u001b[38;5;124mmeta\u001b[39m\u001b[38;5;124m'\u001b[39m : {\n\u001b[1;32m      4\u001b[0m         \u001b[38;5;124m'\u001b[39m\u001b[38;5;124mdesc\u001b[39m\u001b[38;5;124m'\u001b[39m:\u001b[38;5;124m'\u001b[39m\u001b[38;5;124m지역별 코로나 예방접종 인구 현황\u001b[39m\u001b[38;5;124m'\u001b[39m,\n\u001b[1;32m      5\u001b[0m         \u001b[38;5;124m'\u001b[39m\u001b[38;5;124mcols\u001b[39m\u001b[38;5;124m'\u001b[39m:{\n\u001b[1;32m      6\u001b[0m             \u001b[38;5;124m'\u001b[39m\u001b[38;5;124mloc\u001b[39m\u001b[38;5;124m'\u001b[39m:\u001b[38;5;124m'\u001b[39m\u001b[38;5;124m지역\u001b[39m\u001b[38;5;124m'\u001b[39m\n\u001b[1;32m      7\u001b[0m             ,\u001b[38;5;124m'\u001b[39m\u001b[38;5;124mv1\u001b[39m\u001b[38;5;124m'\u001b[39m:\u001b[38;5;124m'\u001b[39m\u001b[38;5;124m1차 접종 누적\u001b[39m\u001b[38;5;124m'\u001b[39m\n\u001b[1;32m      8\u001b[0m             ,\u001b[38;5;124m'\u001b[39m\u001b[38;5;124mv2\u001b[39m\u001b[38;5;124m'\u001b[39m:\u001b[38;5;124m'\u001b[39m\u001b[38;5;124m2차 접종 누적\u001b[39m\u001b[38;5;124m'\u001b[39m\n\u001b[1;32m      9\u001b[0m             ,\u001b[38;5;124m'\u001b[39m\u001b[38;5;124mv3\u001b[39m\u001b[38;5;124m'\u001b[39m:\u001b[38;5;124m'\u001b[39m\u001b[38;5;124m3차 접종 누적\u001b[39m\u001b[38;5;124m'\u001b[39m\n\u001b[1;32m     10\u001b[0m         },\n\u001b[1;32m     11\u001b[0m         \u001b[38;5;124m'\u001b[39m\u001b[38;5;124mstdDay\u001b[39m\u001b[38;5;124m'\u001b[39m:cal_std_day(\u001b[38;5;241m365\u001b[39m\u001b[38;5;241m*\u001b[39m\u001b[38;5;241m3\u001b[39m)\n\u001b[1;32m     12\u001b[0m     },\n\u001b[0;32m---> 13\u001b[0m     \u001b[38;5;124m'\u001b[39m\u001b[38;5;124mdata\u001b[39m\u001b[38;5;124m'\u001b[39m:\u001b[43mdata\u001b[49m\n\u001b[1;32m     14\u001b[0m }\n",
      "\u001b[0;31mNameError\u001b[0m: name 'data' is not defined"
     ]
    }
   ],
   "source": [
    "# data를 설명하는 메타 데이터 포함한 최종 결과 생성\n",
    "res = {\n",
    "    'meta' : {\n",
    "        'desc':'지역별 코로나 예방접종 인구 현황',\n",
    "        'cols':{\n",
    "            'loc':'지역'\n",
    "            ,'v1':'1차 접종 누적'\n",
    "            ,'v2':'2차 접종 누적'\n",
    "            ,'v3':'3차 접종 누적'\n",
    "        },\n",
    "        'stdDay':cal_std_day(365*3)\n",
    "    },\n",
    "    'data':data\n",
    "}"
   ]
  },
  {
   "cell_type": "code",
   "execution_count": 28,
   "id": "9b6a2877-5f1a-40bd-88e1-dca5ffbe1ba3",
   "metadata": {},
   "outputs": [
    {
     "data": {
      "text/plain": [
       "{'meta': {'desc': '지역별 코로나 예방접종 인구 현황',\n",
       "  'cols': {'loc': '지역', 'v1': '1차 접종 누적', 'v2': '2차 접종 누적', 'v3': '3차 접종 누적'},\n",
       "  'stdDay': '2022-01-18'},\n",
       " 'data': [{'loc': '광주', 'v1': '1247764', 'v2': '1220758.0', 'v3': '682394.0'},\n",
       "  {'loc': '울산', 'v1': '956895', 'v2': '933311.0', 'v3': '476692.0'},\n",
       "  {'loc': '인천', 'v1': '2532911', 'v2': '2484196.0', 'v3': '1330273.0'},\n",
       "  {'loc': '대전', 'v1': '1231435', 'v2': '1203724.0', 'v3': '628469.0'},\n",
       "  {'loc': '대구', 'v1': '1997407', 'v2': '1945813.0', 'v3': '978794.0'},\n",
       "  {'loc': '부산', 'v1': '2849093', 'v2': '2788089.0', 'v3': '1554554.0'},\n",
       "  {'loc': '서울', 'v1': '8239400', 'v2': '8090244.0', 'v3': '4304485.0'},\n",
       "  {'loc': '전국', 'v1': '44505276', 'v2': '43582128.0', 'v3': '23741205.0'},\n",
       "  {'loc': '세종', 'v1': '290455', 'v2': '282507.0', 'v3': '138100.0'},\n",
       "  {'loc': '경기', 'v1': '11652853', 'v2': '11414202.0', 'v3': '5970505.0'},\n",
       "  {'loc': '제주', 'v1': '580579', 'v2': '566811.0', 'v3': '295807.0'},\n",
       "  {'loc': '경남', 'v1': '2848083', 'v2': '2783896.0', 'v3': '1517240.0'},\n",
       "  {'loc': '경북', 'v1': '2260963', 'v2': '2202814.0', 'v3': '1247047.0'},\n",
       "  {'loc': '전남', 'v1': '1632045', 'v2': '1602479.0', 'v3': '1031459.0'},\n",
       "  {'loc': '전북', 'v1': '1574779', 'v2': '1547262.0', 'v3': '958100.0'},\n",
       "  {'loc': '충남', 'v1': '1870124', 'v2': '1830143.0', 'v3': '1048429.0'},\n",
       "  {'loc': '충북', 'v1': '1408620', 'v2': '1379378.0', 'v3': '783588.0'},\n",
       "  {'loc': '강원', 'v1': '1331870', 'v2': '1306501.0', 'v3': '795269.0'}]}"
      ]
     },
     "execution_count": 28,
     "metadata": {},
     "output_type": "execute_result"
    }
   ],
   "source": [
    "res"
   ]
  },
  {
   "cell_type": "code",
   "execution_count": 29,
   "id": "75795c4d-5b62-4f60-92ef-40f47e2a2d22",
   "metadata": {
    "scrolled": true
   },
   "outputs": [],
   "source": [
    "file_dir_vac = '/corona_data/vaccine/'\n",
    "file_name = 'corona_vaccine_'+cal_std_day(365*3)+'.json'\n",
    "client.write(file_dir_vac+file_name,json.dumps(res, ensure_ascii=False),encoding='utf-8')"
   ]
  },
  {
   "cell_type": "code",
   "execution_count": 30,
   "id": "88caee38-7b6a-4a95-89c7-f809f84a2b9c",
   "metadata": {},
   "outputs": [
    {
     "name": "stderr",
     "output_type": "stream",
     "text": [
      "[Stage 1:>                                                          (0 + 1) / 1]"
     ]
    },
    {
     "name": "stdout",
     "output_type": "stream",
     "text": [
      "+----------------------+---------------------------+\n",
      "|                  data|                       meta|\n",
      "+----------------------+---------------------------+\n",
      "|[{광주, 1247764, 12...|{{지역, 1차 접종 누적, 2...|\n",
      "+----------------------+---------------------------+\n",
      "\n"
     ]
    },
    {
     "name": "stderr",
     "output_type": "stream",
     "text": [
      "                                                                                "
     ]
    }
   ],
   "source": [
    "# spark 모듈로 방금 저장한 파일 읽어오기\n",
    "# read.json: df로 지연연산\n",
    "file_dir_vac = '/corona_data/vaccine/'\n",
    "file_name = 'corona_vaccine_'+cal_std_day(365*3)+'.json'\n",
    "vaccine=spark.read.json(file_dir_vac+file_name)\n",
    "vaccine.show()"
   ]
  },
  {
   "cell_type": "code",
   "execution_count": 32,
   "id": "aad5d787-a248-4243-978a-ff176970c06c",
   "metadata": {},
   "outputs": [],
   "source": [
    "### 파일 읽어오기\n",
    "vac_v1 = pd.read_csv('data/corona_data/Covid19VaccineV2.csv', index_col=0)"
   ]
  },
  {
   "cell_type": "code",
   "execution_count": 33,
   "id": "65dbc771-f347-4510-910a-2cf97c7a2895",
   "metadata": {
    "collapsed": true,
    "jupyter": {
     "outputs_hidden": true
    }
   },
   "outputs": [
    {
     "ename": "HdfsError",
     "evalue": "/corona_data/vaccine/corona_vaccine_2022-01-18.json for client 127.0.0.1 already exists\n\tat org.apache.hadoop.hdfs.server.namenode.FSDirWriteFileOp.startFile(FSDirWriteFileOp.java:388)\n\tat org.apache.hadoop.hdfs.server.namenode.FSNamesystem.startFileInt(FSNamesystem.java:2819)\n\tat org.apache.hadoop.hdfs.server.namenode.FSNamesystem.startFile(FSNamesystem.java:2713)\n\tat org.apache.hadoop.hdfs.server.namenode.NameNodeRpcServer.create(NameNodeRpcServer.java:830)\n\tat org.apache.hadoop.hdfs.protocolPB.ClientNamenodeProtocolServerSideTranslatorPB.create(ClientNamenodeProtocolServerSideTranslatorPB.java:504)\n\tat org.apache.hadoop.hdfs.protocol.proto.ClientNamenodeProtocolProtos$ClientNamenodeProtocol$2.callBlockingMethod(ClientNamenodeProtocolProtos.java)\n\tat org.apache.hadoop.ipc.ProtobufRpcEngine2$Server$ProtoBufRpcInvoker.call(ProtobufRpcEngine2.java:621)\n\tat org.apache.hadoop.ipc.ProtobufRpcEngine2$Server$ProtoBufRpcInvoker.call(ProtobufRpcEngine2.java:589)\n\tat org.apache.hadoop.ipc.ProtobufRpcEngine2$Server$ProtoBufRpcInvoker.call(ProtobufRpcEngine2.java:573)\n\tat org.apache.hadoop.ipc.RPC$Server.call(RPC.java:1227)\n\tat org.apache.hadoop.ipc.Server$RpcCall.run(Server.java:1246)\n\tat org.apache.hadoop.ipc.Server$RpcCall.run(Server.java:1169)\n\tat java.base/java.security.AccessController.doPrivileged(Native Method)\n\tat java.base/javax.security.auth.Subject.doAs(Subject.java:423)\n\tat org.apache.hadoop.security.UserGroupInformation.doAs(UserGroupInformation.java:1953)\n\tat org.apache.hadoop.ipc.Server$Handler.run(Server.java:3203)\n",
     "output_type": "error",
     "traceback": [
      "\u001b[0;31m---------------------------------------------------------------------------\u001b[0m",
      "\u001b[0;31mHdfsError\u001b[0m                                 Traceback (most recent call last)",
      "Cell \u001b[0;32mIn[33], line 31\u001b[0m\n\u001b[1;32m     29\u001b[0m file_dir_vac \u001b[38;5;241m=\u001b[39m \u001b[38;5;124m'\u001b[39m\u001b[38;5;124m/corona_data/vaccine/\u001b[39m\u001b[38;5;124m'\u001b[39m\n\u001b[1;32m     30\u001b[0m file_name \u001b[38;5;241m=\u001b[39m \u001b[38;5;124m'\u001b[39m\u001b[38;5;124mcorona_vaccine_\u001b[39m\u001b[38;5;124m'\u001b[39m\u001b[38;5;241m+\u001b[39mcal_std_day(\u001b[38;5;241m365\u001b[39m\u001b[38;5;241m*\u001b[39m\u001b[38;5;241m3\u001b[39m)\u001b[38;5;241m+\u001b[39m\u001b[38;5;124m'\u001b[39m\u001b[38;5;124m.json\u001b[39m\u001b[38;5;124m'\u001b[39m\n\u001b[0;32m---> 31\u001b[0m \u001b[43mclient\u001b[49m\u001b[38;5;241;43m.\u001b[39;49m\u001b[43mwrite\u001b[49m\u001b[43m(\u001b[49m\u001b[43mfile_dir_vac\u001b[49m\u001b[38;5;241;43m+\u001b[39;49m\u001b[43mfile_name\u001b[49m\u001b[43m,\u001b[49m\u001b[43mjson\u001b[49m\u001b[38;5;241;43m.\u001b[39;49m\u001b[43mdumps\u001b[49m\u001b[43m(\u001b[49m\u001b[43mres\u001b[49m\u001b[43m,\u001b[49m\u001b[43m \u001b[49m\u001b[43mensure_ascii\u001b[49m\u001b[38;5;241;43m=\u001b[39;49m\u001b[38;5;28;43;01mFalse\u001b[39;49;00m\u001b[43m)\u001b[49m\u001b[43m,\u001b[49m\u001b[43mencoding\u001b[49m\u001b[38;5;241;43m=\u001b[39;49m\u001b[38;5;124;43m'\u001b[39;49m\u001b[38;5;124;43mutf-8\u001b[39;49m\u001b[38;5;124;43m'\u001b[39;49m\u001b[43m)\u001b[49m\n",
      "File \u001b[0;32m/usr/local/lib/python3.10/dist-packages/hdfs/client.py:520\u001b[0m, in \u001b[0;36mClient.write\u001b[0;34m(self, hdfs_path, data, overwrite, permission, blocksize, replication, buffersize, append, encoding)\u001b[0m\n\u001b[1;32m    518\u001b[0m   \u001b[38;5;28;01mreturn\u001b[39;00m AsyncWriter(consumer)\n\u001b[1;32m    519\u001b[0m \u001b[38;5;28;01melse\u001b[39;00m:\n\u001b[0;32m--> 520\u001b[0m   \u001b[43mconsumer\u001b[49m\u001b[43m(\u001b[49m\u001b[43mdata\u001b[49m\u001b[43m)\u001b[49m\n",
      "File \u001b[0;32m/usr/local/lib/python3.10/dist-packages/hdfs/client.py:515\u001b[0m, in \u001b[0;36mClient.write.<locals>.consumer\u001b[0;34m(_data)\u001b[0m\n\u001b[1;32m    509\u001b[0m res \u001b[38;5;241m=\u001b[39m \u001b[38;5;28mself\u001b[39m\u001b[38;5;241m.\u001b[39m_request(\n\u001b[1;32m    510\u001b[0m   method\u001b[38;5;241m=\u001b[39m\u001b[38;5;124m'\u001b[39m\u001b[38;5;124mPOST\u001b[39m\u001b[38;5;124m'\u001b[39m \u001b[38;5;28;01mif\u001b[39;00m append \u001b[38;5;28;01melse\u001b[39;00m \u001b[38;5;124m'\u001b[39m\u001b[38;5;124mPUT\u001b[39m\u001b[38;5;124m'\u001b[39m,\n\u001b[1;32m    511\u001b[0m   url\u001b[38;5;241m=\u001b[39mloc,\n\u001b[1;32m    512\u001b[0m   data\u001b[38;5;241m=\u001b[39m(c\u001b[38;5;241m.\u001b[39mencode(encoding) \u001b[38;5;28;01mfor\u001b[39;00m c \u001b[38;5;129;01min\u001b[39;00m _data) \u001b[38;5;28;01mif\u001b[39;00m encoding \u001b[38;5;28;01melse\u001b[39;00m _data,\n\u001b[1;32m    513\u001b[0m )\n\u001b[1;32m    514\u001b[0m \u001b[38;5;28;01mif\u001b[39;00m \u001b[38;5;129;01mnot\u001b[39;00m res:\n\u001b[0;32m--> 515\u001b[0m   \u001b[38;5;28;01mraise\u001b[39;00m _to_error(res)\n",
      "\u001b[0;31mHdfsError\u001b[0m: /corona_data/vaccine/corona_vaccine_2022-01-18.json for client 127.0.0.1 already exists\n\tat org.apache.hadoop.hdfs.server.namenode.FSDirWriteFileOp.startFile(FSDirWriteFileOp.java:388)\n\tat org.apache.hadoop.hdfs.server.namenode.FSNamesystem.startFileInt(FSNamesystem.java:2819)\n\tat org.apache.hadoop.hdfs.server.namenode.FSNamesystem.startFile(FSNamesystem.java:2713)\n\tat org.apache.hadoop.hdfs.server.namenode.NameNodeRpcServer.create(NameNodeRpcServer.java:830)\n\tat org.apache.hadoop.hdfs.protocolPB.ClientNamenodeProtocolServerSideTranslatorPB.create(ClientNamenodeProtocolServerSideTranslatorPB.java:504)\n\tat org.apache.hadoop.hdfs.protocol.proto.ClientNamenodeProtocolProtos$ClientNamenodeProtocol$2.callBlockingMethod(ClientNamenodeProtocolProtos.java)\n\tat org.apache.hadoop.ipc.ProtobufRpcEngine2$Server$ProtoBufRpcInvoker.call(ProtobufRpcEngine2.java:621)\n\tat org.apache.hadoop.ipc.ProtobufRpcEngine2$Server$ProtoBufRpcInvoker.call(ProtobufRpcEngine2.java:589)\n\tat org.apache.hadoop.ipc.ProtobufRpcEngine2$Server$ProtoBufRpcInvoker.call(ProtobufRpcEngine2.java:573)\n\tat org.apache.hadoop.ipc.RPC$Server.call(RPC.java:1227)\n\tat org.apache.hadoop.ipc.Server$RpcCall.run(Server.java:1246)\n\tat org.apache.hadoop.ipc.Server$RpcCall.run(Server.java:1169)\n\tat java.base/java.security.AccessController.doPrivileged(Native Method)\n\tat java.base/javax.security.auth.Subject.doAs(Subject.java:423)\n\tat org.apache.hadoop.security.UserGroupInformation.doAs(UserGroupInformation.java:1953)\n\tat org.apache.hadoop.ipc.Server$Handler.run(Server.java:3203)\n"
     ]
    }
   ],
   "source": [
    "# 전체 코드\n",
    "cols = ['loc', 'v1', 'v2', 'v3']\n",
    "data = []\n",
    "finVac = vac_v1.loc[vac_v1.index.str.contains(cal_std_day(365*3))]\n",
    "\n",
    "for idx in range (0, len(finVac.index)):\n",
    "    tuple_t=[]\n",
    "    tmp = finVac.iloc[idx]\n",
    "    tuple_t.append(str(tmp.sido))\n",
    "    tuple_t.append(str(tmp.totalFirstCnt))\n",
    "    tuple_t.append(str(tmp.totalSecondCnt))\n",
    "    tuple_t.append(str(tmp.totalThirdCnt))\n",
    "    data.append(dict(zip(cols, tuple_t)))\n",
    "\n",
    "res = {\n",
    "    'meta' : {\n",
    "        'desc':'지역별 코로나 예방접종 인구 현황',\n",
    "        'cols':{\n",
    "            'loc':'지역'\n",
    "            ,'v1':'1차 접종 누적'\n",
    "            ,'v2':'2차 접종 누적'\n",
    "            ,'v3':'3차 접종 누적'\n",
    "        },\n",
    "        'stdDay':cal_std_day(365*3)\n",
    "    },\n",
    "    'data':data\n",
    "}\n",
    "\n",
    "file_dir_vac = '/corona_data/vaccine/'\n",
    "file_name = 'corona_vaccine_'+cal_std_day(365*3)+'.json'\n",
    "client.write(file_dir_vac+file_name,json.dumps(res, ensure_ascii=False),encoding='utf-8')"
   ]
  },
  {
   "cell_type": "code",
   "execution_count": 34,
   "id": "35350d2e-bc30-425a-9523-9bb28bd9f217",
   "metadata": {},
   "outputs": [
    {
     "name": "stdout",
     "output_type": "stream",
     "text": [
      "2022-01-18\n",
      "2022-01-17\n",
      "2022-01-16\n",
      "2022-01-15\n",
      "2022-01-14\n",
      "2022-01-13\n"
     ]
    }
   ],
   "source": [
    "# 연습용 파일 생성 -> hdfs에 저장\n",
    "\n",
    "for i in range(365*3, 367*3):\n",
    "    print(cal_std_day(i))\n",
    "    cols = ['loc', 'v1', 'v2', 'v3']\n",
    "    data = []\n",
    "    finVac = vac_v1.loc[vac_v1.index.str.contains(cal_std_day(i))]\n",
    "    \n",
    "    for idx in range (0, len(finVac.index)):\n",
    "        tuple_t=[]\n",
    "        tmp = finVac.iloc[idx]\n",
    "        tuple_t.append(str(tmp.sido))\n",
    "        tuple_t.append(str(tmp.totalFirstCnt))\n",
    "        tuple_t.append(str(tmp.totalSecondCnt))\n",
    "        tuple_t.append(str(tmp.totalThirdCnt))\n",
    "        data.append(dict(zip(cols, tuple_t)))\n",
    "    \n",
    "    res = {\n",
    "        'meta' : {\n",
    "            'desc':'지역별 코로나 예방접종 인구 현황',\n",
    "            'cols':{\n",
    "                'loc':'지역'\n",
    "                ,'v1':'1차 접종 누적'\n",
    "                ,'v2':'2차 접종 누적'\n",
    "                ,'v3':'3차 접종 누적'\n",
    "            },\n",
    "            'stdDay':cal_std_day(i)\n",
    "        },\n",
    "        'data':data\n",
    "    }\n",
    "    try:\n",
    "        file_dir_vac = '/corona_data/vaccine/'\n",
    "        file_name = 'corona_vaccine_'+cal_std_day(i)+'.json'\n",
    "        client.write(file_dir_vac+file_name,json.dumps(res, ensure_ascii=False),encoding='utf-8')\n",
    "    except Exception as e:\n",
    "        log_dict = {\n",
    "            'type':'/corona_data/vaccine/'\n",
    "            ,'error_message' : e.__str__()}\n",
    "        log_json = json.dumps(log_dict, ensure_ascii=False)\n",
    "        co_logger.error(log_json)"
   ]
  }
 ],
 "metadata": {
  "kernelspec": {
   "display_name": "Python 3 (ipykernel)",
   "language": "python",
   "name": "python3"
  },
  "language_info": {
   "codemirror_mode": {
    "name": "ipython",
    "version": 3
   },
   "file_extension": ".py",
   "mimetype": "text/x-python",
   "name": "python",
   "nbconvert_exporter": "python",
   "pygments_lexer": "ipython3",
   "version": "3.10.12"
  },
  "vscode": {
   "interpreter": {
    "hash": "916dbcbb3f70747c44a77c7bcd40155683ae19c65e1c03b4aa3499c5328201f1"
   }
  }
 },
 "nbformat": 4,
 "nbformat_minor": 5
}
