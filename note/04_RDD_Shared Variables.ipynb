{
 "cells": [
  {
   "cell_type": "code",
   "execution_count": 2,
   "id": "9e054fb7",
   "metadata": {},
   "outputs": [],
   "source": [
    "from IPython.core.interactiveshell import InteractiveShell\n",
    "InteractiveShell.ast_node_interactivity = \"all\""
   ]
  },
  {
   "cell_type": "code",
   "execution_count": 3,
   "id": "e7efb298-ed41-46be-acc2-31a59366cf60",
   "metadata": {},
   "outputs": [
    {
     "name": "stdout",
     "output_type": "stream",
     "text": [
      "11\n"
     ]
    }
   ],
   "source": [
    "a=10\n",
    "def afunc():\n",
    "    global a #공유변수\n",
    "    a+=1 #참조해서 값을 읽어 다시 참소변수에 저장할 때는 지역변수에서만 찾는다. 단, global로 표시되어있으면 전역변수까지 확인\n",
    "    print(a) # a는 afunc()입장에서는 전역변수\n",
    "\n",
    "afunc()"
   ]
  },
  {
   "cell_type": "markdown",
   "id": "c564ce46",
   "metadata": {},
   "source": [
    "# Shared Variables"
   ]
  },
  {
   "cell_type": "markdown",
   "id": "ab721049",
   "metadata": {},
   "source": [
    "- 모든 노드에서 사용하기 위한 공유(전역)변수: 수정 불가능\n",
    "    - Broadcast Variables\n",
    "- 공유변수로 지정한 값은 모든 노드에 중복되어 캐시된다.\n",
    "- 반복적으로 사용해야하는 변수라면,  \n",
    "  스파크의 노드는 네트워크를 통해 통신 하기 때문에 모든 노드에 중복 캐시하는 시스템적 비용보다  \n",
    "  네트워크 과정에서 발생하는 오버헤드 비용이 더 많이 발생하게 된다."
   ]
  },
  {
   "cell_type": "markdown",
   "id": "fddb3590",
   "metadata": {},
   "source": [
    "## Broadcast Variables"
   ]
  },
  {
   "cell_type": "markdown",
   "id": "8b8f1695",
   "metadata": {},
   "source": [
    "- 각 노드에 공유되는 읽기 전용 변수"
   ]
  },
  {
   "cell_type": "code",
   "execution_count": 4,
   "id": "3b910ad9",
   "metadata": {},
   "outputs": [],
   "source": [
    "# 학생별 수업카테고리코드로 지정되어있는 값을 카테고리 전체이름으로 변경한다고 가정 해보자\n",
    "\n",
    "data = [(\"홍길동\",\"DE\"),\n",
    "    (\"이제동\",\"DS\"),\n",
    "    (\"김철수\",\"DE\"),\n",
    "    (\"변현재\",\"WD\")]\n",
    "\n",
    "code_desc = {\"DE\":\"Data Engineer\", \"DS\":\"Data Science\", \"WD\":\"Web Developer\"}\n",
    "    "
   ]
  },
  {
   "cell_type": "code",
   "execution_count": 6,
   "id": "c7336809-e0b4-46fd-a4d9-581f68cbe10b",
   "metadata": {},
   "outputs": [
    {
     "name": "stderr",
     "output_type": "stream",
     "text": [
      "                                                                                "
     ]
    },
    {
     "data": {
      "text/plain": [
       "[('홍길동', 'DE'), ('이제동', 'DS'), ('김철수', 'DE'), ('변현재', 'WD')]"
      ]
     },
     "execution_count": 6,
     "metadata": {},
     "output_type": "execute_result"
    }
   ],
   "source": [
    "students_rdd = sc.parallelize(data,3)\n",
    "students_rdd.collect()"
   ]
  },
  {
   "cell_type": "code",
   "execution_count": 7,
   "id": "086afdf9-a844-4437-8d0d-910ef0caa720",
   "metadata": {},
   "outputs": [
    {
     "name": "stderr",
     "output_type": "stream",
     "text": [
      "                                                                                "
     ]
    },
    {
     "data": {
      "text/plain": [
       "[('홍길동', 'Data Engineer'),\n",
       " ('이제동', 'Data Science'),\n",
       " ('김철수', 'Data Engineer'),\n",
       " ('변현재', 'Web Developer')]"
      ]
     },
     "execution_count": 7,
     "metadata": {},
     "output_type": "execute_result"
    }
   ],
   "source": [
    "students_rdd.mapValues(lambda e: code_desc[e]).collect()"
   ]
  },
  {
   "cell_type": "markdown",
   "id": "72df1c0b-5b9c-4c6a-bfdc-b844a3b88cdd",
   "metadata": {},
   "source": [
    "### 학생 전공명 변경\n",
    "- 학생 data는 여러 rdd 객체로 구성되어있음\n",
    "- 변경할 전공명은 code_desc 변수에 저장\n",
    "- code_desc는 모든 rdd가 접근 가능해야하고, 내용이 변경되면 안됨\n",
    "    - 공유변수로 등록, 변경 불가능한 readonly로 등록해서 사용할 필요가 있음: Broadcast_variables로 생성해서 사용\n",
    "\n",
    "### Broadcast variables\n",
    "- sc(spark_context)가 아닌 spark(spark_session)객체 변수로 제공\n",
    "- spark.sparkContext.bradcast(변수로 사용할 값이나 변수)"
   ]
  },
  {
   "cell_type": "code",
   "execution_count": 15,
   "id": "fcbf31fb",
   "metadata": {},
   "outputs": [
    {
     "data": {
      "text/plain": [
       "{'DE': 'Data Engineer', 'DS': 'Data Science', 'WD': 'Web Developer'}"
      ]
     },
     "execution_count": 15,
     "metadata": {},
     "output_type": "execute_result"
    },
    {
     "data": {
      "text/plain": [
       "{'DE': 'Data Engineer', 'DS': 'PROCESS', 'WD': 'Web Developer'}"
      ]
     },
     "execution_count": 15,
     "metadata": {},
     "output_type": "execute_result"
    },
    {
     "data": {
      "text/plain": [
       "{'DE': 'Data Engineer', 'DS': 'PROCESS', 'WD': 'Web Developer'}"
      ]
     },
     "execution_count": 15,
     "metadata": {},
     "output_type": "execute_result"
    },
    {
     "data": {
      "text/plain": [
       "{'DS': 'PROCESS', 'WD': 'Web Developer'}"
      ]
     },
     "execution_count": 15,
     "metadata": {},
     "output_type": "execute_result"
    },
    {
     "name": "stderr",
     "output_type": "stream",
     "text": [
      "                                                                                "
     ]
    },
    {
     "data": {
      "text/plain": [
       "[('홍길동', 'Data Engineer'),\n",
       " ('이제동', 'PROCESS'),\n",
       " ('김철수', 'Data Engineer'),\n",
       " ('변현재', 'Web Developer')]"
      ]
     },
     "execution_count": 15,
     "metadata": {},
     "output_type": "execute_result"
    },
    {
     "name": "stderr",
     "output_type": "stream",
     "text": [
      "                                                                                "
     ]
    },
    {
     "data": {
      "text/plain": [
       "[('홍길동', 'Data Engineer'),\n",
       " ('이제동', 'Data Science'),\n",
       " ('김철수', 'Data Engineer'),\n",
       " ('변현재', 'Web Developer')]"
      ]
     },
     "execution_count": 15,
     "metadata": {},
     "output_type": "execute_result"
    }
   ],
   "source": [
    "# Broadcast_variables 사용하기\n",
    "# 생성하는 시점에 등록이 되고, 객체변수도 반환됨\n",
    "code_desc = {\"DE\":\"Data Engineer\", \"DS\":\"Data Science\", \"WD\":\"Web Developer\"} #등록할 변수\n",
    "broadcast_S = spark.sparkContext.broadcast(code_desc) # 세션에 변수 등록하면 객체 반환\n",
    "broadcast_S.value #얘가 객체라서 .value로 값에 접근해야함\n",
    "\n",
    "# 읽기전용 변수, 수정을 하면\n",
    "code_desc['DS'] = 'PROCESS'\n",
    "broadcast_S.value['DS'] = 'PROCESS'\n",
    "code_desc\n",
    "broadcast_S.value # 여기서는 변한 것 같아 보여도 뒤에 최종 결과값 확인 할 때는 변함이 없다.\n",
    "\n",
    "# 삭제를 해도\n",
    "del(broadcast_S.value['DE'])\n",
    "broadcast_S.value #action연산이므로 rdd내부에는 반영되지 않음.\n",
    "\n",
    "students_rdd.mapValues(lambda e: code_desc[e]).collect()\n",
    "students_rdd.mapValues(lambda e: broadcast_S.value[e]).collect()\n",
    "# 아무일도 발생하지 않았다.\n",
    "# broadcast 함수를 사용해 생성하는 시점에 이미 SparkContext에 등록\n",
    "\n"
   ]
  },
  {
   "cell_type": "markdown",
   "id": "3957f291",
   "metadata": {},
   "source": [
    "## Accumulator"
   ]
  },
  {
   "cell_type": "markdown",
   "id": "2fcea8c2",
   "metadata": {},
   "source": [
    "- 각 노드에 공유되는 누산기 클래스\n",
    "- 저장속성과 add()메소드 갖고있는 특수한 형태의 클래스\n",
    "- sc.accumulator(수치형(정수형)기본값:0)\n",
    "    - 각 노드에서 필요하다면 +변경은 가능함"
   ]
  },
  {
   "cell_type": "code",
   "execution_count": 16,
   "id": "9177ba9b",
   "metadata": {
    "scrolled": true
   },
   "outputs": [
    {
     "name": "stderr",
     "output_type": "stream",
     "text": [
      "                                                                                "
     ]
    }
   ],
   "source": [
    "accum = sc.accumulator(0) #accum.value == 0으로 초기화\n",
    "rdd = sc.parallelize([1,2,3,4,5])\n",
    "\n",
    "# accum 누산기 클래스 활용해서 rdd data를 더하는 작업\n",
    "# foreach(f): 전달되는 rdd요소 각각에 대하여 f를 실행해주는 함수, f는 return값이 없어야됨(주로 accumulator에 누적저장하거나 외부시스템에 출력용도로 사용함)\n",
    "rdd.foreach(lambda x: accum.add(x)) #accum.value += x\n",
    "# foreach의 반환값이 없기 때문에 rdd.foreach(lambda x: accum.add(x)) # NoneType error발생: 반환값이 없어 collect불가"
   ]
  },
  {
   "cell_type": "code",
   "execution_count": 17,
   "id": "417adaac-67be-4011-af61-e944489edcbb",
   "metadata": {},
   "outputs": [
    {
     "data": {
      "text/plain": [
       "15"
      ]
     },
     "execution_count": 17,
     "metadata": {},
     "output_type": "execute_result"
    }
   ],
   "source": [
    "accum.value"
   ]
  },
  {
   "cell_type": "markdown",
   "id": "e071f564-8a03-4985-98b4-819aa29792cf",
   "metadata": {},
   "source": [
    "### 잘못된 데이터 수 counting\n",
    "- 누적연산 필요\n",
    "- 누산기(accum)활용"
   ]
  },
  {
   "cell_type": "code",
   "execution_count": 18,
   "id": "a750800b-2f09-411e-88fc-d755782b4f07",
   "metadata": {},
   "outputs": [],
   "source": [
    "# 정상 데이터: key:value\n",
    "# 비정상 데이터 수 확인\n",
    "accum1 = sc.accumulator(0)\n",
    "rdd = sc.parallelize([\"A1:V1\",\"A2:V2\",\"A3\",\"A4:V4\",\"A5;V5\",\"A6::A6\"])\n",
    "                    # 형태가 잘못된 A3, 콜론대신 ; 들어간 A5;V5, 콜론두개인 A6::A6 가 비정상데이터"
   ]
  },
  {
   "cell_type": "code",
   "execution_count": 19,
   "id": "59202094-629f-49c8-87c8-4f00ba55a3d2",
   "metadata": {},
   "outputs": [],
   "source": [
    "def f(e):\n",
    "    global accum1\n",
    "    if len(e.split(\":\")) != 2 :\n",
    "        accum1.add(1) #accum1.value +=1 # 누산기에 누적 연산을 진행하는 함수"
   ]
  },
  {
   "cell_type": "code",
   "execution_count": 20,
   "id": "6862fd7b-7a0e-4240-8616-2ae7c0b2e22e",
   "metadata": {},
   "outputs": [],
   "source": [
    "rdd.foreach(f)"
   ]
  },
  {
   "cell_type": "code",
   "execution_count": 22,
   "id": "9369890f-61f4-4219-94e7-865240532ed1",
   "metadata": {},
   "outputs": [
    {
     "name": "stdout",
     "output_type": "stream",
     "text": [
      "잘못된 데이터 수: 3\n"
     ]
    }
   ],
   "source": [
    "print(\"잘못된 데이터 수: \" + str(accum1.value))"
   ]
  },
  {
   "cell_type": "code",
   "execution_count": 3,
   "id": "54dc9064",
   "metadata": {},
   "outputs": [],
   "source": [
    "# # accumulator를 사용하지 않는다면?\n",
    "# a = 0\n",
    "\n",
    "# # 모든 노드에서 발생하는 데이터 횟수를 확인해보자\n",
    "# def change_cate(e):\n",
    "#      a = a + 1\n",
    "#      return broadcastStates.value[e]\n",
    "    \n",
    "# students_rdd.mapValues(lambda e : change_cate(e)).collect()\n",
    "\n",
    "# # 횟수 확인\n",
    "# # local variable 'a' referenced before assignment 발생\n",
    "# a\n",
    "\n",
    "\n"
   ]
  },
  {
   "cell_type": "code",
   "execution_count": 4,
   "id": "beaedc73",
   "metadata": {},
   "outputs": [],
   "source": [
    "\n",
    "\n",
    "# 모든 노드에서 발생하는 데이터 횟수를 확인해보자\n",
    "\n",
    "\n",
    "# 횟수 확인\n",
    "# local variable 'a' referenced before assignment 발생\n"
   ]
  }
 ],
 "metadata": {
  "kernelspec": {
   "display_name": "Python 3 (ipykernel)",
   "language": "python",
   "name": "python3"
  },
  "language_info": {
   "codemirror_mode": {
    "name": "ipython",
    "version": 3
   },
   "file_extension": ".py",
   "mimetype": "text/x-python",
   "name": "python",
   "nbconvert_exporter": "python",
   "pygments_lexer": "ipython3",
   "version": "3.10.12"
  }
 },
 "nbformat": 4,
 "nbformat_minor": 5
}
