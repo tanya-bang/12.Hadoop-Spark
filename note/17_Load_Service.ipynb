{
 "cells": [
  {
   "cell_type": "code",
   "execution_count": 1,
   "id": "324e44d3",
   "metadata": {},
   "outputs": [],
   "source": [
    "from IPython.core.interactiveshell import InteractiveShell\n",
    "InteractiveShell.ast_node_interactivity = \"all\""
   ]
  },
  {
   "cell_type": "code",
   "execution_count": null,
   "id": "965e678e",
   "metadata": {},
   "outputs": [],
   "source": [
    "# 데이터마트용 계정 생성\n",
    "mysql> create user bigSVC@'%' identified by 'bigSVCl1234@';\n",
    "\n",
    "mysql> grant all privileges on *.* to bigSVC@'%' with grant option;\n",
    "    - with grant option: 권한 전달이 가능한 계정"
   ]
  },
  {
   "cell_type": "code",
   "execution_count": 3,
   "id": "4d733b28",
   "metadata": {},
   "outputs": [],
   "source": [
    "from datetime import date, datetime\n",
    "from pyspark.sql.types import *\n",
    "from pyspark.sql.functions import *\n",
    "import datetime as dt\n",
    "import pandas as pd\n",
    "import matplotlib.pyplot as plt #그래프 패키지 모듈 등록\n",
    "%matplotlib inline \n"
   ]
  },
  {
   "cell_type": "code",
   "execution_count": 4,
   "id": "b5397e43",
   "metadata": {},
   "outputs": [],
   "source": [
    "import platform\n",
    "\n",
    "from matplotlib import font_manager, rc\n",
    "plt.rcParams['axes.unicode_minus'] = False\n",
    "\n",
    "if platform.system() == 'Darwin':  # 맥OS \n",
    "    rc('font', family='AppleGothic')\n",
    "elif platform.system() == 'Windows':  # 윈도우\n",
    "    path = \"c:/Windows/Fonts/malgun.ttf\"\n",
    "    font_name = font_manager.FontProperties(fname=path).get_name()\n",
    "    rc('font', family=font_name)\n",
    "else:\n",
    "    rc('font', family='D2Coding')"
   ]
  },
  {
   "cell_type": "code",
   "execution_count": 5,
   "id": "638d56cc",
   "metadata": {},
   "outputs": [],
   "source": [
    "def cal_std_day(befor_day):   \n",
    "    x = dt.datetime.now() - dt.timedelta(befor_day)\n",
    "    year = x.year\n",
    "    month = x.month if x.month >= 10 else '0'+ str(x.month)\n",
    "    day = x.day if x.day >= 10 else '0'+ str(x.day)  \n",
    "    return str(year)+ '-' +str(month)+ '-' +str(day)"
   ]
  },
  {
   "cell_type": "markdown",
   "id": "935050b6",
   "metadata": {},
   "source": [
    "### JDBC 연결정보"
   ]
  },
  {
   "cell_type": "code",
   "execution_count": 6,
   "id": "a4d64efe",
   "metadata": {},
   "outputs": [],
   "source": [
    "# dmdb 연결정보\n",
    "conf_dm = {\n",
    "      'url':'jdbc:mysql://localhost:3306/etlMysqlDM?characterEncoding=utf8&serverTimezone=Asia/Seoul'\n",
    "     ,'props':{\n",
    "      'user':'bigMysql',\n",
    "      'password':'bigMysql1234@'   \n",
    "      }\n",
    "}\n",
    "\n",
    "# service db 연결정보\n",
    "conf_svc = {\n",
    "      'url':'jdbc:mysql://localhost:3306/etlMysqlSVC?characterEncoding=utf8&serverTimezone=Asia/Seoul'\n",
    "     ,'props':{\n",
    "      'user':'bigSVC',\n",
    "      'password':'bigSVC1234@'   \n",
    "      }\n",
    "}"
   ]
  },
  {
   "cell_type": "markdown",
   "id": "a2f110a7-e7e1-4f37-a6ff-7714d5953e22",
   "metadata": {},
   "source": [
    "## 활용할 db 준비\n",
    "- create database etlMysqlSVC;\n",
    "- mysql -u bigSVC -p\n",
    "- use etlMysqlSVC;"
   ]
  },
  {
   "cell_type": "markdown",
   "id": "a8d85933",
   "metadata": {},
   "source": [
    "## Load DataMart"
   ]
  },
  {
   "cell_type": "markdown",
   "id": "2549a93a",
   "metadata": {
    "jp-MarkdownHeadingCollapsed": true
   },
   "source": [
    "### 1. 지역별 단위면적(km)당 인구수와 코로나 확진자 수 데이터 저장"
   ]
  },
  {
   "cell_type": "markdown",
   "id": "5131332d-00f8-45cb-9244-a6fc47fd6312",
   "metadata": {},
   "source": [
    "- base data load\n",
    "    - LOC table : 지역별 인구와 면적\n",
    "    - dm db data read -> 처리코드 -> service db data load"
   ]
  },
  {
   "cell_type": "code",
   "execution_count": 8,
   "id": "4d80a536-11f8-488c-a27a-3e32243ca88c",
   "metadata": {},
   "outputs": [
    {
     "name": "stderr",
     "output_type": "stream",
     "text": [
      "                                                                                "
     ]
    },
    {
     "name": "stdout",
     "output_type": "stream",
     "text": [
      "+----+------+---------+\n",
      "| LOC|  AREA|     POPU|\n",
      "+----+------+---------+\n",
      "|서울|  605 | 9736027 |\n",
      "|부산|  770 | 3396109 |\n",
      "|대구|  883 | 2412642 |\n",
      "|인천| 1065 | 3014739 |\n",
      "|광주|  501 | 1462545 |\n",
      "|대전|  540 | 1469543 |\n",
      "|울산| 1062 | 1138419 |\n",
      "|세종|  465 |  376779 |\n",
      "|경기|10195 |13925862 |\n",
      "|강원|16830 | 1555876 |\n",
      "|충북| 7407 | 1633472 |\n",
      "|충남| 8246 | 2181835 |\n",
      "|전북| 8070 | 1817186 |\n",
      "|전남|12348 | 1865459 |\n",
      "|경북|19034 | 2677709 |\n",
      "|경남|10541 | 3377331 |\n",
      "|제주| 1850 |  697476 |\n",
      "+----+------+---------+\n",
      "\n"
     ]
    }
   ],
   "source": [
    "spark.read.jdbc(url=conf_dm['url'], table='LOC', properties=conf_dm['props']).show()"
   ]
  },
  {
   "cell_type": "code",
   "execution_count": 9,
   "id": "b03e1992",
   "metadata": {},
   "outputs": [],
   "source": [
    "# db table 읽기 함수, 저장 함수\n",
    "    # 데이터 찾아서 읽어올 일이 있으면 이 함수 불러올 것이다\n",
    "#read\n",
    "def find_data(config, table_name):\n",
    "    return spark.read.jdbc(url=config['url'], table=table_name, properties=config['props'])\n",
    "\n",
    "#write\n",
    "def save_data(config, df, table_name):\n",
    "    return df.write.jdbc(url=config['url'], table=table_name, mode='append', properties=config['props'])"
   ]
  },
  {
   "cell_type": "markdown",
   "id": "63cd40a4-422a-4ed7-94be-95df07863df2",
   "metadata": {},
   "source": [
    "#### 단위면적당 인구수, 코로나 발생현황 data\n",
    "- dmdb LOC, CORONA_PATIENTS"
   ]
  },
  {
   "cell_type": "code",
   "execution_count": 10,
   "id": "fcffd71c-0493-446e-94cf-57b76bbc7ca9",
   "metadata": {},
   "outputs": [
    {
     "data": {
      "text/plain": [
       "pyspark.sql.dataframe.DataFrame"
      ]
     },
     "execution_count": 10,
     "metadata": {},
     "output_type": "execute_result"
    },
    {
     "data": {
      "text/plain": [
       "pyspark.sql.dataframe.DataFrame"
      ]
     },
     "execution_count": 10,
     "metadata": {},
     "output_type": "execute_result"
    }
   ],
   "source": [
    "popu = find_data(conf_dm, 'LOC')\n",
    "patients = find_data(conf_dm, 'CORONA_PATIENTS')\n",
    "type(popu)\n",
    "type(patients)"
   ]
  },
  {
   "cell_type": "code",
   "execution_count": 11,
   "id": "19898a7e-3e67-46ba-bcb5-3526e4ec6864",
   "metadata": {},
   "outputs": [
    {
     "data": {
      "text/plain": [
       "['LOC', 'AREA', 'POPU']"
      ]
     },
     "execution_count": 11,
     "metadata": {},
     "output_type": "execute_result"
    },
    {
     "data": {
      "text/plain": [
       "['LOC', 'DEATH_CNT', 'DEF_CNT', 'LOC_OCC_CNT', 'QUR_RATE', 'STD_DAY']"
      ]
     },
     "execution_count": 11,
     "metadata": {},
     "output_type": "execute_result"
    }
   ],
   "source": [
    "popu.columns\n",
    "patients.columns"
   ]
  },
  {
   "cell_type": "code",
   "execution_count": 12,
   "id": "6bc4a14e-d1cd-448e-9d57-ba28ae873b9c",
   "metadata": {},
   "outputs": [
    {
     "data": {
      "text/plain": [
       "['LOC', 'DEATH_CNT', 'DEF_CNT', 'LOC_OCC_CNT', 'QUR_RATE', 'STD_DAY']"
      ]
     },
     "execution_count": 12,
     "metadata": {},
     "output_type": "execute_result"
    }
   ],
   "source": [
    "['LOC', 'DEATH_CNT', 'DEF_CNT', 'LOC_OCC_CNT', 'QUR_RATE', 'STD_DAY']\n",
    "# 지역   누적사망자수  누적 발생수  지역발생수     만명당 발생률  기준일자"
   ]
  },
  {
   "cell_type": "code",
   "execution_count": 13,
   "id": "c2c039b1-8d1c-48e5-9d5a-0117ee9f8d6a",
   "metadata": {},
   "outputs": [
    {
     "name": "stderr",
     "output_type": "stream",
     "text": [
      "                                                                                "
     ]
    },
    {
     "data": {
      "text/plain": [
       "17"
      ]
     },
     "execution_count": 13,
     "metadata": {},
     "output_type": "execute_result"
    },
    {
     "data": {
      "text/plain": [
       "102"
      ]
     },
     "execution_count": 13,
     "metadata": {},
     "output_type": "execute_result"
    }
   ],
   "source": [
    "popu.count()\n",
    "patients.count()"
   ]
  },
  {
   "cell_type": "code",
   "execution_count": 14,
   "id": "2b983eb8-5fc5-4898-88b8-0c716dea7a77",
   "metadata": {},
   "outputs": [
    {
     "name": "stderr",
     "output_type": "stream",
     "text": [
      "                                                                                "
     ]
    },
    {
     "data": {
      "text/plain": [
       "[Row(LOC='충남', AREA='8246 ', POPU='2181835 ', DEATH_CNT='174', DEF_CNT='19997', LOC_OCC_CNT='93', QUR_RATE='944', STD_DAY='2022-01-17'),\n",
       " Row(LOC='충남', AREA='8246 ', POPU='2181835 ', DEATH_CNT='166', DEF_CNT='19779', LOC_OCC_CNT='110', QUR_RATE='933', STD_DAY='2022-01-15'),\n",
       " Row(LOC='충남', AREA='8246 ', POPU='2181835 ', DEATH_CNT='177', DEF_CNT='20142', LOC_OCC_CNT='140', QUR_RATE='950', STD_DAY='2022-01-18'),\n",
       " Row(LOC='충남', AREA='8246 ', POPU='2181835 ', DEATH_CNT='170', DEF_CNT='19893', LOC_OCC_CNT='105', QUR_RATE='939', STD_DAY='2022-01-16'),\n",
       " Row(LOC='충북', AREA='7407 ', POPU='1633472 ', DEATH_CNT='121', DEF_CNT='12497', LOC_OCC_CNT='38', QUR_RATE='782', STD_DAY='2022-01-17'),\n",
       " Row(LOC='충북', AREA='7407 ', POPU='1633472 ', DEATH_CNT='120', DEF_CNT='12263', LOC_OCC_CNT='58', QUR_RATE='768', STD_DAY='2022-01-13'),\n",
       " Row(LOC='충북', AREA='7407 ', POPU='1633472 ', DEATH_CNT='120', DEF_CNT='12333', LOC_OCC_CNT='67', QUR_RATE='772', STD_DAY='2022-01-14'),\n",
       " Row(LOC='충북', AREA='7407 ', POPU='1633472 ', DEATH_CNT='121', DEF_CNT='12455', LOC_OCC_CNT='37', QUR_RATE='780', STD_DAY='2022-01-16'),\n",
       " Row(LOC='충북', AREA='7407 ', POPU='1633472 ', DEATH_CNT='120', DEF_CNT='12416', LOC_OCC_CNT='77', QUR_RATE='777', STD_DAY='2022-01-15'),\n",
       " Row(LOC='충북', AREA='7407 ', POPU='1633472 ', DEATH_CNT='123', DEF_CNT='12555', LOC_OCC_CNT='55', QUR_RATE='786', STD_DAY='2022-01-18')]"
      ]
     },
     "execution_count": 14,
     "metadata": {},
     "output_type": "execute_result"
    }
   ],
   "source": [
    "popu.join(patients, on='LOC').tail(10)"
   ]
  },
  {
   "cell_type": "code",
   "execution_count": 15,
   "id": "004ffc1c-dc45-4dc5-9e28-be2c7aa84a4c",
   "metadata": {},
   "outputs": [],
   "source": [
    "# 이 중에서 10만명당 data를 볼 수 있는 데이터들을 뽑을것\n",
    "popPatient = popu.join(patients, on='LOC')\\\n",
    "                    .select('LOC',\n",
    "                            ceil(col('POPU')/col('AREA')).alias('단위면적당인구'),\n",
    "                            'QUR_RATE', 'STD_DAY')\\\n",
    "                    .orderBy(col('STD_DAY'))"
   ]
  },
  {
   "cell_type": "code",
   "execution_count": 16,
   "id": "32fed566-b2ef-4399-b855-8382526118c4",
   "metadata": {},
   "outputs": [
    {
     "name": "stdout",
     "output_type": "stream",
     "text": [
      "+----+--------------+--------+----------+\n",
      "| LOC|단위면적당인구|QUR_RATE|   STD_DAY|\n",
      "+----+--------------+--------+----------+\n",
      "|대구|          2733|    1024|2022-01-13|\n",
      "|울산|          1072|     653|2022-01-13|\n",
      "|대전|          2722|     888|2022-01-13|\n",
      "|경남|           321|     668|2022-01-13|\n",
      "|부산|          4411|     819|2022-01-13|\n",
      "+----+--------------+--------+----------+\n",
      "only showing top 5 rows\n",
      "\n"
     ]
    },
    {
     "name": "stderr",
     "output_type": "stream",
     "text": [
      "                                                                                "
     ]
    },
    {
     "data": {
      "text/plain": [
       "[Row(LOC='전남', 단위면적당인구=152, QUR_RATE='433', STD_DAY='2022-01-18'),\n",
       " Row(LOC='전북', 단위면적당인구=226, QUR_RATE='629', STD_DAY='2022-01-18'),\n",
       " Row(LOC='제주', 단위면적당인구=378, QUR_RATE='724', STD_DAY='2022-01-18'),\n",
       " Row(LOC='충남', 단위면적당인구=265, QUR_RATE='950', STD_DAY='2022-01-18'),\n",
       " Row(LOC='충북', 단위면적당인구=221, QUR_RATE='786', STD_DAY='2022-01-18')]"
      ]
     },
     "execution_count": 16,
     "metadata": {},
     "output_type": "execute_result"
    }
   ],
   "source": [
    "popPatient.show(5)\n",
    "popPatient.tail(5)"
   ]
  },
  {
   "cell_type": "markdown",
   "id": "0f1c1d6a-9321-41f4-bb7f-e68dea6a3289",
   "metadata": {},
   "source": [
    "- 각 DB에 고유번호를 추가해서 레코드를 유일하게 구별하는 컬럼으로 사용\n",
    "    - Spark 데이터 프레임의 StatFunctions 패키지 함수 중 monotonically_increasing_id\n",
    "    - 데이터 프레임의 로우에 되는매핑되는  고유 id 반환"
   ]
  },
  {
   "cell_type": "code",
   "execution_count": 17,
   "id": "5de51d2c-5b81-4cbf-b09f-8b3b9eb2889a",
   "metadata": {},
   "outputs": [
    {
     "name": "stdout",
     "output_type": "stream",
     "text": [
      "+----+--------------+--------+----------+------+\n",
      "| LOC|단위면적당인구|QUR_RATE|   STD_DAY|CP_IDX|\n",
      "+----+--------------+--------+----------+------+\n",
      "|강원|            93|     869|2022-01-13|     0|\n",
      "|경기|          1366|    1495|2022-01-13|     1|\n",
      "+----+--------------+--------+----------+------+\n",
      "only showing top 2 rows\n",
      "\n"
     ]
    }
   ],
   "source": [
    "popPatFin = popPatient.withColumn('CP_IDX',monotonically_increasing_id())\n",
    "popPatFin.show(2)"
   ]
  },
  {
   "cell_type": "code",
   "execution_count": 18,
   "id": "5dbbe811-0688-46b3-aeed-8d76f1b698ce",
   "metadata": {},
   "outputs": [
    {
     "name": "stderr",
     "output_type": "stream",
     "text": [
      "                                                                                "
     ]
    }
   ],
   "source": [
    "save_data(conf_svc, popPatFin, 'CO_POP_DENSITY')"
   ]
  },
  {
   "cell_type": "code",
   "execution_count": null,
   "id": "d2aa8f7d-02df-4106-bf0d-d8e316158911",
   "metadata": {},
   "outputs": [],
   "source": []
  },
  {
   "cell_type": "code",
   "execution_count": null,
   "id": "23b6cb24-df82-4105-945f-6db0f9e3c76e",
   "metadata": {},
   "outputs": [],
   "source": []
  },
  {
   "cell_type": "code",
   "execution_count": null,
   "id": "41c66eb6",
   "metadata": {},
   "outputs": [],
   "source": []
  },
  {
   "cell_type": "markdown",
   "id": "e6b9a490",
   "metadata": {
    "jp-MarkdownHeadingCollapsed": true
   },
   "source": [
    "### 2.  백신접종 완료자와 코로나 확진자 수 데이터 저장\n",
    "- 백신접종 3차 접종자수(누적): 인구 10만명당 접종자 수\n",
    "- 코로나 발생현황: QUR_RATE(인구 10만명 당 발생자 수)"
   ]
  },
  {
   "cell_type": "code",
   "execution_count": 19,
   "id": "3c1637d0",
   "metadata": {},
   "outputs": [],
   "source": [
    "vaccine = find_data(conf_dm, 'CORONA_VACCINE')"
   ]
  },
  {
   "cell_type": "code",
   "execution_count": 20,
   "id": "14877551-76dd-4516-800d-f1462636ef11",
   "metadata": {},
   "outputs": [
    {
     "name": "stdout",
     "output_type": "stream",
     "text": [
      "+----+----------+----+---------+\n",
      "| LOC|   STD_DAY|V_TH|    V_CNT|\n",
      "+----+----------+----+---------+\n",
      "|충북|2022-01-18|  v2|1379378.0|\n",
      "|충북|2022-01-18|  v1|  1408620|\n",
      "|충북|2022-01-18|  v3| 783588.0|\n",
      "+----+----------+----+---------+\n",
      "only showing top 3 rows\n",
      "\n",
      "root\n",
      " |-- LOC: string (nullable = true)\n",
      " |-- STD_DAY: string (nullable = true)\n",
      " |-- V_TH: string (nullable = true)\n",
      " |-- V_CNT: string (nullable = true)\n",
      "\n"
     ]
    }
   ],
   "source": [
    "vaccine.show(3)\n",
    "vaccine.printSchema()"
   ]
  },
  {
   "cell_type": "code",
   "execution_count": 21,
   "id": "07e1a1cb-5407-45ec-b877-eb6bf618a23b",
   "metadata": {},
   "outputs": [
    {
     "name": "stdout",
     "output_type": "stream",
     "text": [
      "+----+----------+----+-------+\n",
      "| LOC|   STD_DAY|V_TH|  V_CNT|\n",
      "+----+----------+----+-------+\n",
      "|충북|2022-01-18|  v2|1379378|\n",
      "|충북|2022-01-18|  v1|1408620|\n",
      "+----+----------+----+-------+\n",
      "only showing top 2 rows\n",
      "\n"
     ]
    }
   ],
   "source": [
    "# V_CNT열 형변환\n",
    "vaccine = vaccine.withColumn('V_CNT', vaccine['V_CNT'].cast(IntegerType()))\n",
    "vaccine.show(2)"
   ]
  },
  {
   "cell_type": "code",
   "execution_count": 22,
   "id": "617775eb-ba41-4c28-98cc-860021051ee8",
   "metadata": {},
   "outputs": [
    {
     "name": "stderr",
     "output_type": "stream",
     "text": [
      "/root/spark/python/pyspark/pandas/__init__.py:50: UserWarning: 'PYARROW_IGNORE_TIMEZONE' environment variable was not set. It is required to set this environment variable to '1' in both driver and executor sides if you use pyarrow>=2.0.0. pandas-on-Spark will set it for you but it does not work if there is a Spark context already launched.\n",
      "  warnings.warn(\n"
     ]
    },
    {
     "data": {
      "text/plain": [
       "pyspark.pandas.frame.DataFrame"
      ]
     },
     "execution_count": 22,
     "metadata": {},
     "output_type": "execute_result"
    }
   ],
   "source": [
    "## long df -> wide df 변환(V_TH 컬럼값을 컬럼으로 변환)\n",
    "## pivot사용: pandas df로 변환\n",
    "pdVac = vaccine.pandas_api()\n",
    "type(pdVac)"
   ]
  },
  {
   "cell_type": "code",
   "execution_count": 25,
   "id": "be1295b6-456f-4245-8968-4718dac967c7",
   "metadata": {},
   "outputs": [],
   "source": [
    "pdVacv1 = pdVac.pivot_table(index=['LOC', 'STD_DAY'], columns='V_TH', values='V_CNT')"
   ]
  },
  {
   "cell_type": "code",
   "execution_count": 26,
   "id": "fa9d5b7e-af75-4aba-9f56-92ae5a5609f0",
   "metadata": {},
   "outputs": [
    {
     "name": "stderr",
     "output_type": "stream",
     "text": [
      "                                                                                "
     ]
    },
    {
     "data": {
      "text/html": [
       "<div>\n",
       "<style scoped>\n",
       "    .dataframe tbody tr th:only-of-type {\n",
       "        vertical-align: middle;\n",
       "    }\n",
       "\n",
       "    .dataframe tbody tr th {\n",
       "        vertical-align: top;\n",
       "    }\n",
       "\n",
       "    .dataframe thead th {\n",
       "        text-align: right;\n",
       "    }\n",
       "</style>\n",
       "<table border=\"1\" class=\"dataframe\">\n",
       "  <thead>\n",
       "    <tr style=\"text-align: right;\">\n",
       "      <th>V_TH</th>\n",
       "      <th>LOC</th>\n",
       "      <th>STD_DAY</th>\n",
       "      <th>v1</th>\n",
       "      <th>v2</th>\n",
       "      <th>v3</th>\n",
       "    </tr>\n",
       "  </thead>\n",
       "  <tbody>\n",
       "    <tr>\n",
       "      <th>0</th>\n",
       "      <td>전남</td>\n",
       "      <td>2022-01-15</td>\n",
       "      <td>1631047.0</td>\n",
       "      <td>1599517.0</td>\n",
       "      <td>1007985.0</td>\n",
       "    </tr>\n",
       "  </tbody>\n",
       "</table>\n",
       "</div>"
      ],
      "text/plain": [
       "V_TH LOC     STD_DAY         v1         v2         v3\n",
       "0     전남  2022-01-15  1631047.0  1599517.0  1007985.0"
      ]
     },
     "execution_count": 26,
     "metadata": {},
     "output_type": "execute_result"
    }
   ],
   "source": [
    "# pdVacv1.head()\n",
    "pdVacv1 = pdVacv1.reset_index()\n",
    "pdVacv1.head(1)"
   ]
  },
  {
   "cell_type": "code",
   "execution_count": 27,
   "id": "78bda2c4-d6cd-4186-9ea7-ec0d97805c3d",
   "metadata": {},
   "outputs": [
    {
     "name": "stderr",
     "output_type": "stream",
     "text": [
      "/root/spark/python/pyspark/pandas/utils.py:1016: PandasAPIOnSparkAdviceWarning: If `index_col` is not specified for `to_spark`, the existing index is lost when converting to Spark DataFrame.\n",
      "  warnings.warn(message, PandasAPIOnSparkAdviceWarning)\n"
     ]
    }
   ],
   "source": [
    "# spark df로 변환\n",
    "vaccine = pdVacv1.to_spark()"
   ]
  },
  {
   "cell_type": "code",
   "execution_count": 28,
   "id": "1519a038-7a70-4bc4-b734-b88c4c215284",
   "metadata": {},
   "outputs": [
    {
     "name": "stderr",
     "output_type": "stream",
     "text": [
      "[Stage 77:>                                                         (0 + 1) / 1]"
     ]
    },
    {
     "name": "stdout",
     "output_type": "stream",
     "text": [
      "+----+----------+---------+---------+---------+\n",
      "| LOC|   STD_DAY|       v1|       v2|       v3|\n",
      "+----+----------+---------+---------+---------+\n",
      "|전남|2022-01-15|1631047.0|1599517.0|1007985.0|\n",
      "|울산|2022-01-17| 956456.0| 930969.0| 467195.0|\n",
      "+----+----------+---------+---------+---------+\n",
      "only showing top 2 rows\n",
      "\n"
     ]
    },
    {
     "name": "stderr",
     "output_type": "stream",
     "text": [
      "                                                                                "
     ]
    }
   ],
   "source": [
    "vaccine.show(2)"
   ]
  },
  {
   "cell_type": "code",
   "execution_count": 29,
   "id": "60af06f6-1a4c-416e-9a34-f9c1594116c6",
   "metadata": {},
   "outputs": [],
   "source": [
    "# 지역별 인구 10만명당 백신 접종률 계산\n",
    "# 인구 data 필요\n",
    "popu = find_data(conf_dm, 'LOC')\n",
    "# 코로나 현황 data 필요\n",
    "patients = find_data(conf_dm,'CORONA_PATIENTS')"
   ]
  },
  {
   "cell_type": "code",
   "execution_count": 30,
   "id": "5dc52b20-7359-47c3-8ef4-34fe6705b8e8",
   "metadata": {},
   "outputs": [
    {
     "data": {
      "text/plain": [
       "['LOC', 'AREA', 'POPU']"
      ]
     },
     "execution_count": 30,
     "metadata": {},
     "output_type": "execute_result"
    },
    {
     "data": {
      "text/plain": [
       "['LOC', 'DEATH_CNT', 'DEF_CNT', 'LOC_OCC_CNT', 'QUR_RATE', 'STD_DAY']"
      ]
     },
     "execution_count": 30,
     "metadata": {},
     "output_type": "execute_result"
    }
   ],
   "source": [
    "popu.columns\n",
    "patients.columns"
   ]
  },
  {
   "cell_type": "code",
   "execution_count": 31,
   "id": "6290e01e-a373-411d-af89-3e4adb28dcf7",
   "metadata": {},
   "outputs": [],
   "source": [
    "vacRate= vaccine.join(popu, on='LOC')\\\n",
    "                .select('LOC',\n",
    "                        'STD_DAY',\n",
    "                        ceil(col('v3')/col('POPU') *100000).alias('THRD_RATE'))"
   ]
  },
  {
   "cell_type": "code",
   "execution_count": 32,
   "id": "871106fb-7494-48c9-b854-aa2252722316",
   "metadata": {},
   "outputs": [
    {
     "name": "stdout",
     "output_type": "stream",
     "text": [
      "+----+----------+---------+\n",
      "| LOC|   STD_DAY|THRD_RATE|\n",
      "+----+----------+---------+\n",
      "|경북|2022-01-16|    45861|\n",
      "+----+----------+---------+\n",
      "only showing top 1 row\n",
      "\n"
     ]
    }
   ],
   "source": [
    "vacRate.show(1)"
   ]
  },
  {
   "cell_type": "code",
   "execution_count": 33,
   "id": "8b276505-adb0-48ac-a849-4da84928eedb",
   "metadata": {},
   "outputs": [
    {
     "data": {
      "text/plain": [
       "['LOC', 'STD_DAY', 'THRD_RATE']"
      ]
     },
     "execution_count": 33,
     "metadata": {},
     "output_type": "execute_result"
    },
    {
     "data": {
      "text/plain": [
       "['LOC', 'DEATH_CNT', 'DEF_CNT', 'LOC_OCC_CNT', 'QUR_RATE', 'STD_DAY']"
      ]
     },
     "execution_count": 33,
     "metadata": {},
     "output_type": "execute_result"
    }
   ],
   "source": [
    "vacRate.columns\n",
    "patients.columns"
   ]
  },
  {
   "cell_type": "code",
   "execution_count": 34,
   "id": "fc3f2eab-28c8-4f63-bc39-c856463bfa0a",
   "metadata": {},
   "outputs": [],
   "source": [
    "coPatVac= vacRate.join(patients, on=['LOC','STD_DAY'])\\\n",
    "                    .select('LOC','STD_DAY','THRD_RATE','QUR_RATE')"
   ]
  },
  {
   "cell_type": "code",
   "execution_count": 35,
   "id": "03e464f1-d365-4361-b25e-2f0f993c2531",
   "metadata": {},
   "outputs": [
    {
     "name": "stderr",
     "output_type": "stream",
     "text": [
      "                                                                                "
     ]
    },
    {
     "name": "stdout",
     "output_type": "stream",
     "text": [
      "+----+----------+---------+--------+\n",
      "| LOC|   STD_DAY|THRD_RATE|QUR_RATE|\n",
      "+----+----------+---------+--------+\n",
      "|경북|2022-01-16|    45861|     637|\n",
      "|경북|2022-01-15|    45392|     633|\n",
      "|경북|2022-01-17|    45875|     641|\n",
      "+----+----------+---------+--------+\n",
      "only showing top 3 rows\n",
      "\n"
     ]
    }
   ],
   "source": [
    "coPatVac.show(3)"
   ]
  },
  {
   "cell_type": "code",
   "execution_count": 36,
   "id": "24517c62-c199-43df-84ad-dbfd021c467b",
   "metadata": {},
   "outputs": [],
   "source": [
    "coPatVac = coPatVac.withColumn('CV_IDX',monotonically_increasing_id())"
   ]
  },
  {
   "cell_type": "code",
   "execution_count": 37,
   "id": "8cafc15d-79a0-4288-b7df-c6a247af28ef",
   "metadata": {},
   "outputs": [
    {
     "name": "stdout",
     "output_type": "stream",
     "text": [
      "+----+----------+---------+--------+------+\n",
      "| LOC|   STD_DAY|THRD_RATE|QUR_RATE|CV_IDX|\n",
      "+----+----------+---------+--------+------+\n",
      "|경북|2022-01-16|    45861|     637|     0|\n",
      "|경북|2022-01-15|    45392|     633|     1|\n",
      "+----+----------+---------+--------+------+\n",
      "only showing top 2 rows\n",
      "\n"
     ]
    }
   ],
   "source": [
    "coPatVac.show(2)"
   ]
  },
  {
   "cell_type": "code",
   "execution_count": 38,
   "id": "4e985f3d-f349-460c-b03d-8836011337b1",
   "metadata": {},
   "outputs": [
    {
     "name": "stderr",
     "output_type": "stream",
     "text": [
      "                                                                                "
     ]
    }
   ],
   "source": [
    "save_data(conf_svc, coPatVac, 'CO_VACCINE_PATIENT')"
   ]
  },
  {
   "cell_type": "markdown",
   "id": "3209c1f4",
   "metadata": {
    "jp-MarkdownHeadingCollapsed": true
   },
   "source": [
    "### 3. 다중이용시설과 코로나 확진자 수의 data\n",
    "- dmdb LOC_FACILITY_CNT\n",
    "    - 인구 10만명당 다중 이용시설 수\n",
    "- dmdb CORONA_PATIENTS\n",
    "- dmdb LOC"
   ]
  },
  {
   "cell_type": "code",
   "execution_count": 41,
   "id": "fe77abcb",
   "metadata": {},
   "outputs": [],
   "source": [
    "# 지역별 인구 10만명당 다중 이용 시설 수\n",
    "# 인구 data 필요\n",
    "popu = find_data(conf_dm, 'LOC')\n",
    "# 코로나 현황 data 필요\n",
    "patients = find_data(conf_dm,'CORONA_PATIENTS')"
   ]
  },
  {
   "cell_type": "code",
   "execution_count": 46,
   "id": "9289a4cb-bd7b-487d-ba7a-fa5804690606",
   "metadata": {},
   "outputs": [
    {
     "data": {
      "text/plain": [
       "{'url': 'jdbc:mysql://localhost:3306/etlMysqlDM?characterEncoding=utf8&serverTimezone=Asia/Seoul',\n",
       " 'props': {'user': 'bigMysql', 'password': 'bigMysql1234@'}}"
      ]
     },
     "execution_count": 46,
     "metadata": {},
     "output_type": "execute_result"
    }
   ],
   "source": [
    "conf_dm"
   ]
  },
  {
   "cell_type": "code",
   "execution_count": 47,
   "id": "85edf686-302e-4006-b67b-1381797990ea",
   "metadata": {},
   "outputs": [],
   "source": [
    "facil = find_data(conf_dm, 'LOC_FACILITY')"
   ]
  },
  {
   "cell_type": "code",
   "execution_count": 48,
   "id": "f904c590-1e14-44d7-b2d5-2b4e4f49ad5d",
   "metadata": {},
   "outputs": [
    {
     "name": "stdout",
     "output_type": "stream",
     "text": [
      "+----+-------+\n",
      "| LOC|FAC_CNT|\n",
      "+----+-------+\n",
      "|경북|    944|\n",
      "|대전|    767|\n",
      "+----+-------+\n",
      "only showing top 2 rows\n",
      "\n"
     ]
    }
   ],
   "source": [
    "facil.show(2)"
   ]
  },
  {
   "cell_type": "code",
   "execution_count": 49,
   "id": "5f962202-effc-485e-8093-63161cad3237",
   "metadata": {},
   "outputs": [],
   "source": [
    "# 인구 10만명당 다중 이용시설 수\n",
    "facPop = popu.join(facil, on='LOC')\\\n",
    "            .select('LOC',\n",
    "                    ceil(facil.FAC_CNT/popu.POPU*100000).alias('FAC_POPU'))"
   ]
  },
  {
   "cell_type": "code",
   "execution_count": 50,
   "id": "b4dece3c-7114-424b-a38b-bd47c1283d95",
   "metadata": {},
   "outputs": [
    {
     "name": "stdout",
     "output_type": "stream",
     "text": [
      "+----+--------+\n",
      "| LOC|FAC_POPU|\n",
      "+----+--------+\n",
      "|강원|      38|\n",
      "|경기|      46|\n",
      "+----+--------+\n",
      "only showing top 2 rows\n",
      "\n"
     ]
    }
   ],
   "source": [
    "facPop.show(2)"
   ]
  },
  {
   "cell_type": "code",
   "execution_count": 51,
   "id": "3cba9bfb-179d-4ba9-91c9-b70483ee0096",
   "metadata": {},
   "outputs": [],
   "source": [
    "coFacPat = patients.join(facPop, on='LOC')\\\n",
    "                    .select('LOC', 'FAC_POPU','QUR_RATE','STD_DAY')\\\n",
    "                    .withColumn('CF_IDX',monotonically_increasing_id())"
   ]
  },
  {
   "cell_type": "code",
   "execution_count": 52,
   "id": "35218d16-022f-483d-866e-e9b0e6636c97",
   "metadata": {},
   "outputs": [
    {
     "name": "stdout",
     "output_type": "stream",
     "text": [
      "+----+--------+--------+----------+------+\n",
      "| LOC|FAC_POPU|QUR_RATE|   STD_DAY|CF_IDX|\n",
      "+----+--------+--------+----------+------+\n",
      "|경북|      36|     641|2022-01-17|     0|\n",
      "|경북|      36|     626|2022-01-13|     1|\n",
      "+----+--------+--------+----------+------+\n",
      "only showing top 2 rows\n",
      "\n"
     ]
    }
   ],
   "source": [
    "coFacPat.show(2)"
   ]
  },
  {
   "cell_type": "code",
   "execution_count": 53,
   "id": "df3efd75-6802-428d-b62c-5bb30f71ae25",
   "metadata": {},
   "outputs": [],
   "source": [
    "save_data(conf_svc, coFacPat, 'CO_FACT_PATIENTS')"
   ]
  },
  {
   "cell_type": "markdown",
   "id": "a0849960",
   "metadata": {},
   "source": [
    "### 4. 요일별 코로나 확진자 수를 구해보자\n",
    "- 코로나현황 data : STD_DAY 기준일 data -> 요일로 변경(dayofweek()) -> 요일별 그룹 생성 후 신규확진자수 합산"
   ]
  },
  {
   "cell_type": "code",
   "execution_count": 54,
   "id": "f4f41e18-1071-4073-a7a4-956b084e54c1",
   "metadata": {},
   "outputs": [],
   "source": [
    "# 코로나 현황 data 필요\n",
    "patients = find_data(conf_dm,'CORONA_PATIENTS')"
   ]
  },
  {
   "cell_type": "code",
   "execution_count": 55,
   "id": "0b281e19-5b50-4733-9a2e-9dbb1b95d925",
   "metadata": {},
   "outputs": [],
   "source": [
    "# 기준일을 요일로 변환 \n",
    "patWeek = patients.withColumn('DAY_OF_WEEK', dayofweek(col('STD_DAY')))"
   ]
  },
  {
   "cell_type": "code",
   "execution_count": 56,
   "id": "7c518a50-304e-410a-b667-2db67a232fd1",
   "metadata": {},
   "outputs": [
    {
     "name": "stdout",
     "output_type": "stream",
     "text": [
      "+----+---------+-------+-----------+--------+----------+-----------+\n",
      "| LOC|DEATH_CNT|DEF_CNT|LOC_OCC_CNT|QUR_RATE|   STD_DAY|DAY_OF_WEEK|\n",
      "+----+---------+-------+-----------+--------+----------+-----------+\n",
      "|충남|      165|  19553|        126|     923|2022-01-13|          5|\n",
      "|전북|      120|  10724|         99|     600|2022-01-14|          6|\n",
      "|서울|     2009| 239014|        858|    2513|2022-01-13|          5|\n",
      "|대구|      382|  24526|         77|    1028|2022-01-14|          6|\n",
      "|전북|      121|  11094|        114|     621|2022-01-17|          2|\n",
      "|강원|      110|  13368|         82|     869|2022-01-13|          5|\n",
      "|부산|      329|  27456|        156|     819|2022-01-13|          5|\n",
      "|세종|        4|   2315|          6|     622|2022-01-13|          5|\n",
      "|대전|      184|  12965|         64|     893|2022-01-14|          6|\n",
      "|광주|       55|   9660|        224|     670|2022-01-14|          6|\n",
      "+----+---------+-------+-----------+--------+----------+-----------+\n",
      "only showing top 10 rows\n",
      "\n"
     ]
    }
   ],
   "source": [
    "patWeek.show(10)"
   ]
  },
  {
   "cell_type": "code",
   "execution_count": 57,
   "id": "8c39fbe3-f31a-4db1-b804-241a1467afdd",
   "metadata": {},
   "outputs": [],
   "source": [
    "weekP = patWeek.groupby(patWeek.DAY_OF_WEEK).agg(sum(col('LOC_OCC_CNT')).alias('PATIENTS'))"
   ]
  },
  {
   "cell_type": "code",
   "execution_count": 58,
   "id": "5fc78451-62eb-489b-883d-d3a3257e03b9",
   "metadata": {},
   "outputs": [
    {
     "name": "stdout",
     "output_type": "stream",
     "text": [
      "+-----------+--------+\n",
      "|DAY_OF_WEEK|PATIENTS|\n",
      "+-----------+--------+\n",
      "|          1|  3813.0|\n",
      "|          6|  4133.0|\n",
      "|          3|  3763.0|\n",
      "|          5|  3776.0|\n",
      "|          7|  4077.0|\n",
      "|          2|  3551.0|\n",
      "+-----------+--------+\n",
      "\n"
     ]
    }
   ],
   "source": [
    "weekP.show()"
   ]
  },
  {
   "cell_type": "code",
   "execution_count": 59,
   "id": "8e232424-73ef-4309-81d1-0f48e2447174",
   "metadata": {},
   "outputs": [],
   "source": [
    "weekP = weekP.withColumn('DAY_OF_WEEK', when(weekP.DAY_OF_WEEK == 1, 'MON')\n",
    "                                         .when(weekP.DAY_OF_WEEK == 2, 'TUE')\n",
    "                                         .when(weekP.DAY_OF_WEEK == 3, 'WED')\n",
    "                                         .when(weekP.DAY_OF_WEEK == 4, 'THE')\n",
    "                                         .when(weekP.DAY_OF_WEEK == 5, 'FRI')\n",
    "                                         .when(weekP.DAY_OF_WEEK == 6, 'SAT')\n",
    "                                         .when(weekP.DAY_OF_WEEK == 7, 'SUN'))"
   ]
  },
  {
   "cell_type": "code",
   "execution_count": 60,
   "id": "92f1b037-15f4-4f15-8e89-7d11d1d27c4a",
   "metadata": {},
   "outputs": [
    {
     "name": "stdout",
     "output_type": "stream",
     "text": [
      "+-----------+--------+\n",
      "|DAY_OF_WEEK|PATIENTS|\n",
      "+-----------+--------+\n",
      "|        MON|  3813.0|\n",
      "|        SAT|  4133.0|\n",
      "|        WED|  3763.0|\n",
      "|        FRI|  3776.0|\n",
      "|        SUN|  4077.0|\n",
      "|        TUE|  3551.0|\n",
      "+-----------+--------+\n",
      "\n"
     ]
    }
   ],
   "source": [
    "weekP.show()"
   ]
  },
  {
   "cell_type": "code",
   "execution_count": 61,
   "id": "195f40ac-6d02-41da-bf4c-daba85ffdda3",
   "metadata": {},
   "outputs": [],
   "source": [
    "# long -> wide형으로 변경 후 저장\n",
    "pdWeek = weekP.pandas_api()"
   ]
  },
  {
   "cell_type": "code",
   "execution_count": 62,
   "id": "8b702a88-6330-427f-8d14-68dc783f8ddf",
   "metadata": {},
   "outputs": [],
   "source": [
    "# pdWeek\n",
    "pdWeekpvt = pdWeek.pivot_table(columns='DAY_OF_WEEK', values='PATIENTS')\n",
    "pdWeek = pdWeekpvt.reset_index()"
   ]
  },
  {
   "cell_type": "code",
   "execution_count": 63,
   "id": "c1ec2c34-9dc6-4d3a-baca-4d3e940e098a",
   "metadata": {},
   "outputs": [
    {
     "name": "stdout",
     "output_type": "stream",
     "text": [
      "+--------+------+------+------+------+------+------+\n",
      "|   index|   FRI|   MON|   SAT|   SUN|   TUE|   WED|\n",
      "+--------+------+------+------+------+------+------+\n",
      "|PATIENTS|3776.0|3813.0|4133.0|4077.0|3551.0|3763.0|\n",
      "+--------+------+------+------+------+------+------+\n",
      "\n"
     ]
    }
   ],
   "source": [
    "weekP = pdWeek.to_spark()\n",
    "weekP.show()"
   ]
  },
  {
   "cell_type": "code",
   "execution_count": 64,
   "id": "2bf1781b-20a6-478a-a477-4af4eb505189",
   "metadata": {},
   "outputs": [
    {
     "name": "stdout",
     "output_type": "stream",
     "text": [
      "+--------+------+------+------+------+------+------+----------+\n",
      "|   index|   FRI|   MON|   SAT|   SUN|   TUE|   WED|   STD_DAY|\n",
      "+--------+------+------+------+------+------+------+----------+\n",
      "|PATIENTS|3776.0|3813.0|4133.0|4077.0|3551.0|3763.0|2022-01-18|\n",
      "+--------+------+------+------+------+------+------+----------+\n",
      "\n"
     ]
    }
   ],
   "source": [
    "weekP.withColumn('STD_DAY', lit(cal_std_day(365*3+4))).show()"
   ]
  },
  {
   "cell_type": "code",
   "execution_count": 65,
   "id": "a81edf3b-99a1-43b5-a347-ab1de040f09e",
   "metadata": {},
   "outputs": [],
   "source": [
    "save_data(conf_svc, weekP, 'CO_WEEKDAY')"
   ]
  }
 ],
 "metadata": {
  "kernelspec": {
   "display_name": "Python 3 (ipykernel)",
   "language": "python",
   "name": "python3"
  },
  "language_info": {
   "codemirror_mode": {
    "name": "ipython",
    "version": 3
   },
   "file_extension": ".py",
   "mimetype": "text/x-python",
   "name": "python",
   "nbconvert_exporter": "python",
   "pygments_lexer": "ipython3",
   "version": "3.10.12"
  },
  "vscode": {
   "interpreter": {
    "hash": "377b85fccf01b1fe6a959144825e6c17ac3718c2615da119d71a1f46ada91329"
   }
  }
 },
 "nbformat": 4,
 "nbformat_minor": 5
}
