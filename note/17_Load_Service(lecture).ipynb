{
 "cells": [
  {
   "cell_type": "code",
   "execution_count": 9,
   "id": "324e44d3",
   "metadata": {},
   "outputs": [],
   "source": [
    "from IPython.core.interactiveshell import InteractiveShell\n",
    "InteractiveShell.ast_node_interactivity = \"all\""
   ]
  },
  {
   "cell_type": "markdown",
   "id": "3db95cd1-e6fc-42d0-b6e5-e9311b25b6c7",
   "metadata": {},
   "source": [
    "# 데이터마트용 계정 생성\n",
    "- mysql> create user bigSVC@'%' identified by 'bigSVC1234@';\n",
    "    - Query OK, 0 rows affected (0.01 sec)\n",
    "\n",
    "- mysql> grant all privileges on *.* to bigSVC@'%' with grant option;\n",
    "    - Query OK, 0 rows affected (0.02 sec)\n",
    "    - with grant option : 권한 전달이 가능한 계정\n"
   ]
  },
  {
   "cell_type": "code",
   "execution_count": 1,
   "id": "4d733b28",
   "metadata": {},
   "outputs": [],
   "source": [
    "from datetime import date, datetime\n",
    "from pyspark.sql.types import *\n",
    "from pyspark.sql.functions import *\n",
    "import datetime as dt\n",
    "import pandas as pd\n",
    "import matplotlib.pyplot as plt #그래프 패키지 모듈 등록\n",
    "%matplotlib inline \n"
   ]
  },
  {
   "cell_type": "code",
   "execution_count": 2,
   "id": "638d56cc",
   "metadata": {},
   "outputs": [],
   "source": [
    "def cal_std_day(befor_day):   \n",
    "    x = dt.datetime.now() - dt.timedelta(befor_day)\n",
    "    year = x.year\n",
    "    month = x.month if x.month >= 10 else '0'+ str(x.month)\n",
    "    day = x.day if x.day >= 10 else '0'+ str(x.day)  \n",
    "    return str(year)+ '-' +str(month)+ '-' +str(day)"
   ]
  },
  {
   "cell_type": "markdown",
   "id": "935050b6",
   "metadata": {},
   "source": [
    "### JDBC 연결정보"
   ]
  },
  {
   "cell_type": "code",
   "execution_count": 21,
   "id": "a4d64efe",
   "metadata": {},
   "outputs": [],
   "source": [
    "# dm db 연결정보\n",
    "conf_dm = {\n",
    "      'url':'jdbc:mysql://localhost:3306/etlMysqlDM?characterEncoding=utf8&serverTimezone=Asia/Seoul'\n",
    "     ,'props':{\n",
    "      'user':'bigMysql',\n",
    "      'password':'bigMysql1234@'   \n",
    "      }\n",
    "}\n",
    "\n",
    "# service db 연결정보\n",
    "conf_svc = {\n",
    "      'url':'jdbc:mysql://localhost:3306/etlMysqlSVC?characterEncoding=utf8&serverTimezone=Asia/Seoul'\n",
    "     ,'props':{\n",
    "      'user':'bigSVC',\n",
    "      'password':'bigSVC1234@'   \n",
    "      }\n",
    "}\n",
    "\n"
   ]
  },
  {
   "cell_type": "markdown",
   "id": "a8d85933",
   "metadata": {},
   "source": [
    "## Load DataMart"
   ]
  },
  {
   "cell_type": "markdown",
   "id": "2549a93a",
   "metadata": {},
   "source": [
    "### 1. 지역별 단위면적(km)당 인구수와 코로나 확진자 수 데이터 저장"
   ]
  },
  {
   "cell_type": "markdown",
   "id": "5131332d-00f8-45cb-9244-a6fc47fd6312",
   "metadata": {},
   "source": [
    "- base data load\n",
    "    - LOC table : 지역별 인구와 면적\n",
    "    - dm db data read -> 처리코드 -> service db dataload\n",
    "    - spark.read.jdbc(url,table,properties)"
   ]
  },
  {
   "cell_type": "code",
   "execution_count": 5,
   "id": "e70775e3-8040-47de-aa4b-ae0d2b8e8ac1",
   "metadata": {
    "collapsed": true,
    "jupyter": {
     "outputs_hidden": true
    }
   },
   "outputs": [
    {
     "name": "stderr",
     "output_type": "stream",
     "text": [
      "                                                                                "
     ]
    },
    {
     "name": "stdout",
     "output_type": "stream",
     "text": [
      "+----+------+---------+\n",
      "| LOC|  AREA|     POPU|\n",
      "+----+------+---------+\n",
      "|서울|  605 | 9736027 |\n",
      "|부산|  770 | 3396109 |\n",
      "|대구|  883 | 2412642 |\n",
      "|인천| 1065 | 3014739 |\n",
      "|광주|  501 | 1462545 |\n",
      "|대전|  540 | 1469543 |\n",
      "|울산| 1062 | 1138419 |\n",
      "|세종|  465 |  376779 |\n",
      "|경기|10195 |13925862 |\n",
      "|강원|16830 | 1555876 |\n",
      "|충북| 7407 | 1633472 |\n",
      "|충남| 8246 | 2181835 |\n",
      "|전북| 8070 | 1817186 |\n",
      "|전남|12348 | 1865459 |\n",
      "|경북|19034 | 2677709 |\n",
      "|경남|10541 | 3377331 |\n",
      "|제주| 1850 |  697476 |\n",
      "+----+------+---------+\n",
      "\n"
     ]
    }
   ],
   "source": [
    "spark.read.jdbc(url=conf_dm['url'], table='LOC', properties=conf_dm['props']).show()"
   ]
  },
  {
   "cell_type": "code",
   "execution_count": 6,
   "id": "b03e1992",
   "metadata": {},
   "outputs": [],
   "source": [
    "# db table 읽기 함수, 저장 함수\n",
    "# read\n",
    "def find_data(config, table_name) :\n",
    "    return spark.read.jdbc(url=config['url'], table=table_name, properties=config['props'])\n",
    "\n",
    "# write\n",
    "def save_data(config, df, table_name) :\n",
    "    return df.write.jdbc(url=config['url'], table=table_name, mode='append', properties=config['props'])\n",
    "    "
   ]
  },
  {
   "cell_type": "markdown",
   "id": "cfb34d43-5cb9-4e98-9a94-a6654a86c9ff",
   "metadata": {},
   "source": [
    "#### 단위면적당 인구수, 코로나 발생현황 data\n",
    "- dmdb LOC, CORONA_PATIENTS"
   ]
  },
  {
   "cell_type": "code",
   "execution_count": 7,
   "id": "5917084e-3416-446c-9875-9d5df0f67132",
   "metadata": {},
   "outputs": [],
   "source": [
    "# spark.sql.dataframe\n",
    "popu = find_data(conf_dm,'LOC')\n",
    "patients = find_data(conf_dm, 'CORONA_PATIENTS')"
   ]
  },
  {
   "cell_type": "code",
   "execution_count": 10,
   "id": "19898a7e-3e67-46ba-bcb5-3526e4ec6864",
   "metadata": {},
   "outputs": [
    {
     "data": {
      "text/plain": [
       "['LOC', 'AREA', 'POPU']"
      ]
     },
     "execution_count": 10,
     "metadata": {},
     "output_type": "execute_result"
    },
    {
     "data": {
      "text/plain": [
       "['LOC', 'DEATH_CNT', 'DEF_CNT', 'LOC_OCC_CNT', 'QUR_RATE', 'STD_DAY']"
      ]
     },
     "execution_count": 10,
     "metadata": {},
     "output_type": "execute_result"
    }
   ],
   "source": [
    "popu.columns\n",
    "patients.columns"
   ]
  },
  {
   "cell_type": "code",
   "execution_count": null,
   "id": "6bc4a14e-d1cd-448e-9d57-ba28ae873b9c",
   "metadata": {},
   "outputs": [],
   "source": [
    "['LOC', 'DEATH_CNT', 'DEF_CNT', 'LOC_OCC_CNT', 'QUR_RATE', 'STD_DAY']\n",
    "# 지역   누적사망자수  누적 발생수  지역발생수     만명당 발생률  기준일자"
   ]
  },
  {
   "cell_type": "code",
   "execution_count": 11,
   "id": "ea6a8167-8c96-4d4b-978c-8a606abf00ec",
   "metadata": {},
   "outputs": [
    {
     "name": "stderr",
     "output_type": "stream",
     "text": [
      "                                                                                "
     ]
    },
    {
     "data": {
      "text/plain": [
       "17"
      ]
     },
     "execution_count": 11,
     "metadata": {},
     "output_type": "execute_result"
    },
    {
     "name": "stderr",
     "output_type": "stream",
     "text": [
      "                                                                                "
     ]
    },
    {
     "data": {
      "text/plain": [
       "102"
      ]
     },
     "execution_count": 11,
     "metadata": {},
     "output_type": "execute_result"
    }
   ],
   "source": [
    "popu.count()\n",
    "patients.count()"
   ]
  },
  {
   "cell_type": "code",
   "execution_count": 12,
   "id": "fa18c378-eec6-4fe7-bcac-5201bdfce5ab",
   "metadata": {},
   "outputs": [
    {
     "name": "stderr",
     "output_type": "stream",
     "text": [
      "                                                                                "
     ]
    },
    {
     "data": {
      "text/plain": [
       "[Row(LOC='충남', AREA='8246 ', POPU='2181835 ', DEATH_CNT='170', DEF_CNT='19893', LOC_OCC_CNT='105', QUR_RATE='939', STD_DAY='2022-01-16'),\n",
       " Row(LOC='충남', AREA='8246 ', POPU='2181835 ', DEATH_CNT='165', DEF_CNT='19553', LOC_OCC_CNT='126', QUR_RATE='923', STD_DAY='2022-01-13'),\n",
       " Row(LOC='충남', AREA='8246 ', POPU='2181835 ', DEATH_CNT='165', DEF_CNT='19659', LOC_OCC_CNT='99', QUR_RATE='928', STD_DAY='2022-01-14'),\n",
       " Row(LOC='충남', AREA='8246 ', POPU='2181835 ', DEATH_CNT='174', DEF_CNT='19997', LOC_OCC_CNT='93', QUR_RATE='944', STD_DAY='2022-01-17'),\n",
       " Row(LOC='충북', AREA='7407 ', POPU='1633472 ', DEATH_CNT='121', DEF_CNT='12455', LOC_OCC_CNT='37', QUR_RATE='780', STD_DAY='2022-01-16'),\n",
       " Row(LOC='충북', AREA='7407 ', POPU='1633472 ', DEATH_CNT='120', DEF_CNT='12416', LOC_OCC_CNT='77', QUR_RATE='777', STD_DAY='2022-01-15'),\n",
       " Row(LOC='충북', AREA='7407 ', POPU='1633472 ', DEATH_CNT='123', DEF_CNT='12555', LOC_OCC_CNT='55', QUR_RATE='786', STD_DAY='2022-01-18'),\n",
       " Row(LOC='충북', AREA='7407 ', POPU='1633472 ', DEATH_CNT='121', DEF_CNT='12497', LOC_OCC_CNT='38', QUR_RATE='782', STD_DAY='2022-01-17'),\n",
       " Row(LOC='충북', AREA='7407 ', POPU='1633472 ', DEATH_CNT='120', DEF_CNT='12263', LOC_OCC_CNT='58', QUR_RATE='768', STD_DAY='2022-01-13'),\n",
       " Row(LOC='충북', AREA='7407 ', POPU='1633472 ', DEATH_CNT='120', DEF_CNT='12333', LOC_OCC_CNT='67', QUR_RATE='772', STD_DAY='2022-01-14')]"
      ]
     },
     "execution_count": 12,
     "metadata": {},
     "output_type": "execute_result"
    }
   ],
   "source": [
    "popu.join(patients, on='LOC').tail(10)"
   ]
  },
  {
   "cell_type": "code",
   "execution_count": 14,
   "id": "5b2937f4-b5ea-479a-9ff4-d1e0024c3fe4",
   "metadata": {},
   "outputs": [],
   "source": [
    "popPatient = popu.join(patients, on='LOC')\\\n",
    "                    .select('LOC',\n",
    "                            ceil(col('POPU')/col('AREA')).alias('POPU_DENST'),\n",
    "                            'QUR_RATE','STD_DAY')\\\n",
    "                    .orderBy(col('STD_DAY'))"
   ]
  },
  {
   "cell_type": "code",
   "execution_count": 15,
   "id": "a88d4686-5023-48ef-bb01-3aa00d35f695",
   "metadata": {
    "collapsed": true,
    "jupyter": {
     "outputs_hidden": true
    }
   },
   "outputs": [
    {
     "name": "stdout",
     "output_type": "stream",
     "text": [
      "+----+----------+--------+----------+\n",
      "| LOC|POPU_DENST|QUR_RATE|   STD_DAY|\n",
      "+----+----------+--------+----------+\n",
      "|대구|      2733|    1024|2022-01-13|\n",
      "|울산|      1072|     653|2022-01-13|\n",
      "|대전|      2722|     888|2022-01-13|\n",
      "|광주|      2920|     655|2022-01-13|\n",
      "|부산|      4411|     819|2022-01-13|\n",
      "+----+----------+--------+----------+\n",
      "only showing top 5 rows\n",
      "\n"
     ]
    },
    {
     "data": {
      "text/plain": [
       "[Row(LOC='전남', POPU_DENST=152, QUR_RATE='433', STD_DAY='2022-01-18'),\n",
       " Row(LOC='전북', POPU_DENST=226, QUR_RATE='629', STD_DAY='2022-01-18'),\n",
       " Row(LOC='제주', POPU_DENST=378, QUR_RATE='724', STD_DAY='2022-01-18'),\n",
       " Row(LOC='충남', POPU_DENST=265, QUR_RATE='950', STD_DAY='2022-01-18'),\n",
       " Row(LOC='충북', POPU_DENST=221, QUR_RATE='786', STD_DAY='2022-01-18')]"
      ]
     },
     "execution_count": 15,
     "metadata": {},
     "output_type": "execute_result"
    }
   ],
   "source": [
    "popPatient.show(5)\n",
    "popPatient.tail(5)"
   ]
  },
  {
   "cell_type": "markdown",
   "id": "0f1c1d6a-9321-41f4-bb7f-e68dea6a3289",
   "metadata": {},
   "source": [
    "- 각 DB에 고유번호를 추가해서 레코드를 유일하게 구별하는 컬럼으로 사용\n",
    "    - Spark 데이터 프레임의 StatFunctions 패키지 함수 중 monotonically_increasing_id\n",
    "    - 데이터 프레임의 로우에 되는매핑되는  고유 id 반환"
   ]
  },
  {
   "cell_type": "code",
   "execution_count": 18,
   "id": "39d72d47-dfdc-495e-a358-df98f10527b0",
   "metadata": {},
   "outputs": [],
   "source": [
    "popPatFin = popPatient.withColumn('CP_IDX',monotonically_increasing_id())"
   ]
  },
  {
   "cell_type": "code",
   "execution_count": 19,
   "id": "29a7f885-944f-4e31-99dd-9b493a154765",
   "metadata": {},
   "outputs": [
    {
     "name": "stdout",
     "output_type": "stream",
     "text": [
      "+----+----------+--------+----------+------+\n",
      "| LOC|POPU_DENST|QUR_RATE|   STD_DAY|CP_IDX|\n",
      "+----+----------+--------+----------+------+\n",
      "|강원|        93|     869|2022-01-13|     0|\n",
      "|경기|      1366|    1495|2022-01-13|     1|\n",
      "+----+----------+--------+----------+------+\n",
      "only showing top 2 rows\n",
      "\n"
     ]
    }
   ],
   "source": [
    "popPatFin.show(2)"
   ]
  },
  {
   "cell_type": "code",
   "execution_count": 22,
   "id": "5dbbe811-0688-46b3-aeed-8d76f1b698ce",
   "metadata": {},
   "outputs": [
    {
     "name": "stderr",
     "output_type": "stream",
     "text": [
      "                                                                                "
     ]
    }
   ],
   "source": [
    "save_data(conf_svc, popPatFin,'CO_POP_DENSITY')"
   ]
  },
  {
   "cell_type": "markdown",
   "id": "e6b9a490",
   "metadata": {},
   "source": [
    "### 2.  백신접종 완료자와 코로나 발생현황 데이터 저장\n",
    "- 백신접종 3차 접종자수(누적) : 인구 10만명당 접종자수\n",
    "- 코로나 발생현황 :  QUR_RATE(인구 10만명당 발생자수)"
   ]
  },
  {
   "cell_type": "code",
   "execution_count": 23,
   "id": "3c1637d0",
   "metadata": {},
   "outputs": [],
   "source": [
    "vaccine = find_data(conf_dm, 'CORONA_VACCINE')"
   ]
  },
  {
   "cell_type": "code",
   "execution_count": 26,
   "id": "62985ed6-df8b-4e48-9d36-9a29e3aee64e",
   "metadata": {},
   "outputs": [
    {
     "name": "stdout",
     "output_type": "stream",
     "text": [
      "+----+----------+----+---------+\n",
      "| LOC|   STD_DAY|V_TH|    V_CNT|\n",
      "+----+----------+----+---------+\n",
      "|충북|2022-01-18|  v2|1379378.0|\n",
      "|충북|2022-01-18|  v1|  1408620|\n",
      "|충북|2022-01-18|  v3| 783588.0|\n",
      "+----+----------+----+---------+\n",
      "only showing top 3 rows\n",
      "\n",
      "root\n",
      " |-- LOC: string (nullable = true)\n",
      " |-- STD_DAY: string (nullable = true)\n",
      " |-- V_TH: string (nullable = true)\n",
      " |-- V_CNT: string (nullable = true)\n",
      "\n"
     ]
    }
   ],
   "source": [
    "vaccine.show(3)\n",
    "vaccine.printSchema()"
   ]
  },
  {
   "cell_type": "code",
   "execution_count": 27,
   "id": "9b707644-0244-4d36-8d9a-6db14063eb79",
   "metadata": {},
   "outputs": [
    {
     "name": "stdout",
     "output_type": "stream",
     "text": [
      "+----+----------+----+-------+\n",
      "| LOC|   STD_DAY|V_TH|  V_CNT|\n",
      "+----+----------+----+-------+\n",
      "|충북|2022-01-18|  v2|1379378|\n",
      "|충북|2022-01-18|  v1|1408620|\n",
      "+----+----------+----+-------+\n",
      "only showing top 2 rows\n",
      "\n"
     ]
    }
   ],
   "source": [
    "# V_CNT열 형변환\n",
    "vaccine = vaccine.withColumn('V_CNT', vaccine['V_CNT'].cast(IntegerType()))\n",
    "vaccine.show(2)"
   ]
  },
  {
   "cell_type": "code",
   "execution_count": 28,
   "id": "8ada17b9-412c-4c60-ad59-3c77e2b03ef7",
   "metadata": {},
   "outputs": [
    {
     "name": "stderr",
     "output_type": "stream",
     "text": [
      "/root/spark/python/pyspark/pandas/__init__.py:50: UserWarning: 'PYARROW_IGNORE_TIMEZONE' environment variable was not set. It is required to set this environment variable to '1' in both driver and executor sides if you use pyarrow>=2.0.0. pandas-on-Spark will set it for you but it does not work if there is a Spark context already launched.\n",
      "  warnings.warn(\n"
     ]
    },
    {
     "data": {
      "text/plain": [
       "pyspark.pandas.frame.DataFrame"
      ]
     },
     "execution_count": 28,
     "metadata": {},
     "output_type": "execute_result"
    }
   ],
   "source": [
    "## long df -> wide df 변환(V_TH 컬럼 값을 컬럼으로 변환)\n",
    "## pivot 사용 : pandas df로 변환\n",
    "pdVac = vaccine.pandas_api()\n",
    "type(pdVac)"
   ]
  },
  {
   "cell_type": "code",
   "execution_count": 30,
   "id": "bb7df3d6-e8a4-4293-955b-b72622747260",
   "metadata": {},
   "outputs": [],
   "source": [
    "pdVacv1 = pdVac.pivot_table(index=['LOC','STD_DAY'], columns='V_TH', values='V_CNT')"
   ]
  },
  {
   "cell_type": "code",
   "execution_count": 32,
   "id": "b818f116-89c1-42dc-b155-df10a41e26cf",
   "metadata": {},
   "outputs": [
    {
     "data": {
      "text/html": [
       "<div>\n",
       "<style scoped>\n",
       "    .dataframe tbody tr th:only-of-type {\n",
       "        vertical-align: middle;\n",
       "    }\n",
       "\n",
       "    .dataframe tbody tr th {\n",
       "        vertical-align: top;\n",
       "    }\n",
       "\n",
       "    .dataframe thead th {\n",
       "        text-align: right;\n",
       "    }\n",
       "</style>\n",
       "<table border=\"1\" class=\"dataframe\">\n",
       "  <thead>\n",
       "    <tr style=\"text-align: right;\">\n",
       "      <th>V_TH</th>\n",
       "      <th>LOC</th>\n",
       "      <th>STD_DAY</th>\n",
       "      <th>v1</th>\n",
       "      <th>v2</th>\n",
       "      <th>v3</th>\n",
       "    </tr>\n",
       "  </thead>\n",
       "  <tbody>\n",
       "    <tr>\n",
       "      <th>0</th>\n",
       "      <td>전남</td>\n",
       "      <td>2022-01-15</td>\n",
       "      <td>1631047.0</td>\n",
       "      <td>1599517.0</td>\n",
       "      <td>1007985.0</td>\n",
       "    </tr>\n",
       "  </tbody>\n",
       "</table>\n",
       "</div>"
      ],
      "text/plain": [
       "V_TH LOC     STD_DAY         v1         v2         v3\n",
       "0     전남  2022-01-15  1631047.0  1599517.0  1007985.0"
      ]
     },
     "execution_count": 32,
     "metadata": {},
     "output_type": "execute_result"
    }
   ],
   "source": [
    "# pdVacv1.head()\n",
    "pdVacv1 = pdVacv1.reset_index()\n",
    "pdVacv1.head(1)"
   ]
  },
  {
   "cell_type": "code",
   "execution_count": 33,
   "id": "61dff5d6-21d4-482c-801c-f73260568568",
   "metadata": {},
   "outputs": [
    {
     "name": "stderr",
     "output_type": "stream",
     "text": [
      "/root/spark/python/pyspark/pandas/utils.py:1016: PandasAPIOnSparkAdviceWarning: If `index_col` is not specified for `to_spark`, the existing index is lost when converting to Spark DataFrame.\n",
      "  warnings.warn(message, PandasAPIOnSparkAdviceWarning)\n"
     ]
    }
   ],
   "source": [
    "# spark df로 변환\n",
    "vaccine = pdVacv1.to_spark()"
   ]
  },
  {
   "cell_type": "code",
   "execution_count": 34,
   "id": "84cb478a-88c7-447e-a85b-8ec278c9ed4e",
   "metadata": {},
   "outputs": [
    {
     "name": "stdout",
     "output_type": "stream",
     "text": [
      "+----+----------+---------+---------+---------+\n",
      "| LOC|   STD_DAY|       v1|       v2|       v3|\n",
      "+----+----------+---------+---------+---------+\n",
      "|전남|2022-01-15|1631047.0|1599517.0|1007985.0|\n",
      "|울산|2022-01-17| 956456.0| 930969.0| 467195.0|\n",
      "+----+----------+---------+---------+---------+\n",
      "only showing top 2 rows\n",
      "\n"
     ]
    }
   ],
   "source": [
    "vaccine.show(2)"
   ]
  },
  {
   "cell_type": "code",
   "execution_count": 37,
   "id": "5d29ff78-1b84-45a3-a9b0-cdbf6c64fbda",
   "metadata": {},
   "outputs": [],
   "source": [
    "# 지역별 인구 10만명당 백신 접종률 계산\n",
    "# 인구 data 필요\n",
    "popu = find_data(conf_dm, 'LOC')\n",
    "# 코로나 현황 data 필요\n",
    "patients = find_data(conf_dm,'CORONA_PATIENTS')"
   ]
  },
  {
   "cell_type": "code",
   "execution_count": 38,
   "id": "7dee2eda-3399-4863-b76a-315ab6d6fe4b",
   "metadata": {},
   "outputs": [
    {
     "data": {
      "text/plain": [
       "['LOC', 'AREA', 'POPU']"
      ]
     },
     "execution_count": 38,
     "metadata": {},
     "output_type": "execute_result"
    },
    {
     "data": {
      "text/plain": [
       "['LOC', 'DEATH_CNT', 'DEF_CNT', 'LOC_OCC_CNT', 'QUR_RATE', 'STD_DAY']"
      ]
     },
     "execution_count": 38,
     "metadata": {},
     "output_type": "execute_result"
    }
   ],
   "source": [
    "popu.columns\n",
    "patients.columns"
   ]
  },
  {
   "cell_type": "code",
   "execution_count": 39,
   "id": "16fe431d-244b-41a7-addd-d5109acd4b62",
   "metadata": {},
   "outputs": [],
   "source": [
    "vacRate= vaccine.join(popu, on='LOC')\\\n",
    "                .select('LOC',\n",
    "                        'STD_DAY',\n",
    "                        ceil(col('v3')/col('POPU') *100000).alias('THRD_RATE'))"
   ]
  },
  {
   "cell_type": "code",
   "execution_count": 41,
   "id": "b3fb8499-731d-403c-bafb-7842f733218e",
   "metadata": {},
   "outputs": [
    {
     "name": "stdout",
     "output_type": "stream",
     "text": [
      "+----+----------+---------+\n",
      "| LOC|   STD_DAY|THRD_RATE|\n",
      "+----+----------+---------+\n",
      "|경북|2022-01-16|    45861|\n",
      "+----+----------+---------+\n",
      "only showing top 1 row\n",
      "\n"
     ]
    }
   ],
   "source": [
    "vacRate.show(1)"
   ]
  },
  {
   "cell_type": "code",
   "execution_count": 42,
   "id": "b45fd025-a85c-4f24-aad4-7a1630ae1887",
   "metadata": {},
   "outputs": [
    {
     "data": {
      "text/plain": [
       "['LOC', 'STD_DAY', 'THRD_RATE']"
      ]
     },
     "execution_count": 42,
     "metadata": {},
     "output_type": "execute_result"
    },
    {
     "data": {
      "text/plain": [
       "['LOC', 'DEATH_CNT', 'DEF_CNT', 'LOC_OCC_CNT', 'QUR_RATE', 'STD_DAY']"
      ]
     },
     "execution_count": 42,
     "metadata": {},
     "output_type": "execute_result"
    }
   ],
   "source": [
    "vacRate.columns\n",
    "patients.columns"
   ]
  },
  {
   "cell_type": "code",
   "execution_count": 45,
   "id": "6481b22f-5785-4d70-8d12-57fa6381484f",
   "metadata": {},
   "outputs": [],
   "source": [
    "coPatVac= vacRate.join(patients, on=['LOC','STD_DAY'])\\\n",
    "                    .select('LOC','STD_DAY','THRD_RATE','QUR_RATE')"
   ]
  },
  {
   "cell_type": "code",
   "execution_count": 46,
   "id": "8f9b510c-9997-4e60-870b-b95904e8e6c7",
   "metadata": {},
   "outputs": [
    {
     "name": "stdout",
     "output_type": "stream",
     "text": [
      "+----+----------+---------+--------+\n",
      "| LOC|   STD_DAY|THRD_RATE|QUR_RATE|\n",
      "+----+----------+---------+--------+\n",
      "|경북|2022-01-16|    45861|     637|\n",
      "|경북|2022-01-15|    45392|     633|\n",
      "|경북|2022-01-17|    45875|     641|\n",
      "+----+----------+---------+--------+\n",
      "only showing top 3 rows\n",
      "\n"
     ]
    }
   ],
   "source": [
    "coPatVac.show(3)"
   ]
  },
  {
   "cell_type": "code",
   "execution_count": 48,
   "id": "bcf7cfaf-5f50-44ac-b13b-7f3ed41db5e8",
   "metadata": {},
   "outputs": [],
   "source": [
    "coPatVac = coPatVac.withColumn('CV_IDX',monotonically_increasing_id())"
   ]
  },
  {
   "cell_type": "code",
   "execution_count": 49,
   "id": "706b55bf-8e27-4140-aed0-b3e7760ea1fb",
   "metadata": {},
   "outputs": [
    {
     "name": "stdout",
     "output_type": "stream",
     "text": [
      "+----+----------+---------+--------+------+\n",
      "| LOC|   STD_DAY|THRD_RATE|QUR_RATE|CV_IDX|\n",
      "+----+----------+---------+--------+------+\n",
      "|경북|2022-01-16|    45861|     637|     0|\n",
      "|경북|2022-01-15|    45392|     633|     1|\n",
      "+----+----------+---------+--------+------+\n",
      "only showing top 2 rows\n",
      "\n"
     ]
    }
   ],
   "source": [
    "coPatVac.show(2)"
   ]
  },
  {
   "cell_type": "code",
   "execution_count": 50,
   "id": "db83421d-cfe1-44bd-9794-db822d7b3cd8",
   "metadata": {},
   "outputs": [
    {
     "name": "stderr",
     "output_type": "stream",
     "text": [
      "                                                                                "
     ]
    }
   ],
   "source": [
    "save_data(conf_svc, coPatVac, 'CO_VACCINE_PATIENT')"
   ]
  },
  {
   "cell_type": "markdown",
   "id": "3209c1f4",
   "metadata": {},
   "source": [
    "### 3. 다중이용시설과 코로나 확진자 수의 data\n",
    "- dmdb LOC_FACILITY_CNT\n",
    "    - 인구 10만명당 다중 이용시설 수\n",
    "- dmdb CORONA_PATIENTS\n",
    "- dmdb LOC"
   ]
  },
  {
   "cell_type": "code",
   "execution_count": null,
   "id": "2fce2be9-0e34-4806-842f-913959f72cfe",
   "metadata": {},
   "outputs": [],
   "source": [
    "# 지역별 인구 10만명당 다중 이용 시설 수\n",
    "# 인구 data 필요\n",
    "popu = find_data(conf_dm, 'LOC')\n",
    "# 코로나 현황 data 필요\n",
    "patients = find_data(conf_dm,'CORONA_PATIENTS')"
   ]
  },
  {
   "cell_type": "code",
   "execution_count": 51,
   "id": "fe77abcb",
   "metadata": {},
   "outputs": [],
   "source": [
    "facil = find_data(conf_dm, 'LOC_FACILITY_CNT')"
   ]
  },
  {
   "cell_type": "code",
   "execution_count": 52,
   "id": "d67bf3b7-8347-44e4-b231-55bd9b4d52e5",
   "metadata": {},
   "outputs": [
    {
     "name": "stdout",
     "output_type": "stream",
     "text": [
      "+----+-------+\n",
      "| LOC|FAC_CNT|\n",
      "+----+-------+\n",
      "|경북|    944|\n",
      "|대전|    767|\n",
      "+----+-------+\n",
      "only showing top 2 rows\n",
      "\n"
     ]
    }
   ],
   "source": [
    "facil.show(2)"
   ]
  },
  {
   "cell_type": "code",
   "execution_count": 54,
   "id": "c103cb54-7388-41db-8502-86be7a88c68f",
   "metadata": {},
   "outputs": [],
   "source": [
    "# 인구 10만명당 다중 이용시설 수\n",
    "facPop = popu.join(facil, on='LOC')\\\n",
    "            .select('LOC',\n",
    "                    ceil(facil.FAC_CNT/popu.POPU*100000).alias('FAC_POPU'))"
   ]
  },
  {
   "cell_type": "code",
   "execution_count": 55,
   "id": "054d1412-44c0-4b6b-a06b-6a63145462f1",
   "metadata": {},
   "outputs": [
    {
     "name": "stdout",
     "output_type": "stream",
     "text": [
      "+----+--------+\n",
      "| LOC|FAC_POPU|\n",
      "+----+--------+\n",
      "|강원|      38|\n",
      "|경기|      46|\n",
      "+----+--------+\n",
      "only showing top 2 rows\n",
      "\n"
     ]
    }
   ],
   "source": [
    "facPop.show(2)"
   ]
  },
  {
   "cell_type": "code",
   "execution_count": 57,
   "id": "22b6cb86-8e52-4df9-9200-dc145f53e3bd",
   "metadata": {},
   "outputs": [],
   "source": [
    "coFacPat = patients.join(facPop, on='LOC')\\\n",
    "                    .select('LOC', 'FAC_POPU','QUR_RATE','STD_DAY')\\\n",
    "                    .withColumn('CF_IDX',monotonically_increasing_id())"
   ]
  },
  {
   "cell_type": "code",
   "execution_count": 58,
   "id": "58f2d327-58d1-4029-9e07-bbf0e8e128b3",
   "metadata": {},
   "outputs": [
    {
     "name": "stdout",
     "output_type": "stream",
     "text": [
      "+----+--------+--------+----------+------+\n",
      "| LOC|FAC_POPU|QUR_RATE|   STD_DAY|CF_IDX|\n",
      "+----+--------+--------+----------+------+\n",
      "|경북|      36|     633|2022-01-15|     0|\n",
      "|경북|      36|     646|2022-01-18|     1|\n",
      "+----+--------+--------+----------+------+\n",
      "only showing top 2 rows\n",
      "\n"
     ]
    }
   ],
   "source": [
    "coFacPat.show(2)"
   ]
  },
  {
   "cell_type": "code",
   "execution_count": 59,
   "id": "d72e263f-b26e-4618-a415-c212bebe327d",
   "metadata": {},
   "outputs": [],
   "source": [
    "save_data(conf_svc, coFacPat, 'CO_FACT_PATIENTS')"
   ]
  },
  {
   "cell_type": "markdown",
   "id": "a0849960",
   "metadata": {},
   "source": [
    "### 4. 요일별 코로나 확진자 수를 구해보자\n",
    "- 코로나현황 data : STD_DAY 기준일 data -> 요일로 변경(dayofweek()) -> 요일별 그룹 생성 후 신규확진자수 합산"
   ]
  },
  {
   "cell_type": "code",
   "execution_count": null,
   "id": "87a96b60-d629-4ca1-b7c3-4c00454eb0c8",
   "metadata": {},
   "outputs": [],
   "source": [
    "# 코로나 현황 data 필요\n",
    "patients = find_data(conf_dm,'CORONA_PATIENTS')"
   ]
  },
  {
   "cell_type": "code",
   "execution_count": 60,
   "id": "3b73e277-5baf-40c0-b750-0a7685f51735",
   "metadata": {},
   "outputs": [],
   "source": [
    "# 기준일을 요일로 변환 \n",
    "patWeek = patients.withColumn('DAY_OF_WEEK', dayofweek(col('STD_DAY')))"
   ]
  },
  {
   "cell_type": "code",
   "execution_count": 61,
   "id": "7fbd5bc3-d99c-4f38-a2d8-29e5987f846c",
   "metadata": {},
   "outputs": [
    {
     "name": "stdout",
     "output_type": "stream",
     "text": [
      "+----+---------+-------+-----------+--------+----------+-----------+\n",
      "| LOC|DEATH_CNT|DEF_CNT|LOC_OCC_CNT|QUR_RATE|   STD_DAY|DAY_OF_WEEK|\n",
      "+----+---------+-------+-----------+--------+----------+-----------+\n",
      "|강원|      110|  13838|         94|     899|2022-01-18|          3|\n",
      "|경남|      113|  22394|        108|     676|2022-01-15|          7|\n",
      "|서울|     2033| 240862|        823|    2533|2022-01-15|          7|\n",
      "|서울|     2063| 243337|        684|    2559|2022-01-18|          3|\n",
      "|대전|      187|  13262|        101|     913|2022-01-18|          3|\n",
      "|광주|       55|  10049|        173|     697|2022-01-16|          1|\n",
      "|세종|        4|   2359|         20|     634|2022-01-16|          1|\n",
      "|전북|      121|  11245|        147|     629|2022-01-18|          3|\n",
      "|전남|       45|   7630|        160|     416|2022-01-16|          1|\n",
      "|인천|      322|  39970|        221|    1356|2022-01-15|          7|\n",
      "+----+---------+-------+-----------+--------+----------+-----------+\n",
      "only showing top 10 rows\n",
      "\n"
     ]
    }
   ],
   "source": [
    "patWeek.show(10)"
   ]
  },
  {
   "cell_type": "code",
   "execution_count": 62,
   "id": "71656a74-3639-4b09-97c2-162ae2f6ee9d",
   "metadata": {},
   "outputs": [],
   "source": [
    "weekP = patWeek.groupby(patWeek.DAY_OF_WEEK).agg(sum(col('LOC_OCC_CNT')).alias('PATIENTS'))"
   ]
  },
  {
   "cell_type": "code",
   "execution_count": 63,
   "id": "f4f41e18-1071-4073-a7a4-956b084e54c1",
   "metadata": {},
   "outputs": [
    {
     "name": "stdout",
     "output_type": "stream",
     "text": [
      "+-----------+--------+\n",
      "|DAY_OF_WEEK|PATIENTS|\n",
      "+-----------+--------+\n",
      "|          1|  3813.0|\n",
      "|          6|  4133.0|\n",
      "|          3|  3763.0|\n",
      "|          5|  3776.0|\n",
      "|          7|  4077.0|\n",
      "|          2|  3551.0|\n",
      "+-----------+--------+\n",
      "\n"
     ]
    }
   ],
   "source": [
    "weekP.show()"
   ]
  },
  {
   "cell_type": "code",
   "execution_count": 64,
   "id": "350e971c-67d8-4400-adde-f3f0d9eef8b9",
   "metadata": {},
   "outputs": [],
   "source": [
    "weekP = weekP.withColumn('DAY_OF_WEEK', when(weekP.DAY_OF_WEEK == 1, 'MON')\n",
    "                                         .when(weekP.DAY_OF_WEEK == 2, 'TUE')\n",
    "                                         .when(weekP.DAY_OF_WEEK == 3, 'WED')\n",
    "                                         .when(weekP.DAY_OF_WEEK == 4, 'THE')\n",
    "                                         .when(weekP.DAY_OF_WEEK == 5, 'FRI')\n",
    "                                         .when(weekP.DAY_OF_WEEK == 6, 'SAT')\n",
    "                                         .when(weekP.DAY_OF_WEEK == 7, 'SUN'))"
   ]
  },
  {
   "cell_type": "code",
   "execution_count": 65,
   "id": "9a591a1c-ea78-4ff2-a097-440d6a4d3ac3",
   "metadata": {},
   "outputs": [
    {
     "name": "stdout",
     "output_type": "stream",
     "text": [
      "+-----------+--------+\n",
      "|DAY_OF_WEEK|PATIENTS|\n",
      "+-----------+--------+\n",
      "|        MON|  3813.0|\n",
      "|        SAT|  4133.0|\n",
      "|        WED|  3763.0|\n",
      "|        FRI|  3776.0|\n",
      "|        SUN|  4077.0|\n",
      "|        TUE|  3551.0|\n",
      "+-----------+--------+\n",
      "\n"
     ]
    }
   ],
   "source": [
    "weekP.show()"
   ]
  },
  {
   "cell_type": "code",
   "execution_count": 67,
   "id": "c14a21ff-1fc4-451b-9c96-f600aac97bf1",
   "metadata": {},
   "outputs": [],
   "source": [
    "# long -> wide형으로 변경 후 저장\n",
    "pdWeek = weekP.pandas_api()"
   ]
  },
  {
   "cell_type": "code",
   "execution_count": 72,
   "id": "85725572-4d0d-4604-a702-432cf6e17288",
   "metadata": {},
   "outputs": [],
   "source": [
    "# pdWeek\n",
    "pdWeekpvt = pdWeek.pivot_table(columns='DAY_OF_WEEK', values='PATIENTS')\n",
    "pdWeek = pdWeekpvt.reset_index()"
   ]
  },
  {
   "cell_type": "code",
   "execution_count": 73,
   "id": "4848f098-bc32-406c-826a-5e435893941a",
   "metadata": {},
   "outputs": [
    {
     "name": "stderr",
     "output_type": "stream",
     "text": [
      "/root/spark/python/pyspark/pandas/utils.py:1016: PandasAPIOnSparkAdviceWarning: If `index_col` is not specified for `to_spark`, the existing index is lost when converting to Spark DataFrame.\n",
      "  warnings.warn(message, PandasAPIOnSparkAdviceWarning)\n"
     ]
    },
    {
     "name": "stdout",
     "output_type": "stream",
     "text": [
      "+--------+------+------+------+------+------+------+\n",
      "|   index|   FRI|   MON|   SAT|   SUN|   TUE|   WED|\n",
      "+--------+------+------+------+------+------+------+\n",
      "|PATIENTS|3776.0|3813.0|4133.0|4077.0|3551.0|3763.0|\n",
      "+--------+------+------+------+------+------+------+\n",
      "\n"
     ]
    }
   ],
   "source": [
    "weekP = pdWeek.to_spark()\n",
    "weekP.show()"
   ]
  },
  {
   "cell_type": "code",
   "execution_count": 75,
   "id": "77f6e7c0-e797-40c3-bc3d-a1ce644af224",
   "metadata": {},
   "outputs": [
    {
     "name": "stdout",
     "output_type": "stream",
     "text": [
      "+--------+------+------+------+------+------+------+----------+\n",
      "|   index|   FRI|   MON|   SAT|   SUN|   TUE|   WED|   STD_DAY|\n",
      "+--------+------+------+------+------+------+------+----------+\n",
      "|PATIENTS|3776.0|3813.0|4133.0|4077.0|3551.0|3763.0|2022-01-18|\n",
      "+--------+------+------+------+------+------+------+----------+\n",
      "\n"
     ]
    }
   ],
   "source": [
    "weekP.withColumn('STD_DAY', lit(cal_std_day(365*3+4))).show()"
   ]
  },
  {
   "cell_type": "code",
   "execution_count": 76,
   "id": "74fdb161-9867-4128-94d8-97ce7847acbc",
   "metadata": {},
   "outputs": [],
   "source": [
    "save_data(conf_svc, weekP, 'CO_WEEKDAY')"
   ]
  }
 ],
 "metadata": {
  "kernelspec": {
   "display_name": "Python 3 (ipykernel)",
   "language": "python",
   "name": "python3"
  },
  "language_info": {
   "codemirror_mode": {
    "name": "ipython",
    "version": 3
   },
   "file_extension": ".py",
   "mimetype": "text/x-python",
   "name": "python",
   "nbconvert_exporter": "python",
   "pygments_lexer": "ipython3",
   "version": "3.10.12"
  },
  "vscode": {
   "interpreter": {
    "hash": "377b85fccf01b1fe6a959144825e6c17ac3718c2615da119d71a1f46ada91329"
   }
  }
 },
 "nbformat": 4,
 "nbformat_minor": 5
}
