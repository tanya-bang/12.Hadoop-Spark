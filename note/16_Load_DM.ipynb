{
 "cells": [
  {
   "cell_type": "code",
   "execution_count": 1,
   "id": "ffee0de2",
   "metadata": {},
   "outputs": [],
   "source": [
    "from IPython.core.interactiveshell import InteractiveShell\n",
    "InteractiveShell.ast_node_interactivity = \"all\""
   ]
  },
  {
   "cell_type": "code",
   "execution_count": 3,
   "id": "f95e956f",
   "metadata": {},
   "outputs": [],
   "source": [
    "# matplotlib 한글 꺠짐 방지\n",
    "# apt-get update\n",
    "# apt-get install fonts-nanum* \n",
    "# apt-get install fontconfig\n",
    "# fc-cache -fv  # font 캐시 날리기\n",
    "# rm -rf /root/.cache/matplotlib/  #matplotliob 폰트 캐시 날리기\n",
    "\n",
    "# jdbc연동에 필요한 jar파일을 클래스 패스와 jar경로에 추가\n",
    "# /root/spark/conf/spark-default.conf 파일 수정\n"
   ]
  },
  {
   "cell_type": "code",
   "execution_count": 2,
   "id": "c51acdf3-62cb-4873-aad7-f1e987744ad5",
   "metadata": {
    "collapsed": true,
    "jupyter": {
     "outputs_hidden": true
    },
    "scrolled": true
   },
   "outputs": [
    {
     "name": "stdout",
     "output_type": "stream",
     "text": [
      "Collecting pymysql\n",
      "  Downloading PyMySQL-1.1.1-py3-none-any.whl (44 kB)\n",
      "\u001b[2K     \u001b[38;2;114;156;31m━━━━━━━━━━━━━━━━━━━━━━━━━━━━━━━━━━━━━━━\u001b[0m \u001b[32m45.0/45.0 KB\u001b[0m \u001b[31m225.6 kB/s\u001b[0m eta \u001b[36m0:00:00\u001b[0m1m442.6 kB/s\u001b[0m eta \u001b[36m0:00:01\u001b[0m\n",
      "Installing collected packages: pymysql\n",
      "Successfully installed pymysql-1.1.1\n",
      "\u001b[33mWARNING: Running pip as the 'root' user can result in broken permissions and conflicting behaviour with the system package manager. It is recommended to use a virtual environment instead: https://pip.pypa.io/warnings/venv\u001b[0m\u001b[33m\n",
      "\u001b[0m"
     ]
    }
   ],
   "source": [
    "#!pip install pymysql\n"
   ]
  },
  {
   "cell_type": "code",
   "execution_count": null,
   "id": "d1457096-d203-4ac7-8a09-a4c3be7f559a",
   "metadata": {
    "scrolled": true
   },
   "outputs": [],
   "source": [
    "## 새로 user 생성 후 접속해야 함\n",
    "## DMDB 생성\n",
    "mysql> create user bigMysql@'%' identified by 'bigMysql1234@';\n",
    "mysql> grant all privileges on *.* to bigMysql@'%' with grant option;\n",
    "## 사용할 database 생성\n",
    "mysql> create database etlMysqlDM;"
   ]
  },
  {
   "cell_type": "code",
   "execution_count": 2,
   "id": "83becb1c-1b81-419b-9eee-a46750113d24",
   "metadata": {},
   "outputs": [],
   "source": [
    "import pymysql\n"
   ]
  },
  {
   "cell_type": "code",
   "execution_count": 3,
   "id": "913eefb5",
   "metadata": {},
   "outputs": [],
   "source": [
    "from datetime import date, datetime\n",
    "from pyspark.sql.types import *\n",
    "from pyspark.sql.functions import *\n",
    "from pyspark.sql import *\n",
    "import datetime as dt\n",
    "import pandas as pd\n",
    "import matplotlib.pyplot as plt #그래프 패키지 모듈 등록\n",
    "%matplotlib inline "
   ]
  },
  {
   "cell_type": "code",
   "execution_count": 5,
   "id": "1365bb78",
   "metadata": {},
   "outputs": [],
   "source": []
  },
  {
   "cell_type": "markdown",
   "id": "7e8685f5",
   "metadata": {},
   "source": [
    "## Load - DataMart"
   ]
  },
  {
   "cell_type": "markdown",
   "id": "6d7a7b04",
   "metadata": {},
   "source": [
    "## JDBC DICT\n",
    "- jdbc를 이용한 연결을 위한 기본정보 구성\n",
    "    - dbms url ?한글처리를 위한 characterset정보&timezone\n",
    "    - 인증을 위해서 인증정보 넘겨야함. 얘가 props.\n",
    "      - props: {'user':'', password:''}"
   ]
  },
  {
   "cell_type": "code",
   "execution_count": 4,
   "id": "ed1047ac",
   "metadata": {},
   "outputs": [],
   "source": [
    "JDBC = {\n",
    "      'url':'jdbc:mysql://localhost:3306/etlMysqlDM?characterEncoding=utf8&serverTimezone=Asia/Seoul'\n",
    "     ,'props':{\n",
    "      'user':'bigMysql',\n",
    "      'password':'bigMysql1234@'   \n",
    "      }\n",
    "}"
   ]
  },
  {
   "cell_type": "markdown",
   "id": "990a7f53",
   "metadata": {
    "jp-MarkdownHeadingCollapsed": true
   },
   "source": [
    "### 1. LOC 테이블 저장\n",
    "- pipeline code\n",
    "    - 내용 변경 거의 없는 테이블. 자동화 대상X (airflow연결 제외)"
   ]
  },
  {
   "cell_type": "code",
   "execution_count": 5,
   "id": "76178a57",
   "metadata": {},
   "outputs": [
    {
     "name": "stderr",
     "output_type": "stream",
     "text": [
      "                                                                                "
     ]
    }
   ],
   "source": [
    "# 면적,인구 data\n",
    "area = spark.read.csv('/corona_data/tmp/sido_area.csv', encoding='CP949', header=True)\n",
    "popu = spark.read.csv('/corona_data/tmp/sido_population.csv', encoding='CP949', header=True)"
   ]
  },
  {
   "cell_type": "code",
   "execution_count": 6,
   "id": "40859fc6-66ae-4dd9-a2b7-ddf8f82d9096",
   "metadata": {},
   "outputs": [
    {
     "name": "stderr",
     "output_type": "stream",
     "text": [
      "                                                                                "
     ]
    },
    {
     "name": "stdout",
     "output_type": "stream",
     "text": [
      "+----+----+-----+\n",
      "| loc|area|ratio|\n",
      "+----+----+-----+\n",
      "|서울|605 |  0.6|\n",
      "|부산|770 |  0.8|\n",
      "+----+----+-----+\n",
      "only showing top 2 rows\n",
      "\n",
      "+----+---------+---------+---------+\n",
      "| loc|    total|     male|   female|\n",
      "+----+---------+---------+---------+\n",
      "|전국|52739009 |26360035 |26378974 |\n",
      "|서울| 9736027 | 4721977 | 5014050 |\n",
      "+----+---------+---------+---------+\n",
      "only showing top 2 rows\n",
      "\n"
     ]
    }
   ],
   "source": [
    "area.show(2)\n",
    "popu.show(2)"
   ]
  },
  {
   "cell_type": "code",
   "execution_count": 7,
   "id": "4d3a3598-f459-42ab-afef-e7c0e4d4d65b",
   "metadata": {},
   "outputs": [
    {
     "name": "stderr",
     "output_type": "stream",
     "text": [
      "[Stage 5:>                                                          (0 + 1) / 1]"
     ]
    },
    {
     "name": "stdout",
     "output_type": "stream",
     "text": [
      "+----+------+---------+\n",
      "| LOC|  AREA|     POPU|\n",
      "+----+------+---------+\n",
      "|서울|  605 | 9736027 |\n",
      "|부산|  770 | 3396109 |\n",
      "|대구|  883 | 2412642 |\n",
      "|인천| 1065 | 3014739 |\n",
      "|광주|  501 | 1462545 |\n",
      "|대전|  540 | 1469543 |\n",
      "|울산| 1062 | 1138419 |\n",
      "|세종|  465 |  376779 |\n",
      "|경기|10195 |13925862 |\n",
      "|강원|16830 | 1555876 |\n",
      "|충북| 7407 | 1633472 |\n",
      "|충남| 8246 | 2181835 |\n",
      "|전북| 8070 | 1817186 |\n",
      "|전남|12348 | 1865459 |\n",
      "|경북|19034 | 2677709 |\n",
      "|경남|10541 | 3377331 |\n",
      "|제주| 1850 |  697476 |\n",
      "+----+------+---------+\n",
      "\n"
     ]
    },
    {
     "name": "stderr",
     "output_type": "stream",
     "text": [
      "                                                                                "
     ]
    },
    {
     "data": {
      "text/plain": [
       "pyspark.sql.dataframe.DataFrame"
      ]
     },
     "execution_count": 7,
     "metadata": {},
     "output_type": "execute_result"
    }
   ],
   "source": [
    "areaPop = area.join(popu, on='loc')\\\n",
    "                .select(col('loc').alias('LOC'),\n",
    "                        col('area').alias('AREA'),\n",
    "                        col('total').alias('POPU'))\n",
    "areaPop.show()\n",
    "type(areaPop)"
   ]
  },
  {
   "cell_type": "markdown",
   "id": "c5bb44f2-bf85-4ac3-8e63-8ec2c8b2ee81",
   "metadata": {},
   "source": [
    "#### pyspark.sql.dataframe.DataFrame 클래스의 write함수\n",
    "- 대부분의 data resource로 연결 쓰기 진행 가능\n",
    "    - dbms, hdfs, fs\n",
    "- mode라는 함수 연결가능\n",
    "    - mode() : overwrite (기존 테이블 있으면 새로운 레코드 덮어쓰기, 추가(append)가 아님. 테이블은 두고 레코드만 새로쓰기)\n",
    "- jdbc로 연결 가능\n",
    "    - jdbc(url=, table=, properties='연결 인증 data'): dbms에 연결하는 방법을 제시(연결설정을 해주는 함수)\n",
    "    - url: 어디로 연결?\n",
    "OO가 DB 열어주고(53분)\n",
    "mode가 기존 테이블 있는지 없는지 찾고\n",
    "write가 쓰고"
   ]
  },
  {
   "cell_type": "code",
   "execution_count": 10,
   "id": "67dfc793-a2ef-46de-89c9-b871cbfbca2c",
   "metadata": {},
   "outputs": [
    {
     "name": "stderr",
     "output_type": "stream",
     "text": [
      "                                                                                "
     ]
    }
   ],
   "source": [
    "areaPop.write.mode('overwrite').jdbc(url=JDBC['url'], table='LOC', properties=JDBC['props'])"
   ]
  },
  {
   "cell_type": "markdown",
   "id": "1056b46f",
   "metadata": {
    "jp-MarkdownHeadingCollapsed": true
   },
   "source": [
    "### 2. corona_patient 테이블 저장\n",
    "- airflow 자동화 예정\n",
    "- 필요컬럼 추출 후 df저장\n",
    "- 모든 일자 json파일 읽어와서 df로 생성하고 그 뒤에 필요컬럼 선택하여 df 다시 구성 -> db에 저장\n",
    "- 매일 새로운data추가되니 기존 table에 append하는 작업 진행되어야함 - append"
   ]
  },
  {
   "cell_type": "code",
   "execution_count": 8,
   "id": "2ab933fe",
   "metadata": {},
   "outputs": [
    {
     "name": "stderr",
     "output_type": "stream",
     "text": [
      "                                                                                "
     ]
    }
   ],
   "source": [
    "# 환자 data hdfs(DW) -> df\n",
    "# spark.read.json('디렉터리명'): 해당 dir의 json을 모두 읽어 df 변환\n",
    "file_name = 'hdfs://localhost:9000/corona_data/patient/'\n",
    "coToDF = spark.read.json(file_name, encoding='UTF-8')"
   ]
  },
  {
   "cell_type": "code",
   "execution_count": 9,
   "id": "28ce4359",
   "metadata": {},
   "outputs": [
    {
     "name": "stderr",
     "output_type": "stream",
     "text": [
      "                                                                                "
     ]
    },
    {
     "name": "stdout",
     "output_type": "stream",
     "text": [
      "+-----------------------+---------+------+----------+--------------+----------+\n",
      "|                  items|numOfRows|pageNo|resultCode|     resultMsg|totalCount|\n",
      "+-----------------------+---------+------+----------+--------------+----------+\n",
      "| [{326, 40625, 인천,...|      500|     1|        00|NORMAL SERVICE|        19|\n",
      "|[{45, 7630, 전남, 全...|      500|     1|        00|NORMAL SERVICE|        19|\n",
      "| [{322, 39970, 인천,...|      500|     1|        00|NORMAL SERVICE|        19|\n",
      "|[{13, 4897, 제주, 济...|      500|     1|        00|NORMAL SERVICE|        19|\n",
      "|[{45, 7307, 전남, 全...|      500|     1|        00|NORMAL SERVICE|        19|\n",
      "|  [{6210, 679030, 합...|      500|     1|        00|NORMAL SERVICE|        19|\n",
      "+-----------------------+---------+------+----------+--------------+----------+\n",
      "\n"
     ]
    }
   ],
   "source": [
    "# dir내 json 파일 1개가 1개의 행(레코드)으로 구성됨\n",
    "coToDF.show()"
   ]
  },
  {
   "cell_type": "code",
   "execution_count": 14,
   "id": "e8b00aef-9354-405f-a829-3099ca68e9ab",
   "metadata": {
    "collapsed": true,
    "jupyter": {
     "outputs_hidden": true
    }
   },
   "outputs": [
    {
     "data": {
      "text/plain": [
       "pyspark.sql.dataframe.DataFrame"
      ]
     },
     "execution_count": 14,
     "metadata": {},
     "output_type": "execute_result"
    },
    {
     "name": "stdout",
     "output_type": "stream",
     "text": [
      "6\n",
      "[Row(items=[Row(deathCnt='326', defCnt='40625', gubun='인천', gubunCn='仁川', gubunEn='Incheon', incDec='196', isolClearCnt='35422', isolIngCnt='0', localOccCnt='177', overFlowCnt='19', qurRate='1378', stdDay='2022-01-18'), Row(deathCnt='123', defCnt='12555', gubun='충북', gubunCn='忠北', gubunEn='Chungcheongbuk-do', incDec='59', isolClearCnt='11766', isolIngCnt='0', localOccCnt='55', overFlowCnt='4', qurRate='786', stdDay='2022-01-18'), Row(deathCnt='110', defCnt='13838', gubun='강원', gubunCn='江原', gubunEn='Gangwon-do', incDec='94', isolClearCnt='12657', isolIngCnt='0', localOccCnt='94', overFlowCnt='0', qurRate='899', stdDay='2022-01-18'), Row(deathCnt='344', defCnt='28102', gubun='부산', gubunCn='釜山', gubunEn='Busan', incDec='114', isolClearCnt='25796', isolIngCnt='0', localOccCnt='102', overFlowCnt='12', qurRate='839', stdDay='2022-01-18'), Row(deathCnt='65', defCnt='7459', gubun='울산', gubunCn='蔚山', gubunEn='Ulsan', incDec='35', isolClearCnt='7107', isolIngCnt='0', localOccCnt='33', overFlowCnt='2', qurRate='665', stdDay='2022-01-18'), Row(deathCnt='60', defCnt='10475', gubun='광주', gubunCn='光州', gubunEn='Gwangju', incDec='184', isolClearCnt='8523', isolIngCnt='0', localOccCnt='174', overFlowCnt='10', qurRate='727', stdDay='2022-01-18'), Row(deathCnt='6378', defCnt='700102', gubun='합계', gubunCn='合计', gubunEn='Total', incDec='4072', isolClearCnt='585673', isolIngCnt='0', localOccCnt='3763', overFlowCnt='309', qurRate='1356', stdDay='2022-01-18'), Row(deathCnt='4', defCnt='2388', gubun='세종', gubunCn='世宗', gubunEn='Sejong', incDec='23', isolClearCnt='2242', isolIngCnt='0', localOccCnt='21', overFlowCnt='2', qurRate='642', stdDay='2022-01-18'), Row(deathCnt='16', defCnt='7960', gubun='검역', gubunCn='隔離區', gubunEn='Lazaretto', incDec='77', isolClearCnt='6734', isolIngCnt='0', localOccCnt='0', overFlowCnt='77', qurRate='-', stdDay='2022-01-18'), Row(deathCnt='385', defCnt='25155', gubun='대구', gubunCn='大邱', gubunEn='Daegu', incDec='171', isolClearCnt='23380', isolIngCnt='0', localOccCnt='162', overFlowCnt='9', qurRate='1055', stdDay='2022-01-18'), Row(deathCnt='189', defCnt='16962', gubun='경북', gubunCn='庆北', gubunEn='Gyeongsangbuk-do', incDec='138', isolClearCnt='15281', isolIngCnt='0', localOccCnt='129', overFlowCnt='9', qurRate='646', stdDay='2022-01-18'), Row(deathCnt='114', defCnt='22778', gubun='경남', gubunCn='庆南', gubunEn='Gyeongsangnam-do', incDec='142', isolClearCnt='21299', isolIngCnt='0', localOccCnt='134', overFlowCnt='8', qurRate='687', stdDay='2022-01-18'), Row(deathCnt='2063', defCnt='243337', gubun='서울', gubunCn='首尔', gubunEn='Seoul', incDec='763', isolClearCnt='198148', isolIngCnt='0', localOccCnt='684', overFlowCnt='79', qurRate='2559', stdDay='2022-01-18'), Row(deathCnt='45', defCnt='7935', gubun='전남', gubunCn='全南', gubunEn='Jeollanam-do', incDec='139', isolClearCnt='5885', isolIngCnt='0', localOccCnt='138', overFlowCnt='1', qurRate='433', stdDay='2022-01-18'), Row(deathCnt='13', defCnt='4900', gubun='제주', gubunCn='济州', gubunEn='Jeju', incDec='3', isolClearCnt='4792', isolIngCnt='0', localOccCnt='2', overFlowCnt='1', qurRate='724', stdDay='2022-01-18'), Row(deathCnt='2036', defCnt='210984', gubun='경기', gubunCn='京畿', gubunEn='Gyeonggi-do', incDec='1530', isolClearCnt='167373', isolIngCnt='0', localOccCnt='1470', overFlowCnt='60', qurRate='1555', stdDay='2022-01-18'), Row(deathCnt='121', defCnt='11245', gubun='전북', gubunCn='全北', gubunEn='Jeollabuk-do', incDec='151', isolClearCnt='10086', isolIngCnt='0', localOccCnt='147', overFlowCnt='4', qurRate='629', stdDay='2022-01-18'), Row(deathCnt='177', defCnt='20142', gubun='충남', gubunCn='忠南', gubunEn='Chungcheongnam-do', incDec='145', isolClearCnt='17373', isolIngCnt='0', localOccCnt='140', overFlowCnt='5', qurRate='950', stdDay='2022-01-18'), Row(deathCnt='187', defCnt='13262', gubun='대전', gubunCn='大田', gubunEn='Daejeon', incDec='108', isolClearCnt='11809', isolIngCnt='0', localOccCnt='101', overFlowCnt='7', qurRate='913', stdDay='2022-01-18')]), Row(items=[Row(deathCnt='45', defCnt='7630', gubun='전남', gubunCn='全南', gubunEn='Jeollanam-do', incDec='169', isolClearCnt='5885', isolIngCnt='0', localOccCnt='160', overFlowCnt='9', qurRate='416', stdDay='2022-01-16'), Row(deathCnt='6310', defCnt='692174', gubun='합계', gubunCn='合计', gubunEn='Total', incDec='4194', isolClearCnt='582667', isolIngCnt='0', localOccCnt='3813', overFlowCnt='381', qurRate='1340', stdDay='2022-01-16'), Row(deathCnt='338', defCnt='27871', gubun='부산', gubunCn='釜山', gubunEn='Busan', incDec='145', isolClearCnt='25377', isolIngCnt='0', localOccCnt='137', overFlowCnt='8', qurRate='832', stdDay='2022-01-16'), Row(deathCnt='121', defCnt='12455', gubun='충북', gubunCn='忠北', gubunEn='Chungcheongbuk-do', incDec='39', isolClearCnt='11646', isolIngCnt='0', localOccCnt='37', overFlowCnt='2', qurRate='780', stdDay='2022-01-16'), Row(deathCnt='188', defCnt='16729', gubun='경북', gubunCn='庆北', gubunEn='Gyeongsangbuk-do', incDec='108', isolClearCnt='15234', isolIngCnt='0', localOccCnt='102', overFlowCnt='6', qurRate='637', stdDay='2022-01-16'), Row(deathCnt='114', defCnt='22517', gubun='경남', gubunCn='庆南', gubunEn='Gyeongsangnam-do', incDec='123', isolClearCnt='21087', isolIngCnt='0', localOccCnt='112', overFlowCnt='11', qurRate='679', stdDay='2022-01-16'), Row(deathCnt='120', defCnt='10970', gubun='전북', gubunCn='全北', gubunEn='Jeollabuk-do', incDec='123', isolClearCnt='9946', isolIngCnt='0', localOccCnt='112', overFlowCnt='11', qurRate='614', stdDay='2022-01-16'), Row(deathCnt='184', defCnt='13072', gubun='대전', gubunCn='大田', gubunEn='Daejeon', incDec='54', isolClearCnt='11717', isolIngCnt='0', localOccCnt='47', overFlowCnt='7', qurRate='900', stdDay='2022-01-16'), Row(deathCnt='13', defCnt='4885', gubun='제주', gubunCn='济州', gubunEn='Jeju', incDec='8', isolClearCnt='4773', isolIngCnt='0', localOccCnt='5', overFlowCnt='3', qurRate='722', stdDay='2022-01-16'), Row(deathCnt='324', defCnt='40230', gubun='인천', gubunCn='仁川', gubunEn='Incheon', incDec='260', isolClearCnt='35356', isolIngCnt='0', localOccCnt='235', overFlowCnt='25', qurRate='1364', stdDay='2022-01-16'), Row(deathCnt='4', defCnt='2359', gubun='세종', gubunCn='世宗', gubunEn='Sejong', incDec='21', isolClearCnt='2217', isolIngCnt='0', localOccCnt='20', overFlowCnt='1', qurRate='634', stdDay='2022-01-16'), Row(deathCnt='2014', defCnt='208027', gubun='경기', gubunCn='京畿', gubunEn='Gyeonggi-do', incDec='1586', isolClearCnt='166976', isolIngCnt='0', localOccCnt='1511', overFlowCnt='75', qurRate='1534', stdDay='2022-01-16'), Row(deathCnt='110', defCnt='13665', gubun='강원', gubunCn='江原', gubunEn='Gangwon-do', incDec='74', isolClearCnt='12487', isolIngCnt='0', localOccCnt='69', overFlowCnt='5', qurRate='888', stdDay='2022-01-16'), Row(deathCnt='55', defCnt='10049', gubun='광주', gubunCn='光州', gubunEn='Gwangju', incDec='183', isolClearCnt='8382', isolIngCnt='0', localOccCnt='173', overFlowCnt='10', qurRate='697', stdDay='2022-01-16'), Row(deathCnt='65', defCnt='7405', gubun='울산', gubunCn='蔚山', gubunEn='Ulsan', incDec='19', isolClearCnt='7045', isolIngCnt='0', localOccCnt='15', overFlowCnt='4', qurRate='660', stdDay='2022-01-16'), Row(deathCnt='170', defCnt='19893', gubun='충남', gubunCn='忠南', gubunEn='Chungcheongnam-do', incDec='114', isolClearCnt='17220', isolIngCnt='0', localOccCnt='105', overFlowCnt='9', qurRate='939', stdDay='2022-01-16'), Row(deathCnt='385', defCnt='24808', gubun='대구', gubunCn='大邱', gubunEn='Daegu', incDec='157', isolClearCnt='23158', isolIngCnt='0', localOccCnt='147', overFlowCnt='10', qurRate='1040', stdDay='2022-01-16'), Row(deathCnt='16', defCnt='7825', gubun='검역', gubunCn='隔離區', gubunEn='Lazaretto', incDec='86', isolClearCnt='6636', isolIngCnt='0', localOccCnt='0', overFlowCnt='86', qurRate='-', stdDay='2022-01-16'), Row(deathCnt='2044', defCnt='241784', gubun='서울', gubunCn='首尔', gubunEn='Seoul', incDec='925', isolClearCnt='197525', isolIngCnt='0', localOccCnt='826', overFlowCnt='99', qurRate='2543', stdDay='2022-01-16')]), Row(items=[Row(deathCnt='322', defCnt='39970', gubun='인천', gubunCn='仁川', gubunEn='Incheon', incDec='248', isolClearCnt='35151', isolIngCnt='0', localOccCnt='221', overFlowCnt='27', qurRate='1356', stdDay='2022-01-15'), Row(deathCnt='4', defCnt='2338', gubun='세종', gubunCn='世宗', gubunEn='Sejong', incDec='15', isolClearCnt='2201', isolIngCnt='0', localOccCnt='15', overFlowCnt='0', qurRate='629', stdDay='2022-01-15'), Row(deathCnt='55', defCnt='9866', gubun='광주', gubunCn='光州', gubunEn='Gwangju', incDec='207', isolClearCnt='8382', isolIngCnt='0', localOccCnt='205', overFlowCnt='2', qurRate='684', stdDay='2022-01-15'), Row(deathCnt='120', defCnt='12416', gubun='충북', gubunCn='忠北', gubunEn='Chungcheongbuk-do', incDec='83', isolClearCnt='11618', isolIngCnt='0', localOccCnt='77', overFlowCnt='6', qurRate='777', stdDay='2022-01-15'), Row(deathCnt='187', defCnt='16621', gubun='경북', gubunCn='庆北', gubunEn='Gyeongsangbuk-do', incDec='95', isolClearCnt='15152', isolIngCnt='0', localOccCnt='85', overFlowCnt='10', qurRate='633', stdDay='2022-01-15'), Row(deathCnt='65', defCnt='7386', gubun='울산', gubunCn='蔚山', gubunEn='Ulsan', incDec='17', isolClearCnt='7009', isolIngCnt='0', localOccCnt='14', overFlowCnt='3', qurRate='659', stdDay='2022-01-15'), Row(deathCnt='110', defCnt='13591', gubun='강원', gubunCn='江原', gubunEn='Gangwon-do', incDec='79', isolClearCnt='12372', isolIngCnt='0', localOccCnt='75', overFlowCnt='4', qurRate='883', stdDay='2022-01-15'), Row(deathCnt='6281', defCnt='687984', gubun='합계', gubunCn='合计', gubunEn='Total', incDec='4423', isolClearCnt='580664', isolIngCnt='0', localOccCnt='4077', overFlowCnt='346', qurRate='1332', stdDay='2022-01-15'), Row(deathCnt='184', defCnt='13018', gubun='대전', gubunCn='大田', gubunEn='Daejeon', incDec='53', isolClearCnt='11704', isolIngCnt='0', localOccCnt='49', overFlowCnt='4', qurRate='896', stdDay='2022-01-15'), Row(deathCnt='113', defCnt='22394', gubun='경남', gubunCn='庆南', gubunEn='Gyeongsangnam-do', incDec='116', isolClearCnt='20981', isolIngCnt='0', localOccCnt='108', overFlowCnt='8', qurRate='676', stdDay='2022-01-15'), Row(deathCnt='120', defCnt='10847', gubun='전북', gubunCn='全北', gubunEn='Jeollabuk-do', incDec='123', isolClearCnt='9854', isolIngCnt='0', localOccCnt='120', overFlowCnt='3', qurRate='607', stdDay='2022-01-15'), Row(deathCnt='13', defCnt='4877', gubun='제주', gubunCn='济州', gubunEn='Jeju', incDec='13', isolClearCnt='4754', isolIngCnt='0', localOccCnt='10', overFlowCnt='3', qurRate='721', stdDay='2022-01-15'), Row(deathCnt='16', defCnt='7739', gubun='검역', gubunCn='隔離區', gubunEn='Lazaretto', incDec='94', isolClearCnt='6636', isolIngCnt='0', localOccCnt='0', overFlowCnt='94', qurRate='-', stdDay='2022-01-15'), Row(deathCnt='166', defCnt='19779', gubun='충남', gubunCn='忠南', gubunEn='Chungcheongnam-do', incDec='121', isolClearCnt='17186', isolIngCnt='0', localOccCnt='110', overFlowCnt='11', qurRate='933', stdDay='2022-01-15'), Row(deathCnt='2033', defCnt='240862', gubun='서울', gubunCn='首尔', gubunEn='Seoul', incDec='912', isolClearCnt='196739', isolIngCnt='0', localOccCnt='823', overFlowCnt='89', qurRate='2533', stdDay='2022-01-15'), Row(deathCnt='382', defCnt='24651', gubun='대구', gubunCn='大邱', gubunEn='Daegu', incDec='126', isolClearCnt='23088', isolIngCnt='0', localOccCnt='118', overFlowCnt='8', qurRate='1033', stdDay='2022-01-15'), Row(deathCnt='45', defCnt='7462', gubun='전남', gubunCn='全南', gubunEn='Jeollanam-do', incDec='155', isolClearCnt='5885', isolIngCnt='0', localOccCnt='151', overFlowCnt='4', qurRate='407', stdDay='2022-01-15'), Row(deathCnt='2009', defCnt='206441', gubun='경기', gubunCn='京畿', gubunEn='Gyeonggi-do', incDec='1823', isolClearCnt='166811', isolIngCnt='0', localOccCnt='1761', overFlowCnt='62', qurRate='1522', stdDay='2022-01-15'), Row(deathCnt='337', defCnt='27726', gubun='부산', gubunCn='釜山', gubunEn='Busan', incDec='143', isolClearCnt='25141', isolIngCnt='0', localOccCnt='135', overFlowCnt='8', qurRate='828', stdDay='2022-01-15')]), Row(items=[Row(deathCnt='13', defCnt='4897', gubun='제주', gubunCn='济州', gubunEn='Jeju', incDec='12', isolClearCnt='4783', isolIngCnt='0', localOccCnt='12', overFlowCnt='0', qurRate='724', stdDay='2022-01-17'), Row(deathCnt='385', defCnt='24984', gubun='대구', gubunCn='大邱', gubunEn='Daegu', incDec='176', isolClearCnt='23281', isolIngCnt='0', localOccCnt='171', overFlowCnt='5', qurRate='1047', stdDay='2022-01-17'), Row(deathCnt='65', defCnt='7424', gubun='울산', gubunCn='蔚山', gubunEn='Ulsan', incDec='19', isolClearCnt='7080', isolIngCnt='0', localOccCnt='17', overFlowCnt='2', qurRate='662', stdDay='2022-01-17'), Row(deathCnt='188', defCnt='16824', gubun='경북', gubunCn='庆北', gubunEn='Gyeongsangbuk-do', incDec='95', isolClearCnt='15281', isolIngCnt='0', localOccCnt='87', overFlowCnt='8', qurRate='641', stdDay='2022-01-17'), Row(deathCnt='187', defCnt='13154', gubun='대전', gubunCn='大田', gubunEn='Daejeon', incDec='82', isolClearCnt='11733', isolIngCnt='0', localOccCnt='79', overFlowCnt='3', qurRate='906', stdDay='2022-01-17'), Row(deathCnt='174', defCnt='19997', gubun='충남', gubunCn='忠南', gubunEn='Chungcheongnam-do', incDec='104', isolClearCnt='17328', isolIngCnt='0', localOccCnt='93', overFlowCnt='11', qurRate='944', stdDay='2022-01-17'), Row(deathCnt='121', defCnt='12497', gubun='충북', gubunCn='忠北', gubunEn='Chungcheongbuk-do', incDec='42', isolClearCnt='11725', isolIngCnt='0', localOccCnt='38', overFlowCnt='4', qurRate='782', stdDay='2022-01-17'), Row(deathCnt='114', defCnt='22636', gubun='경남', gubunCn='庆南', gubunEn='Gyeongsangnam-do', incDec='119', isolClearCnt='21176', isolIngCnt='0', localOccCnt='106', overFlowCnt='13', qurRate='683', stdDay='2022-01-17'), Row(deathCnt='2017', defCnt='209454', gubun='경기', gubunCn='京畿', gubunEn='Gyeonggi-do', incDec='1427', isolClearCnt='167192', isolIngCnt='0', localOccCnt='1351', overFlowCnt='76', qurRate='1544', stdDay='2022-01-17'), Row(deathCnt='324', defCnt='40430', gubun='인천', gubunCn='仁川', gubunEn='Incheon', incDec='200', isolClearCnt='35422', isolIngCnt='0', localOccCnt='187', overFlowCnt='13', qurRate='1371', stdDay='2022-01-17'), Row(deathCnt='121', defCnt='11094', gubun='전북', gubunCn='全北', gubunEn='Jeollabuk-do', incDec='124', isolClearCnt='10024', isolIngCnt='0', localOccCnt='114', overFlowCnt='10', qurRate='621', stdDay='2022-01-17'), Row(deathCnt='57', defCnt='10291', gubun='광주', gubunCn='光州', gubunEn='Gwangju', incDec='242', isolClearCnt='8523', isolIngCnt='0', localOccCnt='237', overFlowCnt='5', qurRate='714', stdDay='2022-01-17'), Row(deathCnt='16', defCnt='7883', gubun='검역', gubunCn='隔離區', gubunEn='Lazaretto', incDec='58', isolClearCnt='6704', isolIngCnt='0', localOccCnt='0', overFlowCnt='58', qurRate='-', stdDay='2022-01-17'), Row(deathCnt='45', defCnt='7796', gubun='전남', gubunCn='全南', gubunEn='Jeollanam-do', incDec='166', isolClearCnt='5885', isolIngCnt='0', localOccCnt='161', overFlowCnt='5', qurRate='425', stdDay='2022-01-17'), Row(deathCnt='110', defCnt='13744', gubun='강원', gubunCn='江原', gubunEn='Gangwon-do', incDec='79', isolClearCnt='12542', isolIngCnt='0', localOccCnt='73', overFlowCnt='6', qurRate='893', stdDay='2022-01-17'), Row(deathCnt='6333', defCnt='696032', gubun='합계', gubunCn='合计', gubunEn='Total', incDec='3859', isolClearCnt='584537', isolIngCnt='0', localOccCnt='3551', overFlowCnt='308', qurRate='1348', stdDay='2022-01-17'), Row(deathCnt='341', defCnt='27988', gubun='부산', gubunCn='釜山', gubunEn='Busan', incDec='117', isolClearCnt='25632', isolIngCnt='0', localOccCnt='109', overFlowCnt='8', qurRate='835', stdDay='2022-01-17'), Row(deathCnt='4', defCnt='2365', gubun='세종', gubunCn='世宗', gubunEn='Sejong', incDec='7', isolClearCnt='2228', isolIngCnt='0', localOccCnt='5', overFlowCnt='2', qurRate='636', stdDay='2022-01-17'), Row(deathCnt='2051', defCnt='242574', gubun='서울', gubunCn='首尔', gubunEn='Seoul', incDec='790', isolClearCnt='197998', isolIngCnt='0', localOccCnt='711', overFlowCnt='79', qurRate='2551', stdDay='2022-01-17')]), Row(items=[Row(deathCnt='45', defCnt='7307', gubun='전남', gubunCn='全南', gubunEn='Jeollanam-do', incDec='133', isolClearCnt='5884', isolIngCnt='0', localOccCnt='132', overFlowCnt='1', qurRate='399', stdDay='2022-01-14'), Row(deathCnt='382', defCnt='24526', gubun='대구', gubunCn='大邱', gubunEn='Daegu', incDec='90', isolClearCnt='22976', isolIngCnt='0', localOccCnt='77', overFlowCnt='13', qurRate='1028', stdDay='2022-01-14'), Row(deathCnt='110', defCnt='13512', gubun='강원', gubunCn='江原', gubunEn='Gangwon-do', incDec='144', isolClearCnt='12372', isolIngCnt='0', localOccCnt='139', overFlowCnt='5', qurRate='878', stdDay='2022-01-14'), Row(deathCnt='13', defCnt='4864', gubun='제주', gubunCn='济州', gubunEn='Jeju', incDec='6', isolClearCnt='4687', isolIngCnt='0', localOccCnt='3', overFlowCnt='3', qurRate='719', stdDay='2022-01-14'), Row(deathCnt='65', defCnt='7369', gubun='울산', gubunCn='蔚山', gubunEn='Ulsan', incDec='40', isolClearCnt='6967', isolIngCnt='0', localOccCnt='34', overFlowCnt='6', qurRate='657', stdDay='2022-01-14'), Row(deathCnt='113', defCnt='22278', gubun='경남', gubunCn='庆南', gubunEn='Gyeongsangnam-do', incDec='126', isolClearCnt='20875', isolIngCnt='0', localOccCnt='117', overFlowCnt='9', qurRate='672', stdDay='2022-01-14'), Row(deathCnt='317', defCnt='39722', gubun='인천', gubunCn='仁川', gubunEn='Incheon', incDec='266', isolClearCnt='34965', isolIngCnt='0', localOccCnt='242', overFlowCnt='24', qurRate='1347', stdDay='2022-01-14'), Row(deathCnt='187', defCnt='16526', gubun='경북', gubunCn='庆北', gubunEn='Gyeongsangbuk-do', incDec='93', isolClearCnt='15101', isolIngCnt='0', localOccCnt='88', overFlowCnt='5', qurRate='629', stdDay='2022-01-14'), Row(deathCnt='120', defCnt='12333', gubun='충북', gubunCn='忠北', gubunEn='Chungcheongbuk-do', incDec='71', isolClearCnt='11565', isolIngCnt='0', localOccCnt='67', overFlowCnt='4', qurRate='772', stdDay='2022-01-14'), Row(deathCnt='165', defCnt='19659', gubun='충남', gubunCn='忠南', gubunEn='Chungcheongnam-do', incDec='106', isolClearCnt='17186', isolIngCnt='0', localOccCnt='99', overFlowCnt='7', qurRate='928', stdDay='2022-01-14'), Row(deathCnt='4', defCnt='2323', gubun='세종', gubunCn='世宗', gubunEn='Sejong', incDec='8', isolClearCnt='2183', isolIngCnt='0', localOccCnt='8', overFlowCnt='0', qurRate='625', stdDay='2022-01-14'), Row(deathCnt='337', defCnt='27583', gubun='부산', gubunCn='釜山', gubunEn='Busan', incDec='127', isolClearCnt='24987', isolIngCnt='0', localOccCnt='121', overFlowCnt='6', qurRate='823', stdDay='2022-01-14'), Row(deathCnt='120', defCnt='10724', gubun='전북', gubunCn='全北', gubunEn='Jeollabuk-do', incDec='102', isolClearCnt='9756', isolIngCnt='0', localOccCnt='99', overFlowCnt='3', qurRate='600', stdDay='2022-01-14'), Row(deathCnt='55', defCnt='9660', gubun='광주', gubunCn='光州', gubunEn='Gwangju', incDec='224', isolClearCnt='8221', isolIngCnt='0', localOccCnt='224', overFlowCnt='0', qurRate='670', stdDay='2022-01-14'), Row(deathCnt='16', defCnt='7647', gubun='검역', gubunCn='隔離區', gubunEn='Lazaretto', incDec='145', isolClearCnt='6612', isolIngCnt='0', localOccCnt='0', overFlowCnt='145', qurRate='-', stdDay='2022-01-14'), Row(deathCnt='184', defCnt='12965', gubun='대전', gubunCn='大田', gubunEn='Daejeon', incDec='66', isolClearCnt='11666', isolIngCnt='0', localOccCnt='64', overFlowCnt='2', qurRate='893', stdDay='2022-01-14'), Row(deathCnt='6259', defCnt='683566', gubun='합계', gubunCn='合计', gubunEn='Total', incDec='4542', isolClearCnt='576918', isolIngCnt='0', localOccCnt='4133', overFlowCnt='409', qurRate='1324', stdDay='2022-01-14'), Row(deathCnt='2024', defCnt='239950', gubun='서울', gubunCn='首尔', gubunEn='Seoul', incDec='939', isolClearCnt='194347', isolIngCnt='0', localOccCnt='835', overFlowCnt='104', qurRate='2523', stdDay='2022-01-14'), Row(deathCnt='2002', defCnt='204618', gubun='경기', gubunCn='京畿', gubunEn='Gyeonggi-do', incDec='1856', isolClearCnt='166568', isolIngCnt='0', localOccCnt='1784', overFlowCnt='72', qurRate='1508', stdDay='2022-01-14')]), Row(items=[Row(deathCnt='6210', defCnt='679030', gubun='합계', gubunCn='合计', gubunEn='Total', incDec='4167', isolClearCnt='575763', isolIngCnt='0', localOccCnt='3776', overFlowCnt='391', qurRate='1315', stdDay='2022-01-13'), Row(deathCnt='54', defCnt='9436', gubun='광주', gubunCn='光州', gubunEn='Gwangju', incDec='188', isolClearCnt='8221', isolIngCnt='0', localOccCnt='182', overFlowCnt='6', qurRate='655', stdDay='2022-01-13'), Row(deathCnt='382', defCnt='24436', gubun='대구', gubunCn='大邱', gubunEn='Daegu', incDec='125', isolClearCnt='22883', isolIngCnt='0', localOccCnt='119', overFlowCnt='6', qurRate='1024', stdDay='2022-01-13'), Row(deathCnt='110', defCnt='13368', gubun='강원', gubunCn='江原', gubunEn='Gangwon-do', incDec='89', isolClearCnt='12342', isolIngCnt='0', localOccCnt='82', overFlowCnt='7', qurRate='869', stdDay='2022-01-13'), Row(deathCnt='44', defCnt='7174', gubun='전남', gubunCn='全南', gubunEn='Jeollanam-do', incDec='136', isolClearCnt='5884', isolIngCnt='0', localOccCnt='133', overFlowCnt='3', qurRate='391', stdDay='2022-01-13'), Row(deathCnt='4', defCnt='2315', gubun='세종', gubunCn='世宗', gubunEn='Sejong', incDec='7', isolClearCnt='2172', isolIngCnt='0', localOccCnt='6', overFlowCnt='1', qurRate='622', stdDay='2022-01-13'), Row(deathCnt='315', defCnt='39456', gubun='인천', gubunCn='仁川', gubunEn='Incheon', incDec='240', isolClearCnt='34847', isolIngCnt='0', localOccCnt='224', overFlowCnt='16', qurRate='1338', stdDay='2022-01-13'), Row(deathCnt='181', defCnt='12899', gubun='대전', gubunCn='大田', gubunEn='Daejeon', incDec='68', isolClearCnt='11636', isolIngCnt='0', localOccCnt='63', overFlowCnt='5', qurRate='888', stdDay='2022-01-13'), Row(deathCnt='186', defCnt='16433', gubun='경북', gubunCn='庆北', gubunEn='Gyeongsangbuk-do', incDec='99', isolClearCnt='14975', isolIngCnt='0', localOccCnt='92', overFlowCnt='7', qurRate='626', stdDay='2022-01-13'), Row(deathCnt='112', defCnt='22152', gubun='경남', gubunCn='庆南', gubunEn='Gyeongsangnam-do', incDec='115', isolClearCnt='20757', isolIngCnt='0', localOccCnt='94', overFlowCnt='21', qurRate='668', stdDay='2022-01-13'), Row(deathCnt='329', defCnt='27456', gubun='부산', gubunCn='釜山', gubunEn='Busan', incDec='162', isolClearCnt='24812', isolIngCnt='0', localOccCnt='156', overFlowCnt='6', qurRate='819', stdDay='2022-01-13'), Row(deathCnt='13', defCnt='4858', gubun='제주', gubunCn='济州', gubunEn='Jeju', incDec='7', isolClearCnt='4687', isolIngCnt='0', localOccCnt='7', overFlowCnt='0', qurRate='718', stdDay='2022-01-13'), Row(deathCnt='165', defCnt='19553', gubun='충남', gubunCn='忠南', gubunEn='Chungcheongnam-do', incDec='131', isolClearCnt='17151', isolIngCnt='0', localOccCnt='126', overFlowCnt='5', qurRate='923', stdDay='2022-01-13'), Row(deathCnt='16', defCnt='7503', gubun='검역', gubunCn='隔離區', gubunEn='Lazaretto', incDec='93', isolClearCnt='6595', isolIngCnt='0', localOccCnt='0', overFlowCnt='93', qurRate='-', stdDay='2022-01-13'), Row(deathCnt='2009', defCnt='239014', gubun='서울', gubunCn='首尔', gubunEn='Seoul', incDec='978', isolClearCnt='194346', isolIngCnt='0', localOccCnt='858', overFlowCnt='120', qurRate='2513', stdDay='2022-01-13'), Row(deathCnt='120', defCnt='12263', gubun='충북', gubunCn='忠北', gubunEn='Chungcheongbuk-do', incDec='61', isolClearCnt='11491', isolIngCnt='0', localOccCnt='58', overFlowCnt='3', qurRate='768', stdDay='2022-01-13'), Row(deathCnt='120', defCnt='10623', gubun='전북', gubunCn='全北', gubunEn='Jeollabuk-do', incDec='106', isolClearCnt='9632', isolIngCnt='0', localOccCnt='106', overFlowCnt='0', qurRate='595', stdDay='2022-01-13'), Row(deathCnt='65', defCnt='7329', gubun='울산', gubunCn='蔚山', gubunEn='Ulsan', incDec='27', isolClearCnt='6928', isolIngCnt='0', localOccCnt='26', overFlowCnt='1', qurRate='653', stdDay='2022-01-13'), Row(deathCnt='1985', defCnt='202762', gubun='경기', gubunCn='京畿', gubunEn='Gyeonggi-do', incDec='1535', isolClearCnt='166404', isolIngCnt='0', localOccCnt='1444', overFlowCnt='91', qurRate='1495', stdDay='2022-01-13')])]\n"
     ]
    }
   ],
   "source": [
    "# items 컬럼 활용해서 DF 다시 생성\n",
    "# 반환 후 action 모듈: first(), collect()\n",
    "type(coToDF.select(coToDF.items))\n",
    "print(len(coToDF.select(coToDF.items).collect()))\n",
    "print(coToDF.select(coToDF.items).collect())"
   ]
  },
  {
   "cell_type": "code",
   "execution_count": 15,
   "id": "2a363272-933e-4eb9-9f52-39e251c7960b",
   "metadata": {
    "collapsed": true,
    "jupyter": {
     "outputs_hidden": true
    },
    "scrolled": true
   },
   "outputs": [
    {
     "data": {
      "text/plain": [
       "Row(items=[Row(deathCnt='326', defCnt='40625', gubun='인천', gubunCn='仁川', gubunEn='Incheon', incDec='196', isolClearCnt='35422', isolIngCnt='0', localOccCnt='177', overFlowCnt='19', qurRate='1378', stdDay='2022-01-18'), Row(deathCnt='123', defCnt='12555', gubun='충북', gubunCn='忠北', gubunEn='Chungcheongbuk-do', incDec='59', isolClearCnt='11766', isolIngCnt='0', localOccCnt='55', overFlowCnt='4', qurRate='786', stdDay='2022-01-18'), Row(deathCnt='110', defCnt='13838', gubun='강원', gubunCn='江原', gubunEn='Gangwon-do', incDec='94', isolClearCnt='12657', isolIngCnt='0', localOccCnt='94', overFlowCnt='0', qurRate='899', stdDay='2022-01-18'), Row(deathCnt='344', defCnt='28102', gubun='부산', gubunCn='釜山', gubunEn='Busan', incDec='114', isolClearCnt='25796', isolIngCnt='0', localOccCnt='102', overFlowCnt='12', qurRate='839', stdDay='2022-01-18'), Row(deathCnt='65', defCnt='7459', gubun='울산', gubunCn='蔚山', gubunEn='Ulsan', incDec='35', isolClearCnt='7107', isolIngCnt='0', localOccCnt='33', overFlowCnt='2', qurRate='665', stdDay='2022-01-18'), Row(deathCnt='60', defCnt='10475', gubun='광주', gubunCn='光州', gubunEn='Gwangju', incDec='184', isolClearCnt='8523', isolIngCnt='0', localOccCnt='174', overFlowCnt='10', qurRate='727', stdDay='2022-01-18'), Row(deathCnt='6378', defCnt='700102', gubun='합계', gubunCn='合计', gubunEn='Total', incDec='4072', isolClearCnt='585673', isolIngCnt='0', localOccCnt='3763', overFlowCnt='309', qurRate='1356', stdDay='2022-01-18'), Row(deathCnt='4', defCnt='2388', gubun='세종', gubunCn='世宗', gubunEn='Sejong', incDec='23', isolClearCnt='2242', isolIngCnt='0', localOccCnt='21', overFlowCnt='2', qurRate='642', stdDay='2022-01-18'), Row(deathCnt='16', defCnt='7960', gubun='검역', gubunCn='隔離區', gubunEn='Lazaretto', incDec='77', isolClearCnt='6734', isolIngCnt='0', localOccCnt='0', overFlowCnt='77', qurRate='-', stdDay='2022-01-18'), Row(deathCnt='385', defCnt='25155', gubun='대구', gubunCn='大邱', gubunEn='Daegu', incDec='171', isolClearCnt='23380', isolIngCnt='0', localOccCnt='162', overFlowCnt='9', qurRate='1055', stdDay='2022-01-18'), Row(deathCnt='189', defCnt='16962', gubun='경북', gubunCn='庆北', gubunEn='Gyeongsangbuk-do', incDec='138', isolClearCnt='15281', isolIngCnt='0', localOccCnt='129', overFlowCnt='9', qurRate='646', stdDay='2022-01-18'), Row(deathCnt='114', defCnt='22778', gubun='경남', gubunCn='庆南', gubunEn='Gyeongsangnam-do', incDec='142', isolClearCnt='21299', isolIngCnt='0', localOccCnt='134', overFlowCnt='8', qurRate='687', stdDay='2022-01-18'), Row(deathCnt='2063', defCnt='243337', gubun='서울', gubunCn='首尔', gubunEn='Seoul', incDec='763', isolClearCnt='198148', isolIngCnt='0', localOccCnt='684', overFlowCnt='79', qurRate='2559', stdDay='2022-01-18'), Row(deathCnt='45', defCnt='7935', gubun='전남', gubunCn='全南', gubunEn='Jeollanam-do', incDec='139', isolClearCnt='5885', isolIngCnt='0', localOccCnt='138', overFlowCnt='1', qurRate='433', stdDay='2022-01-18'), Row(deathCnt='13', defCnt='4900', gubun='제주', gubunCn='济州', gubunEn='Jeju', incDec='3', isolClearCnt='4792', isolIngCnt='0', localOccCnt='2', overFlowCnt='1', qurRate='724', stdDay='2022-01-18'), Row(deathCnt='2036', defCnt='210984', gubun='경기', gubunCn='京畿', gubunEn='Gyeonggi-do', incDec='1530', isolClearCnt='167373', isolIngCnt='0', localOccCnt='1470', overFlowCnt='60', qurRate='1555', stdDay='2022-01-18'), Row(deathCnt='121', defCnt='11245', gubun='전북', gubunCn='全北', gubunEn='Jeollabuk-do', incDec='151', isolClearCnt='10086', isolIngCnt='0', localOccCnt='147', overFlowCnt='4', qurRate='629', stdDay='2022-01-18'), Row(deathCnt='177', defCnt='20142', gubun='충남', gubunCn='忠南', gubunEn='Chungcheongnam-do', incDec='145', isolClearCnt='17373', isolIngCnt='0', localOccCnt='140', overFlowCnt='5', qurRate='950', stdDay='2022-01-18'), Row(deathCnt='187', defCnt='13262', gubun='대전', gubunCn='大田', gubunEn='Daejeon', incDec='108', isolClearCnt='11809', isolIngCnt='0', localOccCnt='101', overFlowCnt='7', qurRate='913', stdDay='2022-01-18')])"
      ]
     },
     "execution_count": 15,
     "metadata": {},
     "output_type": "execute_result"
    }
   ],
   "source": [
    "coToDF.select(coToDF.items).collect()[0]"
   ]
  },
  {
   "cell_type": "code",
   "execution_count": 16,
   "id": "202e1274-2809-401c-8efb-0d32d930dc31",
   "metadata": {},
   "outputs": [
    {
     "name": "stderr",
     "output_type": "stream",
     "text": [
      "[Stage 14:>                                                         (0 + 1) / 1]"
     ]
    }
   ],
   "source": [
    "# 각 날짜에 대한 지역별 레코드 구성\n",
    "# 리스트에 레코드 저장 후 df로 구성\n",
    "# collect()로 반환 받은 후에 진행하거나\n",
    "# spark.sql.toLocalIterator(): df에서 각 레코드를 반환해주는 역할을 하는 함수: df에 적용되면 row객체 반환\n",
    "data=[]\n",
    "for rdd1 in coToDF.select(coToDF.items).toLocalIterator():\n",
    "    # item: 특정 일에 대한 특정 지역의 data\n",
    "    for item in rdd1.items:\n",
    "        data.append(item)"
   ]
  },
  {
   "cell_type": "code",
   "execution_count": 17,
   "id": "f4c65b33-6839-4bf0-8df1-6e1c8f0b9a32",
   "metadata": {},
   "outputs": [
    {
     "data": {
      "text/plain": [
       "114"
      ]
     },
     "execution_count": 17,
     "metadata": {},
     "output_type": "execute_result"
    }
   ],
   "source": [
    "len(data)"
   ]
  },
  {
   "cell_type": "code",
   "execution_count": 18,
   "id": "3273d60f-35ea-4370-8480-e353f32fe557",
   "metadata": {},
   "outputs": [],
   "source": [
    "tmpDF = spark.createDataFrame(data)"
   ]
  },
  {
   "cell_type": "code",
   "execution_count": 21,
   "id": "71063805-1c48-464e-8e8c-ef9d2a124ea0",
   "metadata": {
    "collapsed": true,
    "jupyter": {
     "outputs_hidden": true
    }
   },
   "outputs": [
    {
     "name": "stderr",
     "output_type": "stream",
     "text": [
      "[Stage 22:>                                                         (0 + 1) / 1]"
     ]
    },
    {
     "name": "stdout",
     "output_type": "stream",
     "text": [
      "+--------+------+-----+-------+-----------------+------+------------+----------+-----------+-----------+-------+----------+\n",
      "|deathCnt|defCnt|gubun|gubunCn|          gubunEn|incDec|isolClearCnt|isolIngCnt|localOccCnt|overFlowCnt|qurRate|    stdDay|\n",
      "+--------+------+-----+-------+-----------------+------+------------+----------+-----------+-----------+-------+----------+\n",
      "|     326| 40625| 인천|   仁川|          Incheon|   196|       35422|         0|        177|         19|   1378|2022-01-18|\n",
      "|     123| 12555| 충북|   忠北|Chungcheongbuk-do|    59|       11766|         0|         55|          4|    786|2022-01-18|\n",
      "|     110| 13838| 강원|   江原|       Gangwon-do|    94|       12657|         0|         94|          0|    899|2022-01-18|\n",
      "|     344| 28102| 부산|   釜山|            Busan|   114|       25796|         0|        102|         12|    839|2022-01-18|\n",
      "|      65|  7459| 울산|   蔚山|            Ulsan|    35|        7107|         0|         33|          2|    665|2022-01-18|\n",
      "|      60| 10475| 광주|   光州|          Gwangju|   184|        8523|         0|        174|         10|    727|2022-01-18|\n",
      "|    6378|700102| 합계|   合计|            Total|  4072|      585673|         0|       3763|        309|   1356|2022-01-18|\n",
      "|       4|  2388| 세종|   世宗|           Sejong|    23|        2242|         0|         21|          2|    642|2022-01-18|\n",
      "|      16|  7960| 검역| 隔離區|        Lazaretto|    77|        6734|         0|          0|         77|      -|2022-01-18|\n",
      "|     385| 25155| 대구|   大邱|            Daegu|   171|       23380|         0|        162|          9|   1055|2022-01-18|\n",
      "|     189| 16962| 경북|   庆北| Gyeongsangbuk-do|   138|       15281|         0|        129|          9|    646|2022-01-18|\n",
      "|     114| 22778| 경남|   庆南| Gyeongsangnam-do|   142|       21299|         0|        134|          8|    687|2022-01-18|\n",
      "|    2063|243337| 서울|   首尔|            Seoul|   763|      198148|         0|        684|         79|   2559|2022-01-18|\n",
      "|      45|  7935| 전남|   全南|     Jeollanam-do|   139|        5885|         0|        138|          1|    433|2022-01-18|\n",
      "|      13|  4900| 제주|   济州|             Jeju|     3|        4792|         0|          2|          1|    724|2022-01-18|\n",
      "|    2036|210984| 경기|   京畿|      Gyeonggi-do|  1530|      167373|         0|       1470|         60|   1555|2022-01-18|\n",
      "|     121| 11245| 전북|   全北|     Jeollabuk-do|   151|       10086|         0|        147|          4|    629|2022-01-18|\n",
      "|     177| 20142| 충남|   忠南|Chungcheongnam-do|   145|       17373|         0|        140|          5|    950|2022-01-18|\n",
      "|     187| 13262| 대전|   大田|          Daejeon|   108|       11809|         0|        101|          7|    913|2022-01-18|\n",
      "|      45|  7630| 전남|   全南|     Jeollanam-do|   169|        5885|         0|        160|          9|    416|2022-01-16|\n",
      "|    6310|692174| 합계|   合计|            Total|  4194|      582667|         0|       3813|        381|   1340|2022-01-16|\n",
      "|     338| 27871| 부산|   釜山|            Busan|   145|       25377|         0|        137|          8|    832|2022-01-16|\n",
      "|     121| 12455| 충북|   忠北|Chungcheongbuk-do|    39|       11646|         0|         37|          2|    780|2022-01-16|\n",
      "|     188| 16729| 경북|   庆北| Gyeongsangbuk-do|   108|       15234|         0|        102|          6|    637|2022-01-16|\n",
      "|     114| 22517| 경남|   庆南| Gyeongsangnam-do|   123|       21087|         0|        112|         11|    679|2022-01-16|\n",
      "|     120| 10970| 전북|   全北|     Jeollabuk-do|   123|        9946|         0|        112|         11|    614|2022-01-16|\n",
      "|     184| 13072| 대전|   大田|          Daejeon|    54|       11717|         0|         47|          7|    900|2022-01-16|\n",
      "|      13|  4885| 제주|   济州|             Jeju|     8|        4773|         0|          5|          3|    722|2022-01-16|\n",
      "|     324| 40230| 인천|   仁川|          Incheon|   260|       35356|         0|        235|         25|   1364|2022-01-16|\n",
      "|       4|  2359| 세종|   世宗|           Sejong|    21|        2217|         0|         20|          1|    634|2022-01-16|\n",
      "|    2014|208027| 경기|   京畿|      Gyeonggi-do|  1586|      166976|         0|       1511|         75|   1534|2022-01-16|\n",
      "|     110| 13665| 강원|   江原|       Gangwon-do|    74|       12487|         0|         69|          5|    888|2022-01-16|\n",
      "|      55| 10049| 광주|   光州|          Gwangju|   183|        8382|         0|        173|         10|    697|2022-01-16|\n",
      "|      65|  7405| 울산|   蔚山|            Ulsan|    19|        7045|         0|         15|          4|    660|2022-01-16|\n",
      "|     170| 19893| 충남|   忠南|Chungcheongnam-do|   114|       17220|         0|        105|          9|    939|2022-01-16|\n",
      "|     385| 24808| 대구|   大邱|            Daegu|   157|       23158|         0|        147|         10|   1040|2022-01-16|\n",
      "|      16|  7825| 검역| 隔離區|        Lazaretto|    86|        6636|         0|          0|         86|      -|2022-01-16|\n",
      "|    2044|241784| 서울|   首尔|            Seoul|   925|      197525|         0|        826|         99|   2543|2022-01-16|\n",
      "|     322| 39970| 인천|   仁川|          Incheon|   248|       35151|         0|        221|         27|   1356|2022-01-15|\n",
      "|       4|  2338| 세종|   世宗|           Sejong|    15|        2201|         0|         15|          0|    629|2022-01-15|\n",
      "|      55|  9866| 광주|   光州|          Gwangju|   207|        8382|         0|        205|          2|    684|2022-01-15|\n",
      "|     120| 12416| 충북|   忠北|Chungcheongbuk-do|    83|       11618|         0|         77|          6|    777|2022-01-15|\n",
      "|     187| 16621| 경북|   庆北| Gyeongsangbuk-do|    95|       15152|         0|         85|         10|    633|2022-01-15|\n",
      "|      65|  7386| 울산|   蔚山|            Ulsan|    17|        7009|         0|         14|          3|    659|2022-01-15|\n",
      "|     110| 13591| 강원|   江原|       Gangwon-do|    79|       12372|         0|         75|          4|    883|2022-01-15|\n",
      "|    6281|687984| 합계|   合计|            Total|  4423|      580664|         0|       4077|        346|   1332|2022-01-15|\n",
      "|     184| 13018| 대전|   大田|          Daejeon|    53|       11704|         0|         49|          4|    896|2022-01-15|\n",
      "|     113| 22394| 경남|   庆南| Gyeongsangnam-do|   116|       20981|         0|        108|          8|    676|2022-01-15|\n",
      "|     120| 10847| 전북|   全北|     Jeollabuk-do|   123|        9854|         0|        120|          3|    607|2022-01-15|\n",
      "|      13|  4877| 제주|   济州|             Jeju|    13|        4754|         0|         10|          3|    721|2022-01-15|\n",
      "+--------+------+-----+-------+-----------------+------+------------+----------+-----------+-----------+-------+----------+\n",
      "only showing top 50 rows\n",
      "\n"
     ]
    },
    {
     "name": "stderr",
     "output_type": "stream",
     "text": [
      "                                                                                "
     ]
    }
   ],
   "source": [
    "tmpDF.show(50)"
   ]
  },
  {
   "cell_type": "code",
   "execution_count": 22,
   "id": "82be2d47-b0dc-4f8d-a7ae-6de652fbf98f",
   "metadata": {},
   "outputs": [
    {
     "data": {
      "text/plain": [
       "['deathCnt',\n",
       " 'defCnt',\n",
       " 'gubun',\n",
       " 'gubunCn',\n",
       " 'gubunEn',\n",
       " 'incDec',\n",
       " 'isolClearCnt',\n",
       " 'isolIngCnt',\n",
       " 'localOccCnt',\n",
       " 'overFlowCnt',\n",
       " 'qurRate',\n",
       " 'stdDay']"
      ]
     },
     "execution_count": 22,
     "metadata": {},
     "output_type": "execute_result"
    }
   ],
   "source": [
    "tmpDF.columns"
   ]
  },
  {
   "cell_type": "code",
   "execution_count": 29,
   "id": "d1e0805b-1aff-4bec-aa69-6af0e40e6bf8",
   "metadata": {},
   "outputs": [],
   "source": [
    "# 주석복사필요\n",
    "coPDF = tmpDF.select(\n",
    "    tmpDF.gubun.alias('LOC'),\n",
    "    tmpDF.deathCnt.alias('DEATH_CNT'),\n",
    "    tmpDF.defCnt.alias('DEF_CNT'),\n",
    "    tmpDF.localOccCnt.alias('LOC_OCC_CNT'),\n",
    "    tmpDF.qurRate.alias('QUR_RATE'),\n",
    "    tmpDF.stdDay.alias('STD_DAY'),\n",
    ")\\\n",
    ".where(~(col('LOC').isin(['합계','검역']))).distinct() #불필요한 행 제거"
   ]
  },
  {
   "cell_type": "markdown",
   "id": "4a66f81a-da5a-458b-a398-546ba322c97d",
   "metadata": {},
   "source": [
    "- mode : append (기존 테이블 있으면 테이블에 레코드 추가)"
   ]
  },
  {
   "cell_type": "code",
   "execution_count": 31,
   "id": "0ed75e17",
   "metadata": {},
   "outputs": [
    {
     "name": "stderr",
     "output_type": "stream",
     "text": [
      "[Stage 26:>                                                         (0 + 1) / 1]"
     ]
    },
    {
     "name": "stdout",
     "output_type": "stream",
     "text": [
      "+----+---------+-------+-----------+--------+----------+\n",
      "| LOC|DEATH_CNT|DEF_CNT|LOC_OCC_CNT|QUR_RATE|   STD_DAY|\n",
      "+----+---------+-------+-----------+--------+----------+\n",
      "|강원|      110|  13838|         94|     899|2022-01-18|\n",
      "|서울|     2063| 243337|        684|    2559|2022-01-18|\n",
      "|대전|      187|  13262|        101|     913|2022-01-18|\n",
      "|전북|      121|  11245|        147|     629|2022-01-18|\n",
      "|경기|     2036| 210984|       1470|    1555|2022-01-18|\n",
      "|경남|      114|  22778|        134|     687|2022-01-18|\n",
      "|광주|       60|  10475|        174|     727|2022-01-18|\n",
      "|전남|       45|   7935|        138|     433|2022-01-18|\n",
      "|세종|        4|   2388|         21|     642|2022-01-18|\n",
      "|충남|      177|  20142|        140|     950|2022-01-18|\n",
      "|경북|      189|  16962|        129|     646|2022-01-18|\n",
      "|울산|       65|   7459|         33|     665|2022-01-18|\n",
      "|대구|      385|  25155|        162|    1055|2022-01-18|\n",
      "|부산|      344|  28102|        102|     839|2022-01-18|\n",
      "|인천|      326|  40625|        177|    1378|2022-01-18|\n",
      "|제주|       13|   4900|          2|     724|2022-01-18|\n",
      "|충북|      123|  12555|         55|     786|2022-01-18|\n",
      "+----+---------+-------+-----------+--------+----------+\n",
      "\n"
     ]
    },
    {
     "name": "stderr",
     "output_type": "stream",
     "text": [
      "                                                                                "
     ]
    }
   ],
   "source": [
    "coPDF.where(col('STD_DAY')=='2022-01-18').show()"
   ]
  },
  {
   "cell_type": "code",
   "execution_count": 32,
   "id": "c7657152",
   "metadata": {},
   "outputs": [
    {
     "name": "stderr",
     "output_type": "stream",
     "text": [
      "                                                                                "
     ]
    }
   ],
   "source": [
    "coPDF.write.jdbc(url=JDBC['url'], table='CORONA_PATIENTS', mode='append', properties=JDBC['props'])"
   ]
  },
  {
   "cell_type": "markdown",
   "id": "45905379",
   "metadata": {},
   "source": [
    "### 3.  CORONA_VACCINE 테이블 저장"
   ]
  },
  {
   "cell_type": "code",
   "execution_count": 5,
   "id": "7826f03e-3e08-41c8-967b-6604c356bdfc",
   "metadata": {},
   "outputs": [
    {
     "name": "stderr",
     "output_type": "stream",
     "text": [
      "[Stage 2:>                                                          (0 + 1) / 1]"
     ]
    },
    {
     "name": "stdout",
     "output_type": "stream",
     "text": [
      "+----------------------+---------------------------+\n",
      "|                  data|                       meta|\n",
      "+----------------------+---------------------------+\n",
      "|[{세종, 290049, 281...|{{지역, 1차 접종 누적, 2...|\n",
      "|[{울산, 956453, 930...|{{지역, 1차 접종 누적, 2...|\n",
      "|[{대전, 1230930, 12...|{{지역, 1차 접종 누적, 2...|\n",
      "|[{광주, 1247764, 12...|{{지역, 1차 접종 누적, 2...|\n",
      "|[{울산, 955163, 925...|{{지역, 1차 접종 누적, 2...|\n",
      "|[{울산, 955638, 927...|{{지역, 1차 접종 누적, 2...|\n",
      "+----------------------+---------------------------+\n",
      "\n"
     ]
    },
    {
     "name": "stderr",
     "output_type": "stream",
     "text": [
      "                                                                                "
     ]
    }
   ],
   "source": [
    "# vaccine 폴더 내에 있는 json파일 모두 읽어오기\n",
    "file_name= '/corona_data/vaccine/'\n",
    "vaccine = spark.read.json(file_name, encoding='UTF-8')\n",
    "vaccine.show()"
   ]
  },
  {
   "cell_type": "code",
   "execution_count": 6,
   "id": "ee5b6cb2-9fb6-4de5-bfbe-748d1d78ba85",
   "metadata": {
    "scrolled": true
   },
   "outputs": [
    {
     "name": "stderr",
     "output_type": "stream",
     "text": [
      "[Stage 4:>                                                          (0 + 1) / 1]"
     ]
    },
    {
     "name": "stdout",
     "output_type": "stream",
     "text": [
      "+----------------------------+-----------+\n",
      "|                         LOC|meta.stdDay|\n",
      "+----------------------------+-----------+\n",
      "|[세종, 광주, 인천, 대전, ...| 2022-01-15|\n",
      "|[울산, 대전, 인천, 광주, ...| 2022-01-16|\n",
      "|[대전, 울산, 광주, 인천, ...| 2022-01-17|\n",
      "|[광주, 울산, 인천, 대전, ...| 2022-01-18|\n",
      "|[울산, 대전, 광주, 인천, ...| 2022-01-13|\n",
      "|[울산, 대전, 광주, 인천, ...| 2022-01-14|\n",
      "+----------------------------+-----------+\n",
      "\n"
     ]
    },
    {
     "name": "stderr",
     "output_type": "stream",
     "text": [
      "                                                                                "
     ]
    }
   ],
   "source": [
    "vaccine.select(vaccine.data.loc.alias('LOC'), vaccine.meta.stdDay).show()"
   ]
  },
  {
   "cell_type": "code",
   "execution_count": 7,
   "id": "62158afc-a62d-484d-a0b6-db0347698246",
   "metadata": {},
   "outputs": [
    {
     "name": "stderr",
     "output_type": "stream",
     "text": [
      "[Stage 6:>                                                          (0 + 1) / 1]"
     ]
    }
   ],
   "source": [
    "# vaccine data는 기준일 stdDay가 meta컬럼에\n",
    "tmpData=[]\n",
    "for rdd1 in vaccine.select(vaccine.data, vaccine.meta.stdDay).toLocalIterator():\n",
    "    for data in rdd1.data:\n",
    "        temp = data.asDict() #특정일의 한 지역의 data: dict객체\n",
    "        temp['std_day']=rdd1['meta.stdDay'] #데이터수집 기준일을 지역data에 포함: dict객체 -> 참조변수\n",
    "        tmpData.append(Row(**temp)) # dict->row"
   ]
  },
  {
   "cell_type": "code",
   "execution_count": 8,
   "id": "113507fe",
   "metadata": {
    "scrolled": true
   },
   "outputs": [
    {
     "data": {
      "text/plain": [
       "[Row(loc='세종', v1='290049', v2='281209.0', v3='133791.0', std_day='2022-01-15'),\n",
       " Row(loc='광주', v1='1246812', v2='1217198.0', v3='661037.0', std_day='2022-01-15'),\n",
       " Row(loc='인천', v1='2530654', v2='2478165.0', v3='1282656.0', std_day='2022-01-15'),\n",
       " Row(loc='대전', v1='1230543', v2='1200346.0', v3='609202.0', std_day='2022-01-15'),\n",
       " Row(loc='대구', v1='1995815', v2='1939414.0', v3='948537.0', std_day='2022-01-15'),\n",
       " Row(loc='부산', v1='2847265', v2='2781230.0', v3='1511528.0', std_day='2022-01-15'),\n",
       " Row(loc='서울', v1='8234238', v2='8073652.0', v3='4175126.0', std_day='2022-01-15'),\n",
       " Row(loc='전국', v1='44471225', v2='43472288.0', v3='23015954.0', std_day='2022-01-15'),\n",
       " Row(loc='울산', v1='956188', v2='930201.0', v3='461140.0', std_day='2022-01-15'),\n",
       " Row(loc='경기', v1='11642409', v2='11384397.0', v3='5758621.0', std_day='2022-01-15'),\n",
       " Row(loc='제주', v1='580074', v2='565008.0', v3='287633.0', std_day='2022-01-15'),\n",
       " Row(loc='경남', v1='2846130', v2='2776414.0', v3='1474593.0', std_day='2022-01-15'),\n",
       " Row(loc='경북', v1='2259004', v2='2196640.0', v3='1215461.0', std_day='2022-01-15'),\n",
       " Row(loc='전남', v1='1631047', v2='1599517.0', v3='1007985.0', std_day='2022-01-15'),\n",
       " Row(loc='전북', v1='1573966', v2='1543969.0', v3='933145.0', std_day='2022-01-15'),\n",
       " Row(loc='충남', v1='1868511', v2='1825332.0', v3='1017953.0', std_day='2022-01-15'),\n",
       " Row(loc='충북', v1='1407536', v2='1375764.0', v3='760611.0', std_day='2022-01-15'),\n",
       " Row(loc='강원', v1='1330984', v2='1303832.0', v3='776935.0', std_day='2022-01-15'),\n",
       " Row(loc='울산', v1='956453', v2='930920.0', v3='466960.0', std_day='2022-01-16'),\n",
       " Row(loc='대전', v1='1230936', v2='1201356.0', v3='617893.0', std_day='2022-01-16'),\n",
       " Row(loc='인천', v1='2531621', v2='2480078.0', v3='1305535.0', std_day='2022-01-16'),\n",
       " Row(loc='광주', v1='1247210', v2='1218225.0', v3='670738.0', std_day='2022-01-16'),\n",
       " Row(loc='대구', v1='1996434', v2='1941088.0', v3='962749.0', std_day='2022-01-16'),\n",
       " Row(loc='부산', v1='2847993', v2='2783249.0', v3='1531196.0', std_day='2022-01-16'),\n",
       " Row(loc='서울', v1='8235942', v2='8078465.0', v3='4230343.0', std_day='2022-01-16'),\n",
       " Row(loc='전국', v1='44484806', v2='43504026.0', v3='23337078.0', std_day='2022-01-16'),\n",
       " Row(loc='세종', v1='290246', v2='281623.0', v3='135629.0', std_day='2022-01-16'),\n",
       " Row(loc='경기', v1='11646846', v2='11394192.0', v3='5857547.0', std_day='2022-01-16'),\n",
       " Row(loc='제주', v1='580252', v2='565511.0', v3='290790.0', std_day='2022-01-16'),\n",
       " Row(loc='경남', v1='2846948', v2='2778447.0', v3='1494319.0', std_day='2022-01-16'),\n",
       " Row(loc='경북', v1='2259768', v2='2198022.0', v3='1228010.0', std_day='2022-01-16'),\n",
       " Row(loc='전남', v1='1631382', v2='1600246.0', v3='1016957.0', std_day='2022-01-16'),\n",
       " Row(loc='전북', v1='1574264', v2='1544854.0', v3='943494.0', std_day='2022-01-16'),\n",
       " Row(loc='충남', v1='1869192', v2='1826570.0', v3='1031055.0', std_day='2022-01-16'),\n",
       " Row(loc='충북', v1='1407989', v2='1376714.0', v3='770608.0', std_day='2022-01-16'),\n",
       " Row(loc='강원', v1='1331330', v2='1304466.0', v3='783255.0', std_day='2022-01-16'),\n",
       " Row(loc='대전', v1='1230930', v2='1201442.0', v3='618181.0', std_day='2022-01-17'),\n",
       " Row(loc='울산', v1='956456', v2='930969.0', v3='467195.0', std_day='2022-01-17'),\n",
       " Row(loc='광주', v1='1247205', v2='1218249.0', v3='670897.0', std_day='2022-01-17'),\n",
       " Row(loc='인천', v1='2531729', v2='2480340.0', v3='1306982.0', std_day='2022-01-17'),\n",
       " Row(loc='대구', v1='1996374', v2='1941145.0', v3='962995.0', std_day='2022-01-17'),\n",
       " Row(loc='부산', v1='2847953', v2='2783354.0', v3='1531892.0', std_day='2022-01-17'),\n",
       " Row(loc='서울', v1='8235941', v2='8078945.0', v3='4233567.0', std_day='2022-01-17'),\n",
       " Row(loc='전국', v1='44485593', v2='43507434.0', v3='23354003.0', std_day='2022-01-17'),\n",
       " Row(loc='세종', v1='290304', v2='281703.0', v3='135749.0', std_day='2022-01-17'),\n",
       " Row(loc='경기', v1='11647430', v2='11395833.0', v3='5864935.0', std_day='2022-01-17'),\n",
       " Row(loc='제주', v1='580267', v2='565580.0', v3='291011.0', std_day='2022-01-17'),\n",
       " Row(loc='경남', v1='2846949', v2='2778517.0', v3='1494823.0', std_day='2022-01-17'),\n",
       " Row(loc='경북', v1='2259821', v2='2198127.0', v3='1228384.0', std_day='2022-01-17'),\n",
       " Row(loc='전남', v1='1631390', v2='1600290.0', v3='1017226.0', std_day='2022-01-17'),\n",
       " Row(loc='전북', v1='1574236', v2='1544881.0', v3='943798.0', std_day='2022-01-17'),\n",
       " Row(loc='충남', v1='1869256', v2='1826751.0', v3='1031798.0', std_day='2022-01-17'),\n",
       " Row(loc='충북', v1='1408019', v2='1376810.0', v3='771144.0', std_day='2022-01-17'),\n",
       " Row(loc='강원', v1='1331333', v2='1304498.0', v3='783426.0', std_day='2022-01-17'),\n",
       " Row(loc='광주', v1='1247764', v2='1220758.0', v3='682394.0', std_day='2022-01-18'),\n",
       " Row(loc='울산', v1='956895', v2='933311.0', v3='476692.0', std_day='2022-01-18'),\n",
       " Row(loc='인천', v1='2532911', v2='2484196.0', v3='1330273.0', std_day='2022-01-18'),\n",
       " Row(loc='대전', v1='1231435', v2='1203724.0', v3='628469.0', std_day='2022-01-18'),\n",
       " Row(loc='대구', v1='1997407', v2='1945813.0', v3='978794.0', std_day='2022-01-18'),\n",
       " Row(loc='부산', v1='2849093', v2='2788089.0', v3='1554554.0', std_day='2022-01-18'),\n",
       " Row(loc='서울', v1='8239400', v2='8090244.0', v3='4304485.0', std_day='2022-01-18'),\n",
       " Row(loc='전국', v1='44505276', v2='43582128.0', v3='23741205.0', std_day='2022-01-18'),\n",
       " Row(loc='세종', v1='290455', v2='282507.0', v3='138100.0', std_day='2022-01-18'),\n",
       " Row(loc='경기', v1='11652853', v2='11414202.0', v3='5970505.0', std_day='2022-01-18'),\n",
       " Row(loc='제주', v1='580579', v2='566811.0', v3='295807.0', std_day='2022-01-18'),\n",
       " Row(loc='경남', v1='2848083', v2='2783896.0', v3='1517240.0', std_day='2022-01-18'),\n",
       " Row(loc='경북', v1='2260963', v2='2202814.0', v3='1247047.0', std_day='2022-01-18'),\n",
       " Row(loc='전남', v1='1632045', v2='1602479.0', v3='1031459.0', std_day='2022-01-18'),\n",
       " Row(loc='전북', v1='1574779', v2='1547262.0', v3='958100.0', std_day='2022-01-18'),\n",
       " Row(loc='충남', v1='1870124', v2='1830143.0', v3='1048429.0', std_day='2022-01-18'),\n",
       " Row(loc='충북', v1='1408620', v2='1379378.0', v3='783588.0', std_day='2022-01-18'),\n",
       " Row(loc='강원', v1='1331870', v2='1306501.0', v3='795269.0', std_day='2022-01-18'),\n",
       " Row(loc='울산', v1='955163', v2='925527.0', v3='438364.0', std_day='2022-01-13'),\n",
       " Row(loc='대전', v1='1229214', v2='1194853.0', v3='582248.0', std_day='2022-01-13'),\n",
       " Row(loc='광주', v1='1245589', v2='1210797.0', v3='627862.0', std_day='2022-01-13'),\n",
       " Row(loc='인천', v1='2528331', v2='2469722.0', v3='1229883.0', std_day='2022-01-13'),\n",
       " Row(loc='대구', v1='1993851', v2='1929408.0', v3='911366.0', std_day='2022-01-13'),\n",
       " Row(loc='부산', v1='2844871', v2='2770042.0', v3='1459563.0', std_day='2022-01-13'),\n",
       " Row(loc='서울', v1='8227788', v2='8049504.0', v3='4019205.0', std_day='2022-01-13'),\n",
       " Row(loc='전국', v1='44429466', v2='43303358.0', v3='22101847.0', std_day='2022-01-13'),\n",
       " Row(loc='세종', v1='289674', v2='279762.0', v3='127711.0', std_day='2022-01-13'),\n",
       " Row(loc='경기', v1='11630764', v2='11342341.0', v3='5506349.0', std_day='2022-01-13'),\n",
       " Row(loc='제주', v1='579492', v2='561670.0', v3='276754.0', std_day='2022-01-13'),\n",
       " Row(loc='경남', v1='2843446', v2='2763588.0', v3='1417706.0', std_day='2022-01-13'),\n",
       " Row(loc='경북', v1='2256335', v2='2187682.0', v3='1171548.0', std_day='2022-01-13'),\n",
       " Row(loc='전남', v1='1629691', v2='1593531.0', v3='974092.0', std_day='2022-01-13'),\n",
       " Row(loc='전북', v1='1572742', v2='1537974.0', v3='901988.0', std_day='2022-01-13'),\n",
       " Row(loc='충남', v1='1866552', v2='1817963.0', v3='978013.0', std_day='2022-01-13'),\n",
       " Row(loc='충북', v1='1406214', v2='1370067.0', v3='729832.0', std_day='2022-01-13'),\n",
       " Row(loc='강원', v1='1329749', v2='1298927.0', v3='749363.0', std_day='2022-01-13'),\n",
       " Row(loc='울산', v1='955638', v2='927850.0', v3='448125.0', std_day='2022-01-14'),\n",
       " Row(loc='대전', v1='1229717', v2='1197407.0', v3='592678.0', std_day='2022-01-14'),\n",
       " Row(loc='광주', v1='1246121', v2='1213744.0', v3='637801.0', std_day='2022-01-14'),\n",
       " Row(loc='인천', v1='2529318', v2='2473547.0', v3='1249112.0', std_day='2022-01-14'),\n",
       " Row(loc='대구', v1='1994689', v2='1934070.0', v3='925128.0', std_day='2022-01-14'),\n",
       " Row(loc='부산', v1='2845893', v2='2774965.0', v3='1478167.0', std_day='2022-01-14'),\n",
       " Row(loc='서울', v1='8230606', v2='8060382.0', v3='4080181.0', std_day='2022-01-14'),\n",
       " Row(loc='전국', v1='44447172', v2='43381612.0', v3='22442130.0', std_day='2022-01-14'),\n",
       " Row(loc='세종', v1='289820', v2='280462.0', v3='130110.0', std_day='2022-01-14'),\n",
       " Row(loc='경기', v1='11635521', v2='11361626.0', v3='5594786.0', std_day='2022-01-14'),\n",
       " Row(loc='제주', v1='579741', v2='563328.0', v3='281475.0', std_day='2022-01-14'),\n",
       " Row(loc='경남', v1='2844520', v2='2769699.0', v3='1438779.0', std_day='2022-01-14'),\n",
       " Row(loc='경북', v1='2257551', v2='2191750.0', v3='1189288.0', std_day='2022-01-14'),\n",
       " Row(loc='전남', v1='1630235', v2='1596385.0', v3='987046.0', std_day='2022-01-14'),\n",
       " Row(loc='전북', v1='1573274', v2='1540820.0', v3='914057.0', std_day='2022-01-14'),\n",
       " Row(loc='충남', v1='1867376', v2='1821328.0', v3='993122.0', std_day='2022-01-14'),\n",
       " Row(loc='충북', v1='1406790', v2='1372898.0', v3='741602.0', std_day='2022-01-14'),\n",
       " Row(loc='강원', v1='1330362', v2='1301351.0', v3='760673.0', std_day='2022-01-14')]"
      ]
     },
     "execution_count": 8,
     "metadata": {},
     "output_type": "execute_result"
    }
   ],
   "source": [
    "tmpData"
   ]
  },
  {
   "cell_type": "code",
   "execution_count": 9,
   "id": "3a2b9c08-5c74-431e-b8ef-bcab87a066a6",
   "metadata": {},
   "outputs": [
    {
     "name": "stderr",
     "output_type": "stream",
     "text": [
      "                                                                                "
     ]
    },
    {
     "name": "stdout",
     "output_type": "stream",
     "text": [
      "+----+--------+----------+----------+----------+\n",
      "| loc|      v1|        v2|        v3|   std_day|\n",
      "+----+--------+----------+----------+----------+\n",
      "|세종|  290049|  281209.0|  133791.0|2022-01-15|\n",
      "|광주| 1246812| 1217198.0|  661037.0|2022-01-15|\n",
      "|인천| 2530654| 2478165.0| 1282656.0|2022-01-15|\n",
      "|대전| 1230543| 1200346.0|  609202.0|2022-01-15|\n",
      "|대구| 1995815| 1939414.0|  948537.0|2022-01-15|\n",
      "|부산| 2847265| 2781230.0| 1511528.0|2022-01-15|\n",
      "|서울| 8234238| 8073652.0| 4175126.0|2022-01-15|\n",
      "|전국|44471225|43472288.0|23015954.0|2022-01-15|\n",
      "|울산|  956188|  930201.0|  461140.0|2022-01-15|\n",
      "|경기|11642409|11384397.0| 5758621.0|2022-01-15|\n",
      "|제주|  580074|  565008.0|  287633.0|2022-01-15|\n",
      "|경남| 2846130| 2776414.0| 1474593.0|2022-01-15|\n",
      "|경북| 2259004| 2196640.0| 1215461.0|2022-01-15|\n",
      "|전남| 1631047| 1599517.0| 1007985.0|2022-01-15|\n",
      "|전북| 1573966| 1543969.0|  933145.0|2022-01-15|\n",
      "|충남| 1868511| 1825332.0| 1017953.0|2022-01-15|\n",
      "|충북| 1407536| 1375764.0|  760611.0|2022-01-15|\n",
      "|강원| 1330984| 1303832.0|  776935.0|2022-01-15|\n",
      "|울산|  956453|  930920.0|  466960.0|2022-01-16|\n",
      "|대전| 1230936| 1201356.0|  617893.0|2022-01-16|\n",
      "+----+--------+----------+----------+----------+\n",
      "only showing top 20 rows\n",
      "\n"
     ]
    }
   ],
   "source": [
    "vacTmp = spark.createDataFrame(tmpData)\n",
    "vacTmp.show()"
   ]
  },
  {
   "cell_type": "code",
   "execution_count": 10,
   "id": "e3421757-ab5d-4ef4-8fe8-1947dc3c7a9b",
   "metadata": {},
   "outputs": [],
   "source": [
    "coVacDF = vacTmp.where(~(col('loc').isin(['전국','기타']))).distinct()"
   ]
  },
  {
   "cell_type": "code",
   "execution_count": 11,
   "id": "1dfd6f37-a008-4091-8562-85b9f3f32de7",
   "metadata": {},
   "outputs": [
    {
     "name": "stderr",
     "output_type": "stream",
     "text": [
      "[Stage 10:>                                                         (0 + 1) / 1]"
     ]
    },
    {
     "name": "stdout",
     "output_type": "stream",
     "text": [
      "+----+--------+----------+---------+----------+\n",
      "| loc|      v1|        v2|       v3|   std_day|\n",
      "+----+--------+----------+---------+----------+\n",
      "|충북| 1408620| 1379378.0| 783588.0|2022-01-18|\n",
      "|경북| 2257551| 2191750.0|1189288.0|2022-01-14|\n",
      "|경기|11635521|11361626.0|5594786.0|2022-01-14|\n",
      "|충남| 1867376| 1821328.0| 993122.0|2022-01-14|\n",
      "|강원| 1330362| 1301351.0| 760673.0|2022-01-14|\n",
      "|울산|  955638|  927850.0| 448125.0|2022-01-14|\n",
      "|대구| 1993851| 1929408.0| 911366.0|2022-01-13|\n",
      "|부산| 2845893| 2774965.0|1478167.0|2022-01-14|\n",
      "|광주| 1247764| 1220758.0| 682394.0|2022-01-18|\n",
      "|경기|11652853|11414202.0|5970505.0|2022-01-18|\n",
      "|경북| 2256335| 2187682.0|1171548.0|2022-01-13|\n",
      "|전북| 1572742| 1537974.0| 901988.0|2022-01-13|\n",
      "|부산| 2849093| 2788089.0|1554554.0|2022-01-18|\n",
      "|세종|  289820|  280462.0| 130110.0|2022-01-14|\n",
      "|충남| 1866552| 1817963.0| 978013.0|2022-01-13|\n",
      "|경남| 2848083| 2783896.0|1517240.0|2022-01-18|\n",
      "|경기|11630764|11342341.0|5506349.0|2022-01-13|\n",
      "|울산|  955163|  925527.0| 438364.0|2022-01-13|\n",
      "|광주| 1245589| 1210797.0| 627862.0|2022-01-13|\n",
      "|충북| 1406790| 1372898.0| 741602.0|2022-01-14|\n",
      "+----+--------+----------+---------+----------+\n",
      "only showing top 20 rows\n",
      "\n"
     ]
    },
    {
     "name": "stderr",
     "output_type": "stream",
     "text": [
      "                                                                                "
     ]
    }
   ],
   "source": [
    "coVacDF.show()"
   ]
  },
  {
   "cell_type": "code",
   "execution_count": 12,
   "id": "e218815f-3486-473d-af87-d69ac5a06300",
   "metadata": {},
   "outputs": [
    {
     "name": "stderr",
     "output_type": "stream",
     "text": [
      "/root/spark/python/pyspark/pandas/__init__.py:50: UserWarning: 'PYARROW_IGNORE_TIMEZONE' environment variable was not set. It is required to set this environment variable to '1' in both driver and executor sides if you use pyarrow>=2.0.0. pandas-on-Spark will set it for you but it does not work if there is a Spark context already launched.\n",
      "  warnings.warn(\n",
      "                                                                                "
     ]
    },
    {
     "data": {
      "text/html": [
       "<div>\n",
       "<style scoped>\n",
       "    .dataframe tbody tr th:only-of-type {\n",
       "        vertical-align: middle;\n",
       "    }\n",
       "\n",
       "    .dataframe tbody tr th {\n",
       "        vertical-align: top;\n",
       "    }\n",
       "\n",
       "    .dataframe thead th {\n",
       "        text-align: right;\n",
       "    }\n",
       "</style>\n",
       "<table border=\"1\" class=\"dataframe\">\n",
       "  <thead>\n",
       "    <tr style=\"text-align: right;\">\n",
       "      <th></th>\n",
       "      <th>loc</th>\n",
       "      <th>v1</th>\n",
       "      <th>v2</th>\n",
       "      <th>v3</th>\n",
       "      <th>std_day</th>\n",
       "    </tr>\n",
       "  </thead>\n",
       "  <tbody>\n",
       "    <tr>\n",
       "      <th>0</th>\n",
       "      <td>충남</td>\n",
       "      <td>1868511</td>\n",
       "      <td>1825332.0</td>\n",
       "      <td>1017953.0</td>\n",
       "      <td>2022-01-15</td>\n",
       "    </tr>\n",
       "    <tr>\n",
       "      <th>1</th>\n",
       "      <td>부산</td>\n",
       "      <td>2847993</td>\n",
       "      <td>2783249.0</td>\n",
       "      <td>1531196.0</td>\n",
       "      <td>2022-01-16</td>\n",
       "    </tr>\n",
       "    <tr>\n",
       "      <th>2</th>\n",
       "      <td>충남</td>\n",
       "      <td>1869192</td>\n",
       "      <td>1826570.0</td>\n",
       "      <td>1031055.0</td>\n",
       "      <td>2022-01-16</td>\n",
       "    </tr>\n",
       "    <tr>\n",
       "      <th>3</th>\n",
       "      <td>충북</td>\n",
       "      <td>1408019</td>\n",
       "      <td>1376810.0</td>\n",
       "      <td>771144.0</td>\n",
       "      <td>2022-01-17</td>\n",
       "    </tr>\n",
       "    <tr>\n",
       "      <th>4</th>\n",
       "      <td>경남</td>\n",
       "      <td>2846130</td>\n",
       "      <td>2776414.0</td>\n",
       "      <td>1474593.0</td>\n",
       "      <td>2022-01-15</td>\n",
       "    </tr>\n",
       "  </tbody>\n",
       "</table>\n",
       "</div>"
      ],
      "text/plain": [
       "  loc       v1         v2         v3     std_day\n",
       "0  충남  1868511  1825332.0  1017953.0  2022-01-15\n",
       "1  부산  2847993  2783249.0  1531196.0  2022-01-16\n",
       "2  충남  1869192  1826570.0  1031055.0  2022-01-16\n",
       "3  충북  1408019  1376810.0   771144.0  2022-01-17\n",
       "4  경남  2846130  2776414.0  1474593.0  2022-01-15"
      ]
     },
     "execution_count": 12,
     "metadata": {},
     "output_type": "execute_result"
    },
    {
     "data": {
      "text/plain": [
       "pyspark.pandas.frame.DataFrame"
      ]
     },
     "execution_count": 12,
     "metadata": {},
     "output_type": "execute_result"
    }
   ],
   "source": [
    "# 주석\n",
    "pdcoVac = coVacDF.pandas_api()\n",
    "pdcoVac.head()\n",
    "type(pdcoVac)"
   ]
  },
  {
   "cell_type": "code",
   "execution_count": 13,
   "id": "d3a925a3-a403-4f52-b49e-37a58453ae44",
   "metadata": {},
   "outputs": [
    {
     "name": "stderr",
     "output_type": "stream",
     "text": [
      "                                                                                "
     ]
    },
    {
     "data": {
      "text/html": [
       "<div>\n",
       "<style scoped>\n",
       "    .dataframe tbody tr th:only-of-type {\n",
       "        vertical-align: middle;\n",
       "    }\n",
       "\n",
       "    .dataframe tbody tr th {\n",
       "        vertical-align: top;\n",
       "    }\n",
       "\n",
       "    .dataframe thead th {\n",
       "        text-align: right;\n",
       "    }\n",
       "</style>\n",
       "<table border=\"1\" class=\"dataframe\">\n",
       "  <thead>\n",
       "    <tr style=\"text-align: right;\">\n",
       "      <th></th>\n",
       "      <th></th>\n",
       "      <th>v1</th>\n",
       "      <th>v2</th>\n",
       "      <th>v3</th>\n",
       "    </tr>\n",
       "    <tr>\n",
       "      <th>loc</th>\n",
       "      <th>std_day</th>\n",
       "      <th></th>\n",
       "      <th></th>\n",
       "      <th></th>\n",
       "    </tr>\n",
       "  </thead>\n",
       "  <tbody>\n",
       "    <tr>\n",
       "      <th>충남</th>\n",
       "      <th>2022-01-15</th>\n",
       "      <td>1868511</td>\n",
       "      <td>1825332.0</td>\n",
       "      <td>1017953.0</td>\n",
       "    </tr>\n",
       "    <tr>\n",
       "      <th>부산</th>\n",
       "      <th>2022-01-16</th>\n",
       "      <td>2847993</td>\n",
       "      <td>2783249.0</td>\n",
       "      <td>1531196.0</td>\n",
       "    </tr>\n",
       "    <tr>\n",
       "      <th>충남</th>\n",
       "      <th>2022-01-16</th>\n",
       "      <td>1869192</td>\n",
       "      <td>1826570.0</td>\n",
       "      <td>1031055.0</td>\n",
       "    </tr>\n",
       "    <tr>\n",
       "      <th>충북</th>\n",
       "      <th>2022-01-17</th>\n",
       "      <td>1408019</td>\n",
       "      <td>1376810.0</td>\n",
       "      <td>771144.0</td>\n",
       "    </tr>\n",
       "    <tr>\n",
       "      <th>경남</th>\n",
       "      <th>2022-01-15</th>\n",
       "      <td>2846130</td>\n",
       "      <td>2776414.0</td>\n",
       "      <td>1474593.0</td>\n",
       "    </tr>\n",
       "  </tbody>\n",
       "</table>\n",
       "</div>"
      ],
      "text/plain": [
       "                     v1         v2         v3\n",
       "loc std_day                                  \n",
       "충남  2022-01-15  1868511  1825332.0  1017953.0\n",
       "부산  2022-01-16  2847993  2783249.0  1531196.0\n",
       "충남  2022-01-16  1869192  1826570.0  1031055.0\n",
       "충북  2022-01-17  1408019  1376810.0   771144.0\n",
       "경남  2022-01-15  2846130  2776414.0  1474593.0"
      ]
     },
     "execution_count": 13,
     "metadata": {},
     "output_type": "execute_result"
    }
   ],
   "source": [
    "# 행 idx는 dbms 테이블의 기본키와 같은 역할\n",
    "pdcoVac = pdcoVac.set_index(['loc','std_day'])\n",
    "pdcoVac.head()"
   ]
  },
  {
   "cell_type": "code",
   "execution_count": 14,
   "id": "409d2aad-d567-4edf-8faa-a20aa51fae43",
   "metadata": {
    "scrolled": true
   },
   "outputs": [
    {
     "name": "stderr",
     "output_type": "stream",
     "text": [
      "                                                                                "
     ]
    },
    {
     "data": {
      "text/plain": [
       "loc  std_day       \n",
       "충북   2022-01-18  v2     1379378.0\n",
       "                 v1       1408620\n",
       "                 v3      783588.0\n",
       "경북   2022-01-14  v2     2191750.0\n",
       "                 v1       2257551\n",
       "                 v3     1189288.0\n",
       "경기   2022-01-14  v2    11361626.0\n",
       "                 v1      11635521\n",
       "                 v3     5594786.0\n",
       "충남   2022-01-14  v2     1821328.0\n",
       "                 v1       1867376\n",
       "                 v3      993122.0\n",
       "강원   2022-01-14  v2     1301351.0\n",
       "                 v1       1330362\n",
       "                 v3      760673.0\n",
       "울산   2022-01-14  v2      927850.0\n",
       "                 v1        955638\n",
       "                 v3      448125.0\n",
       "대구   2022-01-13  v2     1929408.0\n",
       "                 v1       1993851\n",
       "                 v3      911366.0\n",
       "부산   2022-01-14  v2     2774965.0\n",
       "                 v1       2845893\n",
       "                 v3     1478167.0\n",
       "광주   2022-01-18  v2     1220758.0\n",
       "                 v1       1247764\n",
       "                 v3      682394.0\n",
       "경기   2022-01-18  v2    11414202.0\n",
       "                 v1      11652853\n",
       "                 v3     5970505.0\n",
       "경북   2022-01-13  v2     2187682.0\n",
       "                 v1       2256335\n",
       "                 v3     1171548.0\n",
       "전북   2022-01-13  v2     1537974.0\n",
       "                 v1       1572742\n",
       "                 v3      901988.0\n",
       "부산   2022-01-18  v2     2788089.0\n",
       "                 v1       2849093\n",
       "                 v3     1554554.0\n",
       "세종   2022-01-14  v2      280462.0\n",
       "                 v1        289820\n",
       "                 v3      130110.0\n",
       "충남   2022-01-13  v2     1817963.0\n",
       "                 v1       1866552\n",
       "                 v3      978013.0\n",
       "경남   2022-01-18  v2     2783896.0\n",
       "                 v1       2848083\n",
       "                 v3     1517240.0\n",
       "경기   2022-01-13  v2    11342341.0\n",
       "                 v1      11630764\n",
       "                 v3     5506349.0\n",
       "울산   2022-01-13  v2      925527.0\n",
       "                 v1        955163\n",
       "                 v3      438364.0\n",
       "광주   2022-01-13  v2     1210797.0\n",
       "                 v1       1245589\n",
       "                 v3      627862.0\n",
       "충북   2022-01-14  v2     1372898.0\n",
       "                 v1       1406790\n",
       "                 v3      741602.0\n",
       "대전   2022-01-13  v2     1194853.0\n",
       "                 v1       1229214\n",
       "                 v3      582248.0\n",
       "     2022-01-18  v2     1203724.0\n",
       "                 v1       1231435\n",
       "                 v3      628469.0\n",
       "경북   2022-01-18  v2     2202814.0\n",
       "                 v1       2260963\n",
       "                 v3     1247047.0\n",
       "인천   2022-01-13  v2     2469722.0\n",
       "                 v1       2528331\n",
       "                 v3     1229883.0\n",
       "광주   2022-01-14  v2     1213744.0\n",
       "                 v1       1246121\n",
       "                 v3      637801.0\n",
       "경남   2022-01-14  v2     2769699.0\n",
       "                 v1       2844520\n",
       "                 v3     1438779.0\n",
       "울산   2022-01-18  v2      933311.0\n",
       "                 v1        956895\n",
       "                 v3      476692.0\n",
       "제주   2022-01-14  v2      563328.0\n",
       "                 v1        579741\n",
       "                 v3      281475.0\n",
       "대구   2022-01-18  v2     1945813.0\n",
       "                 v1       1997407\n",
       "                 v3      978794.0\n",
       "서울   2022-01-13  v2     8049504.0\n",
       "                 v1       8227788\n",
       "                 v3     4019205.0\n",
       "전북   2022-01-14  v2     1540820.0\n",
       "                 v1       1573274\n",
       "                 v3      914057.0\n",
       "충남   2022-01-18  v2     1830143.0\n",
       "                 v1       1870124\n",
       "                 v3     1048429.0\n",
       "부산   2022-01-13  v2     2770042.0\n",
       "                 v1       2844871\n",
       "                 v3     1459563.0\n",
       "제주   2022-01-13  v2      561670.0\n",
       "                 v1        579492\n",
       "                 v3      276754.0\n",
       "인천   2022-01-18  v2     2484196.0\n",
       "                 v1       2532911\n",
       "                 v3     1330273.0\n",
       "서울   2022-01-14  v2     8060382.0\n",
       "                 v1       8230606\n",
       "                 v3     4080181.0\n",
       "전남   2022-01-13  v2     1593531.0\n",
       "                 v1       1629691\n",
       "                 v3      974092.0\n",
       "대구   2022-01-14  v2     1934070.0\n",
       "                 v1       1994689\n",
       "                 v3      925128.0\n",
       "서울   2022-01-18  v2     8090244.0\n",
       "                 v1       8239400\n",
       "                 v3     4304485.0\n",
       "전남   2022-01-14  v2     1596385.0\n",
       "                 v1       1630235\n",
       "                 v3      987046.0\n",
       "세종   2022-01-18  v2      282507.0\n",
       "                 v1        290455\n",
       "                 v3      138100.0\n",
       "전남   2022-01-18  v2     1602479.0\n",
       "                 v1       1632045\n",
       "                 v3     1031459.0\n",
       "전북   2022-01-18  v2     1547262.0\n",
       "                 v1       1574779\n",
       "                 v3      958100.0\n",
       "강원   2022-01-18  v2     1306501.0\n",
       "                 v1       1331870\n",
       "                 v3      795269.0\n",
       "대전   2022-01-14  v2     1197407.0\n",
       "                 v1       1229717\n",
       "                 v3      592678.0\n",
       "충북   2022-01-13  v2     1370067.0\n",
       "                 v1       1406214\n",
       "                 v3      729832.0\n",
       "인천   2022-01-14  v2     2473547.0\n",
       "                 v1       2529318\n",
       "                 v3     1249112.0\n",
       "제주   2022-01-18  v2      566811.0\n",
       "                 v1        580579\n",
       "                 v3      295807.0\n",
       "세종   2022-01-13  v2      279762.0\n",
       "                 v1        289674\n",
       "                 v3      127711.0\n",
       "경남   2022-01-13  v2     2763588.0\n",
       "                 v1       2843446\n",
       "                 v3     1417706.0\n",
       "강원   2022-01-13  v2     1298927.0\n",
       "                 v1       1329749\n",
       "                 v3      749363.0\n",
       "충남   2022-01-15  v2     1825332.0\n",
       "                 v1       1868511\n",
       "                 v3     1017953.0\n",
       "부산   2022-01-16  v2     2783249.0\n",
       "                 v1       2847993\n",
       "                 v3     1531196.0\n",
       "충남   2022-01-16  v2     1826570.0\n",
       "                 v1       1869192\n",
       "                 v3     1031055.0\n",
       "충북   2022-01-17  v2     1376810.0\n",
       "                 v1       1408019\n",
       "                 v3      771144.0\n",
       "경남   2022-01-15  v2     2776414.0\n",
       "                 v1       2846130\n",
       "                 v3     1474593.0\n",
       "전남   2022-01-17  v2     1600290.0\n",
       "                 v1       1631390\n",
       "                 v3     1017226.0\n",
       "세종   2022-01-17  v2      281703.0\n",
       "                 v1        290304\n",
       "                 v3      135749.0\n",
       "경남   2022-01-16  v2     2778447.0\n",
       "                 v1       2846948\n",
       "                 v3     1494319.0\n",
       "서울   2022-01-15  v2     8073652.0\n",
       "                 v1       8234238\n",
       "                 v3     4175126.0\n",
       "강원   2022-01-17  v2     1304498.0\n",
       "                 v1       1331333\n",
       "                 v3      783426.0\n",
       "울산   2022-01-15  v2      930201.0\n",
       "                 v1        956188\n",
       "                 v3      461140.0\n",
       "광주   2022-01-15  v2     1217198.0\n",
       "                 v1       1246812\n",
       "                 v3      661037.0\n",
       "대구   2022-01-17  v2     1941145.0\n",
       "                 v1       1996374\n",
       "                 v3      962995.0\n",
       "부산   2022-01-17  v2     2783354.0\n",
       "                 v1       2847953\n",
       "                 v3     1531892.0\n",
       "경남   2022-01-17  v2     2778517.0\n",
       "                 v1       2846949\n",
       "                 v3     1494823.0\n",
       "서울   2022-01-16  v2     8078465.0\n",
       "                 v1       8235942\n",
       "                 v3     4230343.0\n",
       "대전   2022-01-15  v2     1200346.0\n",
       "                 v1       1230543\n",
       "                 v3      609202.0\n",
       "세종   2022-01-16  v2      281623.0\n",
       "                 v1        290246\n",
       "                 v3      135629.0\n",
       "인천   2022-01-17  v2     2480340.0\n",
       "                 v1       2531729\n",
       "                 v3     1306982.0\n",
       "     2022-01-16  v2     2480078.0\n",
       "                 v1       2531621\n",
       "                 v3     1305535.0\n",
       "전북   2022-01-17  v2     1544881.0\n",
       "                 v1       1574236\n",
       "                 v3      943798.0\n",
       "부산   2022-01-15  v2     2781230.0\n",
       "                 v1       2847265\n",
       "                 v3     1511528.0\n",
       "대구   2022-01-16  v2     1941088.0\n",
       "                 v1       1996434\n",
       "                 v3      962749.0\n",
       "전북   2022-01-15  v2     1543969.0\n",
       "                 v1       1573966\n",
       "                 v3      933145.0\n",
       "인천   2022-01-15  v2     2478165.0\n",
       "                 v1       2530654\n",
       "                 v3     1282656.0\n",
       "제주   2022-01-16  v2      565511.0\n",
       "                 v1        580252\n",
       "                 v3      290790.0\n",
       "전남   2022-01-15  v2     1599517.0\n",
       "                 v1       1631047\n",
       "                 v3     1007985.0\n",
       "충남   2022-01-17  v2     1826751.0\n",
       "                 v1       1869256\n",
       "                 v3     1031798.0\n",
       "울산   2022-01-16  v2      930920.0\n",
       "                 v1        956453\n",
       "                 v3      466960.0\n",
       "대전   2022-01-16  v2     1201356.0\n",
       "                 v1       1230936\n",
       "                 v3      617893.0\n",
       "경기   2022-01-17  v2    11395833.0\n",
       "                 v1      11647430\n",
       "                 v3     5864935.0\n",
       "서울   2022-01-17  v2     8078945.0\n",
       "                 v1       8235941\n",
       "                 v3     4233567.0\n",
       "충북   2022-01-15  v2     1375764.0\n",
       "                 v1       1407536\n",
       "                 v3      760611.0\n",
       "울산   2022-01-17  v2      930969.0\n",
       "                 v1        956456\n",
       "                 v3      467195.0\n",
       "충북   2022-01-16  v2     1376714.0\n",
       "                 v1       1407989\n",
       "                 v3      770608.0\n",
       "강원   2022-01-16  v2     1304466.0\n",
       "                 v1       1331330\n",
       "                 v3      783255.0\n",
       "대구   2022-01-15  v2     1939414.0\n",
       "                 v1       1995815\n",
       "                 v3      948537.0\n",
       "제주   2022-01-17  v2      565580.0\n",
       "                 v1        580267\n",
       "                 v3      291011.0\n",
       "     2022-01-15  v2      565008.0\n",
       "                 v1        580074\n",
       "                 v3      287633.0\n",
       "광주   2022-01-17  v2     1218249.0\n",
       "                 v1       1247205\n",
       "                 v3      670897.0\n",
       "     2022-01-16  v2     1218225.0\n",
       "                 v1       1247210\n",
       "                 v3      670738.0\n",
       "세종   2022-01-15  v2      281209.0\n",
       "                 v1        290049\n",
       "                 v3      133791.0\n",
       "경북   2022-01-17  v2     2198127.0\n",
       "                 v1       2259821\n",
       "                 v3     1228384.0\n",
       "경기   2022-01-15  v2    11384397.0\n",
       "                 v1      11642409\n",
       "                 v3     5758621.0\n",
       "     2022-01-16  v2    11394192.0\n",
       "                 v1      11646846\n",
       "                 v3     5857547.0\n",
       "전북   2022-01-16  v2     1544854.0\n",
       "                 v1       1574264\n",
       "                 v3      943494.0\n",
       "강원   2022-01-15  v2     1303832.0\n",
       "                 v1       1330984\n",
       "                 v3      776935.0\n",
       "전남   2022-01-16  v2     1600246.0\n",
       "                 v1       1631382\n",
       "                 v3     1016957.0\n",
       "경북   2022-01-15  v2     2196640.0\n",
       "                 v1       2259004\n",
       "                 v3     1215461.0\n",
       "대전   2022-01-17  v2     1201442.0\n",
       "                 v1       1230930\n",
       "                 v3      618181.0\n",
       "경북   2022-01-16  v2     2198022.0\n",
       "                 v1       2259768\n",
       "                 v3     1228010.0\n",
       "dtype: object"
      ]
     },
     "execution_count": 14,
     "metadata": {},
     "output_type": "execute_result"
    },
    {
     "data": {
      "text/plain": [
       "pyspark.pandas.series.Series"
      ]
     },
     "execution_count": 14,
     "metadata": {},
     "output_type": "execute_result"
    }
   ],
   "source": [
    "pdcoVacV1 = pdcoVac.stack()\n",
    "pdcoVacV1\n",
    "type(pdcoVacV1)"
   ]
  },
  {
   "cell_type": "code",
   "execution_count": 15,
   "id": "5a79465b-b111-45ce-b128-f985708e4af9",
   "metadata": {},
   "outputs": [
    {
     "name": "stderr",
     "output_type": "stream",
     "text": [
      "                                                                                "
     ]
    },
    {
     "data": {
      "text/plain": [
       "MultiIndex([('충북', '2022-01-18', 'v2'),\n",
       "            ('충북', '2022-01-18', 'v1'),\n",
       "            ('충북', '2022-01-18', 'v3'),\n",
       "            ('경북', '2022-01-14', 'v2'),\n",
       "            ('경북', '2022-01-14', 'v1'),\n",
       "            ('경북', '2022-01-14', 'v3'),\n",
       "            ('경기', '2022-01-14', 'v2'),\n",
       "            ('경기', '2022-01-14', 'v1'),\n",
       "            ('경기', '2022-01-14', 'v3'),\n",
       "            ('충남', '2022-01-14', 'v2'),\n",
       "            ...\n",
       "            ('전남', '2022-01-16', 'v3'),\n",
       "            ('경북', '2022-01-15', 'v2'),\n",
       "            ('경북', '2022-01-15', 'v1'),\n",
       "            ('경북', '2022-01-15', 'v3'),\n",
       "            ('대전', '2022-01-17', 'v2'),\n",
       "            ('대전', '2022-01-17', 'v1'),\n",
       "            ('대전', '2022-01-17', 'v3'),\n",
       "            ('경북', '2022-01-16', 'v2'),\n",
       "            ('경북', '2022-01-16', 'v1'),\n",
       "            ('경북', '2022-01-16', 'v3')],\n",
       "           names=['loc', 'std_day', None], length=306)"
      ]
     },
     "execution_count": 15,
     "metadata": {},
     "output_type": "execute_result"
    }
   ],
   "source": [
    "pdcoVac = pdcoVacV1.to_dataframe('V_CNT')\n",
    "pdcoVac.index"
   ]
  },
  {
   "cell_type": "code",
   "execution_count": 16,
   "id": "92745f07-3d97-4962-8623-d850a879e9d6",
   "metadata": {},
   "outputs": [
    {
     "name": "stderr",
     "output_type": "stream",
     "text": [
      "                                                                                "
     ]
    },
    {
     "data": {
      "text/html": [
       "<div>\n",
       "<style scoped>\n",
       "    .dataframe tbody tr th:only-of-type {\n",
       "        vertical-align: middle;\n",
       "    }\n",
       "\n",
       "    .dataframe tbody tr th {\n",
       "        vertical-align: top;\n",
       "    }\n",
       "\n",
       "    .dataframe thead th {\n",
       "        text-align: right;\n",
       "    }\n",
       "</style>\n",
       "<table border=\"1\" class=\"dataframe\">\n",
       "  <thead>\n",
       "    <tr style=\"text-align: right;\">\n",
       "      <th></th>\n",
       "      <th>loc</th>\n",
       "      <th>std_day</th>\n",
       "      <th>level_2</th>\n",
       "      <th>V_CNT</th>\n",
       "    </tr>\n",
       "  </thead>\n",
       "  <tbody>\n",
       "    <tr>\n",
       "      <th>0</th>\n",
       "      <td>충북</td>\n",
       "      <td>2022-01-18</td>\n",
       "      <td>v2</td>\n",
       "      <td>1379378.0</td>\n",
       "    </tr>\n",
       "    <tr>\n",
       "      <th>1</th>\n",
       "      <td>충북</td>\n",
       "      <td>2022-01-18</td>\n",
       "      <td>v1</td>\n",
       "      <td>1408620</td>\n",
       "    </tr>\n",
       "    <tr>\n",
       "      <th>2</th>\n",
       "      <td>충북</td>\n",
       "      <td>2022-01-18</td>\n",
       "      <td>v3</td>\n",
       "      <td>783588.0</td>\n",
       "    </tr>\n",
       "    <tr>\n",
       "      <th>3</th>\n",
       "      <td>경북</td>\n",
       "      <td>2022-01-14</td>\n",
       "      <td>v2</td>\n",
       "      <td>2191750.0</td>\n",
       "    </tr>\n",
       "    <tr>\n",
       "      <th>4</th>\n",
       "      <td>경북</td>\n",
       "      <td>2022-01-14</td>\n",
       "      <td>v1</td>\n",
       "      <td>2257551</td>\n",
       "    </tr>\n",
       "  </tbody>\n",
       "</table>\n",
       "</div>"
      ],
      "text/plain": [
       "  loc     std_day level_2      V_CNT\n",
       "0  충북  2022-01-18      v2  1379378.0\n",
       "1  충북  2022-01-18      v1    1408620\n",
       "2  충북  2022-01-18      v3   783588.0\n",
       "3  경북  2022-01-14      v2  2191750.0\n",
       "4  경북  2022-01-14      v1    2257551"
      ]
     },
     "execution_count": 16,
     "metadata": {},
     "output_type": "execute_result"
    }
   ],
   "source": [
    "pdcoVac = pdcoVac.reset_index()\n",
    "pdcoVac.head()"
   ]
  },
  {
   "cell_type": "code",
   "execution_count": 17,
   "id": "5a4d762c-c647-4664-b375-9442372d2ebe",
   "metadata": {},
   "outputs": [],
   "source": [
    "pdcoVac = pdcoVac.rename(columns={\"level_2\":\"V_TH\",\"loc\":\"LOC\", \"std_day\":\"STD_DAY\"})"
   ]
  },
  {
   "cell_type": "code",
   "execution_count": 18,
   "id": "722a221c-bc76-48cb-9526-6b5e223619fa",
   "metadata": {},
   "outputs": [
    {
     "name": "stderr",
     "output_type": "stream",
     "text": [
      "/root/spark/python/pyspark/pandas/utils.py:1016: PandasAPIOnSparkAdviceWarning: If `index_col` is not specified for `to_spark`, the existing index is lost when converting to Spark DataFrame.\n",
      "  warnings.warn(message, PandasAPIOnSparkAdviceWarning)\n",
      "[Stage 26:=============================>                            (1 + 1) / 2]"
     ]
    },
    {
     "name": "stdout",
     "output_type": "stream",
     "text": [
      "+----+----------+----+---------+\n",
      "| LOC|   STD_DAY|V_TH|    V_CNT|\n",
      "+----+----------+----+---------+\n",
      "|충남|2022-01-15|  v2|1825332.0|\n",
      "|충남|2022-01-15|  v1|  1868511|\n",
      "|충남|2022-01-15|  v3|1017953.0|\n",
      "|부산|2022-01-16|  v2|2783249.0|\n",
      "|부산|2022-01-16|  v1|  2847993|\n",
      "|부산|2022-01-16|  v3|1531196.0|\n",
      "|충남|2022-01-16|  v2|1826570.0|\n",
      "|충남|2022-01-16|  v1|  1869192|\n",
      "|충남|2022-01-16|  v3|1031055.0|\n",
      "|충북|2022-01-17|  v2|1376810.0|\n",
      "|충북|2022-01-17|  v1|  1408019|\n",
      "|충북|2022-01-17|  v3| 771144.0|\n",
      "|경남|2022-01-15|  v2|2776414.0|\n",
      "|경남|2022-01-15|  v1|  2846130|\n",
      "|경남|2022-01-15|  v3|1474593.0|\n",
      "|전남|2022-01-17|  v2|1600290.0|\n",
      "|전남|2022-01-17|  v1|  1631390|\n",
      "|전남|2022-01-17|  v3|1017226.0|\n",
      "|세종|2022-01-17|  v2| 281703.0|\n",
      "|세종|2022-01-17|  v1|   290304|\n",
      "+----+----------+----+---------+\n",
      "only showing top 20 rows\n",
      "\n"
     ]
    },
    {
     "name": "stderr",
     "output_type": "stream",
     "text": [
      "                                                                                "
     ]
    }
   ],
   "source": [
    "# pd df -> spark sql db\n",
    "coVacDFv1 = pdcoVac.to_spark()\n",
    "coVacDFv1.show() # 몇차접종인지에 대한 값이 df컬럼의 value로 구성"
   ]
  },
  {
   "cell_type": "code",
   "execution_count": 23,
   "id": "597b0f5a-b266-4134-a2b6-a24f90c369c9",
   "metadata": {},
   "outputs": [
    {
     "name": "stdout",
     "output_type": "stream",
     "text": [
      "root\n",
      " |-- LOC: string (nullable = true)\n",
      " |-- STD_DAY: string (nullable = true)\n",
      " |-- V_TH: string (nullable = false)\n",
      " |-- V_CNT: string (nullable = true)\n",
      "\n"
     ]
    }
   ],
   "source": [
    "coVacDFv1.printSchema()"
   ]
  },
  {
   "cell_type": "code",
   "execution_count": 26,
   "id": "fc87614e-071d-457e-976f-09185eca9882",
   "metadata": {},
   "outputs": [
    {
     "name": "stderr",
     "output_type": "stream",
     "text": [
      "                                                                                "
     ]
    }
   ],
   "source": [
    "coVacDFv1.write.jdbc(url=JDBC['url'], table='CORONA_VACCINE', mode='append', properties=JDBC['props'])"
   ]
  },
  {
   "cell_type": "markdown",
   "id": "03245ea0",
   "metadata": {
    "jp-MarkdownHeadingCollapsed": true
   },
   "source": [
    "### 4. LOC_FACILITY_CNT\t테이블 저장\n",
    "- 주기적 수집 data X\n",
    "- 파일 자료가 다중이용시설 상호별로 되어있음\n",
    "- 광역시도별 개수 세어서 저장"
   ]
  },
  {
   "cell_type": "code",
   "execution_count": 24,
   "id": "f0c99a8a",
   "metadata": {
    "scrolled": true
   },
   "outputs": [
    {
     "name": "stderr",
     "output_type": "stream",
     "text": [
      "                                                                                "
     ]
    }
   ],
   "source": [
    "# https://www.data.go.kr/data/15093402/fileData.do#tab-layer-file\n",
    "facil = spark.read.csv('/corona_data/tmp/전국다중이용시설.csv', encoding='CP949', header=True)"
   ]
  },
  {
   "cell_type": "code",
   "execution_count": 25,
   "id": "9d02f352-f196-4cb1-9490-dce9e33a8117",
   "metadata": {},
   "outputs": [
    {
     "name": "stdout",
     "output_type": "stream",
     "text": [
      "+----+----+------+------------------+--------------+----------------+\n",
      "|연도|광역|시군구|            시설명|사업자등록번호|          시설군|\n",
      "+----+----+------+------------------+--------------+----------------+\n",
      "|2020|강원|강릉시|  (주)경포솔향온천|  127-86-57613|          목욕장|\n",
      "|2020|강원|강릉시|    24시황실사우나|  226-33-03247|          목욕장|\n",
      "|2020|강원|강릉시|      강릉고려병원|  226-82-03662|        의료기관|\n",
      "|2020|강원|강릉시|강릉고속버스터미널|  219-81-01636|여객자동차터미널|\n",
      "|2020|강원|강릉시|    강릉교육문화관|  226-83-03107|          도서관|\n",
      "+----+----+------+------------------+--------------+----------------+\n",
      "only showing top 5 rows\n",
      "\n"
     ]
    },
    {
     "name": "stderr",
     "output_type": "stream",
     "text": [
      "                                                                                "
     ]
    }
   ],
   "source": [
    "facil.show(5)"
   ]
  },
  {
   "cell_type": "code",
   "execution_count": 26,
   "id": "ec0bd13a-7dd6-4cae-8b5f-50a5dd9c1967",
   "metadata": {},
   "outputs": [],
   "source": [
    "facCnt = facil.groupby(col('광역').alias('LOC'))\\\n",
    "              .agg(count('*').alias('FAC_CNT'))  #모여있는 레코드 자체가 몇개인지 세는 코드"
   ]
  },
  {
   "cell_type": "code",
   "execution_count": 27,
   "id": "fc00b26d-3752-4249-a43c-e818cc11ac46",
   "metadata": {},
   "outputs": [
    {
     "name": "stdout",
     "output_type": "stream",
     "text": [
      "root\n",
      " |-- LOC: string (nullable = true)\n",
      " |-- FAC_CNT: long (nullable = false)\n",
      "\n"
     ]
    },
    {
     "name": "stderr",
     "output_type": "stream",
     "text": [
      "[Stage 43:>                                                         (0 + 1) / 1]"
     ]
    },
    {
     "name": "stdout",
     "output_type": "stream",
     "text": [
      "+----+-------+\n",
      "| LOC|FAC_CNT|\n",
      "+----+-------+\n",
      "|경북|    944|\n",
      "+----+-------+\n",
      "only showing top 1 row\n",
      "\n"
     ]
    },
    {
     "name": "stderr",
     "output_type": "stream",
     "text": [
      "                                                                                "
     ]
    }
   ],
   "source": [
    "facCnt.printSchema()\n",
    "facCnt.show(1)"
   ]
  },
  {
   "cell_type": "code",
   "execution_count": 30,
   "id": "40773ae7-2cb1-4481-85bd-92013479ed9b",
   "metadata": {},
   "outputs": [
    {
     "name": "stderr",
     "output_type": "stream",
     "text": [
      "                                                                                "
     ]
    }
   ],
   "source": [
    "facCnt.write.jdbc(url=JDBC['url'], table='LOC_FACILITY', mode='overwrite', properties=JDBC['props'])"
   ]
  },
  {
   "attachments": {
    "b35443f7-6c94-4aa3-9855-45061f481189.png": {
     "image/png": "[encoded data removed]"
    }
   },
   "cell_type": "markdown",
   "id": "7c86b520-220c-490d-8299-2b01c1715e9e",
   "metadata": {},
   "source": [
    "![image.png](attachment:b35443f7-6c94-4aa3-9855-45061f481189.png)"
   ]
  }
 ],
 "metadata": {
  "kernelspec": {
   "display_name": "Python 3 (ipykernel)",
   "language": "python",
   "name": "python3"
  },
  "language_info": {
   "codemirror_mode": {
    "name": "ipython",
    "version": 3
   },
   "file_extension": ".py",
   "mimetype": "text/x-python",
   "name": "python",
   "nbconvert_exporter": "python",
   "pygments_lexer": "ipython3",
   "version": "3.10.12"
  },
  "vscode": {
   "interpreter": {
    "hash": "377b85fccf01b1fe6a959144825e6c17ac3718c2615da119d71a1f46ada91329"
   }
  }
 },
 "nbformat": 4,
 "nbformat_minor": 5
}
