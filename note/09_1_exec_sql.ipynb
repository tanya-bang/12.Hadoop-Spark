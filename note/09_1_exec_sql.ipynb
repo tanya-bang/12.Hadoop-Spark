{
 "cells": [
  {
   "cell_type": "code",
   "execution_count": 3,
   "id": "d099dea7-8d85-4f9b-b4c9-fb0f95421522",
   "metadata": {},
   "outputs": [],
   "source": [
    "from IPython.core.interactiveshell import InteractiveShell\n",
    "InteractiveShell.ast_node_interactivity = \"all\"\n",
    "from pyspark.sql import *\n",
    "from pyspark.sql.types import *\n",
    "from pyspark.sql.functions import *"
   ]
  },
  {
   "cell_type": "code",
   "execution_count": 1,
   "id": "9b5d5348-3b4e-4b7b-9e08-56b296306675",
   "metadata": {},
   "outputs": [],
   "source": [
    "stocks = [\n",
    "    ('Google', 'GOOGL', 'USA', 2984, 'USD'), \n",
    "    ('Netflix', 'NFLX', 'USA', 645, 'USD'),\n",
    "    ('Amazon', 'AMZN', 'USA', 3518, 'USD'),\n",
    "    ('Tesla', 'TSLA', 'USA', 1222, 'USD'),\n",
    "    ('Tencent', '0700', 'Hong Kong', 483, 'HKD'),\n",
    "    ('Toyota', '7203', 'Japan', 2006, 'JPY'),\n",
    "    ('Samsung', '005930', 'Korea', 70600, 'KRW'),\n",
    "    ('Kakao', '035720', 'Korea', 125000, 'KRW'),\n",
    "]\n",
    "stockSchema = [\"name\", \"ticker\", \"country\", \"price\", \"currency\"]\n",
    "df = spark.createDataFrame(data=stocks, schema=stockSchema)"
   ]
  },
  {
   "cell_type": "code",
   "execution_count": 2,
   "id": "9cf7f02b-7c9d-4f41-aafe-05fee1d87822",
   "metadata": {},
   "outputs": [
    {
     "name": "stderr",
     "output_type": "stream",
     "text": [
      "                                                                                "
     ]
    },
    {
     "name": "stdout",
     "output_type": "stream",
     "text": [
      "+-------+------+---------+------+--------+\n",
      "|   name|ticker|  country| price|currency|\n",
      "+-------+------+---------+------+--------+\n",
      "| Google| GOOGL|      USA|  2984|     USD|\n",
      "|Netflix|  NFLX|      USA|   645|     USD|\n",
      "| Amazon|  AMZN|      USA|  3518|     USD|\n",
      "|  Tesla|  TSLA|      USA|  1222|     USD|\n",
      "|Tencent|  0700|Hong Kong|   483|     HKD|\n",
      "| Toyota|  7203|    Japan|  2006|     JPY|\n",
      "|Samsung|005930|    Korea| 70600|     KRW|\n",
      "|  Kakao|035720|    Korea|125000|     KRW|\n",
      "+-------+------+---------+------+--------+\n",
      "\n"
     ]
    }
   ],
   "source": [
    "df.show()"
   ]
  },
  {
   "cell_type": "markdown",
   "id": "dca84348-fba1-4051-9704-7bdcc5f38a30",
   "metadata": {},
   "source": [
    "### DF메소드와 spark sql 두 방법으로 문제풀기\n",
    "- view는 stockV 로 생성"
   ]
  },
  {
   "cell_type": "code",
   "execution_count": null,
   "id": "db0d7f21-279f-43b5-8161-7f2304af95d2",
   "metadata": {},
   "outputs": [],
   "source": [
    "# 1. df에서 name, ticker를 추출하시오"
   ]
  },
  {
   "cell_type": "code",
   "execution_count": 5,
   "id": "8fbf0a6d-a371-46dd-b9dd-5292d3848912",
   "metadata": {},
   "outputs": [
    {
     "name": "stderr",
     "output_type": "stream",
     "text": [
      "[Stage 3:>                                                          (0 + 1) / 1]"
     ]
    },
    {
     "name": "stdout",
     "output_type": "stream",
     "text": [
      "+-------+------+\n",
      "|   name|ticker|\n",
      "+-------+------+\n",
      "| Google| GOOGL|\n",
      "|Netflix|  NFLX|\n",
      "| Amazon|  AMZN|\n",
      "|  Tesla|  TSLA|\n",
      "|Tencent|  0700|\n",
      "| Toyota|  7203|\n",
      "|Samsung|005930|\n",
      "|  Kakao|035720|\n",
      "+-------+------+\n",
      "\n"
     ]
    },
    {
     "name": "stderr",
     "output_type": "stream",
     "text": [
      "                                                                                "
     ]
    }
   ],
   "source": [
    "df.select('name','ticker').show()"
   ]
  },
  {
   "cell_type": "code",
   "execution_count": null,
   "id": "30df5af5-4562-4ffc-8c63-7379984508ff",
   "metadata": {},
   "outputs": [],
   "source": [
    "# 2. df를 stocks 라는 view로 생성하시오 -> stockV로 생성"
   ]
  },
  {
   "cell_type": "code",
   "execution_count": 12,
   "id": "d1617691-91a8-4a08-8c77-abb3065310cd",
   "metadata": {},
   "outputs": [
    {
     "name": "stdout",
     "output_type": "stream",
     "text": [
      "+-------+------+\n",
      "|   name|ticker|\n",
      "+-------+------+\n",
      "| Google| GOOGL|\n",
      "|Netflix|  NFLX|\n",
      "| Amazon|  AMZN|\n",
      "|  Tesla|  TSLA|\n",
      "|Tencent|  0700|\n",
      "| Toyota|  7203|\n",
      "|Samsung|005930|\n",
      "|  Kakao|035720|\n",
      "+-------+------+\n",
      "\n"
     ]
    }
   ],
   "source": [
    "df.createOrReplaceTempView('stockV')\n",
    "spark.sql('''\n",
    "    select name, ticker from stockV\n",
    "''').show()"
   ]
  },
  {
   "cell_type": "code",
   "execution_count": null,
   "id": "7d86ab06-823c-41ef-b887-3ebf7761158b",
   "metadata": {},
   "outputs": [],
   "source": [
    "# 3. view stocks를 사용하여 stocks view의 모든 컬럼을 추출하시오"
   ]
  },
  {
   "cell_type": "code",
   "execution_count": 14,
   "id": "ddca07bd-7b18-4de3-b3ac-8c27473eaea0",
   "metadata": {},
   "outputs": [
    {
     "name": "stdout",
     "output_type": "stream",
     "text": [
      "+-------+------+---------+------+--------+\n",
      "|   name|ticker|  country| price|currency|\n",
      "+-------+------+---------+------+--------+\n",
      "| Google| GOOGL|      USA|  2984|     USD|\n",
      "|Netflix|  NFLX|      USA|   645|     USD|\n",
      "| Amazon|  AMZN|      USA|  3518|     USD|\n",
      "|  Tesla|  TSLA|      USA|  1222|     USD|\n",
      "|Tencent|  0700|Hong Kong|   483|     HKD|\n",
      "| Toyota|  7203|    Japan|  2006|     JPY|\n",
      "|Samsung|005930|    Korea| 70600|     KRW|\n",
      "|  Kakao|035720|    Korea|125000|     KRW|\n",
      "+-------+------+---------+------+--------+\n",
      "\n",
      "+-------+------+---------+------+--------+\n",
      "|   name|ticker|  country| price|currency|\n",
      "+-------+------+---------+------+--------+\n",
      "| Google| GOOGL|      USA|  2984|     USD|\n",
      "|Netflix|  NFLX|      USA|   645|     USD|\n",
      "| Amazon|  AMZN|      USA|  3518|     USD|\n",
      "|  Tesla|  TSLA|      USA|  1222|     USD|\n",
      "|Tencent|  0700|Hong Kong|   483|     HKD|\n",
      "| Toyota|  7203|    Japan|  2006|     JPY|\n",
      "|Samsung|005930|    Korea| 70600|     KRW|\n",
      "|  Kakao|035720|    Korea|125000|     KRW|\n",
      "+-------+------+---------+------+--------+\n",
      "\n"
     ]
    }
   ],
   "source": [
    "df.select('*').show()\n",
    "spark.sql('''\n",
    "    select * from stockV\n",
    "''').show()"
   ]
  },
  {
   "cell_type": "code",
   "execution_count": null,
   "id": "6b991df1-ea4a-4b0b-a397-9dfe6a839234",
   "metadata": {},
   "outputs": [],
   "source": [
    "# 4. stocks view에서 country가 Korea인 data만 추출하시오"
   ]
  },
  {
   "cell_type": "code",
   "execution_count": null,
   "id": "e5114fdf-0648-4f06-9550-68e15dbcf62b",
   "metadata": {},
   "outputs": [],
   "source": [
    "# 5. df에서 country가 Korea인 data를 추출하시오"
   ]
  },
  {
   "cell_type": "code",
   "execution_count": 28,
   "id": "e607841c-9402-45d5-acaa-8d8fc987722e",
   "metadata": {},
   "outputs": [
    {
     "name": "stdout",
     "output_type": "stream",
     "text": [
      "+-------+------+-------+------+--------+\n",
      "|   name|ticker|country| price|currency|\n",
      "+-------+------+-------+------+--------+\n",
      "|Samsung|005930|  Korea| 70600|     KRW|\n",
      "|  Kakao|035720|  Korea|125000|     KRW|\n",
      "+-------+------+-------+------+--------+\n",
      "\n",
      "+-------+------+-------+------+--------+\n",
      "|   name|ticker|country| price|currency|\n",
      "+-------+------+-------+------+--------+\n",
      "|Samsung|005930|  Korea| 70600|     KRW|\n",
      "|  Kakao|035720|  Korea|125000|     KRW|\n",
      "+-------+------+-------+------+--------+\n",
      "\n"
     ]
    },
    {
     "name": "stderr",
     "output_type": "stream",
     "text": [
      "                                                                                "
     ]
    },
    {
     "name": "stdout",
     "output_type": "stream",
     "text": [
      "+-------+------+-------+------+--------+\n",
      "|   name|ticker|country| price|currency|\n",
      "+-------+------+-------+------+--------+\n",
      "|Samsung|005930|  Korea| 70600|     KRW|\n",
      "|  Kakao|035720|  Korea|125000|     KRW|\n",
      "+-------+------+-------+------+--------+\n",
      "\n"
     ]
    }
   ],
   "source": [
    "spark.sql('''\n",
    "    select * from stockV\n",
    "    where country = 'Korea'\n",
    "''').show()\n",
    "\n",
    "df.select('*')\\\n",
    "    .where(col('country') == 'Korea').show()\n",
    "\n",
    "df.select('*').filter(df.country == 'Korea').show()"
   ]
  },
  {
   "cell_type": "code",
   "execution_count": null,
   "id": "94462fbb-0147-4844-8abf-1032b5cbd24c",
   "metadata": {},
   "outputs": [],
   "source": [
    "# 6. stocks view에서 price 갸 2000 초과하고 country가  USA인 데이터의 name과 price를 출력하시오"
   ]
  },
  {
   "cell_type": "code",
   "execution_count": 49,
   "id": "59a53c4a-e81b-41f2-a7ba-4d1e0642cddb",
   "metadata": {},
   "outputs": [],
   "source": [
    "# 7. df에서 price 가 2000 초과하고 country가  USA인 데이터의 name과 price를 출력하시오"
   ]
  },
  {
   "cell_type": "code",
   "execution_count": 32,
   "id": "8f222462-a197-4ed4-900d-c158a0d53544",
   "metadata": {},
   "outputs": [
    {
     "name": "stdout",
     "output_type": "stream",
     "text": [
      "+------+-----+\n",
      "|  name|price|\n",
      "+------+-----+\n",
      "|Google| 2984|\n",
      "|Amazon| 3518|\n",
      "+------+-----+\n",
      "\n",
      "+------+-----+\n",
      "|  name|price|\n",
      "+------+-----+\n",
      "|Google| 2984|\n",
      "|Amazon| 3518|\n",
      "+------+-----+\n",
      "\n"
     ]
    }
   ],
   "source": [
    "spark.sql('''\n",
    "    select name, price from stockV\n",
    "    where price > 2000 and country = 'USA'\n",
    "''').show()\n",
    "\n",
    "df.select('name', 'price')\\\n",
    "    .where((df.price > 2000) & (df.country == 'USA')).show()\n",
    "# select['name','price']"
   ]
  },
  {
   "cell_type": "code",
   "execution_count": null,
   "id": "86ef499a-38a7-41e3-8898-4ac558a3b2bf",
   "metadata": {},
   "outputs": [],
   "source": [
    "# 8. sotocks view에서 country가 U로 시작하는 데이터의 name과 price를 추출하시오"
   ]
  },
  {
   "cell_type": "code",
   "execution_count": null,
   "id": "4bd6bfd1-a74b-49d2-a296-5d6bf0e3023c",
   "metadata": {},
   "outputs": [],
   "source": [
    "# 9. df에서 country가 U로 시작하는 데이터의 name과 price를 추출하시오"
   ]
  },
  {
   "cell_type": "code",
   "execution_count": 52,
   "id": "22aa9123-993d-48e0-b779-e6b38053f62b",
   "metadata": {},
   "outputs": [
    {
     "name": "stdout",
     "output_type": "stream",
     "text": [
      "+-------+-----+\n",
      "|   name|price|\n",
      "+-------+-----+\n",
      "| Google| 2984|\n",
      "|Netflix|  645|\n",
      "| Amazon| 3518|\n",
      "|  Tesla| 1222|\n",
      "+-------+-----+\n",
      "\n",
      "+-------+-----+\n",
      "|   name|price|\n",
      "+-------+-----+\n",
      "| Google| 2984|\n",
      "|Netflix|  645|\n",
      "| Amazon| 3518|\n",
      "|  Tesla| 1222|\n",
      "+-------+-----+\n",
      "\n",
      "+-------+-----+\n",
      "|   name|price|\n",
      "+-------+-----+\n",
      "| Google| 2984|\n",
      "|Netflix|  645|\n",
      "| Amazon| 3518|\n",
      "|  Tesla| 1222|\n",
      "+-------+-----+\n",
      "\n"
     ]
    }
   ],
   "source": [
    "spark.sql('''\n",
    "    select name, price from stockV\n",
    "    where country like('U%')\n",
    "''').show()\n",
    "\n",
    "df.select('name','price')\\\n",
    "    .where(df.country.like('U%')).show()\n",
    "\n",
    "df.filter(df.country.startswith('U'))\\\n",
    "            .select('name','price').show()"
   ]
  },
  {
   "cell_type": "code",
   "execution_count": null,
   "id": "481abdd9-92a2-4f82-9616-b7cbe3802641",
   "metadata": {},
   "outputs": [],
   "source": [
    "# 10. stocks view에서 countr가 'U'로 시작하고 이름에 'e'가 포함되지 않은 데이터의 name과 price를 추출하시오."
   ]
  },
  {
   "cell_type": "code",
   "execution_count": null,
   "id": "6d5deabf-9589-46e8-ae63-ebf2dcb89b1d",
   "metadata": {},
   "outputs": [],
   "source": [
    "# 11. df에서 countr가 'U'로 시작하고 이름에 'e'가 포함되지 않은 데이터의 name과 price를 추출하시오."
   ]
  },
  {
   "cell_type": "code",
   "execution_count": 54,
   "id": "a673f5ae-7306-4bb7-abaa-fe55b0f65509",
   "metadata": {},
   "outputs": [
    {
     "name": "stdout",
     "output_type": "stream",
     "text": [
      "+------+-----+\n",
      "|  name|price|\n",
      "+------+-----+\n",
      "|Amazon| 3518|\n",
      "+------+-----+\n",
      "\n",
      "+------+-----+\n",
      "|  name|price|\n",
      "+------+-----+\n",
      "|Amazon| 3518|\n",
      "+------+-----+\n",
      "\n"
     ]
    }
   ],
   "source": [
    "spark.sql('''\n",
    "    select name, price from stockV\n",
    "    where country like 'U%' and not name like '%e%'\n",
    "''').show()\n",
    "\n",
    "\n",
    "df.select('name','price')\\\n",
    "    .where((df.country.like('U%')) & (~df.name.like('%e%'))).show()"
   ]
  },
  {
   "cell_type": "code",
   "execution_count": null,
   "id": "d1a5534e-b9c1-4fa7-a95b-8b3870802c74",
   "metadata": {},
   "outputs": [],
   "source": [
    "# 12. stocks view에서 price가 1000~10000인 데이터를 추출하시오"
   ]
  },
  {
   "cell_type": "code",
   "execution_count": 48,
   "id": "52fd9bd1-18e0-4165-9526-2dc4ebbf60de",
   "metadata": {},
   "outputs": [
    {
     "name": "stdout",
     "output_type": "stream",
     "text": [
      "+------+------+-------+-----+--------+\n",
      "|  name|ticker|country|price|currency|\n",
      "+------+------+-------+-----+--------+\n",
      "|Google| GOOGL|    USA| 2984|     USD|\n",
      "|Amazon|  AMZN|    USA| 3518|     USD|\n",
      "| Tesla|  TSLA|    USA| 1222|     USD|\n",
      "|Toyota|  7203|  Japan| 2006|     JPY|\n",
      "+------+------+-------+-----+--------+\n",
      "\n",
      "+------+------+-------+-----+--------+\n",
      "|  name|ticker|country|price|currency|\n",
      "+------+------+-------+-----+--------+\n",
      "|Google| GOOGL|    USA| 2984|     USD|\n",
      "|Amazon|  AMZN|    USA| 3518|     USD|\n",
      "| Tesla|  TSLA|    USA| 1222|     USD|\n",
      "|Toyota|  7203|  Japan| 2006|     JPY|\n",
      "+------+------+-------+-----+--------+\n",
      "\n"
     ]
    }
   ],
   "source": [
    "spark.sql('''\n",
    "    select * from stockV\n",
    "    where price between 1000 and 10000 \n",
    "''').show()\n",
    "\n",
    "df.select('*')\\\n",
    "    .where(col('price').between(1000, 10000))\\\n",
    "    .show()"
   ]
  },
  {
   "cell_type": "code",
   "execution_count": null,
   "id": "81eb7d36-8332-431e-9321-6074bc85a1e2",
   "metadata": {},
   "outputs": [],
   "source": []
  }
 ],
 "metadata": {
  "kernelspec": {
   "display_name": "Python 3 (ipykernel)",
   "language": "python",
   "name": "python3"
  },
  "language_info": {
   "codemirror_mode": {
    "name": "ipython",
    "version": 3
   },
   "file_extension": ".py",
   "mimetype": "text/x-python",
   "name": "python",
   "nbconvert_exporter": "python",
   "pygments_lexer": "ipython3",
   "version": "3.10.12"
  }
 },
 "nbformat": 4,
 "nbformat_minor": 5
}
