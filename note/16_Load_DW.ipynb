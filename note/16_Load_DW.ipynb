{
 "cells": [
  {
   "cell_type": "code",
   "execution_count": 2,
   "id": "ffee0de2",
   "metadata": {},
   "outputs": [],
   "source": [
    "from IPython.core.interactiveshell import InteractiveShell\n",
    "InteractiveShell.ast_node_interactivity = \"all\""
   ]
  },
  {
   "cell_type": "code",
   "execution_count": 3,
   "id": "f95e956f",
   "metadata": {},
   "outputs": [],
   "source": [
    "# matplotlib 한글 꺠짐 방지\n",
    "# apt-get update\n",
    "# apt-get install fonts-nanum* \n",
    "# apt-get install fontconfig\n",
    "# fc-cache -fv  # font 캐시 날리기\n",
    "# rm -rf /root/.cache/matplotlib/  #matplotliob 폰트 캐시 날리기\n",
    "\n",
    "# jdbc연동에 필요한 jar파일을 클래스 패스와 jar경로에 추가\n",
    "# /root/spark/conf/spark-default.conf 파일 수정\n"
   ]
  },
  {
   "cell_type": "code",
   "execution_count": 25,
   "id": "c51acdf3-62cb-4873-aad7-f1e987744ad5",
   "metadata": {},
   "outputs": [
    {
     "name": "stdout",
     "output_type": "stream",
     "text": [
      "Collecting pymysql\n",
      "  Downloading PyMySQL-1.1.0-py3-none-any.whl (44 kB)\n",
      "\u001b[K     |████████████████████████████████| 44 kB 1.6 MB/s  eta 0:00:01\n",
      "\u001b[?25hInstalling collected packages: pymysql\n",
      "Successfully installed pymysql-1.1.0\n"
     ]
    }
   ],
   "source": [
    "!pip install pymysql\n"
   ]
  },
  {
   "cell_type": "code",
   "execution_count": null,
   "id": "d1457096-d203-4ac7-8a09-a4c3be7f559a",
   "metadata": {},
   "outputs": [],
   "source": [
    "## 새로 user 생성 후 접속해야 함\n",
    "mysql> create user bigMysql@'%' identified by 'bigMysql1234@';\n",
    "mysql> grant all privileges on *.* to bigMysql@'%' with grant option;\n",
    "## 사용할 database 생성\n",
    "mysql> create database etlmysql_root;"
   ]
  },
  {
   "cell_type": "code",
   "execution_count": 28,
   "id": "83becb1c-1b81-419b-9eee-a46750113d24",
   "metadata": {},
   "outputs": [],
   "source": [
    "import pymysql\n"
   ]
  },
  {
   "cell_type": "code",
   "execution_count": 4,
   "id": "913eefb5",
   "metadata": {},
   "outputs": [],
   "source": [
    "from datetime import date, datetime\n",
    "from pyspark.sql.types import *\n",
    "from pyspark.sql.functions import *\n",
    "from pyspark.sql import *\n",
    "import datetime as dt\n",
    "import pandas as pd\n",
    "import matplotlib.pyplot as plt #그래프 패키지 모듈 등록\n",
    "%matplotlib inline \n"
   ]
  },
  {
   "cell_type": "code",
   "execution_count": 5,
   "id": "1365bb78",
   "metadata": {},
   "outputs": [],
   "source": []
  },
  {
   "cell_type": "code",
   "execution_count": 6,
   "id": "a4af10ef",
   "metadata": {},
   "outputs": [],
   "source": [
    "import platform\n",
    "\n",
    "from matplotlib import font_manager, rc\n",
    "plt.rcParams['axes.unicode_minus'] = False\n",
    "\n",
    "if platform.system() == 'Darwin':  # 맥OS \n",
    "    rc('font', family='AppleGothic')\n",
    "elif platform.system() == 'Windows':  # 윈도우\n",
    "    path = \"c:/Windows/Fonts/malgun.ttf\"\n",
    "    font_name = font_manager.FontProperties(fname=path).get_name()\n",
    "    rc('font', family=font_name)\n",
    "else:\n",
    "    rc('font', family='NanumGothic')"
   ]
  },
  {
   "cell_type": "markdown",
   "id": "7e8685f5",
   "metadata": {},
   "source": [
    "## Load - DataWareHouse"
   ]
  },
  {
   "cell_type": "markdown",
   "id": "6d7a7b04",
   "metadata": {},
   "source": [
    "## JDBC DICT"
   ]
  },
  {
   "cell_type": "code",
   "execution_count": 29,
   "id": "ed1047ac",
   "metadata": {},
   "outputs": [],
   "source": [
    "JDBC = {\n",
    "      'url':'jdbc:mysql://localhost:3306/etlmysql_root?characterEncoding=utf8&serverTimezone=Asia/Seoul'\n",
    "     ,'props':{\n",
    "      'user':'bigMysql',\n",
    "      'password':'bigMysql1234@'   \n",
    "      }\n",
    "}\n"
   ]
  },
  {
   "cell_type": "markdown",
   "id": "990a7f53",
   "metadata": {},
   "source": [
    "### 1. LOC 테이블 저장"
   ]
  },
  {
   "cell_type": "code",
   "execution_count": 18,
   "id": "76178a57",
   "metadata": {},
   "outputs": [],
   "source": []
  },
  {
   "cell_type": "code",
   "execution_count": null,
   "id": "40859fc6-66ae-4dd9-a2b7-ddf8f82d9096",
   "metadata": {},
   "outputs": [],
   "source": []
  },
  {
   "cell_type": "markdown",
   "id": "c5bb44f2-bf85-4ac3-8e63-8ec2c8b2ee81",
   "metadata": {},
   "source": [
    "- mode : overwrite (기존 테이블 있으면 새로운 레코드 덮어쓰기)"
   ]
  },
  {
   "cell_type": "code",
   "execution_count": null,
   "id": "67dfc793-a2ef-46de-89c9-b871cbfbca2c",
   "metadata": {},
   "outputs": [],
   "source": []
  },
  {
   "cell_type": "markdown",
   "id": "1056b46f",
   "metadata": {},
   "source": [
    "### 2. 테이블 저장"
   ]
  },
  {
   "cell_type": "code",
   "execution_count": null,
   "id": "2ab933fe",
   "metadata": {},
   "outputs": [],
   "source": []
  },
  {
   "cell_type": "code",
   "execution_count": null,
   "id": "28ce4359",
   "metadata": {},
   "outputs": [],
   "source": []
  },
  {
   "cell_type": "markdown",
   "id": "4a66f81a-da5a-458b-a398-546ba322c97d",
   "metadata": {},
   "source": [
    "- mode : append (기존 테이블 있으면 테이블에 레코드 추가)"
   ]
  },
  {
   "cell_type": "code",
   "execution_count": null,
   "id": "0ed75e17",
   "metadata": {},
   "outputs": [],
   "source": []
  },
  {
   "cell_type": "markdown",
   "id": "45905379",
   "metadata": {},
   "source": [
    "### 3.  테이블 저장"
   ]
  },
  {
   "cell_type": "code",
   "execution_count": null,
   "id": "c7657152",
   "metadata": {},
   "outputs": [],
   "source": []
  },
  {
   "cell_type": "code",
   "execution_count": null,
   "id": "5791e38c-a1df-4aca-909a-af2a9943e99d",
   "metadata": {},
   "outputs": [],
   "source": []
  },
  {
   "cell_type": "code",
   "execution_count": null,
   "id": "7826f03e-3e08-41c8-967b-6604c356bdfc",
   "metadata": {},
   "outputs": [],
   "source": []
  },
  {
   "cell_type": "code",
   "execution_count": null,
   "id": "ee5b6cb2-9fb6-4de5-bfbe-748d1d78ba85",
   "metadata": {},
   "outputs": [],
   "source": []
  },
  {
   "cell_type": "code",
   "execution_count": null,
   "id": "62158afc-a62d-484d-a0b6-db0347698246",
   "metadata": {},
   "outputs": [],
   "source": []
  },
  {
   "cell_type": "code",
   "execution_count": null,
   "id": "113507fe",
   "metadata": {},
   "outputs": [],
   "source": []
  },
  {
   "cell_type": "markdown",
   "id": "03245ea0",
   "metadata": {},
   "source": [
    "### 4. LOC_FACILITY_CNT\t테이블 저장"
   ]
  },
  {
   "cell_type": "code",
   "execution_count": 1,
   "id": "f0c99a8a",
   "metadata": {
    "scrolled": true
   },
   "outputs": [],
   "source": [
    "# https://www.data.go.kr/data/15093402/fileData.do#tab-layer-file\n"
   ]
  },
  {
   "cell_type": "code",
   "execution_count": 2,
   "id": "b23a9791",
   "metadata": {},
   "outputs": [],
   "source": [
    "# facility.printSchema()\n"
   ]
  },
  {
   "cell_type": "code",
   "execution_count": 42,
   "id": "f2cf21bf",
   "metadata": {},
   "outputs": [],
   "source": []
  },
  {
   "attachments": {
    "b35443f7-6c94-4aa3-9855-45061f481189.png": {
     "image/png": "[encoded data removed]"
    }
   },
   "cell_type": "markdown",
   "id": "7c86b520-220c-490d-8299-2b01c1715e9e",
   "metadata": {},
   "source": [
    "![image.png](attachment:b35443f7-6c94-4aa3-9855-45061f481189.png)"
   ]
  }
 ],
 "metadata": {
  "kernelspec": {
   "display_name": "Python 3 (ipykernel)",
   "language": "python",
   "name": "python3"
  },
  "language_info": {
   "codemirror_mode": {
    "name": "ipython",
    "version": 3
   },
   "file_extension": ".py",
   "mimetype": "text/x-python",
   "name": "python",
   "nbconvert_exporter": "python",
   "pygments_lexer": "ipython3",
   "version": "3.11.5"
  },
  "vscode": {
   "interpreter": {
    "hash": "377b85fccf01b1fe6a959144825e6c17ac3718c2615da119d71a1f46ada91329"
   }
  }
 },
 "nbformat": 4,
 "nbformat_minor": 5
}
