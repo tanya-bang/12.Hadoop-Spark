{
 "cells": [
  {
   "cell_type": "code",
   "execution_count": 1,
   "id": "145e9bce",
   "metadata": {},
   "outputs": [],
   "source": [
    "from IPython.core.interactiveshell import InteractiveShell\n",
    "InteractiveShell.ast_node_interactivity = \"all\""
   ]
  },
  {
   "cell_type": "code",
   "execution_count": 2,
   "id": "b629dd36",
   "metadata": {},
   "outputs": [],
   "source": [
    "from datetime import date, datetime\n",
    "from pyspark.sql import *\n",
    "from pyspark.sql.types import *\n",
    "from pyspark.sql.functions import *\n",
    "from pyspark.sql import functions as F"
   ]
  },
  {
   "cell_type": "code",
   "execution_count": 3,
   "id": "669e772e",
   "metadata": {},
   "outputs": [
    {
     "name": "stderr",
     "output_type": "stream",
     "text": [
      "                                                                                "
     ]
    },
    {
     "name": "stdout",
     "output_type": "stream",
     "text": [
      "root\n",
      " |-- class_cd: string (nullable = true)\n",
      " |-- school: string (nullable = true)\n",
      " |-- class_std_cnt: string (nullable = true)\n",
      " |-- loc: string (nullable = true)\n",
      " |-- school_type: string (nullable = true)\n",
      " |-- teaching_type: string (nullable = true)\n",
      "\n",
      "+--------+------+-------------+--------+-----------+-------------+\n",
      "|class_cd|school|class_std_cnt|     loc|school_type|teaching_type|\n",
      "+--------+------+-------------+--------+-----------+-------------+\n",
      "|     6OL| ANKYI|           20|   Urban| Non-public|     Standard|\n",
      "|     ZNS| ANKYI|           21|   Urban| Non-public|     Standard|\n",
      "|     2B1| CCAAW|           18|Suburban| Non-public| Experimental|\n",
      "+--------+------+-------------+--------+-----------+-------------+\n",
      "only showing top 3 rows\n",
      "\n"
     ]
    }
   ],
   "source": [
    "cdf = spark.read.csv('/dataframe/a_class_info.csv', header=True)\n",
    "cdf.printSchema()\n",
    "cdf.show(3)"
   ]
  },
  {
   "cell_type": "code",
   "execution_count": 4,
   "id": "6c0efdba-2a99-4d8e-81b0-3306eec16155",
   "metadata": {},
   "outputs": [
    {
     "data": {
      "text/plain": [
       "pyspark.sql.dataframe.DataFrame"
      ]
     },
     "execution_count": 4,
     "metadata": {},
     "output_type": "execute_result"
    }
   ],
   "source": [
    "type(cdf)"
   ]
  },
  {
   "cell_type": "code",
   "execution_count": 5,
   "id": "501dc3da-5d1d-4aa5-bbf3-8b4c74ee676d",
   "metadata": {},
   "outputs": [
    {
     "data": {
      "text/plain": [
       "['class_cd', 'school', 'class_std_cnt', 'loc', 'school_type', 'teaching_type']"
      ]
     },
     "execution_count": 5,
     "metadata": {},
     "output_type": "execute_result"
    }
   ],
   "source": [
    "cdf.columns"
   ]
  },
  {
   "cell_type": "markdown",
   "id": "ff01aab9-d4f3-4f0d-ad75-6f30a31e4eee",
   "metadata": {},
   "source": [
    "### 각 반 학생수(class_std_cnt)가 평균 반 학생수보다 많은 class의 data를 추출하시오"
   ]
  },
  {
   "cell_type": "markdown",
   "id": "6369fe71-0c1d-4989-9b2c-20beeb83371f",
   "metadata": {},
   "source": [
    "['class_cd', 'school', 'class_std_cnt', 'loc', 'school_type', 'teaching_type']\n",
    "반코드        학교이름   반 학생수       지역    학교형태       교육형태"
   ]
  },
  {
   "cell_type": "code",
   "execution_count": 6,
   "id": "e3f0d2de-8713-4d3c-9033-5d8d4b557c6f",
   "metadata": {},
   "outputs": [],
   "source": [
    "# view 생성\n",
    "cdf.createOrReplaceTempView('class')"
   ]
  },
  {
   "cell_type": "code",
   "execution_count": null,
   "id": "412c6f6b-27af-4437-97ce-7323c81d153c",
   "metadata": {},
   "outputs": [],
   "source": [
    "# spark.sql(\n",
    "    # spark.sql.query문자열\n",
    ")\n",
    "# spark가 쿼리 문자열을 분석(파싱)하고 분석된 결과로 연산계획을 생성"
   ]
  },
  {
   "cell_type": "code",
   "execution_count": 7,
   "id": "ebb081c9-51b0-4642-ba20-afc9946ae22c",
   "metadata": {},
   "outputs": [
    {
     "name": "stderr",
     "output_type": "stream",
     "text": [
      "[Stage 2:>                                                          (0 + 1) / 1]"
     ]
    },
    {
     "name": "stdout",
     "output_type": "stream",
     "text": [
      "+--------+------+-------------+--------+-----------+-------------+\n",
      "|class_cd|school|class_std_cnt|     loc|school_type|teaching_type|\n",
      "+--------+------+-------------+--------+-----------+-------------+\n",
      "|     6OL| ANKYI|           20|   Urban| Non-public|     Standard|\n",
      "|     ZNS| ANKYI|           21|   Urban| Non-public|     Standard|\n",
      "|     2B1| CCAAW|           18|Suburban| Non-public| Experimental|\n",
      "|     EPS| CCAAW|           20|Suburban| Non-public| Experimental|\n",
      "|     IQN| CCAAW|           15|Suburban| Non-public| Experimental|\n",
      "|     PGK| CCAAW|           21|Suburban| Non-public|     Standard|\n",
      "|     UHU| CCAAW|           16|Suburban| Non-public| Experimental|\n",
      "|     UWK| CCAAW|           19|Suburban| Non-public|     Standard|\n",
      "|     A33| CIMBB|           19|   Urban| Non-public|     Standard|\n",
      "|     EID| CIMBB|           21|   Urban| Non-public|     Standard|\n",
      "|     HUJ| CIMBB|           17|   Urban| Non-public| Experimental|\n",
      "|     PC6| CIMBB|           17|   Urban| Non-public|     Standard|\n",
      "|     1Q1| CUQAM|           28|   Urban|     Public|     Standard|\n",
      "|     BFY| CUQAM|           27|   Urban|     Public|     Standard|\n",
      "|     OMI| CUQAM|           28|   Urban|     Public|     Standard|\n",
      "|     X6Z| CUQAM|           24|   Urban|     Public| Experimental|\n",
      "|     2AP| DNQDD|           27|Suburban|     Public|     Standard|\n",
      "|     PW5| DNQDD|           20|Suburban|     Public| Experimental|\n",
      "|     ROP| DNQDD|           28|Suburban|     Public| Experimental|\n",
      "|     ST7| DNQDD|           20|Suburban|     Public|     Standard|\n",
      "+--------+------+-------------+--------+-----------+-------------+\n",
      "only showing top 20 rows\n",
      "\n"
     ]
    },
    {
     "name": "stderr",
     "output_type": "stream",
     "text": [
      "                                                                                "
     ]
    }
   ],
   "source": [
    "cdf.show()"
   ]
  },
  {
   "cell_type": "code",
   "execution_count": 9,
   "id": "4d1cdb66-be11-4670-8b59-7cd408e5cfa2",
   "metadata": {},
   "outputs": [],
   "source": [
    "# where 절에서 평균 반 학생수를 구하고 그 값보다 많은 반을 추출\n",
    "# 에러발생 : where절에서는 집계함수 사용 불가\n",
    "# spark.sql('''\n",
    "#     select * from class\n",
    "#     where class_std_cnt >= avg(class_std_cnt) and class_std_cnt is not null\n",
    "# ''')"
   ]
  },
  {
   "cell_type": "markdown",
   "id": "d34e3bc7-d733-440f-b378-05c17265a54e",
   "metadata": {},
   "source": [
    "- subquery 사용 : ()로 우선순위 높여야 함\n",
    "    - where절에서 사용하는 예제\n",
    "  1. subquery 이용 평균 반 학생수를 전달하기\n",
    "  2. where 절에서 반 학생수가 1에서 전달받은 값보다 큰 data 추출"
   ]
  },
  {
   "cell_type": "code",
   "execution_count": 11,
   "id": "e27ee1c7-dcc7-4f73-b171-d22d42cb7161",
   "metadata": {},
   "outputs": [],
   "source": [
    "# school컬럼과 avg(class_std_cnt) 컬럼의 원소수의 차이가 있음 -> df 구성 불가능\n",
    "# spark.sql('select school, avg(class_std_cnt) from class where class_std_cnt is not null').show()"
   ]
  },
  {
   "cell_type": "code",
   "execution_count": 12,
   "id": "1204e7bc-b991-4530-bd21-37fcb6f7781b",
   "metadata": {},
   "outputs": [
    {
     "name": "stdout",
     "output_type": "stream",
     "text": [
      "+------------------+\n",
      "|avg(class_std_cnt)|\n",
      "+------------------+\n",
      "|21.828282828282827|\n",
      "+------------------+\n",
      "\n"
     ]
    }
   ],
   "source": [
    "# 1. subquery - 평균 반 학생수 select 하는 쿼리(select~from~where 구조일때 집계함수는 select 절에만 사용가능)\n",
    "spark.sql('select avg(class_std_cnt) from class where class_std_cnt is not null').show()"
   ]
  },
  {
   "cell_type": "code",
   "execution_count": 12,
   "id": "9cd27bd3-a3f1-427a-9c61-bae250b664d9",
   "metadata": {},
   "outputs": [
    {
     "data": {
      "text/plain": [
       "DataFrame[class_cd: string, school: string, class_std_cnt: string, loc: string, school_type: string, teaching_type: string]"
      ]
     },
     "execution_count": 12,
     "metadata": {},
     "output_type": "execute_result"
    }
   ],
   "source": [
    "#2. 1의 query를 where에 비교 대상으로 사용(subquery 적용)\n",
    "spark.sql('''\n",
    "    select * from class\n",
    "    where class_std_cnt >= (select avg(class_std_cnt) from class) and (class_std_cnt is not null)\n",
    "''')"
   ]
  },
  {
   "cell_type": "markdown",
   "id": "8071b569-5bc0-474a-9d2a-fe202e8d963d",
   "metadata": {},
   "source": [
    "### DF method  사용"
   ]
  },
  {
   "cell_type": "code",
   "execution_count": 11,
   "id": "7484d273-05bb-4a21-af57-687e7d86ef9d",
   "metadata": {},
   "outputs": [],
   "source": [
    "cdf.select('*')\\\n",
    "   .where(cdf.class_std_cnt >= avg(cdf.class_std_cnt))\n",
    "# where절에서 집계함수 사용은 가능하지만\n",
    "# 단, 집계함수가 반환하는 타입이 값이 아닌 row객체 반환\n",
    "# 객체와 값 비교연산 에러 발생, avg(cdf.class_std_cnt)이 코드가 객체 아닌 값으로 명시가 되어야 함 - 연산결과 추출 후 값만 다시 추출"
   ]
  },
  {
   "cell_type": "code",
   "execution_count": 15,
   "id": "ba72e728-35ed-4f0e-ac8f-ebeff4894190",
   "metadata": {},
   "outputs": [
    {
     "data": {
      "text/plain": [
       "pyspark.sql.dataframe.DataFrame"
      ]
     },
     "execution_count": 15,
     "metadata": {},
     "output_type": "execute_result"
    },
    {
     "data": {
      "text/plain": [
       "[Row(avg(class_std_cnt)=21.828282828282827)]"
      ]
     },
     "execution_count": 15,
     "metadata": {},
     "output_type": "execute_result"
    },
    {
     "data": {
      "text/plain": [
       "Row(avg(class_std_cnt)=21.828282828282827)"
      ]
     },
     "execution_count": 15,
     "metadata": {},
     "output_type": "execute_result"
    },
    {
     "data": {
      "text/plain": [
       "21.828282828282827"
      ]
     },
     "execution_count": 15,
     "metadata": {},
     "output_type": "execute_result"
    }
   ],
   "source": [
    "type(cdf.select(avg('class_std_cnt'))) # df\n",
    "cdf.select(avg('class_std_cnt')).collect() # 연산결과 반환 - 파이썬 리스트로 반환\n",
    "cdf.select(avg('class_std_cnt')).collect()[0]\n",
    "cdf.select(avg('class_std_cnt')).collect()[0][0]\n"
   ]
  },
  {
   "cell_type": "code",
   "execution_count": 17,
   "id": "94a0b99e-16bd-45c3-b5d2-db913eaf04ca",
   "metadata": {},
   "outputs": [
    {
     "name": "stdout",
     "output_type": "stream",
     "text": [
      "+--------+------+-------------+-----+-----------+-------------+\n",
      "|class_cd|school|class_std_cnt|  loc|school_type|teaching_type|\n",
      "+--------+------+-------------+-----+-----------+-------------+\n",
      "|     1Q1| CUQAM|           28|Urban|     Public|     Standard|\n",
      "|     BFY| CUQAM|           27|Urban|     Public|     Standard|\n",
      "+--------+------+-------------+-----+-----------+-------------+\n",
      "only showing top 2 rows\n",
      "\n"
     ]
    }
   ],
   "source": [
    "# df method 사용\n",
    "cdf.select('*')\\\n",
    "   .where(cdf.class_std_cnt >= cdf.select(avg('class_std_cnt')).collect()[0][0]).show(2)"
   ]
  },
  {
   "cell_type": "code",
   "execution_count": null,
   "id": "66bfcf89-889e-4d37-bbc0-60176c416460",
   "metadata": {},
   "outputs": [],
   "source": []
  },
  {
   "cell_type": "markdown",
   "id": "226634b7",
   "metadata": {},
   "source": [
    "### 복잡한 연산도 해보자"
   ]
  },
  {
   "cell_type": "markdown",
   "id": "efea6ec5-07d7-426d-b455-3e34609499e0",
   "metadata": {},
   "source": [
    "#### case 0. 학교가 가장 많이 위치한 지역의 학생 수 총합과, 가장 적게 위치한 지역의 학생 수 총 합 간의 차이를 구해보자\n",
    "- 단, 지역정보가 없는 데이터는 제외한다"
   ]
  },
  {
   "cell_type": "code",
   "execution_count": 20,
   "id": "a6568b9a-3e47-4009-99a7-7ba91c6c7d4e",
   "metadata": {},
   "outputs": [
    {
     "name": "stdout",
     "output_type": "stream",
     "text": [
      "+--------+------+-------------+--------+-----------+-------------+\n",
      "|class_cd|school|class_std_cnt|     loc|school_type|teaching_type|\n",
      "+--------+------+-------------+--------+-----------+-------------+\n",
      "|     6OL| ANKYI|           20|   Urban| Non-public|     Standard|\n",
      "|     ZNS| ANKYI|           21|   Urban| Non-public|     Standard|\n",
      "|     2B1| CCAAW|           18|Suburban| Non-public| Experimental|\n",
      "|     EPS| CCAAW|           20|Suburban| Non-public| Experimental|\n",
      "|     IQN| CCAAW|           15|Suburban| Non-public| Experimental|\n",
      "|     PGK| CCAAW|           21|Suburban| Non-public|     Standard|\n",
      "|     UHU| CCAAW|           16|Suburban| Non-public| Experimental|\n",
      "|     UWK| CCAAW|           19|Suburban| Non-public|     Standard|\n",
      "|     A33| CIMBB|           19|   Urban| Non-public|     Standard|\n",
      "|     EID| CIMBB|           21|   Urban| Non-public|     Standard|\n",
      "+--------+------+-------------+--------+-----------+-------------+\n",
      "only showing top 10 rows\n",
      "\n"
     ]
    }
   ],
   "source": [
    "cdf.show(10)"
   ]
  },
  {
   "cell_type": "markdown",
   "id": "f5fd4eba-4976-42bd-8c49-6d4c267311d8",
   "metadata": {},
   "source": [
    "- DF 모듈 활용"
   ]
  },
  {
   "cell_type": "markdown",
   "id": "31c4fa64-574d-4830-89fa-4c6af23951be",
   "metadata": {},
   "source": [
    "#### count('컬럼')\n",
    "- 중복을 포함해서 개수를 셈\n",
    "#### count_distinct('컬럼')  \n",
    "- 중복을 제외하고 개수를 셈"
   ]
  },
  {
   "cell_type": "code",
   "execution_count": 24,
   "id": "2d59fd91-4b21-4b23-9b2e-bd2043603495",
   "metadata": {},
   "outputs": [
    {
     "name": "stdout",
     "output_type": "stream",
     "text": [
      "+--------+----------+\n",
      "|     loc|school_cnt|\n",
      "+--------+----------+\n",
      "|   Urban|        37|\n",
      "|Suburban|        34|\n",
      "|   Rural|        26|\n",
      "+--------+----------+\n",
      "\n"
     ]
    }
   ],
   "source": [
    "cdf.where(cdf.loc.isNotNull())\\\n",
    "    .groupby(cdf.loc)\\\n",
    "    .agg(count('school').alias('school_cnt')).show()"
   ]
  },
  {
   "cell_type": "code",
   "execution_count": 22,
   "id": "4a21059f-4b25-4a0e-a8b7-5654f46e7caf",
   "metadata": {},
   "outputs": [
    {
     "name": "stdout",
     "output_type": "stream",
     "text": [
      "+--------+----------+\n",
      "|     loc|school_cnt|\n",
      "+--------+----------+\n",
      "|   Urban|         9|\n",
      "|Suburban|         7|\n",
      "|   Rural|         7|\n",
      "+--------+----------+\n",
      "\n"
     ]
    }
   ],
   "source": [
    "cdf.where(cdf.loc.isNotNull())\\\n",
    "    .groupby(cdf.loc)\\\n",
    "    .agg(count_distinct('school').alias('school_cnt')).show()"
   ]
  },
  {
   "cell_type": "code",
   "execution_count": 19,
   "id": "c6406aec-540f-401c-8082-58ebe003088c",
   "metadata": {},
   "outputs": [
    {
     "name": "stdout",
     "output_type": "stream",
     "text": [
      "+------+------+\n",
      "|maxCnt|minCnt|\n",
      "+------+------+\n",
      "|    37|    26|\n",
      "+------+------+\n",
      "\n"
     ]
    }
   ],
   "source": [
    "# 학교가 가장 많이 위치한 지역의 학교수와 가장 적게 위치한 지역의 학교수 구해 리스트로 반환\n",
    "cdf.where(cdf.loc.isNotNull())\\\n",
    "    .groupby(cdf.loc)\\\n",
    "    .agg(count('school').alias('school_cnt'))\\\n",
    "    .agg(max('school_cnt').alias('maxCnt'), min('school_cnt').alias('minCnt'))\\\n",
    "    .show()\n",
    "          "
   ]
  },
  {
   "cell_type": "code",
   "execution_count": 21,
   "id": "d7e678d8-ce41-40c7-9c26-967a8bc1b0b9",
   "metadata": {},
   "outputs": [
    {
     "name": "stdout",
     "output_type": "stream",
     "text": [
      "+------+------+\n",
      "|maxCnt|minCnt|\n",
      "+------+------+\n",
      "|     9|     7|\n",
      "+------+------+\n",
      "\n"
     ]
    }
   ],
   "source": [
    "# 학교의 중복 제외후 count\n",
    "cdf.where(cdf.loc.isNotNull())\\\n",
    "    .groupby(cdf.loc)\\\n",
    "    .agg(count_distinct('school').alias('school_cnt'))\\\n",
    "    .agg(max('school_cnt').alias('maxCnt'), min('school_cnt').alias('minCnt'))\\\n",
    "    .show()"
   ]
  },
  {
   "cell_type": "code",
   "execution_count": 59,
   "id": "25a2494b-181a-4e9a-8e0a-ff5c1df7fa8b",
   "metadata": {},
   "outputs": [
    {
     "data": {
      "text/plain": [
       "[[9], [7]]"
      ]
     },
     "execution_count": 59,
     "metadata": {},
     "output_type": "execute_result"
    }
   ],
   "source": [
    "[[9],[7]]"
   ]
  },
  {
   "cell_type": "code",
   "execution_count": 37,
   "id": "c43f3cd0-61d5-4a9b-81b0-ffc054e1beaf",
   "metadata": {},
   "outputs": [
    {
     "data": {
      "text/plain": [
       "Row(maxCnt=9, minCnt=7)"
      ]
     },
     "execution_count": 37,
     "metadata": {},
     "output_type": "execute_result"
    },
    {
     "data": {
      "text/plain": [
       "9"
      ]
     },
     "execution_count": 37,
     "metadata": {},
     "output_type": "execute_result"
    },
    {
     "data": {
      "text/plain": [
       "7"
      ]
     },
     "execution_count": 37,
     "metadata": {},
     "output_type": "execute_result"
    }
   ],
   "source": [
    "# 아래 코드 action 진행 후 결과 반환\n",
    "cdf.where(cdf.loc.isNotNull())\\\n",
    "    .groupby(cdf.loc)\\\n",
    "    .agg(count_distinct('school').alias('school_cnt'))\\\n",
    "    .agg(max('school_cnt').alias('maxCnt'), min('school_cnt').alias('minCnt'))\\\n",
    "    .collect()[0]\n",
    "\n",
    "cdf.where(cdf.loc.isNotNull())\\\n",
    "    .groupby(cdf.loc)\\\n",
    "    .agg(count_distinct('school').alias('school_cnt'))\\\n",
    "    .agg(max('school_cnt').alias('maxCnt'), min('school_cnt').alias('minCnt'))\\\n",
    "    .collect()[0][0]\n",
    "\n",
    "cdf.where(cdf.loc.isNotNull())\\\n",
    "    .groupby(cdf.loc)\\\n",
    "    .agg(count_distinct('school').alias('school_cnt'))\\\n",
    "    .agg(max('school_cnt').alias('maxCnt'), min('school_cnt').alias('minCnt'))\\\n",
    "    .collect()[0][1]"
   ]
  },
  {
   "cell_type": "code",
   "execution_count": 40,
   "id": "cf84b6f9-9f91-41e7-89a1-e8bd1d4510c1",
   "metadata": {},
   "outputs": [
    {
     "data": {
      "text/plain": [
       "[9, 7]"
      ]
     },
     "execution_count": 40,
     "metadata": {},
     "output_type": "execute_result"
    }
   ],
   "source": [
    "[\n",
    "  cnt for cnt  in\n",
    "            cdf.where(cdf.loc.isNotNull())\\\n",
    "            .groupby(cdf.loc)\\\n",
    "            .agg(count_distinct('school').alias('school_cnt'))\\\n",
    "            .agg(max('school_cnt').alias('maxCnt'), min('school_cnt').alias('minCnt'))\\\n",
    "            .collect()[0]\n",
    "]  \n",
    "# 1차원 리스트"
   ]
  },
  {
   "cell_type": "markdown",
   "id": "001406f3-5a29-4e63-b5ac-cfd2fa810e54",
   "metadata": {},
   "source": [
    "- column객체.isin([])\n",
    "    - column객체의 값이 함수 내부의 집합데이터가 포함하고 있는지를 확인해서 T/F반환하는 함수\n",
    "    - isin함수내부 데이터는 list가 가장 일반적 - 1차원 list여야함"
   ]
  },
  {
   "cell_type": "code",
   "execution_count": 43,
   "id": "6411b719-2533-4c91-8e3d-feca9b31219f",
   "metadata": {},
   "outputs": [
    {
     "name": "stdout",
     "output_type": "stream",
     "text": [
      "+--------+-------+\n",
      "|     loc|std_cnt|\n",
      "+--------+-------+\n",
      "|   Urban|  906.0|\n",
      "|Suburban|  717.0|\n",
      "|   Rural|  538.0|\n",
      "+--------+-------+\n",
      "\n"
     ]
    }
   ],
   "source": [
    "# 학교가 가장 많이 위치한 지역의 총학생수와 학교가 가장 적게 위치한 지역의 총 학생수 구하기\n",
    "# 가장많거나 적은 지역이 2개이상이면 총학생수가 적은 지역을 학교수가 가장 적은 지역으로 결정, 많은 지역은 학생수가 많은 지역을 가장 많은 지역으로 결정\n",
    "# 지역의 학교수가 9개 이거나 지역의 학교수가 7개인 지역의 지역별 총 학생수\n",
    "cdf.where(cdf.loc.isNotNull())\\\n",
    "    .groupby(cdf.loc)\\\n",
    "    .agg(sum('class_std_cnt').alias('std_cnt'))\\\n",
    "    .where(count_distinct(\"school\").isin(\n",
    "            [ cnt for cnt in\n",
    "                            cdf.where(cdf.loc.isNotNull())\\\n",
    "                            .groupby(cdf.loc)\\\n",
    "                            .agg(count_distinct('school').alias('school_cnt'))\\\n",
    "                            .agg(max('school_cnt').alias('maxCnt'), min('school_cnt').alias('minCnt'))\\\n",
    "                            .collect()[0]\n",
    "            ]\n",
    "            ))\\\n",
    "    .show()"
   ]
  },
  {
   "cell_type": "code",
   "execution_count": 44,
   "id": "e1a13960-5edb-4af3-b967-00b249074a41",
   "metadata": {},
   "outputs": [
    {
     "name": "stdout",
     "output_type": "stream",
     "text": [
      "학교가 가장 많이 위치한 지역의 학생 수 총합과, 가장 적게 위치한 지역의 학생 수 총 합 간의 차이 구하기\n",
      "+----------+\n",
      "|학생수차이|\n",
      "+----------+\n",
      "|     368.0|\n",
      "+----------+\n",
      "\n"
     ]
    }
   ],
   "source": [
    "print(\"학교가 가장 많이 위치한 지역의 학생 수 총합과, 가장 적게 위치한 지역의 학생 수 총 합 간의 차이 구하기\")\n",
    "cdf.where(cdf.loc.isNotNull())\\\n",
    "    .groupby(cdf.loc)\\\n",
    "    .agg(sum('class_std_cnt').alias('std_cnt'))\\\n",
    "    .where(count_distinct(\"school\").isin(\n",
    "            [ cnt for cnt in\n",
    "                            cdf.where(cdf.loc.isNotNull())\\\n",
    "                            .groupby(cdf.loc)\\\n",
    "                            .agg(count_distinct('school').alias('school_cnt'))\\\n",
    "                            .agg(max('school_cnt').alias('maxCnt'), min('school_cnt').alias('minCnt'))\\\n",
    "                            .collect()[0]\n",
    "            ]\n",
    "            ))\\\n",
    "    .select((max('std_cnt') - min('std_cnt')).alias('학생수차이'))\\\n",
    "    .show()"
   ]
  },
  {
   "cell_type": "markdown",
   "id": "96f6030c",
   "metadata": {},
   "source": [
    "- spark.sql"
   ]
  },
  {
   "cell_type": "code",
   "execution_count": 56,
   "id": "8b329c54-e7ff-468e-9a1f-727a72fb48a0",
   "metadata": {},
   "outputs": [
    {
     "name": "stdout",
     "output_type": "stream",
     "text": [
      "+------------+\n",
      "|지역별학교수|\n",
      "+------------+\n",
      "|           9|\n",
      "|           7|\n",
      "|           7|\n",
      "+------------+\n",
      "\n"
     ]
    }
   ],
   "source": [
    "# 각 지역별 학교수, 단, 지역정보가 없는 레코드는 제외\n",
    "# sql쿼리의 중복제거 distinct 컬럼명\n",
    "spark.sql('''\n",
    "    select count(distinct school) as `지역별학교수`\n",
    "    from class\n",
    "    where loc is not null\n",
    "    group by loc\n",
    "''').show()"
   ]
  },
  {
   "cell_type": "code",
   "execution_count": 58,
   "id": "35ce6028-7e2c-4a17-96aa-0a550b5fc994",
   "metadata": {},
   "outputs": [
    {
     "name": "stdout",
     "output_type": "stream",
     "text": [
      "+---+---+\n",
      "|max|min|\n",
      "+---+---+\n",
      "|  9|  7|\n",
      "+---+---+\n",
      "\n"
     ]
    }
   ],
   "source": [
    "# from절에 subquery 사용\n",
    "# 지역별 학교수 최대/최소값\n",
    "spark.sql('''\n",
    "    select max(cntSCH) as max, min(cntSCH) as min\n",
    "    from (\n",
    "        select count(distinct school) as cntSCH\n",
    "        from class\n",
    "        where loc is not null\n",
    "        group by loc\n",
    "    )\n",
    "''').show()\n",
    "\n"
   ]
  },
  {
   "cell_type": "markdown",
   "id": "4542d876-b8a3-4e73-a9a4-36aa0ec243a5",
   "metadata": {},
   "source": [
    "#### df 다중열\n",
    "- in 연산자를 사용하려면 다중열 비교 주체가 두개여야 비교 가능\n",
    "- ex. 다중행 in : where school in ['abc','def','ghi']\n",
    "- ex. 다중열 in : where school, class in [['abc'],['def']] - school컬럼값이 첫번째열(abc)에 있는지 확인, class 컬럼값이 두번째열(def)"
   ]
  },
  {
   "cell_type": "code",
   "execution_count": 64,
   "id": "1df0f924-255c-4406-a457-4f4b4c966468",
   "metadata": {},
   "outputs": [
    {
     "name": "stdout",
     "output_type": "stream",
     "text": [
      "+-----+\n",
      "|  tot|\n",
      "+-----+\n",
      "|906.0|\n",
      "|717.0|\n",
      "|538.0|\n",
      "+-----+\n",
      "\n"
     ]
    }
   ],
   "source": [
    "## 학교가 가장 많이 위치한 지역의 총학생수와 학교가 가장 적게 위치한 지역의 총 학생수 구하기\n",
    "## having절에 subquery\n",
    "## having절은 groupby에 종속이어시 집계함수 사용가능\n",
    "spark.sql('''\n",
    "    select sum(class_std_cnt) as tot\n",
    "    from class\n",
    "    where loc is not null\n",
    "    group by loc\n",
    "    having count(distinct school)= (select max(cntSCH) as max\n",
    "                                        from (\n",
    "                                            select count(distinct school) as cntSCH\n",
    "                                            from class\n",
    "                                            where loc is not null\n",
    "                                            group by loc\n",
    "                                        )\n",
    "                                    ) or\n",
    "            count(distinct school)= (select min(cntSCH) as min\n",
    "                                        from (\n",
    "                                            select count(distinct school) as cntSCH\n",
    "                                            from class\n",
    "                                            where loc is not null\n",
    "                                            group by loc\n",
    "                                        )\n",
    "                                    )\n",
    "''').show()\n",
    "# 결과 단일열 다중행"
   ]
  },
  {
   "cell_type": "code",
   "execution_count": 66,
   "id": "1d84b124-9c9f-477b-8b1b-d174c7b649f4",
   "metadata": {},
   "outputs": [
    {
     "name": "stdout",
     "output_type": "stream",
     "text": [
      "학교가 가장 많이 위치한 지역의 학생 수 총합과, 가장 적게 위치한 지역의 학생 수 총 합 간의 차이 구하기\n",
      "+----------+\n",
      "|학생수차이|\n",
      "+----------+\n",
      "|     368.0|\n",
      "+----------+\n",
      "\n"
     ]
    }
   ],
   "source": [
    "print(\"학교가 가장 많이 위치한 지역의 학생 수 총합과, 가장 적게 위치한 지역의 학생 수 총 합 간의 차이 구하기\")\n",
    "spark.sql ('''\n",
    "    select (max(tot) - min(tot)) as `학생수차이`\n",
    "    from (\n",
    "            select sum(class_std_cnt) as tot\n",
    "            from class\n",
    "            where loc is not null\n",
    "            group by loc\n",
    "            having count(distinct school)= (select max(cntSCH) as max\n",
    "                                                from (\n",
    "                                                    select count(distinct school) as cntSCH\n",
    "                                                    from class\n",
    "                                                    where loc is not null\n",
    "                                                    group by loc\n",
    "                                                )\n",
    "                                            ) or\n",
    "                    count(distinct school)= (select min(cntSCH) as min\n",
    "                                                from (\n",
    "                                                    select count(distinct school) as cntSCH\n",
    "                                                    from class\n",
    "                                                    where loc is not null\n",
    "                                                    group by loc\n",
    "                                                )\n",
    "                                            )\n",
    "    )\n",
    "''').show()"
   ]
  },
  {
   "cell_type": "markdown",
   "id": "5f5128c8",
   "metadata": {},
   "source": [
    "#### case 1. 소속된 반의 개수가 3개 이상인 학교들 중 학생 숫자가 가장 적은 학교의 학생 수를 구해보자\n",
    "#### 단, 학교가 null인 데이터는 제외한다"
   ]
  },
  {
   "cell_type": "code",
   "execution_count": 78,
   "id": "f62ed77f",
   "metadata": {
    "collapsed": true,
    "jupyter": {
     "outputs_hidden": true
    }
   },
   "outputs": [
    {
     "name": "stdout",
     "output_type": "stream",
     "text": [
      "+------+------+------+\n",
      "|school|학급수|학생수|\n",
      "+------+------+------+\n",
      "| VHDHF|     3|  51.0|\n",
      "| LAYPA|     3|  57.0|\n",
      "| GOOBU|     6| 158.0|\n",
      "| UUUQX|     5|  84.0|\n",
      "| CIMBB|     4|  74.0|\n",
      "| UKPGS|     6| 128.0|\n",
      "| UAGPU|     4|  87.0|\n",
      "| CCAAW|     6| 109.0|\n",
      "| FBUMG|     3|  46.0|\n",
      "| ZOWMK|     4| 117.0|\n",
      "| ZMNYA|     3|  69.0|\n",
      "| QOQTS|     6| 149.0|\n",
      "| CUQAM|     4| 107.0|\n",
      "| OJOBU|     4|  81.0|\n",
      "| GOKXL|     3|  64.0|\n",
      "| GJJHK|     5| 118.0|\n",
      "| KZKKE|     5| 111.0|\n",
      "| DNQDD|     5| 122.0|\n",
      "| VKWQH|     5| 100.0|\n",
      "| IDGFP|     5|  94.0|\n",
      "| VVTVA|     4| 114.0|\n",
      "+------+------+------+\n",
      "\n"
     ]
    }
   ],
   "source": [
    "# from절 subquery : inline view\n",
    "# 학급수가 3개 이상인 학교들의 총 학생수\n",
    "spark.sql('''\n",
    "    select school, count(class_cd) as `학급수`, sum(class_std_cnt) as `학생수`\n",
    "    from classV\n",
    "    where school is not null\n",
    "    group by school\n",
    "    having count(class_cd) >= 3\n",
    "''').show(30)\n"
   ]
  },
  {
   "cell_type": "code",
   "execution_count": 87,
   "id": "d5e28433-4c3d-457c-8dd8-55b94da5f4ca",
   "metadata": {},
   "outputs": [
    {
     "name": "stdout",
     "output_type": "stream",
     "text": [
      "+----------+\n",
      "|최소학생수|\n",
      "+----------+\n",
      "|      46.0|\n",
      "+----------+\n",
      "\n"
     ]
    }
   ],
   "source": [
    "#학급수가 3개 이상인 학교들의 총 학생수중 최소값\n",
    "spark.sql('''\n",
    "    select min(`학생수`) as `최소학생수`\n",
    "    from (\n",
    "        select school, count(class_cd) as `학급수`, sum(class_std_cnt) as `학생수`\n",
    "        from classV\n",
    "        where school is not null\n",
    "        group by school\n",
    "        having count(class_cd) >= 3\n",
    "    )\n",
    "''').show()"
   ]
  },
  {
   "cell_type": "markdown",
   "id": "b247c519-2ae2-443d-b97c-bf61f8dec8c3",
   "metadata": {},
   "source": [
    "### DF method"
   ]
  },
  {
   "cell_type": "code",
   "execution_count": 82,
   "id": "3a8c17d3-18e3-408a-868c-e570c554f9d1",
   "metadata": {
    "collapsed": true,
    "jupyter": {
     "outputs_hidden": true
    }
   },
   "outputs": [
    {
     "name": "stdout",
     "output_type": "stream",
     "text": [
      "+------+-------+\n",
      "|school|std_cnt|\n",
      "+------+-------+\n",
      "| VHDHF|   51.0|\n",
      "| LAYPA|   57.0|\n",
      "| GOOBU|  158.0|\n",
      "| UUUQX|   84.0|\n",
      "| CIMBB|   74.0|\n",
      "| UKPGS|  128.0|\n",
      "| UAGPU|   87.0|\n",
      "| CCAAW|  109.0|\n",
      "| FBUMG|   46.0|\n",
      "| ZOWMK|  117.0|\n",
      "| ZMNYA|   69.0|\n",
      "| QOQTS|  149.0|\n",
      "| CUQAM|  107.0|\n",
      "| OJOBU|   81.0|\n",
      "| GOKXL|   64.0|\n",
      "| GJJHK|  118.0|\n",
      "| KZKKE|  111.0|\n",
      "| DNQDD|  122.0|\n",
      "| VKWQH|  100.0|\n",
      "| IDGFP|   94.0|\n",
      "+------+-------+\n",
      "only showing top 20 rows\n",
      "\n"
     ]
    }
   ],
   "source": [
    "#학급수가 3개 이상인 학교들의 총 학생수\n",
    "cdf.groupby(cdf.school)\\\n",
    "    .agg(sum('class_std_cnt').alias('std_cnt'))\\\n",
    "    .where((count(cdf.class_cd) >=3) & (cdf.school.isNotNull()))\\\n",
    "    .show()"
   ]
  },
  {
   "cell_type": "code",
   "execution_count": 85,
   "id": "95836558-a837-45a9-bb35-61354f479838",
   "metadata": {},
   "outputs": [
    {
     "name": "stdout",
     "output_type": "stream",
     "text": [
      "+----------+\n",
      "|최소학생수|\n",
      "+----------+\n",
      "|      46.0|\n",
      "+----------+\n",
      "\n"
     ]
    }
   ],
   "source": [
    "#학급수가 3개 이상인 학교들의 총 학생수중 최소값\n",
    "cdf.groupby(cdf.school)\\\n",
    "    .agg(sum('class_std_cnt').alias('std_cnt'))\\\n",
    "    .where((count(cdf.class_cd) >=3) & (cdf.school.isNotNull()))\\\n",
    "    .select(min('std_cnt').alias('최소학생수'))\\\n",
    "    .show()"
   ]
  },
  {
   "cell_type": "markdown",
   "id": "2f20343f-5eb0-4331-bd3e-a646bbc513af",
   "metadata": {},
   "source": [
    "#### case 1_1. 학급수가 3개 이상인 학교들 중 학생 숫자가 가장 적은 학교의 학생 수와 학교명을 추출하자\n",
    "#### 단, 학교가 null인 데이터는 제외한다"
   ]
  },
  {
   "cell_type": "markdown",
   "id": "ebc7f6d1",
   "metadata": {},
   "source": [
    "### sql query"
   ]
  },
  {
   "cell_type": "code",
   "execution_count": 67,
   "id": "fa600114-cc83-4aa3-8311-1449fea013a3",
   "metadata": {
    "scrolled": true
   },
   "outputs": [],
   "source": [
    "cdf.createOrReplaceTempView('classV')"
   ]
  },
  {
   "cell_type": "code",
   "execution_count": 73,
   "id": "2dcf6344-2c6c-4f3a-9a54-56d152f3f6d4",
   "metadata": {
    "collapsed": true,
    "jupyter": {
     "outputs_hidden": true
    }
   },
   "outputs": [
    {
     "name": "stdout",
     "output_type": "stream",
     "text": [
      "+------+------+------+\n",
      "|school|학급수|학생수|\n",
      "+------+------+------+\n",
      "| VHDHF|     3|  51.0|\n",
      "| LAYPA|     3|  57.0|\n",
      "| GOOBU|     6| 158.0|\n",
      "| UUUQX|     5|  84.0|\n",
      "| CIMBB|     4|  74.0|\n",
      "| UKPGS|     6| 128.0|\n",
      "| UAGPU|     4|  87.0|\n",
      "| CCAAW|     6| 109.0|\n",
      "| FBUMG|     3|  46.0|\n",
      "| ZOWMK|     4| 117.0|\n",
      "| ZMNYA|     3|  69.0|\n",
      "| QOQTS|     6| 149.0|\n",
      "| CUQAM|     4| 107.0|\n",
      "| OJOBU|     4|  81.0|\n",
      "| GOKXL|     3|  64.0|\n",
      "| GJJHK|     5| 118.0|\n",
      "| KZKKE|     5| 111.0|\n",
      "| DNQDD|     5| 122.0|\n",
      "| VKWQH|     5| 100.0|\n",
      "| IDGFP|     5|  94.0|\n",
      "| VVTVA|     4| 114.0|\n",
      "+------+------+------+\n",
      "\n"
     ]
    }
   ],
   "source": [
    "# 학급수가 3개 이상인 학교들의 총 학생수\n",
    "spark.sql('''\n",
    "    select school, count(class_cd) as `학급수`, sum(class_std_cnt) as `학생수`\n",
    "    from classV\n",
    "    where school is not null\n",
    "    group by school\n",
    "    having count(class_cd) >= 3\n",
    "''').show(30)"
   ]
  },
  {
   "cell_type": "code",
   "execution_count": 77,
   "id": "7acb5095-0e8c-4dc1-9855-13a11ca3c019",
   "metadata": {},
   "outputs": [
    {
     "name": "stdout",
     "output_type": "stream",
     "text": [
      "+-----------+\n",
      "|min(학생수)|\n",
      "+-----------+\n",
      "|       46.0|\n",
      "+-----------+\n",
      "\n"
     ]
    }
   ],
   "source": [
    "#학급수가 3개 이상인 학교들의 총 학생수중 최소값\n",
    "spark.sql('''\n",
    "    select min(`학생수`)\n",
    "    from (\n",
    "        select school, count(class_cd) as `학급수`, sum(class_std_cnt) as `학생수`\n",
    "        from classV\n",
    "        where school is not null\n",
    "        group by school\n",
    "        having count(class_cd) >= 3\n",
    "    )\n",
    "''').show()"
   ]
  },
  {
   "cell_type": "code",
   "execution_count": 92,
   "id": "5e6a29b1-28b0-4227-9fac-9d2d8915f739",
   "metadata": {},
   "outputs": [
    {
     "name": "stdout",
     "output_type": "stream",
     "text": [
      "+-----------------+------+\n",
      "|최소학생수인 학교|학생수|\n",
      "+-----------------+------+\n",
      "|            FBUMG|  46.0|\n",
      "+-----------------+------+\n",
      "\n"
     ]
    }
   ],
   "source": [
    "#학급수가 3개 이상인 학교들의 총 학생수중 최소값인학교의 이름과 학생수\n",
    "spark.sql('''\n",
    "    select school as `최소학생수인 학교`, sum(class_std_cnt) as `학생수`\n",
    "    from classV\n",
    "    group by school\n",
    "    having sum(class_std_cnt) == (select min(`학생수`)\n",
    "                                    from (\n",
    "                                        select school, count(class_cd) as `학급수`, sum(class_std_cnt) as `학생수`\n",
    "                                        from classV\n",
    "                                        where school is not null\n",
    "                                        group by school\n",
    "                                        having count(class_cd) >= 3))\n",
    "    \n",
    "''').show(50)"
   ]
  },
  {
   "cell_type": "markdown",
   "id": "d8dc1e44",
   "metadata": {},
   "source": [
    "### df moethod 사용"
   ]
  },
  {
   "cell_type": "code",
   "execution_count": 93,
   "id": "f5751961-505c-488d-b819-f6f939378a8f",
   "metadata": {},
   "outputs": [
    {
     "name": "stdout",
     "output_type": "stream",
     "text": [
      "+------------+\n",
      "|min(std_cnt)|\n",
      "+------------+\n",
      "|        46.0|\n",
      "+------------+\n",
      "\n"
     ]
    }
   ],
   "source": [
    "#학급수가 3개 이상인 학교들의 총 학생수\n",
    "cdf.groupby(cdf.school)\\\n",
    "    .agg(sum('class_std_cnt').alias('std_cnt'))\\\n",
    "    .where((count(cdf.class_cd) >=3) & (cdf.school.isNotNull()))\\\n",
    "    .select(min('std_cnt'))\\\n",
    "    .show()"
   ]
  },
  {
   "cell_type": "code",
   "execution_count": 97,
   "id": "7137141d-1b63-4a46-a71a-15e6e7c6fa5a",
   "metadata": {},
   "outputs": [
    {
     "data": {
      "text/plain": [
       "46.0"
      ]
     },
     "execution_count": 97,
     "metadata": {},
     "output_type": "execute_result"
    }
   ],
   "source": [
    "#\n",
    "cdf.groupby(cdf.school)\\\n",
    "    .agg(sum('class_std_cnt').alias('std_cnt'))\\\n",
    "    .where((count(cdf.class_cd) >=3) & (cdf.school.isNotNull()))\\\n",
    "    .select(min('std_cnt'))\\\n",
    "    .collect()[0][0]         "
   ]
  },
  {
   "cell_type": "code",
   "execution_count": 104,
   "id": "94b391ab-d10b-4ba7-8c25-914bbe40eba1",
   "metadata": {},
   "outputs": [
    {
     "name": "stdout",
     "output_type": "stream",
     "text": [
      "+------+-------+\n",
      "|school|std_cnt|\n",
      "+------+-------+\n",
      "| FBUMG|   46.0|\n",
      "+------+-------+\n",
      "\n"
     ]
    }
   ],
   "source": [
    "cdf.groupby(cdf.school)\\\n",
    "    .agg(sum('class_std_cnt').alias('std_cnt'))\\\n",
    "    .where(cdf.school.isNotNull())\\\n",
    "    .where(col('std_cnt') ==  cdf.groupby(cdf.school)\\\n",
    "                                .agg(sum('class_std_cnt').alias('std_cnt'))\\\n",
    "                                .where((count(cdf.class_cd) >=3) & (cdf.school.isNotNull()))\\\n",
    "                                .select(min('std_cnt'))\\\n",
    "                                .collect()[0][0]  \n",
    "          ).show()"
   ]
  },
  {
   "cell_type": "markdown",
   "id": "f7de05cd",
   "metadata": {},
   "source": [
    "### case2. 1.지역에 따른 학교로 분류하고 분류된 학교의 class_cd가 2개 초과인 학교별로 각반의 학생수가 가장 작은 반의 학생수를 구하시오\n",
    "### 위에서 구한 학생수중 가장 큰 값은 얼마인가?\n",
    "1. 지역에 따른 학교로 분류하고 학교의 class_cd가 2개 초과인 학교들을 추출\n",
    "2. 추출된 학교들에서 학생수가 가장 작은 반의 학생수 추출\n",
    "3. 2번에서 추출된 학생수들 중 가장 큰 수 추출"
   ]
  },
  {
   "cell_type": "markdown",
   "id": "6bf35efe-2363-40e4-9477-b28d044753ad",
   "metadata": {},
   "source": [
    "### sql query 활용"
   ]
  },
  {
   "cell_type": "code",
   "execution_count": null,
   "id": "a26e26db-86fc-44cf-a24e-c4881779e45b",
   "metadata": {},
   "outputs": [
    {
     "name": "stdout",
     "output_type": "stream",
     "text": [
      "+--------+------+-------------+-----+-----------+-------------+\n",
      "|class_cd|school|class_std_cnt|  loc|school_type|teaching_type|\n",
      "+--------+------+-------------+-----+-----------+-------------+\n",
      "|     7BL| VVTVA|           29|Urban|     Public|     Standard|\n",
      "|     A93| VVTVA|           30|Urban|     Public| Experimental|\n",
      "|     TB5| VVTVA|           25|Urban|     Public|     Standard|\n",
      "|     YTB| VVTVA|           30|Urban|     Public| Experimental|\n",
      "+--------+------+-------------+-----+-----------+-------------+\n",
      "\n"
     ]
    }
   ],
   "source": [
    "# 참고\n",
    "# Urban 지역의 학교 VVTVA는 반수가 4개고 각 반 학생수 중 가장 작은 수는 25\n",
    "cdf.select('*').where((cdf.school=='VVTVA') & (cdf.loc=='Urban')).show()"
   ]
  },
  {
   "cell_type": "markdown",
   "id": "3b291df5-b420-43b9-acc9-4c4fb2771c33",
   "metadata": {},
   "source": [
    "### sql query"
   ]
  },
  {
   "cell_type": "code",
   "execution_count": 107,
   "id": "c737567a-d2d2-485b-a8f2-e093823e9eb0",
   "metadata": {},
   "outputs": [
    {
     "name": "stdout",
     "output_type": "stream",
     "text": [
      "+--------+------+---------------+\n",
      "|     loc|school|count(class_cd)|\n",
      "+--------+------+---------------+\n",
      "|   Rural| VHDHF|              3|\n",
      "|   Urban| GOOBU|              6|\n",
      "|Suburban| ZMNYA|              3|\n",
      "|   Urban| ZOWMK|              4|\n",
      "|    NULL|  NULL|              3|\n",
      "|Suburban| UUUQX|              5|\n",
      "|Suburban| DNQDD|              5|\n",
      "|   Urban| CUQAM|              4|\n",
      "|   Urban| IDGFP|              5|\n",
      "|   Rural| GOKXL|              3|\n",
      "|   Rural| KZKKE|              5|\n",
      "|   Rural| VKWQH|              5|\n",
      "|Suburban| CCAAW|              6|\n",
      "|   Rural| LAYPA|              3|\n",
      "|   Urban| QOQTS|              6|\n",
      "|Suburban| UAGPU|              4|\n",
      "|   Rural| FBUMG|              3|\n",
      "|   Urban| VVTVA|              4|\n",
      "|Suburban| UKPGS|              6|\n",
      "|Suburban| GJJHK|              5|\n",
      "|   Rural| OJOBU|              4|\n",
      "|   Urban| CIMBB|              4|\n",
      "+--------+------+---------------+\n",
      "\n"
     ]
    }
   ],
   "source": [
    "# 1. 지역에 따른 학교로 분류하고 학교의 class_cd가 2개 초과인 학교들을 추출 - 지역에 따른 학교별 반 개수\n",
    "spark.sql('''\n",
    "    select loc, school, count(class_cd)\n",
    "    from classV\n",
    "    group by loc, school\n",
    "    having count(class_cd) > 2\n",
    "''').show(50)"
   ]
  },
  {
   "cell_type": "code",
   "execution_count": 128,
   "id": "df05f0fb-9a3d-4acf-a196-fb7bd1e54f4b",
   "metadata": {},
   "outputs": [
    {
     "name": "stdout",
     "output_type": "stream",
     "text": [
      "+--------+------+-------------+-----+-----------+-------------+\n",
      "|class_cd|school|class_std_cnt|  loc|school_type|teaching_type|\n",
      "+--------+------+-------------+-----+-----------+-------------+\n",
      "|     7BL| VVTVA|           29|Urban|     Public|     Standard|\n",
      "|     A93| VVTVA|           30|Urban|     Public| Experimental|\n",
      "|     TB5| VVTVA|           25|Urban|     Public|     Standard|\n",
      "|     YTB| VVTVA|           30|Urban|     Public| Experimental|\n",
      "+--------+------+-------------+-----+-----------+-------------+\n",
      "\n"
     ]
    }
   ],
   "source": [
    "# Urban 지역의 학교 VVTVA는 반수가 4개 반 학생수 중 가장 작은 수는 25\n",
    "cdf.select('*').where((cdf.school=='VVTVA') & (cdf.loc=='Urban')).show()"
   ]
  },
  {
   "cell_type": "code",
   "execution_count": 110,
   "id": "d545b214-0e9e-4ca6-9a6c-c9bd669f50ba",
   "metadata": {},
   "outputs": [
    {
     "name": "stdout",
     "output_type": "stream",
     "text": [
      "+--------+------+---+------+\n",
      "|     loc|school|cnt|minStd|\n",
      "+--------+------+---+------+\n",
      "|   Rural| FBUMG|  3|    14|\n",
      "|   Rural| GOKXL|  3|    19|\n",
      "|   Rural| KZKKE|  5|    20|\n",
      "|   Rural| LAYPA|  3|    17|\n",
      "|   Rural| OJOBU|  4|    17|\n",
      "|   Rural| VHDHF|  3|    15|\n",
      "|   Rural| VKWQH|  5|    18|\n",
      "|Suburban| CCAAW|  6|    15|\n",
      "|Suburban| DNQDD|  5|    20|\n",
      "|Suburban| GJJHK|  5|    21|\n",
      "|Suburban| UAGPU|  4|    21|\n",
      "|Suburban| UKPGS|  6|    18|\n",
      "|Suburban| UUUQX|  5|    15|\n",
      "|Suburban| ZMNYA|  3|    22|\n",
      "|   Urban| CIMBB|  4|    17|\n",
      "|   Urban| CUQAM|  4|    24|\n",
      "|   Urban| GOOBU|  6|    24|\n",
      "|   Urban| IDGFP|  5|    17|\n",
      "|   Urban| QOQTS|  6|    22|\n",
      "|   Urban| VVTVA|  4|    25|\n",
      "|   Urban| ZOWMK|  4|    27|\n",
      "+--------+------+---+------+\n",
      "\n"
     ]
    }
   ],
   "source": [
    "# 2. 추출된 학교들에서 학생수가 가장 작은 반의 학생수 추출 단, school값이  null 인 데이터 제외\n",
    "spark.sql('''\n",
    "    select loc, school, count(class_cd) as cnt, min(class_std_cnt) as minStd\n",
    "    from classV\n",
    "    group by loc, school\n",
    "    having count(class_cd) > 2 and school is not null\n",
    "''').show(30)  "
   ]
  },
  {
   "cell_type": "code",
   "execution_count": 112,
   "id": "afd5f6de-e12d-478b-80c8-382c08a58aca",
   "metadata": {},
   "outputs": [
    {
     "name": "stdout",
     "output_type": "stream",
     "text": [
      "+---------+\n",
      "|maxMinStd|\n",
      "+---------+\n",
      "|       27|\n",
      "+---------+\n",
      "\n"
     ]
    }
   ],
   "source": [
    "# 3. 2번에서 추출된 학생수들 중 가장 큰 수 추출\n",
    "spark.sql('''\n",
    "        select max(minStd) as maxMinStd\n",
    "        from (\n",
    "            select loc, school, count(class_cd) as cnt, min(class_std_cnt) as minStd\n",
    "            from classV\n",
    "            group by loc, school\n",
    "            having count(class_cd) > 2 and school is not null\n",
    "        )\n",
    "''').show()\n",
    "# 즉, Urban지역의 ZOWMK 학교는 한반의 학생수 27명이 가장 작은데, 다른 지역의 학교들의 학생수가 가장 작은 반은 27명 이하임"
   ]
  },
  {
   "cell_type": "markdown",
   "id": "d0141865-9296-4e73-afdb-5fe8892c3b03",
   "metadata": {},
   "source": [
    "### df의 메서드 활용"
   ]
  },
  {
   "cell_type": "code",
   "execution_count": 114,
   "id": "682bfd72-9809-4f5e-9e49-c75fd0c40e12",
   "metadata": {},
   "outputs": [
    {
     "name": "stdout",
     "output_type": "stream",
     "text": [
      "+--------+------+-------------+-----+-----------+-------------+\n",
      "|class_cd|school|class_std_cnt|  loc|school_type|teaching_type|\n",
      "+--------+------+-------------+-----+-----------+-------------+\n",
      "|     7BL| VVTVA|           29|Urban|     Public|     Standard|\n",
      "|     A93| VVTVA|           30|Urban|     Public| Experimental|\n",
      "|     TB5| VVTVA|           25|Urban|     Public|     Standard|\n",
      "|     YTB| VVTVA|           30|Urban|     Public| Experimental|\n",
      "+--------+------+-------------+-----+-----------+-------------+\n",
      "\n"
     ]
    }
   ],
   "source": [
    "# Urban 지역의 학교 VVTVA는 반수가 4개 반 학생수 중 가장 작은 수는 25\n",
    "cdf.select('*').where((cdf.school=='VVTVA') & (cdf.loc=='Urban')).show()"
   ]
  },
  {
   "cell_type": "code",
   "execution_count": 116,
   "id": "59d6a254-736d-4e3d-9a64-9ff552c1a5bf",
   "metadata": {
    "collapsed": true,
    "jupyter": {
     "outputs_hidden": true
    }
   },
   "outputs": [
    {
     "name": "stdout",
     "output_type": "stream",
     "text": [
      "+--------+------+------+\n",
      "|     loc|school|cnt_cd|\n",
      "+--------+------+------+\n",
      "|   Rural| VHDHF|     3|\n",
      "|   Urban| GOOBU|     6|\n",
      "|Suburban| ZMNYA|     3|\n",
      "|   Urban| ZOWMK|     4|\n",
      "|Suburban| UUUQX|     5|\n",
      "|Suburban| DNQDD|     5|\n",
      "|   Urban| CUQAM|     4|\n",
      "|   Urban| IDGFP|     5|\n",
      "|   Rural| GOKXL|     3|\n",
      "|   Rural| KZKKE|     5|\n",
      "|   Rural| VKWQH|     5|\n",
      "|Suburban| CCAAW|     6|\n",
      "|   Rural| LAYPA|     3|\n",
      "|   Urban| QOQTS|     6|\n",
      "|Suburban| UAGPU|     4|\n",
      "|   Rural| FBUMG|     3|\n",
      "|   Urban| VVTVA|     4|\n",
      "|Suburban| UKPGS|     6|\n",
      "|Suburban| GJJHK|     5|\n",
      "|   Rural| OJOBU|     4|\n",
      "+--------+------+------+\n",
      "only showing top 20 rows\n",
      "\n"
     ]
    }
   ],
   "source": [
    "# 1. 지역에 따른 학교로 분류하고 학교의 class_cd가 2개 초과인 학교들을 추출\n",
    "cdf.groupby('loc','school')\\\n",
    "    .agg(count('class_cd').alias('cnt_cd'))\\\n",
    "    .where((col('cnt_cd')>2) & (col('school').isNotNull()))\\\n",
    "    .show()        "
   ]
  },
  {
   "cell_type": "code",
   "execution_count": 118,
   "id": "647286c5-f06c-4270-aa79-b9dae428da79",
   "metadata": {
    "collapsed": true,
    "jupyter": {
     "outputs_hidden": true
    }
   },
   "outputs": [
    {
     "name": "stdout",
     "output_type": "stream",
     "text": [
      "+--------+------+-----+------+\n",
      "|     loc|school|cntCd|minStd|\n",
      "+--------+------+-----+------+\n",
      "|   Rural| FBUMG|    3|    14|\n",
      "|   Rural| GOKXL|    3|    19|\n",
      "|   Rural| KZKKE|    5|    20|\n",
      "|   Rural| LAYPA|    3|    17|\n",
      "|   Rural| OJOBU|    4|    17|\n",
      "|   Rural| VHDHF|    3|    15|\n",
      "|   Rural| VKWQH|    5|    18|\n",
      "|Suburban| CCAAW|    6|    15|\n",
      "|Suburban| DNQDD|    5|    20|\n",
      "|Suburban| GJJHK|    5|    21|\n",
      "|Suburban| UAGPU|    4|    21|\n",
      "|Suburban| UKPGS|    6|    18|\n",
      "|Suburban| UUUQX|    5|    15|\n",
      "|Suburban| ZMNYA|    3|    22|\n",
      "|   Urban| CIMBB|    4|    17|\n",
      "|   Urban| CUQAM|    4|    24|\n",
      "|   Urban| GOOBU|    6|    24|\n",
      "|   Urban| IDGFP|    5|    17|\n",
      "|   Urban| QOQTS|    6|    22|\n",
      "|   Urban| VVTVA|    4|    25|\n",
      "+--------+------+-----+------+\n",
      "only showing top 20 rows\n",
      "\n"
     ]
    }
   ],
   "source": [
    "# 2. 추출된 학교들에서 학생수가 가장 작은 반의 학생수 추출\n",
    "# 지역에따른 학교의 반들에 대해 가장 학생수가 작은반의 학생수\n",
    "cdf.groupby('loc','school')\\\n",
    "    .agg(count('class_cd').alias('cntCd'),min('class_std_cnt').alias('minStd'))\\\n",
    "    .where((col('cntCd')>2) & (col('school').isNotNull()))\\\n",
    "    .show()     "
   ]
  },
  {
   "cell_type": "code",
   "execution_count": 121,
   "id": "16f2fae2-6f5f-4d54-906d-91081c15ae4e",
   "metadata": {},
   "outputs": [
    {
     "name": "stdout",
     "output_type": "stream",
     "text": [
      "+---------+\n",
      "|maxMinStd|\n",
      "+---------+\n",
      "|       27|\n",
      "+---------+\n",
      "\n"
     ]
    }
   ],
   "source": [
    "# 3. 2번에서 추출된 학생수들 중 가장 많은 수 추출\n",
    "# # 지역에따른 학교의 반들에 대해 가장 학생수가 작은반의 학생수에서 가장 큰 수 \n",
    "# 즉, Urban지역의 ZOWMK 학교는 한반의 학생수 27명이 가장 작은데, 다른 지역의 학교들의 학생수가 가장 작은 반은 27명보다 작다\n",
    "cdf.groupby('loc','school')\\\n",
    "    .agg(count('class_cd').alias('cntCd'),min('class_std_cnt').alias('minStd'))\\\n",
    "    .where((col('cntCd')>2) & (col('school').isNotNull()))\\\n",
    "    .select(max(col('minStd')).alias('maxMinStd'))\\\n",
    "    .show()   "
   ]
  },
  {
   "cell_type": "markdown",
   "id": "c02c36a6-b485-41d0-a236-4ed9ea00ea64",
   "metadata": {},
   "source": [
    "#### case3. 지역에 따른 학교로 분류하고 분류된 학교의 class_cd가 2개 초과인 학교에서 학교별 가장 작은 학생수들을 추출 그 중에서 가장 큰 수를 구하시오(27명)\n",
    "- case2번에서 진행\n",
    "- 구한 수보다 학생수가 더 많은 반코드와 학생수를 cdf 전체 데이터에서 추출하시오"
   ]
  },
  {
   "cell_type": "markdown",
   "id": "ae8c98d5-9729-445d-9b64-99cb28d99642",
   "metadata": {},
   "source": [
    "#### sql 쿼리"
   ]
  },
  {
   "cell_type": "code",
   "execution_count": 124,
   "id": "f6a9ae3d-9c9f-4305-8002-809fd3e9b862",
   "metadata": {},
   "outputs": [
    {
     "name": "stdout",
     "output_type": "stream",
     "text": [
      "+-----+-------+\n",
      "|class|student|\n",
      "+-----+-------+\n",
      "|  1Q1|     28|\n",
      "|  OMI|     28|\n",
      "|  ROP|     28|\n",
      "|  18K|     31|\n",
      "|  HKF|     28|\n",
      "|  0N7|     28|\n",
      "|  SUR|     28|\n",
      "|  7BL|     29|\n",
      "|  A93|     30|\n",
      "|  YTB|     30|\n",
      "|  Q0E|     30|\n",
      "|  QA2|     30|\n",
      "|  ZBH|     30|\n",
      "+-----+-------+\n",
      "\n",
      "+--------+\n",
      "|count(1)|\n",
      "+--------+\n",
      "|     102|\n",
      "+--------+\n",
      "\n"
     ]
    }
   ],
   "source": [
    "spark.sql('''\n",
    "    select class_cd as class, class_std_cnt as student\n",
    "    from classV\n",
    "    where class_std_cnt > (\n",
    "        select max(minStd) as maxMinStd\n",
    "        from (\n",
    "            select loc, school, count(class_cd) as cnt, min(class_std_cnt) as minStd\n",
    "            from classV\n",
    "            group by loc, school\n",
    "            having count(class_cd) > 2 and school is not null\n",
    "        )\n",
    "    )\n",
    "''').show()\n",
    "spark.sql('select count(*) from classV').show()\n",
    "# Urban지역의 ZOWMK 학교의 학생수가 가장 작은반보다 학생수가 많은 반은  전체 데이터 102개의 class 중 13 클래스이다"
   ]
  },
  {
   "cell_type": "markdown",
   "id": "39dc37bf-b14b-4811-a2e3-794f5aa814bb",
   "metadata": {},
   "source": [
    "#### df 메서드"
   ]
  },
  {
   "cell_type": "code",
   "execution_count": 126,
   "id": "bfd7ba5a-841d-4481-9518-838644b1128f",
   "metadata": {},
   "outputs": [
    {
     "name": "stdout",
     "output_type": "stream",
     "text": [
      "+--------+-------------+\n",
      "|class_cd|class_std_cnt|\n",
      "+--------+-------------+\n",
      "|     1Q1|           28|\n",
      "|     OMI|           28|\n",
      "|     ROP|           28|\n",
      "|     18K|           31|\n",
      "|     HKF|           28|\n",
      "|     0N7|           28|\n",
      "|     SUR|           28|\n",
      "|     7BL|           29|\n",
      "|     A93|           30|\n",
      "|     YTB|           30|\n",
      "|     Q0E|           30|\n",
      "|     QA2|           30|\n",
      "|     ZBH|           30|\n",
      "+--------+-------------+\n",
      "\n"
     ]
    }
   ],
   "source": [
    "cdf.select('class_cd', 'class_std_cnt')\\\n",
    "    .where(cdf.class_std_cnt > (\n",
    "            cdf.groupby('loc','school')\\\n",
    "                .agg(count('class_cd').alias('cntCd'),min('class_std_cnt').alias('minStd'))\\\n",
    "                .where((col('cntCd')>2) & (col('school').isNotNull()))\\\n",
    "                .select(max(col('minStd')).alias('maxMinStd'))\\\n",
    "                .collect()[0][0])\n",
    "    )\\\n",
    "    .show()           \n",
    "# Urban지역의 ZOWMK 학교의 학생수가 가장 작은반보다 학생수가 많은 반은 전체 데이터 102개의 class 중 13 클래스이다"
   ]
  },
  {
   "cell_type": "markdown",
   "id": "0a38d169",
   "metadata": {},
   "source": [
    "##### case 4. 시골지역의 사립학교중 표준교육을 진행하는 학교 학급의 평균 학생수보다 학생수가 더 많은 도시 지역의 공립학교면서 특수교육을 진행하는 학교의 모든 정보를 추출하시오"
   ]
  },
  {
   "cell_type": "code",
   "execution_count": 40,
   "id": "014aca9e-4fea-4e0b-9bea-e5afcd9f3eba",
   "metadata": {},
   "outputs": [
    {
     "data": {
      "text/plain": [
       "['class_cd', 'school', 'class_std_cnt', 'loc', 'school_type', 'teaching_type']"
      ]
     },
     "execution_count": 40,
     "metadata": {},
     "output_type": "execute_result"
    }
   ],
   "source": [
    "cdf.columns\n",
    "# loc : Urban, subUrban, Rural\n",
    "# school_type : Public, Non-public\n",
    "# teachin_type : Standard, Experimental"
   ]
  },
  {
   "cell_type": "markdown",
   "id": "5ed22d14-31f9-4de0-8924-3c08d8e68ae9",
   "metadata": {},
   "source": [
    "### sql query"
   ]
  },
  {
   "cell_type": "code",
   "execution_count": 132,
   "id": "db9231bd-9c7a-4f8a-99c7-ec3f47f22095",
   "metadata": {},
   "outputs": [
    {
     "name": "stdout",
     "output_type": "stream",
     "text": [
      "+------------------+\n",
      "|avg(class_std_cnt)|\n",
      "+------------------+\n",
      "|              17.0|\n",
      "+------------------+\n",
      "\n"
     ]
    }
   ],
   "source": [
    "# 시골지역의 사립학교중 표준교육을 진행하는 학교들의 평균 학생수\n",
    "spark.sql('''\n",
    "    select avg(class_std_cnt)\n",
    "    from classV\n",
    "    where loc=='Rural' and school_type=='Non-public' and teaching_type=='Standard'\n",
    "''').show()"
   ]
  },
  {
   "cell_type": "code",
   "execution_count": 135,
   "id": "ad8a20b9-d282-48ae-9710-e05c66ba0089",
   "metadata": {},
   "outputs": [
    {
     "name": "stdout",
     "output_type": "stream",
     "text": [
      "+--------+------+-------------+-----+-----------+-------------+\n",
      "|class_cd|school|class_std_cnt|  loc|school_type|teaching_type|\n",
      "+--------+------+-------------+-----+-----------+-------------+\n",
      "|     X6Z| CUQAM|           24|Urban|     Public| Experimental|\n",
      "|     W8A| GOOBU|           26|Urban|     Public| Experimental|\n",
      "|     0N7| QOQTS|           28|Urban|     Public| Experimental|\n",
      "|     X2O| QOQTS|           25|Urban|     Public| Experimental|\n",
      "|     A93| VVTVA|           30|Urban|     Public| Experimental|\n",
      "|     YTB| VVTVA|           30|Urban|     Public| Experimental|\n",
      "|     Q0E| ZOWMK|           30|Urban|     Public| Experimental|\n",
      "+--------+------+-------------+-----+-----------+-------------+\n",
      "\n"
     ]
    }
   ],
   "source": [
    "# 시골지역의 사립학교중 표준교육을 진행하는 학교 학급의 평균 학생수보다 학생수가 더 많은 도시 지역의 공립학교면서 특수교육을 진행하는 학교의 모든 정보를 추출하시오\n",
    "spark.sql('''\n",
    "    select *\n",
    "    from classV\n",
    "    where loc == 'Urban' and\n",
    "          school_type == 'Public' and\n",
    "          tyaching_type == 'Experimental' and\n",
    "          class_std_cnt > (\n",
    "                select avg(class_std_cnt)\n",
    "                from classV\n",
    "                where loc=='Rural' and school_type=='Non-public' and teaching_type=='Standard'\n",
    "          )\n",
    "''')"
   ]
  },
  {
   "cell_type": "markdown",
   "id": "09e41fb1-1b9a-4da7-b201-7570b89adad5",
   "metadata": {},
   "source": [
    "### df method"
   ]
  },
  {
   "cell_type": "code",
   "execution_count": 141,
   "id": "5283f19a-2be3-4191-8473-0c9b31ef68a4",
   "metadata": {},
   "outputs": [
    {
     "data": {
      "text/plain": [
       "17.0"
      ]
     },
     "execution_count": 141,
     "metadata": {},
     "output_type": "execute_result"
    }
   ],
   "source": [
    "# 시골지역의 사립학교중 표준교육을 진행하는 학교 학급의 평균 학생수\n",
    "cdf.where((cdf.loc=='Rural') &\n",
    "           (cdf.school_type=='Non-public') &\n",
    "           (cdf.teaching_type=='Standard'))\\\n",
    "    .select(avg('class_std_cnt'))\\\n",
    "    .collect()[0][0]"
   ]
  },
  {
   "cell_type": "code",
   "execution_count": 143,
   "id": "c30e28f8-82a0-4399-b1a4-d1252ee5df37",
   "metadata": {},
   "outputs": [
    {
     "name": "stdout",
     "output_type": "stream",
     "text": [
      "+--------+------+-------------+-----+-----------+-------------+\n",
      "|class_cd|school|class_std_cnt|  loc|school_type|teaching_type|\n",
      "+--------+------+-------------+-----+-----------+-------------+\n",
      "|     X6Z| CUQAM|           24|Urban|     Public| Experimental|\n",
      "|     W8A| GOOBU|           26|Urban|     Public| Experimental|\n",
      "|     0N7| QOQTS|           28|Urban|     Public| Experimental|\n",
      "|     X2O| QOQTS|           25|Urban|     Public| Experimental|\n",
      "|     A93| VVTVA|           30|Urban|     Public| Experimental|\n",
      "|     YTB| VVTVA|           30|Urban|     Public| Experimental|\n",
      "|     Q0E| ZOWMK|           30|Urban|     Public| Experimental|\n",
      "+--------+------+-------------+-----+-----------+-------------+\n",
      "\n"
     ]
    }
   ],
   "source": [
    "# 시골지역의 사립학교중 표준교육을 진행하는 학교 학급의 평균 학생수보다 학생수가 더 많은 도시 지역의 공립학교면서 특수교육을 진행하는 학교의 모든 정보를 추출하시오\n",
    "cdf.select('*')\\\n",
    "    .where((cdf.loc=='Urban') &\n",
    "           (cdf.school_type=='Public') &\n",
    "           (cdf.teaching_type=='Experimental') &\n",
    "           (cdf.class_std_cnt > (\n",
    "                    cdf.where((cdf.loc=='Rural') &\n",
    "                               (cdf.school_type=='Non-public') &\n",
    "                               (cdf.teaching_type=='Standard'))\\\n",
    "                        .select(avg('class_std_cnt'))\\\n",
    "                        .collect()[0][0]\n",
    "           )))\\\n",
    "           .show()"
   ]
  },
  {
   "cell_type": "code",
   "execution_count": null,
   "id": "f7229d95-f1cc-40f3-8e10-d0713e5cab32",
   "metadata": {},
   "outputs": [],
   "source": []
  }
 ],
 "metadata": {
  "kernelspec": {
   "display_name": "Python 3 (ipykernel)",
   "language": "python",
   "name": "python3"
  },
  "language_info": {
   "codemirror_mode": {
    "name": "ipython",
    "version": 3
   },
   "file_extension": ".py",
   "mimetype": "text/x-python",
   "name": "python",
   "nbconvert_exporter": "python",
   "pygments_lexer": "ipython3",
   "version": "3.10.12"
  }
 },
 "nbformat": 4,
 "nbformat_minor": 5
}
