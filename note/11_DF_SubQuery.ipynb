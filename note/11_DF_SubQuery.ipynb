{
 "cells": [
  {
   "cell_type": "code",
   "execution_count": 1,
   "id": "145e9bce",
   "metadata": {},
   "outputs": [],
   "source": [
    "from IPython.core.interactiveshell import InteractiveShell\n",
    "InteractiveShell.ast_node_interactivity = \"all\""
   ]
  },
  {
   "cell_type": "code",
   "execution_count": 2,
   "id": "b629dd36",
   "metadata": {},
   "outputs": [],
   "source": [
    "from datetime import date, datetime\n",
    "from pyspark.sql import *\n",
    "from pyspark.sql.types import *\n",
    "from pyspark.sql.functions import *\n",
    "from pyspark.sql import functions as F"
   ]
  },
  {
   "cell_type": "code",
   "execution_count": 3,
   "id": "669e772e",
   "metadata": {},
   "outputs": [
    {
     "name": "stderr",
     "output_type": "stream",
     "text": [
      "                                                                                "
     ]
    },
    {
     "name": "stdout",
     "output_type": "stream",
     "text": [
      "root\n",
      " |-- class_cd: string (nullable = true)\n",
      " |-- school: string (nullable = true)\n",
      " |-- class_std_cnt: string (nullable = true)\n",
      " |-- loc: string (nullable = true)\n",
      " |-- school_type: string (nullable = true)\n",
      " |-- teaching_type: string (nullable = true)\n",
      "\n"
     ]
    },
    {
     "name": "stderr",
     "output_type": "stream",
     "text": [
      "[Stage 1:>                                                          (0 + 1) / 1]"
     ]
    },
    {
     "name": "stdout",
     "output_type": "stream",
     "text": [
      "+--------+------+-------------+--------+-----------+-------------+\n",
      "|class_cd|school|class_std_cnt|     loc|school_type|teaching_type|\n",
      "+--------+------+-------------+--------+-----------+-------------+\n",
      "|     6OL| ANKYI|           20|   Urban| Non-public|     Standard|\n",
      "|     ZNS| ANKYI|           21|   Urban| Non-public|     Standard|\n",
      "|     2B1| CCAAW|           18|Suburban| Non-public| Experimental|\n",
      "+--------+------+-------------+--------+-----------+-------------+\n",
      "only showing top 3 rows\n",
      "\n"
     ]
    },
    {
     "name": "stderr",
     "output_type": "stream",
     "text": [
      "                                                                                "
     ]
    }
   ],
   "source": [
    "cdf = spark.read.csv('/dataframe/a_class_info.csv', header=True)\n",
    "cdf.printSchema()\n",
    "cdf.show(3)"
   ]
  },
  {
   "cell_type": "code",
   "execution_count": 4,
   "id": "501dc3da-5d1d-4aa5-bbf3-8b4c74ee676d",
   "metadata": {},
   "outputs": [
    {
     "data": {
      "text/plain": [
       "['class_cd', 'school', 'class_std_cnt', 'loc', 'school_type', 'teaching_type']"
      ]
     },
     "execution_count": 4,
     "metadata": {},
     "output_type": "execute_result"
    }
   ],
   "source": [
    "cdf.columns"
   ]
  },
  {
   "cell_type": "markdown",
   "id": "ff01aab9-d4f3-4f0d-ad75-6f30a31e4eee",
   "metadata": {},
   "source": [
    "### 각 반 학생수(class_std_cnt)가 학생수의 평균보다 많은 class의 data를 추출하시오"
   ]
  },
  {
   "cell_type": "markdown",
   "id": "6369fe71-0c1d-4989-9b2c-20beeb83371f",
   "metadata": {},
   "source": [
    "['class_cd', 'school', 'class_std_cnt', 'loc', 'school_type', 'teaching_type']\n",
    "반코드        학교이름   반 학생수       지역    학교형태       교육형태"
   ]
  },
  {
   "cell_type": "code",
   "execution_count": 11,
   "id": "e3f0d2de-8713-4d3c-9033-5d8d4b557c6f",
   "metadata": {},
   "outputs": [],
   "source": [
    "# view 생성\n",
    "cdf.createOrReplaceTempView('classV')"
   ]
  },
  {
   "cell_type": "code",
   "execution_count": 12,
   "id": "d7b815d1-20e3-4aab-b6a9-ea2b733a70c5",
   "metadata": {
    "collapsed": true,
    "jupyter": {
     "outputs_hidden": true
    },
    "scrolled": true
   },
   "outputs": [
    {
     "ename": "AnalysisException",
     "evalue": "[INVALID_WHERE_CONDITION] The WHERE condition \"((class_std_cnt > avg(class_std_cnt)) AND (class_std_cnt IS NOT NULL))\" contains invalid expressions: avg(CAST(classv.class_std_cnt AS DOUBLE)).\nRewrite the query to avoid window functions, aggregate functions, and generator functions in the WHERE clause.; line 2 pos 4;\nProject [class_cd#17, school#18, class_std_cnt#19, loc#20, school_type#21, teaching_type#22]\n+- Filter ((cast(class_std_cnt#19 as double) > avg(cast(class_std_cnt#19 as double))) AND isnotnull(class_std_cnt#19))\n   +- SubqueryAlias classv\n      +- View (`classV`, [class_cd#17,school#18,class_std_cnt#19,loc#20,school_type#21,teaching_type#22])\n         +- Relation [class_cd#17,school#18,class_std_cnt#19,loc#20,school_type#21,teaching_type#22] csv\n",
     "output_type": "error",
     "traceback": [
      "\u001b[0;31m---------------------------------------------------------------------------\u001b[0m",
      "\u001b[0;31mAnalysisException\u001b[0m                         Traceback (most recent call last)",
      "Cell \u001b[0;32mIn[12], line 2\u001b[0m\n\u001b[1;32m      1\u001b[0m \u001b[38;5;66;03m# where 절에서 평균 반 학생수를 구하고 그 값보다 많은 반을 추출\u001b[39;00m\n\u001b[0;32m----> 2\u001b[0m \u001b[43mspark\u001b[49m\u001b[38;5;241;43m.\u001b[39;49m\u001b[43msql\u001b[49m\u001b[43m(\u001b[49m\u001b[38;5;124;43m'''\u001b[39;49m\n\u001b[1;32m      3\u001b[0m \u001b[38;5;124;43m    select * from classV\u001b[39;49m\n\u001b[1;32m      4\u001b[0m \u001b[38;5;124;43m    where class_std_cnt > avg(class_std_cnt) and class_std_cnt is not null\u001b[39;49m\n\u001b[1;32m      5\u001b[0m \u001b[38;5;124;43m'''\u001b[39;49m\u001b[43m)\u001b[49m\u001b[38;5;241m.\u001b[39mshow()\n",
      "File \u001b[0;32m~/spark/python/pyspark/sql/session.py:1631\u001b[0m, in \u001b[0;36mSparkSession.sql\u001b[0;34m(self, sqlQuery, args, **kwargs)\u001b[0m\n\u001b[1;32m   1627\u001b[0m         \u001b[38;5;28;01massert\u001b[39;00m \u001b[38;5;28mself\u001b[39m\u001b[38;5;241m.\u001b[39m_jvm \u001b[38;5;129;01mis\u001b[39;00m \u001b[38;5;129;01mnot\u001b[39;00m \u001b[38;5;28;01mNone\u001b[39;00m\n\u001b[1;32m   1628\u001b[0m         litArgs \u001b[38;5;241m=\u001b[39m \u001b[38;5;28mself\u001b[39m\u001b[38;5;241m.\u001b[39m_jvm\u001b[38;5;241m.\u001b[39mPythonUtils\u001b[38;5;241m.\u001b[39mtoArray(\n\u001b[1;32m   1629\u001b[0m             [_to_java_column(lit(v)) \u001b[38;5;28;01mfor\u001b[39;00m v \u001b[38;5;129;01min\u001b[39;00m (args \u001b[38;5;129;01mor\u001b[39;00m [])]\n\u001b[1;32m   1630\u001b[0m         )\n\u001b[0;32m-> 1631\u001b[0m     \u001b[38;5;28;01mreturn\u001b[39;00m DataFrame(\u001b[38;5;28;43mself\u001b[39;49m\u001b[38;5;241;43m.\u001b[39;49m\u001b[43m_jsparkSession\u001b[49m\u001b[38;5;241;43m.\u001b[39;49m\u001b[43msql\u001b[49m\u001b[43m(\u001b[49m\u001b[43msqlQuery\u001b[49m\u001b[43m,\u001b[49m\u001b[43m \u001b[49m\u001b[43mlitArgs\u001b[49m\u001b[43m)\u001b[49m, \u001b[38;5;28mself\u001b[39m)\n\u001b[1;32m   1632\u001b[0m \u001b[38;5;28;01mfinally\u001b[39;00m:\n\u001b[1;32m   1633\u001b[0m     \u001b[38;5;28;01mif\u001b[39;00m \u001b[38;5;28mlen\u001b[39m(kwargs) \u001b[38;5;241m>\u001b[39m \u001b[38;5;241m0\u001b[39m:\n",
      "File \u001b[0;32m/usr/local/lib/python3.10/dist-packages/py4j/java_gateway.py:1321\u001b[0m, in \u001b[0;36mJavaMember.__call__\u001b[0;34m(self, *args)\u001b[0m\n\u001b[1;32m   1315\u001b[0m command \u001b[38;5;241m=\u001b[39m proto\u001b[38;5;241m.\u001b[39mCALL_COMMAND_NAME \u001b[38;5;241m+\u001b[39m\\\n\u001b[1;32m   1316\u001b[0m     \u001b[38;5;28mself\u001b[39m\u001b[38;5;241m.\u001b[39mcommand_header \u001b[38;5;241m+\u001b[39m\\\n\u001b[1;32m   1317\u001b[0m     args_command \u001b[38;5;241m+\u001b[39m\\\n\u001b[1;32m   1318\u001b[0m     proto\u001b[38;5;241m.\u001b[39mEND_COMMAND_PART\n\u001b[1;32m   1320\u001b[0m answer \u001b[38;5;241m=\u001b[39m \u001b[38;5;28mself\u001b[39m\u001b[38;5;241m.\u001b[39mgateway_client\u001b[38;5;241m.\u001b[39msend_command(command)\n\u001b[0;32m-> 1321\u001b[0m return_value \u001b[38;5;241m=\u001b[39m \u001b[43mget_return_value\u001b[49m\u001b[43m(\u001b[49m\n\u001b[1;32m   1322\u001b[0m \u001b[43m    \u001b[49m\u001b[43manswer\u001b[49m\u001b[43m,\u001b[49m\u001b[43m \u001b[49m\u001b[38;5;28;43mself\u001b[39;49m\u001b[38;5;241;43m.\u001b[39;49m\u001b[43mgateway_client\u001b[49m\u001b[43m,\u001b[49m\u001b[43m \u001b[49m\u001b[38;5;28;43mself\u001b[39;49m\u001b[38;5;241;43m.\u001b[39;49m\u001b[43mtarget_id\u001b[49m\u001b[43m,\u001b[49m\u001b[43m \u001b[49m\u001b[38;5;28;43mself\u001b[39;49m\u001b[38;5;241;43m.\u001b[39;49m\u001b[43mname\u001b[49m\u001b[43m)\u001b[49m\n\u001b[1;32m   1324\u001b[0m \u001b[38;5;28;01mfor\u001b[39;00m temp_arg \u001b[38;5;129;01min\u001b[39;00m temp_args:\n\u001b[1;32m   1325\u001b[0m     temp_arg\u001b[38;5;241m.\u001b[39m_detach()\n",
      "File \u001b[0;32m~/spark/python/pyspark/errors/exceptions/captured.py:185\u001b[0m, in \u001b[0;36mcapture_sql_exception.<locals>.deco\u001b[0;34m(*a, **kw)\u001b[0m\n\u001b[1;32m    181\u001b[0m converted \u001b[38;5;241m=\u001b[39m convert_exception(e\u001b[38;5;241m.\u001b[39mjava_exception)\n\u001b[1;32m    182\u001b[0m \u001b[38;5;28;01mif\u001b[39;00m \u001b[38;5;129;01mnot\u001b[39;00m \u001b[38;5;28misinstance\u001b[39m(converted, UnknownException):\n\u001b[1;32m    183\u001b[0m     \u001b[38;5;66;03m# Hide where the exception came from that shows a non-Pythonic\u001b[39;00m\n\u001b[1;32m    184\u001b[0m     \u001b[38;5;66;03m# JVM exception message.\u001b[39;00m\n\u001b[0;32m--> 185\u001b[0m     \u001b[38;5;28;01mraise\u001b[39;00m converted \u001b[38;5;28;01mfrom\u001b[39;00m\u001b[38;5;250m \u001b[39m\u001b[38;5;28;01mNone\u001b[39;00m\n\u001b[1;32m    186\u001b[0m \u001b[38;5;28;01melse\u001b[39;00m:\n\u001b[1;32m    187\u001b[0m     \u001b[38;5;28;01mraise\u001b[39;00m\n",
      "\u001b[0;31mAnalysisException\u001b[0m: [INVALID_WHERE_CONDITION] The WHERE condition \"((class_std_cnt > avg(class_std_cnt)) AND (class_std_cnt IS NOT NULL))\" contains invalid expressions: avg(CAST(classv.class_std_cnt AS DOUBLE)).\nRewrite the query to avoid window functions, aggregate functions, and generator functions in the WHERE clause.; line 2 pos 4;\nProject [class_cd#17, school#18, class_std_cnt#19, loc#20, school_type#21, teaching_type#22]\n+- Filter ((cast(class_std_cnt#19 as double) > avg(cast(class_std_cnt#19 as double))) AND isnotnull(class_std_cnt#19))\n   +- SubqueryAlias classv\n      +- View (`classV`, [class_cd#17,school#18,class_std_cnt#19,loc#20,school_type#21,teaching_type#22])\n         +- Relation [class_cd#17,school#18,class_std_cnt#19,loc#20,school_type#21,teaching_type#22] csv\n"
     ]
    }
   ],
   "source": [
    "# where 절에서 평균 반 학생수를 구하고 그 값보다 많은 반을 추출\n",
    "spark.sql('''\n",
    "    select * from classV\n",
    "    where class_std_cnt > avg(class_std_cnt) and class_std_cnt is not null\n",
    "''').show()"
   ]
  },
  {
   "cell_type": "markdown",
   "id": "a03123a0-0e4a-490a-a3fb-19a1f36431a6",
   "metadata": {},
   "source": [
    "## 에러발생 : where절에서는 집계함수 사용 불가\n",
    "- select / having 절에서만 집계 함수 사용 가능\n",
    "- spark.sql('''\n",
    "            select * from classV\n",
    "            where class_std_cnt > 계산한 평균값 and class_std_cnt is not null''').show()\n",
    "   이렇게 쓸 수는 있다.\n",
    "\n",
    "- 평균을 직접 구해서 평균을 쓰고 select하면 가능\n",
    "- 근데 이러면 코드가 너무 구려지잖아\n",
    "- 평균을 구하는 쿼리를 이용해서 평균값을 받고 해당 쿼리를 where 조건에 추가하는 걸로 해결할 수 있다."
   ]
  },
  {
   "cell_type": "markdown",
   "id": "d34e3bc7-d733-440f-b378-05c17265a54e",
   "metadata": {},
   "source": [
    "- subquery 사용\n",
    "  1. subquery 이용 평균 반 학생수를 전달하기\n",
    "  2. where 절에서 반 학생수가 1에서 전달받은 값보다 큰 data 추출"
   ]
  },
  {
   "cell_type": "code",
   "execution_count": 14,
   "id": "bb64686d-5841-4c35-a8bc-5ec271c19176",
   "metadata": {},
   "outputs": [
    {
     "name": "stderr",
     "output_type": "stream",
     "text": [
      "[Stage 4:>                                                          (0 + 1) / 1]"
     ]
    },
    {
     "name": "stdout",
     "output_type": "stream",
     "text": [
      "+------------------+\n",
      "|avg(class_std_cnt)|\n",
      "+------------------+\n",
      "|21.828282828282827|\n",
      "+------------------+\n",
      "\n"
     ]
    },
    {
     "name": "stderr",
     "output_type": "stream",
     "text": [
      "                                                                                "
     ]
    }
   ],
   "source": [
    "# 1. 평균 구하는 subquery - 평균 반 학생수 select 하는 쿼리(집계함수는 select 절에만 사용가능)\n",
    "spark.sql('''\n",
    "    select avg(class_std_cnt) from classV\n",
    "    where class_std_cnt is not null\n",
    "''').show()"
   ]
  },
  {
   "cell_type": "code",
   "execution_count": 16,
   "id": "9cd27bd3-a3f1-427a-9c61-bae250b664d9",
   "metadata": {
    "collapsed": true,
    "jupyter": {
     "outputs_hidden": true
    }
   },
   "outputs": [
    {
     "name": "stderr",
     "output_type": "stream",
     "text": [
      "[Stage 8:>                                                          (0 + 1) / 1]"
     ]
    },
    {
     "name": "stdout",
     "output_type": "stream",
     "text": [
      "+--------+------+-------------+--------+-----------+-------------+\n",
      "|class_cd|school|class_std_cnt|     loc|school_type|teaching_type|\n",
      "+--------+------+-------------+--------+-----------+-------------+\n",
      "|     1Q1| CUQAM|           28|   Urban|     Public|     Standard|\n",
      "|     BFY| CUQAM|           27|   Urban|     Public|     Standard|\n",
      "|     OMI| CUQAM|           28|   Urban|     Public|     Standard|\n",
      "|     X6Z| CUQAM|           24|   Urban|     Public| Experimental|\n",
      "|     2AP| DNQDD|           27|Suburban|     Public|     Standard|\n",
      "|     ROP| DNQDD|           28|Suburban|     Public| Experimental|\n",
      "|     XXJ| DNQDD|           27|Suburban|     Public|     Standard|\n",
      "|     HCB| GJJHK|           22|Suburban|     Public|     Standard|\n",
      "|     NOR| GJJHK|           27|Suburban|     Public| Experimental|\n",
      "|     ZDT| GJJHK|           27|Suburban|     Public|     Standard|\n",
      "|     ENO| GOKXL|           22|   Rural|     Public| Experimental|\n",
      "|     TSA| GOKXL|           23|   Rural|     Public| Experimental|\n",
      "|     18K| GOOBU|           31|   Urban|     Public|     Standard|\n",
      "|     CXC| GOOBU|           24|   Urban|     Public|     Standard|\n",
      "|     HKF| GOOBU|           28|   Urban|     Public|     Standard|\n",
      "|     PBA| GOOBU|           24|   Urban|     Public|     Standard|\n",
      "|     U6J| GOOBU|           25|   Urban|     Public|     Standard|\n",
      "|     W8A| GOOBU|           26|   Urban|     Public| Experimental|\n",
      "|     05H| IDGFP|           22|   Urban| Non-public|     Standard|\n",
      "|     1VD| KFZMY|           27|   Urban| Non-public| Experimental|\n",
      "+--------+------+-------------+--------+-----------+-------------+\n",
      "only showing top 20 rows\n",
      "\n"
     ]
    },
    {
     "name": "stderr",
     "output_type": "stream",
     "text": [
      "                                                                                "
     ]
    }
   ],
   "source": [
    "# 2. 평균 구하는 쿼리를 where절에서 사용하는 subquery로 구성 - 1의 query를 where에 비교 대상으로 사용(subquery 적용)\n",
    "spark.sql('''\n",
    "    select * from classV\n",
    "    where class_std_cnt >= (select avg(class_std_cnt) from classV\n",
    "                            where class_std_cnt is not null)\n",
    "''').show()"
   ]
  },
  {
   "cell_type": "markdown",
   "id": "61873401-eb8e-4b21-9dd1-d7fc05f15a8c",
   "metadata": {},
   "source": [
    "### df method 통해 subquery와 같은 결과를 도출해보자"
   ]
  },
  {
   "cell_type": "code",
   "execution_count": 17,
   "id": "873f3cca-dc89-4ff8-bc8c-df3f0697c380",
   "metadata": {},
   "outputs": [
    {
     "name": "stderr",
     "output_type": "stream",
     "text": [
      "[Stage 9:>                                                          (0 + 1) / 1]"
     ]
    },
    {
     "name": "stdout",
     "output_type": "stream",
     "text": [
      "+------------------+\n",
      "|avg(class_std_cnt)|\n",
      "+------------------+\n",
      "|21.828282828282827|\n",
      "+------------------+\n",
      "\n"
     ]
    },
    {
     "name": "stderr",
     "output_type": "stream",
     "text": [
      "                                                                                "
     ]
    }
   ],
   "source": [
    "# 1. 평균 구하는 식\n",
    "cdf.select(avg('class_std_cnt')).show()"
   ]
  },
  {
   "cell_type": "code",
   "execution_count": 19,
   "id": "17b92915-fb80-4a4b-aa8a-fceae5ab69ed",
   "metadata": {},
   "outputs": [
    {
     "data": {
      "text/plain": [
       "DataFrame[avg(class_std_cnt): double]"
      ]
     },
     "execution_count": 19,
     "metadata": {},
     "output_type": "execute_result"
    }
   ],
   "source": [
    "cdf.select(avg('class_std_cnt'))"
   ]
  },
  {
   "cell_type": "code",
   "execution_count": 18,
   "id": "4559fbed-8399-4421-addd-73124416e102",
   "metadata": {
    "collapsed": true,
    "jupyter": {
     "outputs_hidden": true
    },
    "scrolled": true
   },
   "outputs": [
    {
     "ename": "AttributeError",
     "evalue": "'DataFrame' object has no attribute '_get_object_id'",
     "output_type": "error",
     "traceback": [
      "\u001b[0;31m---------------------------------------------------------------------------\u001b[0m",
      "\u001b[0;31mAttributeError\u001b[0m                            Traceback (most recent call last)",
      "Cell \u001b[0;32mIn[18], line 3\u001b[0m\n\u001b[1;32m      1\u001b[0m \u001b[38;5;66;03m# 2. 1에서 구한 평균값을 활용해서 평균보다 많은 학생 수 추출\u001b[39;00m\n\u001b[1;32m      2\u001b[0m cdf\u001b[38;5;241m.\u001b[39mselect(\u001b[38;5;124m'\u001b[39m\u001b[38;5;124m*\u001b[39m\u001b[38;5;124m'\u001b[39m)\\\n\u001b[0;32m----> 3\u001b[0m     \u001b[38;5;241m.\u001b[39mwhere(\u001b[43mcdf\u001b[49m\u001b[38;5;241;43m.\u001b[39;49m\u001b[43mclass_std_cnt\u001b[49m\u001b[43m \u001b[49m\u001b[38;5;241;43m>\u001b[39;49m\u001b[38;5;241;43m=\u001b[39;49m\u001b[43m \u001b[49m\u001b[43mcdf\u001b[49m\u001b[38;5;241;43m.\u001b[39;49m\u001b[43mselect\u001b[49m\u001b[43m(\u001b[49m\u001b[43mavg\u001b[49m\u001b[43m(\u001b[49m\u001b[38;5;124;43m'\u001b[39;49m\u001b[38;5;124;43mclass_std_cnt\u001b[39;49m\u001b[38;5;124;43m'\u001b[39;49m\u001b[43m)\u001b[49m\u001b[43m)\u001b[49m)\\\n\u001b[1;32m      4\u001b[0m     \u001b[38;5;241m.\u001b[39mshow()\n",
      "File \u001b[0;32m~/spark/python/pyspark/sql/column.py:163\u001b[0m, in \u001b[0;36m_bin_op.<locals>._\u001b[0;34m(self, other)\u001b[0m\n\u001b[1;32m    158\u001b[0m \u001b[38;5;28;01mdef\u001b[39;00m\u001b[38;5;250m \u001b[39m\u001b[38;5;21m_\u001b[39m(\n\u001b[1;32m    159\u001b[0m     \u001b[38;5;28mself\u001b[39m: \u001b[38;5;124m\"\u001b[39m\u001b[38;5;124mColumn\u001b[39m\u001b[38;5;124m\"\u001b[39m,\n\u001b[1;32m    160\u001b[0m     other: Union[\u001b[38;5;124m\"\u001b[39m\u001b[38;5;124mColumn\u001b[39m\u001b[38;5;124m\"\u001b[39m, \u001b[38;5;124m\"\u001b[39m\u001b[38;5;124mLiteralType\u001b[39m\u001b[38;5;124m\"\u001b[39m, \u001b[38;5;124m\"\u001b[39m\u001b[38;5;124mDecimalLiteral\u001b[39m\u001b[38;5;124m\"\u001b[39m, \u001b[38;5;124m\"\u001b[39m\u001b[38;5;124mDateTimeLiteral\u001b[39m\u001b[38;5;124m\"\u001b[39m],\n\u001b[1;32m    161\u001b[0m ) \u001b[38;5;241m-\u001b[39m\u001b[38;5;241m>\u001b[39m \u001b[38;5;124m\"\u001b[39m\u001b[38;5;124mColumn\u001b[39m\u001b[38;5;124m\"\u001b[39m:\n\u001b[1;32m    162\u001b[0m     jc \u001b[38;5;241m=\u001b[39m other\u001b[38;5;241m.\u001b[39m_jc \u001b[38;5;28;01mif\u001b[39;00m \u001b[38;5;28misinstance\u001b[39m(other, Column) \u001b[38;5;28;01melse\u001b[39;00m other\n\u001b[0;32m--> 163\u001b[0m     njc \u001b[38;5;241m=\u001b[39m \u001b[38;5;28;43mgetattr\u001b[39;49m\u001b[43m(\u001b[49m\u001b[38;5;28;43mself\u001b[39;49m\u001b[38;5;241;43m.\u001b[39;49m\u001b[43m_jc\u001b[49m\u001b[43m,\u001b[49m\u001b[43m \u001b[49m\u001b[43mname\u001b[49m\u001b[43m)\u001b[49m\u001b[43m(\u001b[49m\u001b[43mjc\u001b[49m\u001b[43m)\u001b[49m\n\u001b[1;32m    164\u001b[0m     \u001b[38;5;28;01mreturn\u001b[39;00m Column(njc)\n",
      "File \u001b[0;32m/usr/local/lib/python3.10/dist-packages/py4j/java_gateway.py:1313\u001b[0m, in \u001b[0;36mJavaMember.__call__\u001b[0;34m(self, *args)\u001b[0m\n\u001b[1;32m   1312\u001b[0m \u001b[38;5;28;01mdef\u001b[39;00m\u001b[38;5;250m \u001b[39m\u001b[38;5;21m__call__\u001b[39m(\u001b[38;5;28mself\u001b[39m, \u001b[38;5;241m*\u001b[39margs):\n\u001b[0;32m-> 1313\u001b[0m     args_command, temp_args \u001b[38;5;241m=\u001b[39m \u001b[38;5;28;43mself\u001b[39;49m\u001b[38;5;241;43m.\u001b[39;49m\u001b[43m_build_args\u001b[49m\u001b[43m(\u001b[49m\u001b[38;5;241;43m*\u001b[39;49m\u001b[43margs\u001b[49m\u001b[43m)\u001b[49m\n\u001b[1;32m   1315\u001b[0m     command \u001b[38;5;241m=\u001b[39m proto\u001b[38;5;241m.\u001b[39mCALL_COMMAND_NAME \u001b[38;5;241m+\u001b[39m\\\n\u001b[1;32m   1316\u001b[0m         \u001b[38;5;28mself\u001b[39m\u001b[38;5;241m.\u001b[39mcommand_header \u001b[38;5;241m+\u001b[39m\\\n\u001b[1;32m   1317\u001b[0m         args_command \u001b[38;5;241m+\u001b[39m\\\n\u001b[1;32m   1318\u001b[0m         proto\u001b[38;5;241m.\u001b[39mEND_COMMAND_PART\n\u001b[1;32m   1320\u001b[0m     answer \u001b[38;5;241m=\u001b[39m \u001b[38;5;28mself\u001b[39m\u001b[38;5;241m.\u001b[39mgateway_client\u001b[38;5;241m.\u001b[39msend_command(command)\n",
      "File \u001b[0;32m/usr/local/lib/python3.10/dist-packages/py4j/java_gateway.py:1283\u001b[0m, in \u001b[0;36mJavaMember._build_args\u001b[0;34m(self, *args)\u001b[0m\n\u001b[1;32m   1279\u001b[0m     new_args \u001b[38;5;241m=\u001b[39m args\n\u001b[1;32m   1280\u001b[0m     temp_args \u001b[38;5;241m=\u001b[39m []\n\u001b[1;32m   1282\u001b[0m args_command \u001b[38;5;241m=\u001b[39m \u001b[38;5;124m\"\u001b[39m\u001b[38;5;124m\"\u001b[39m\u001b[38;5;241m.\u001b[39mjoin(\n\u001b[0;32m-> 1283\u001b[0m     [get_command_part(arg, \u001b[38;5;28mself\u001b[39m\u001b[38;5;241m.\u001b[39mpool) \u001b[38;5;28;01mfor\u001b[39;00m arg \u001b[38;5;129;01min\u001b[39;00m new_args])\n\u001b[1;32m   1285\u001b[0m \u001b[38;5;28;01mreturn\u001b[39;00m args_command, temp_args\n",
      "File \u001b[0;32m/usr/local/lib/python3.10/dist-packages/py4j/java_gateway.py:1283\u001b[0m, in \u001b[0;36m<listcomp>\u001b[0;34m(.0)\u001b[0m\n\u001b[1;32m   1279\u001b[0m     new_args \u001b[38;5;241m=\u001b[39m args\n\u001b[1;32m   1280\u001b[0m     temp_args \u001b[38;5;241m=\u001b[39m []\n\u001b[1;32m   1282\u001b[0m args_command \u001b[38;5;241m=\u001b[39m \u001b[38;5;124m\"\u001b[39m\u001b[38;5;124m\"\u001b[39m\u001b[38;5;241m.\u001b[39mjoin(\n\u001b[0;32m-> 1283\u001b[0m     [\u001b[43mget_command_part\u001b[49m\u001b[43m(\u001b[49m\u001b[43marg\u001b[49m\u001b[43m,\u001b[49m\u001b[43m \u001b[49m\u001b[38;5;28;43mself\u001b[39;49m\u001b[38;5;241;43m.\u001b[39;49m\u001b[43mpool\u001b[49m\u001b[43m)\u001b[49m \u001b[38;5;28;01mfor\u001b[39;00m arg \u001b[38;5;129;01min\u001b[39;00m new_args])\n\u001b[1;32m   1285\u001b[0m \u001b[38;5;28;01mreturn\u001b[39;00m args_command, temp_args\n",
      "File \u001b[0;32m/usr/local/lib/python3.10/dist-packages/py4j/protocol.py:298\u001b[0m, in \u001b[0;36mget_command_part\u001b[0;34m(parameter, python_proxy_pool)\u001b[0m\n\u001b[1;32m    296\u001b[0m         command_part \u001b[38;5;241m+\u001b[39m\u001b[38;5;241m=\u001b[39m \u001b[38;5;124m\"\u001b[39m\u001b[38;5;124m;\u001b[39m\u001b[38;5;124m\"\u001b[39m \u001b[38;5;241m+\u001b[39m interface\n\u001b[1;32m    297\u001b[0m \u001b[38;5;28;01melse\u001b[39;00m:\n\u001b[0;32m--> 298\u001b[0m     command_part \u001b[38;5;241m=\u001b[39m REFERENCE_TYPE \u001b[38;5;241m+\u001b[39m \u001b[43mparameter\u001b[49m\u001b[38;5;241;43m.\u001b[39;49m\u001b[43m_get_object_id\u001b[49m()\n\u001b[1;32m    300\u001b[0m command_part \u001b[38;5;241m+\u001b[39m\u001b[38;5;241m=\u001b[39m \u001b[38;5;124m\"\u001b[39m\u001b[38;5;130;01m\\n\u001b[39;00m\u001b[38;5;124m\"\u001b[39m\n\u001b[1;32m    302\u001b[0m \u001b[38;5;28;01mreturn\u001b[39;00m command_part\n",
      "File \u001b[0;32m~/spark/python/pyspark/sql/dataframe.py:3129\u001b[0m, in \u001b[0;36mDataFrame.__getattr__\u001b[0;34m(self, name)\u001b[0m\n\u001b[1;32m   3096\u001b[0m \u001b[38;5;250m\u001b[39m\u001b[38;5;124;03m\"\"\"Returns the :class:`Column` denoted by ``name``.\u001b[39;00m\n\u001b[1;32m   3097\u001b[0m \n\u001b[1;32m   3098\u001b[0m \u001b[38;5;124;03m.. versionadded:: 1.3.0\u001b[39;00m\n\u001b[0;32m   (...)\u001b[0m\n\u001b[1;32m   3126\u001b[0m \u001b[38;5;124;03m+---+\u001b[39;00m\n\u001b[1;32m   3127\u001b[0m \u001b[38;5;124;03m\"\"\"\u001b[39;00m\n\u001b[1;32m   3128\u001b[0m \u001b[38;5;28;01mif\u001b[39;00m name \u001b[38;5;129;01mnot\u001b[39;00m \u001b[38;5;129;01min\u001b[39;00m \u001b[38;5;28mself\u001b[39m\u001b[38;5;241m.\u001b[39mcolumns:\n\u001b[0;32m-> 3129\u001b[0m     \u001b[38;5;28;01mraise\u001b[39;00m \u001b[38;5;167;01mAttributeError\u001b[39;00m(\n\u001b[1;32m   3130\u001b[0m         \u001b[38;5;124m\"\u001b[39m\u001b[38;5;124m'\u001b[39m\u001b[38;5;132;01m%s\u001b[39;00m\u001b[38;5;124m'\u001b[39m\u001b[38;5;124m object has no attribute \u001b[39m\u001b[38;5;124m'\u001b[39m\u001b[38;5;132;01m%s\u001b[39;00m\u001b[38;5;124m'\u001b[39m\u001b[38;5;124m\"\u001b[39m \u001b[38;5;241m%\u001b[39m (\u001b[38;5;28mself\u001b[39m\u001b[38;5;241m.\u001b[39m\u001b[38;5;18m__class__\u001b[39m\u001b[38;5;241m.\u001b[39m\u001b[38;5;18m__name__\u001b[39m, name)\n\u001b[1;32m   3131\u001b[0m     )\n\u001b[1;32m   3132\u001b[0m jc \u001b[38;5;241m=\u001b[39m \u001b[38;5;28mself\u001b[39m\u001b[38;5;241m.\u001b[39m_jdf\u001b[38;5;241m.\u001b[39mapply(name)\n\u001b[1;32m   3133\u001b[0m \u001b[38;5;28;01mreturn\u001b[39;00m Column(jc)\n",
      "\u001b[0;31mAttributeError\u001b[0m: 'DataFrame' object has no attribute '_get_object_id'"
     ]
    }
   ],
   "source": [
    "# 2. 1에서 구한 평균값을 활용해서 평균보다 많은 학생 수 추출\n",
    "# 아래 코드의 cdf.select(avg('class_std_cnt')) 연산식은 반환값이 **수치가 아니라 객체임** - 객체 id가 연산결과로 나옴\n",
    "# where절을 진행할 수 없음\n",
    "cdf.select('*')\\\n",
    "    .where(cdf.class_std_cnt >= cdf.select(avg('class_std_cnt')))\\\n",
    "    .show()"
   ]
  },
  {
   "cell_type": "code",
   "execution_count": 25,
   "id": "df9b6670-c3b1-45cf-a1c8-d87f51a0a27c",
   "metadata": {},
   "outputs": [
    {
     "data": {
      "text/plain": [
       "[Row(avg(class_std_cnt)=21.828282828282827)]"
      ]
     },
     "execution_count": 25,
     "metadata": {},
     "output_type": "execute_result"
    },
    {
     "data": {
      "text/plain": [
       "list"
      ]
     },
     "execution_count": 25,
     "metadata": {},
     "output_type": "execute_result"
    },
    {
     "data": {
      "text/plain": [
       "Row(avg(class_std_cnt)=21.828282828282827)"
      ]
     },
     "execution_count": 25,
     "metadata": {},
     "output_type": "execute_result"
    },
    {
     "data": {
      "text/plain": [
       "pyspark.sql.types.Row"
      ]
     },
     "execution_count": 25,
     "metadata": {},
     "output_type": "execute_result"
    },
    {
     "data": {
      "text/plain": [
       "21.828282828282827"
      ]
     },
     "execution_count": 25,
     "metadata": {},
     "output_type": "execute_result"
    },
    {
     "data": {
      "text/plain": [
       "float"
      ]
     },
     "execution_count": 25,
     "metadata": {},
     "output_type": "execute_result"
    },
    {
     "name": "stdout",
     "output_type": "stream",
     "text": [
      "+--------+------+-------------+--------+-----------+-------------+\n",
      "|class_cd|school|class_std_cnt|     loc|school_type|teaching_type|\n",
      "+--------+------+-------------+--------+-----------+-------------+\n",
      "|     1Q1| CUQAM|           28|   Urban|     Public|     Standard|\n",
      "|     BFY| CUQAM|           27|   Urban|     Public|     Standard|\n",
      "|     OMI| CUQAM|           28|   Urban|     Public|     Standard|\n",
      "|     X6Z| CUQAM|           24|   Urban|     Public| Experimental|\n",
      "|     2AP| DNQDD|           27|Suburban|     Public|     Standard|\n",
      "|     ROP| DNQDD|           28|Suburban|     Public| Experimental|\n",
      "|     XXJ| DNQDD|           27|Suburban|     Public|     Standard|\n",
      "|     HCB| GJJHK|           22|Suburban|     Public|     Standard|\n",
      "|     NOR| GJJHK|           27|Suburban|     Public| Experimental|\n",
      "|     ZDT| GJJHK|           27|Suburban|     Public|     Standard|\n",
      "|     ENO| GOKXL|           22|   Rural|     Public| Experimental|\n",
      "|     TSA| GOKXL|           23|   Rural|     Public| Experimental|\n",
      "|     18K| GOOBU|           31|   Urban|     Public|     Standard|\n",
      "|     CXC| GOOBU|           24|   Urban|     Public|     Standard|\n",
      "|     HKF| GOOBU|           28|   Urban|     Public|     Standard|\n",
      "|     PBA| GOOBU|           24|   Urban|     Public|     Standard|\n",
      "|     U6J| GOOBU|           25|   Urban|     Public|     Standard|\n",
      "|     W8A| GOOBU|           26|   Urban|     Public| Experimental|\n",
      "|     05H| IDGFP|           22|   Urban| Non-public|     Standard|\n",
      "|     1VD| KFZMY|           27|   Urban| Non-public| Experimental|\n",
      "+--------+------+-------------+--------+-----------+-------------+\n",
      "only showing top 20 rows\n",
      "\n"
     ]
    },
    {
     "name": "stderr",
     "output_type": "stream",
     "text": [
      "ERROR:root:Exception while sending command.\n",
      "Traceback (most recent call last):\n",
      "  File \"/usr/local/lib/python3.10/dist-packages/py4j/clientserver.py\", line 516, in send_command\n",
      "    raise Py4JNetworkError(\"Answer from Java side is empty\")\n",
      "py4j.protocol.Py4JNetworkError: Answer from Java side is empty\n",
      "\n",
      "During handling of the above exception, another exception occurred:\n",
      "\n",
      "Traceback (most recent call last):\n",
      "  File \"/usr/local/lib/python3.10/dist-packages/py4j/java_gateway.py\", line 1038, in send_command\n",
      "    response = connection.send_command(command)\n",
      "  File \"/usr/local/lib/python3.10/dist-packages/py4j/clientserver.py\", line 539, in send_command\n",
      "    raise Py4JNetworkError(\n",
      "py4j.protocol.Py4JNetworkError: Error while sending or receiving\n"
     ]
    }
   ],
   "source": [
    "# 연산식의 평균값을 수치로 반환받아야함\n",
    "# 값을 반환하는 action method: collect()\n",
    "cdf.select(avg('class_std_cnt')).collect()   #출력값: [Row(avg(class_std_cnt)=21.828282828282827)]\n",
    "type(cdf.select(avg('class_std_cnt')).collect()) #리스트래\n",
    "cdf.select(avg('class_std_cnt')).collect()[0]  #그럼 값 가져오게 인덱싱하자 ==> 안되네\n",
    "type(cdf.select(avg('class_std_cnt')).collect()[0]) #타입이 뭔데 안되지? ==? Row(집합)\n",
    "cdf.select(avg('class_std_cnt')).collect()[0][0] #집합이니까 한번 더 접근하자\n",
    "type(cdf.select(avg('class_std_cnt')).collect()[0][0]) #드디어 숫자가 나왔다.\n",
    "\n",
    "cdf.select('*')\\\n",
    "    .where(cdf.class_std_cnt >= cdf.select(avg('class_std_cnt')).collect()[0][0])\\\n",
    "    .show()"
   ]
  },
  {
   "cell_type": "markdown",
   "id": "d50e5398-dc83-4ce4-97ef-5790c47fb59b",
   "metadata": {},
   "source": [
    "- spark.sql.dataframe.DataFrame 객체도 RDD기반임\n",
    "    - show() 출력만 진행함\n",
    "    - collect() 사용가능: 객체 반환 가능\n",
    "        - 객체 타입에 따라 index 사용이 가능 : 실제값을 추출할 수 있음\n",
    "    - collect()사용한 연산식은 더이상 지연은 안됨 : action연산"
   ]
  },
  {
   "cell_type": "markdown",
   "id": "226634b7",
   "metadata": {},
   "source": [
    "복잡한 연산도 해보자"
   ]
  },
  {
   "cell_type": "markdown",
   "id": "5f5128c8",
   "metadata": {},
   "source": [
    "#### case 1. 소속된 반의 개수가 3개 이상인 학교들 중 학생 숫자가 가장 적은 학교의 학생 수를 구해보자\n",
    "#### 단, 학교가 null인 데이터는 제외한다"
   ]
  },
  {
   "cell_type": "code",
   "execution_count": 44,
   "id": "f62ed77f",
   "metadata": {},
   "outputs": [
    {
     "name": "stdout",
     "output_type": "stream",
     "text": [
      "+------------+\n",
      "|min(std_cnt)|\n",
      "+------------+\n",
      "|        46.0|\n",
      "+------------+\n",
      "\n"
     ]
    }
   ],
   "source": [
    "# from절 subquery : inline view\n",
    "\n",
    "cdf.createOrReplaceTempView('class')\n",
    "\n",
    "spark.sql('''\n",
    "    select min(std_cnt) \n",
    "    from (select school, sum(class_std_cnt) as std_cnt \n",
    "            from class \n",
    "            where school is not null\n",
    "            group by school\n",
    "            having count(school) >= 3 )\n",
    "''').show(3)"
   ]
  },
  {
   "cell_type": "code",
   "execution_count": 53,
   "id": "3a8c17d3-18e3-408a-868c-e570c554f9d1",
   "metadata": {},
   "outputs": [
    {
     "name": "stdout",
     "output_type": "stream",
     "text": [
      "+------------+\n",
      "|min(std_cnt)|\n",
      "+------------+\n",
      "|        46.0|\n",
      "+------------+\n",
      "\n"
     ]
    }
   ],
   "source": []
  },
  {
   "cell_type": "markdown",
   "id": "2f20343f-5eb0-4331-bd3e-a646bbc513af",
   "metadata": {},
   "source": [
    "#### case 1_1. 소속된 반의 개수가 3개 이상인 학교들 중 학생 숫자가 가장 적은 학교의 학생 수와 학교명을 추출하자\n",
    "#### 단, 학교가 null인 데이터는 제외한다"
   ]
  },
  {
   "cell_type": "markdown",
   "id": "ebc7f6d1",
   "metadata": {},
   "source": [
    "### sql query"
   ]
  },
  {
   "cell_type": "code",
   "execution_count": 74,
   "id": "2dcf6344-2c6c-4f3a-9a54-56d152f3f6d4",
   "metadata": {},
   "outputs": [
    {
     "name": "stdout",
     "output_type": "stream",
     "text": [
      "+------+-------+\n",
      "|school|std_tot|\n",
      "+------+-------+\n",
      "| FBUMG|   46.0|\n",
      "+------+-------+\n",
      "\n"
     ]
    }
   ],
   "source": [
    "spark.sql(''' select school, std_tot\n",
    "            from (select school, sum(class_std_cnt) as std_tot from class group by school having school is not null and count(school)>=3)\n",
    "            where std_tot == (select min(std_tot) as min_stdtot\n",
    "                              from(select school, sum(class_std_cnt) as std_tot \n",
    "                                   from class \n",
    "                                   group by school \n",
    "                                   having school is not null and count(school)>=3))  \n",
    "    \n",
    "    ''').show()"
   ]
  },
  {
   "cell_type": "markdown",
   "id": "d8dc1e44",
   "metadata": {},
   "source": [
    "### df moethod 사용"
   ]
  },
  {
   "cell_type": "code",
   "execution_count": 65,
   "id": "ce690877-7553-4e07-a895-83ac63ed1111",
   "metadata": {},
   "outputs": [
    {
     "name": "stdout",
     "output_type": "stream",
     "text": [
      "+------+-------+\n",
      "|school|std_cnt|\n",
      "+------+-------+\n",
      "| VHDHF|   51.0|\n",
      "| LAYPA|   57.0|\n",
      "| GOOBU|  158.0|\n",
      "| UUUQX|   84.0|\n",
      "| CIMBB|   74.0|\n",
      "| UKPGS|  128.0|\n",
      "| UAGPU|   87.0|\n",
      "| CCAAW|  109.0|\n",
      "| FBUMG|   46.0|\n",
      "| ZOWMK|  117.0|\n",
      "| ZMNYA|   69.0|\n",
      "| QOQTS|  149.0|\n",
      "| CUQAM|  107.0|\n",
      "| OJOBU|   81.0|\n",
      "| GOKXL|   64.0|\n",
      "| GJJHK|  118.0|\n",
      "| KZKKE|  111.0|\n",
      "| DNQDD|  122.0|\n",
      "| VKWQH|  100.0|\n",
      "| IDGFP|   94.0|\n",
      "+------+-------+\n",
      "only showing top 20 rows\n",
      "\n"
     ]
    }
   ],
   "source": []
  },
  {
   "cell_type": "code",
   "execution_count": 72,
   "id": "7137141d-1b63-4a46-a71a-15e6e7c6fa5a",
   "metadata": {},
   "outputs": [
    {
     "name": "stdout",
     "output_type": "stream",
     "text": [
      "+------+-------+\n",
      "|school|std_cnt|\n",
      "+------+-------+\n",
      "| FBUMG|   46.0|\n",
      "+------+-------+\n",
      "\n"
     ]
    }
   ],
   "source": [
    "\n",
    "         "
   ]
  },
  {
   "cell_type": "markdown",
   "id": "f7de05cd",
   "metadata": {},
   "source": [
    "### case2. 1.지역에 따른 학교로 분류하고 분류된 학교의 class_cd가 2개 초과인 학교별로 반의 학생수가 가장 작은 반의 학생수를 구하시오\n",
    "### 위에서 구한 학생수중 가장 큰 값은 얼마인가?\n",
    "1. 지역에 따른 학교로 분류하고 학교의 class_cd가 2개 초과인 학교들을 추출\n",
    "2. 추출된 학교들에서 학생수가 가장 작은 반의 학생수 추출\n",
    "3. 2번에서 추출된 학생수들 중 가장 큰 수 추출"
   ]
  },
  {
   "cell_type": "markdown",
   "id": "6bf35efe-2363-40e4-9477-b28d044753ad",
   "metadata": {},
   "source": [
    "### sql query 활용"
   ]
  },
  {
   "cell_type": "code",
   "execution_count": 127,
   "id": "a26e26db-86fc-44cf-a24e-c4881779e45b",
   "metadata": {},
   "outputs": [
    {
     "name": "stdout",
     "output_type": "stream",
     "text": [
      "+--------+------+-------------+-----+-----------+-------------+\n",
      "|class_cd|school|class_std_cnt|  loc|school_type|teaching_type|\n",
      "+--------+------+-------------+-----+-----------+-------------+\n",
      "|     7BL| VVTVA|           29|Urban|     Public|     Standard|\n",
      "|     A93| VVTVA|           30|Urban|     Public| Experimental|\n",
      "|     TB5| VVTVA|           25|Urban|     Public|     Standard|\n",
      "|     YTB| VVTVA|           30|Urban|     Public| Experimental|\n",
      "+--------+------+-------------+-----+-----------+-------------+\n",
      "\n"
     ]
    }
   ],
   "source": [
    "# 참고\n",
    "# Urban 지역의 학교 VVTVA는 반수가 4개 반 학생수 중 가장 작은 수는 25\n",
    "cdf.select('*').where((cdf.school=='VVTVA') & (cdf.loc=='Urban')).show()"
   ]
  },
  {
   "cell_type": "code",
   "execution_count": 126,
   "id": "c737567a-d2d2-485b-a8f2-e093823e9eb0",
   "metadata": {},
   "outputs": [
    {
     "name": "stdout",
     "output_type": "stream",
     "text": [
      "+--------+------+---+\n",
      "|     loc|school|cnt|\n",
      "+--------+------+---+\n",
      "|   Rural| VHDHF|  3|\n",
      "|   Urban| GOOBU|  6|\n",
      "|Suburban| ZMNYA|  3|\n",
      "|   Urban| ZOWMK|  4|\n",
      "|    null|  null|  3|\n",
      "|Suburban| UUUQX|  5|\n",
      "|Suburban| DNQDD|  5|\n",
      "|   Urban| CUQAM|  4|\n",
      "|   Urban| IDGFP|  5|\n",
      "|   Rural| GOKXL|  3|\n",
      "|   Rural| KZKKE|  5|\n",
      "|   Rural| VKWQH|  5|\n",
      "|Suburban| CCAAW|  6|\n",
      "|   Rural| LAYPA|  3|\n",
      "|   Urban| QOQTS|  6|\n",
      "|Suburban| UAGPU|  4|\n",
      "|   Rural| FBUMG|  3|\n",
      "|   Urban| VVTVA|  4|\n",
      "|Suburban| UKPGS|  6|\n",
      "|Suburban| GJJHK|  5|\n",
      "|   Rural| OJOBU|  4|\n",
      "|   Urban| CIMBB|  4|\n",
      "+--------+------+---+\n",
      "\n"
     ]
    }
   ],
   "source": [
    "# 1. 지역에 따른 학교로 분류하고 학교의 class_cd가 2개 초과인 학교들을 추출\n"
   ]
  },
  {
   "cell_type": "code",
   "execution_count": 128,
   "id": "df05f0fb-9a3d-4acf-a196-fb7bd1e54f4b",
   "metadata": {},
   "outputs": [
    {
     "name": "stdout",
     "output_type": "stream",
     "text": [
      "+--------+------+-------------+-----+-----------+-------------+\n",
      "|class_cd|school|class_std_cnt|  loc|school_type|teaching_type|\n",
      "+--------+------+-------------+-----+-----------+-------------+\n",
      "|     7BL| VVTVA|           29|Urban|     Public|     Standard|\n",
      "|     A93| VVTVA|           30|Urban|     Public| Experimental|\n",
      "|     TB5| VVTVA|           25|Urban|     Public|     Standard|\n",
      "|     YTB| VVTVA|           30|Urban|     Public| Experimental|\n",
      "+--------+------+-------------+-----+-----------+-------------+\n",
      "\n"
     ]
    }
   ],
   "source": [
    "# Urban 지역의 학교 VVTVA는 반수가 4개 반 학생수 중 가장 작은 수는 25\n",
    "cdf.select('*').where((cdf.school=='VVTVA') & (cdf.loc=='Urban')).show()"
   ]
  },
  {
   "cell_type": "code",
   "execution_count": 124,
   "id": "d545b214-0e9e-4ca6-9a6c-c9bd669f50ba",
   "metadata": {},
   "outputs": [
    {
     "name": "stdout",
     "output_type": "stream",
     "text": [
      "+--------+------+---+-------+\n",
      "|     loc|school|cnt|min_std|\n",
      "+--------+------+---+-------+\n",
      "|   Rural| FBUMG|  3|     14|\n",
      "|   Rural| GOKXL|  3|     19|\n",
      "|   Rural| KZKKE|  5|     20|\n",
      "|   Rural| LAYPA|  3|     17|\n",
      "|   Rural| OJOBU|  4|     17|\n",
      "|   Rural| VHDHF|  3|     15|\n",
      "|   Rural| VKWQH|  5|     18|\n",
      "|Suburban| CCAAW|  6|     15|\n",
      "|Suburban| DNQDD|  5|     20|\n",
      "|Suburban| GJJHK|  5|     21|\n",
      "|Suburban| UAGPU|  4|     21|\n",
      "|Suburban| UKPGS|  6|     18|\n",
      "|Suburban| UUUQX|  5|     15|\n",
      "|Suburban| ZMNYA|  3|     22|\n",
      "|   Urban| CIMBB|  4|     17|\n",
      "|   Urban| CUQAM|  4|     24|\n",
      "|   Urban| GOOBU|  6|     24|\n",
      "|   Urban| IDGFP|  5|     17|\n",
      "|   Urban| QOQTS|  6|     22|\n",
      "|   Urban| VVTVA|  4|     25|\n",
      "|   Urban| ZOWMK|  4|     27|\n",
      "+--------+------+---+-------+\n",
      "\n"
     ]
    }
   ],
   "source": [
    "# 2. 추출된 학교들에서 학생수가 가장 작은 반의 학생수 추출\n"
   ]
  },
  {
   "cell_type": "code",
   "execution_count": 125,
   "id": "afd5f6de-e12d-478b-80c8-382c08a58aca",
   "metadata": {},
   "outputs": [
    {
     "name": "stdout",
     "output_type": "stream",
     "text": [
      "+------------+\n",
      "|max(min_std)|\n",
      "+------------+\n",
      "|          27|\n",
      "+------------+\n",
      "\n"
     ]
    }
   ],
   "source": [
    "# 3. 2번에서 추출된 학생수들 중 가장 큰 수 추출\n",
    "\n",
    "# 즉, Urban지역의 ZOWMK 학교는 한반의 학생수 27명이 가장 작은데, 다른 지역의 학교들의 학생수가 가장 작은 반은 27명보다 작다"
   ]
  },
  {
   "cell_type": "markdown",
   "id": "d0141865-9296-4e73-afdb-5fe8892c3b03",
   "metadata": {},
   "source": [
    "### df의 메서드 활용"
   ]
  },
  {
   "cell_type": "code",
   "execution_count": 80,
   "id": "682bfd72-9809-4f5e-9e49-c75fd0c40e12",
   "metadata": {},
   "outputs": [
    {
     "name": "stdout",
     "output_type": "stream",
     "text": [
      "+--------+------+-------------+-----+-----------+-------------+\n",
      "|class_cd|school|class_std_cnt|  loc|school_type|teaching_type|\n",
      "+--------+------+-------------+-----+-----------+-------------+\n",
      "|     7BL| VVTVA|           29|Urban|     Public|     Standard|\n",
      "|     A93| VVTVA|           30|Urban|     Public| Experimental|\n",
      "|     TB5| VVTVA|           25|Urban|     Public|     Standard|\n",
      "|     YTB| VVTVA|           30|Urban|     Public| Experimental|\n",
      "+--------+------+-------------+-----+-----------+-------------+\n",
      "\n"
     ]
    }
   ],
   "source": [
    "# Urban 지역의 학교 VVTVA는 반수가 4개 반 학생수 중 가장 작은 수는 25\n",
    "cdf.select('*').where((cdf.school=='VVTVA') & (cdf.loc=='Urban')).show()"
   ]
  },
  {
   "cell_type": "code",
   "execution_count": 91,
   "id": "59d6a254-736d-4e3d-9a64-9ff552c1a5bf",
   "metadata": {},
   "outputs": [
    {
     "name": "stdout",
     "output_type": "stream",
     "text": [
      "+--------+------+------+\n",
      "|     loc|school|cnt_cd|\n",
      "+--------+------+------+\n",
      "|   Rural| VHDHF|     3|\n",
      "|   Urban| GOOBU|     6|\n",
      "|Suburban| ZMNYA|     3|\n",
      "|   Urban| ZOWMK|     4|\n",
      "|Suburban| UUUQX|     5|\n",
      "|Suburban| DNQDD|     5|\n",
      "|   Urban| CUQAM|     4|\n",
      "|   Urban| IDGFP|     5|\n",
      "|   Rural| GOKXL|     3|\n",
      "|   Rural| KZKKE|     5|\n",
      "|   Rural| VKWQH|     5|\n",
      "|Suburban| CCAAW|     6|\n",
      "|   Rural| LAYPA|     3|\n",
      "|   Urban| QOQTS|     6|\n",
      "|Suburban| UAGPU|     4|\n",
      "|   Rural| FBUMG|     3|\n",
      "|   Urban| VVTVA|     4|\n",
      "|Suburban| UKPGS|     6|\n",
      "|Suburban| GJJHK|     5|\n",
      "|   Rural| OJOBU|     4|\n",
      "|   Urban| CIMBB|     4|\n",
      "+--------+------+------+\n",
      "\n"
     ]
    }
   ],
   "source": [
    "# 1. 지역에 따른 학교로 분류하고 학교의 class_cd가 2개 초과인 학교들을 추출\n",
    "\n",
    "        "
   ]
  },
  {
   "cell_type": "code",
   "execution_count": 108,
   "id": "4b0bf01d-874a-40f4-bbc1-a9502de21682",
   "metadata": {},
   "outputs": [
    {
     "name": "stdout",
     "output_type": "stream",
     "text": [
      "+--------+------+-------------+-----+-----------+-------------+\n",
      "|class_cd|school|class_std_cnt|  loc|school_type|teaching_type|\n",
      "+--------+------+-------------+-----+-----------+-------------+\n",
      "|     7BL| VVTVA|           29|Urban|     Public|     Standard|\n",
      "|     A93| VVTVA|           30|Urban|     Public| Experimental|\n",
      "|     TB5| VVTVA|           25|Urban|     Public|     Standard|\n",
      "|     YTB| VVTVA|           30|Urban|     Public| Experimental|\n",
      "+--------+------+-------------+-----+-----------+-------------+\n",
      "\n"
     ]
    }
   ],
   "source": [
    "# Urban 지역의 학교 VVTVA는 반수가 4개 반 학생수 중 가장 작은 수는 25\n",
    "cdf.select('*').where((cdf.school=='VVTVA') & (cdf.loc=='Urban')).show()"
   ]
  },
  {
   "cell_type": "code",
   "execution_count": 92,
   "id": "647286c5-f06c-4270-aa79-b9dae428da79",
   "metadata": {},
   "outputs": [
    {
     "name": "stdout",
     "output_type": "stream",
     "text": [
      "+--------+------+------+-----------+\n",
      "|     loc|school|cnt_cd|min_std_cnt|\n",
      "+--------+------+------+-----------+\n",
      "|   Rural| FBUMG|     3|         14|\n",
      "|   Rural| GOKXL|     3|         19|\n",
      "|   Rural| KZKKE|     5|         20|\n",
      "|   Rural| LAYPA|     3|         17|\n",
      "|   Rural| OJOBU|     4|         17|\n",
      "|   Rural| VHDHF|     3|         15|\n",
      "|   Rural| VKWQH|     5|         18|\n",
      "|Suburban| CCAAW|     6|         15|\n",
      "|Suburban| DNQDD|     5|         20|\n",
      "|Suburban| GJJHK|     5|         21|\n",
      "|Suburban| UAGPU|     4|         21|\n",
      "|Suburban| UKPGS|     6|         18|\n",
      "|Suburban| UUUQX|     5|         15|\n",
      "|Suburban| ZMNYA|     3|         22|\n",
      "|   Urban| CIMBB|     4|         17|\n",
      "|   Urban| CUQAM|     4|         24|\n",
      "|   Urban| GOOBU|     6|         24|\n",
      "|   Urban| IDGFP|     5|         17|\n",
      "|   Urban| QOQTS|     6|         22|\n",
      "|   Urban| VVTVA|     4|         25|\n",
      "|   Urban| ZOWMK|     4|         27|\n",
      "+--------+------+------+-----------+\n",
      "\n"
     ]
    }
   ],
   "source": [
    "# 2. 추출된 학교들에서 학생수가 가장 작은 반의 학생수 추출\n",
    "# 지역에따른 학교의 반들에 대해 가장 학생수가 작은반의 학생수\n"
   ]
  },
  {
   "cell_type": "code",
   "execution_count": 107,
   "id": "16f2fae2-6f5f-4d54-906d-91081c15ae4e",
   "metadata": {},
   "outputs": [
    {
     "name": "stdout",
     "output_type": "stream",
     "text": [
      "+----------------+\n",
      "|max(min_std_cnt)|\n",
      "+----------------+\n",
      "|              27|\n",
      "+----------------+\n",
      "\n"
     ]
    }
   ],
   "source": [
    "# 3. 2번에서 추출된 학생수들 중 가장 많은 수 추출\n",
    "# # 지역에따른 학교의 반들에 대해 가장 학생수가 작은반의 학생수에서 가장 큰 수 \n",
    "# 즉, Urban지역의 ZOWMK 학교는 한반의 학생수 27명이 가장 작은데, 다른 지역의 학교들의 학생수가 가장 작은 반은 27명보다 작다\n"
   ]
  },
  {
   "cell_type": "markdown",
   "id": "c02c36a6-b485-41d0-a236-4ed9ea00ea64",
   "metadata": {},
   "source": [
    "### case3. 지역에 따른 학교로 분류하고 분류된 학교의 class_cd가 2개 초과인 학교에서 학교별 가장 작은 학생수들을 추출 그 중에서 가장 큰 수를 구하시오(27)\n",
    "### 구한 수보다 학생수가 더 많은 반과 학생수를 cdf 전체 데이터에서 추출하시오"
   ]
  },
  {
   "cell_type": "markdown",
   "id": "ae8c98d5-9729-445d-9b64-99cb28d99642",
   "metadata": {},
   "source": [
    "#### sql 쿼리"
   ]
  },
  {
   "cell_type": "code",
   "execution_count": 130,
   "id": "f6a9ae3d-9c9f-4305-8002-809fd3e9b862",
   "metadata": {},
   "outputs": [
    {
     "name": "stdout",
     "output_type": "stream",
     "text": [
      "+--------+-------------+\n",
      "|class_cd|class_std_cnt|\n",
      "+--------+-------------+\n",
      "|     1Q1|           28|\n",
      "|     OMI|           28|\n",
      "|     ROP|           28|\n",
      "|     18K|           31|\n",
      "|     HKF|           28|\n",
      "|     0N7|           28|\n",
      "|     SUR|           28|\n",
      "|     7BL|           29|\n",
      "|     A93|           30|\n",
      "|     YTB|           30|\n",
      "|     Q0E|           30|\n",
      "|     QA2|           30|\n",
      "|     ZBH|           30|\n",
      "+--------+-------------+\n",
      "\n",
      "+--------+\n",
      "|count(1)|\n",
      "+--------+\n",
      "|     102|\n",
      "+--------+\n",
      "\n"
     ]
    }
   ],
   "source": [
    "\n",
    "spark.sql('select count(*) from class').show()\n",
    "# Urban지역의 ZOWMK 학교의 학생수가 가장 작은반보다 학생수가 많은 반은  전체 데이터 102개의 class 중 13 클래스이다"
   ]
  },
  {
   "cell_type": "markdown",
   "id": "39dc37bf-b14b-4811-a2e3-794f5aa814bb",
   "metadata": {},
   "source": [
    "#### df 메서드"
   ]
  },
  {
   "cell_type": "code",
   "execution_count": 110,
   "id": "bfd7ba5a-841d-4481-9518-838644b1128f",
   "metadata": {},
   "outputs": [
    {
     "name": "stdout",
     "output_type": "stream",
     "text": [
      "+--------+-------------+\n",
      "|class_cd|class_std_cnt|\n",
      "+--------+-------------+\n",
      "|     1Q1|           28|\n",
      "|     OMI|           28|\n",
      "|     ROP|           28|\n",
      "|     18K|           31|\n",
      "|     HKF|           28|\n",
      "|     0N7|           28|\n",
      "|     SUR|           28|\n",
      "|     7BL|           29|\n",
      "|     A93|           30|\n",
      "|     YTB|           30|\n",
      "|     Q0E|           30|\n",
      "|     QA2|           30|\n",
      "|     ZBH|           30|\n",
      "+--------+-------------+\n",
      "\n"
     ]
    },
    {
     "data": {
      "text/plain": [
       "102"
      ]
     },
     "execution_count": 110,
     "metadata": {},
     "output_type": "execute_result"
    }
   ],
   "source": [
    "\n",
    "cdf.count()\n",
    "# Urban지역의 ZOWMK 학교의 학생수가 가장 작은반보다 학생수가 많은 반은 전체 데이터 102개의 class 중 13 클래스이다"
   ]
  },
  {
   "cell_type": "markdown",
   "id": "0a38d169",
   "metadata": {},
   "source": [
    "#### case 4. 시골지역의 사립학교중 표준교육을 진행하는 학교들의 평균 학생수보다 학생수가 더 많은 도시 지역의 공립학교면서 특수교육을 진행하는 학교를 추출하시오"
   ]
  },
  {
   "cell_type": "code",
   "execution_count": null,
   "id": "db9231bd-9c7a-4f8a-99c7-ec3f47f22095",
   "metadata": {},
   "outputs": [
    {
     "name": "stdout",
     "output_type": "stream",
     "text": [
      "+------------------+\n",
      "|avg(class_std_cnt)|\n",
      "+------------------+\n",
      "|20.928571428571427|\n",
      "+------------------+\n",
      "\n"
     ]
    }
   ],
   "source": [
    "# 시골지역의 사립학교중 표준교육을 진행하는 학교들의 평균 학생수\n"
   ]
  },
  {
   "cell_type": "code",
   "execution_count": 135,
   "id": "ad8a20b9-d282-48ae-9710-e05c66ba0089",
   "metadata": {},
   "outputs": [
    {
     "name": "stdout",
     "output_type": "stream",
     "text": [
      "+--------+------+-------------+-----+-----------+-------------+\n",
      "|class_cd|school|class_std_cnt|  loc|school_type|teaching_type|\n",
      "+--------+------+-------------+-----+-----------+-------------+\n",
      "|     98D| IDGFP|           21|Urban| Non-public| Experimental|\n",
      "|     1VD| KFZMY|           27|Urban| Non-public| Experimental|\n",
      "+--------+------+-------------+-----+-----------+-------------+\n",
      "\n"
     ]
    }
   ],
   "source": []
  },
  {
   "cell_type": "code",
   "execution_count": 138,
   "id": "5283f19a-2be3-4191-8473-0c9b31ef68a4",
   "metadata": {},
   "outputs": [
    {
     "name": "stdout",
     "output_type": "stream",
     "text": [
      "+---+\n",
      "|avg|\n",
      "+---+\n",
      "| 21|\n",
      "+---+\n",
      "\n"
     ]
    },
    {
     "data": {
      "text/plain": [
       "21"
      ]
     },
     "execution_count": 138,
     "metadata": {},
     "output_type": "execute_result"
    }
   ],
   "source": [
    "# 시골지역의 사립학교중 표준교육을 진행하는 학교들의 평균 학생수"
   ]
  },
  {
   "cell_type": "code",
   "execution_count": 139,
   "id": "c30e28f8-82a0-4399-b1a4-d1252ee5df37",
   "metadata": {},
   "outputs": [
    {
     "name": "stdout",
     "output_type": "stream",
     "text": [
      "+--------+------+-------------+-----+-----------+-------------+\n",
      "|class_cd|school|class_std_cnt|  loc|school_type|teaching_type|\n",
      "+--------+------+-------------+-----+-----------+-------------+\n",
      "|     98D| IDGFP|           21|Urban| Non-public| Experimental|\n",
      "|     1VD| KFZMY|           27|Urban| Non-public| Experimental|\n",
      "+--------+------+-------------+-----+-----------+-------------+\n",
      "\n"
     ]
    }
   ],
   "source": []
  },
  {
   "cell_type": "code",
   "execution_count": null,
   "id": "f7229d95-f1cc-40f3-8e10-d0713e5cab32",
   "metadata": {},
   "outputs": [],
   "source": []
  }
 ],
 "metadata": {
  "kernelspec": {
   "display_name": "Python 3 (ipykernel)",
   "language": "python",
   "name": "python3"
  },
  "language_info": {
   "codemirror_mode": {
    "name": "ipython",
    "version": 3
   },
   "file_extension": ".py",
   "mimetype": "text/x-python",
   "name": "python",
   "nbconvert_exporter": "python",
   "pygments_lexer": "ipython3",
   "version": "3.10.12"
  }
 },
 "nbformat": 4,
 "nbformat_minor": 5
}
