{
 "cells": [
  {
   "cell_type": "markdown",
   "id": "adc872e2",
   "metadata": {},
   "source": [
    "## groupBy()"
   ]
  },
  {
   "cell_type": "markdown",
   "id": "d7c02403",
   "metadata": {},
   "source": [
    "- groupBy  : 집계함수를 가지고 있는 GroupData 객체를 반환한다.  \n",
    "\n",
    "- GrouopData객체의 집계함수들을 사용해 grouping 된 데이터들의 집계결과를 저장하고 있는 DataFrame을 반환 받을 수 있다."
   ]
  },
  {
   "cell_type": "code",
   "execution_count": 1,
   "id": "437aec40",
   "metadata": {},
   "outputs": [],
   "source": [
    "from IPython.core.interactiveshell import InteractiveShell\n",
    "InteractiveShell.ast_node_interactivity = \"all\""
   ]
  },
  {
   "cell_type": "code",
   "execution_count": 2,
   "id": "b94b8fc1",
   "metadata": {},
   "outputs": [],
   "source": [
    "from datetime import date, datetime\n",
    "from pyspark.sql import *\n",
    "from pyspark.sql.types import *\n",
    "from pyspark.sql.functions import *\n",
    "from pyspark.sql import functions as F"
   ]
  },
  {
   "cell_type": "code",
   "execution_count": 4,
   "id": "9592eccb-818f-4179-a59a-c2a2f0352016",
   "metadata": {},
   "outputs": [
    {
     "name": "stdout",
     "output_type": "stream",
     "text": [
      "root\n",
      " |-- class_cd: string (nullable = true)\n",
      " |-- school: string (nullable = true)\n",
      " |-- class_std_cnt: string (nullable = true)\n",
      " |-- loc: string (nullable = true)\n",
      " |-- school_type: string (nullable = true)\n",
      " |-- teaching_type: string (nullable = true)\n",
      "\n"
     ]
    }
   ],
   "source": [
    "cdf = spark.read.csv('/dataframe/a_class_info.csv', header=True)\n",
    "cdf.printSchema()"
   ]
  },
  {
   "cell_type": "code",
   "execution_count": 9,
   "id": "6c003818-bf76-4b08-b4f0-0a113b36e016",
   "metadata": {},
   "outputs": [],
   "source": [
    "# 지역별 교육타입별 학생 숫자를 구해보자.\n",
    "# cdf.groupby(cdf.loc, cdf.teaching_type).sum('class_std_cnt').show()\n",
    "# AnalysisException: \"class_std_cnt\" is not a numeric column.\n",
    "# class_std_cnt가 문자열이라 문제가 된다.\n",
    "# 스키마를 적용해서 해결 해보자"
   ]
  },
  {
   "cell_type": "code",
   "execution_count": 5,
   "id": "9eaaa261",
   "metadata": {},
   "outputs": [],
   "source": [
    "# 스키마 설정\n",
    "schema = StructType([\n",
    "    StructField('class_cd', StringType()),\n",
    "    StructField('school', StringType()),\n",
    "    StructField('class_std_cnt', IntegerType()),\n",
    "    StructField('loc', StringType()),\n",
    "    StructField('school_type', StringType()),\n",
    "    StructField('teaching_type', StringType()),\n",
    "])"
   ]
  },
  {
   "cell_type": "code",
   "execution_count": 7,
   "id": "cc1a11bc-2e4d-4cc8-aae9-6655317da709",
   "metadata": {},
   "outputs": [
    {
     "name": "stdout",
     "output_type": "stream",
     "text": [
      "root\n",
      " |-- class_cd: string (nullable = true)\n",
      " |-- school: string (nullable = true)\n",
      " |-- class_std_cnt: integer (nullable = true)\n",
      " |-- loc: string (nullable = true)\n",
      " |-- school_type: string (nullable = true)\n",
      " |-- teaching_type: string (nullable = true)\n",
      "\n"
     ]
    }
   ],
   "source": [
    "cdf = spark.read.csv('/dataframe/a_class_info.csv', header=True, schema=schema)\n",
    "cdf.printSchema()"
   ]
  },
  {
   "cell_type": "code",
   "execution_count": 14,
   "id": "be1a5d94-a9bf-491c-8003-06eb011655c5",
   "metadata": {},
   "outputs": [
    {
     "name": "stdout",
     "output_type": "stream",
     "text": [
      "+--------+-------------+------------------+\n",
      "|     loc|teaching_type|sum(class_std_cnt)|\n",
      "+--------+-------------+------------------+\n",
      "|   Rural| Experimental|               211|\n",
      "|    NULL|         NULL|              NULL|\n",
      "|   Urban|     Standard|               631|\n",
      "|Suburban|     Standard|               433|\n",
      "|   Rural|     Standard|               327|\n",
      "|Suburban| Experimental|               284|\n",
      "|   Urban| Experimental|               275|\n",
      "+--------+-------------+------------------+\n",
      "\n"
     ]
    },
    {
     "name": "stderr",
     "output_type": "stream",
     "text": [
      "                                                                                "
     ]
    }
   ],
   "source": [
    "# 지역별 교육타입별 학생 숫자를 구해보자.\n",
    "cdf.groupby(cdf.loc, cdf.teaching_type).sum('class_std_cnt').show()\n",
    "\n",
    "# null이 출력되는데 groupby의 집계만 이용해서는 배제할 수가 없다.\n",
    "# 그 전에 필터링 걸어야함"
   ]
  },
  {
   "cell_type": "markdown",
   "id": "85452bf6-82ba-478a-8598-0be40a8f42fa",
   "metadata": {},
   "source": [
    "- sql.df.where('조건문자열' or 조건표현식)"
   ]
  },
  {
   "cell_type": "code",
   "execution_count": 15,
   "id": "4a1cb14e-c383-4a0f-8cbf-4a7ddef9c63d",
   "metadata": {},
   "outputs": [
    {
     "name": "stdout",
     "output_type": "stream",
     "text": [
      "1. 지역별 class 숫자를 계산해보자. 단 지역정보가 없는 데이터는 제외한다.\n",
      "+--------+-----+\n",
      "|     loc|count|\n",
      "+--------+-----+\n",
      "|   Urban|   37|\n",
      "|Suburban|   34|\n",
      "|   Rural|   28|\n",
      "+--------+-----+\n",
      "\n",
      "+--------+---------------+\n",
      "|     loc|count(class_cd)|\n",
      "+--------+---------------+\n",
      "|   Urban|             37|\n",
      "|Suburban|             34|\n",
      "|   Rural|             28|\n",
      "+--------+---------------+\n",
      "\n"
     ]
    }
   ],
   "source": [
    "print('1. 지역별 class 숫자를 계산해보자. 단 지역정보가 없는 데이터는 제외한다.')\n",
    "cdf.where(cdf.loc.isNotNull())\\\n",
    "    .groupby(cdf.loc)\\\n",
    "    .count().show() # count: group dataset 객체 내 집계함수로 그룹별 레코드를 계수함. null값 포함 확률O\n",
    "\n",
    "cdf.where(cdf.loc.isNotNull())\\\n",
    "    .groupby(cdf.loc)\\\n",
    "    .agg(count(\"class_cd\")).show() # count: sql.function의 count집계 함수"
   ]
  },
  {
   "cell_type": "code",
   "execution_count": 21,
   "id": "18900df5-c557-4759-8646-7de4e8f25da3",
   "metadata": {
    "collapsed": true,
    "jupyter": {
     "outputs_hidden": true
    }
   },
   "outputs": [
    {
     "name": "stdout",
     "output_type": "stream",
     "text": [
      "2. 지역별 교육타입별 학생 숫자와 평균을 구해보자. 단 전체 학생 수가 300명 미만인 데이터는 제외한다.\n",
      "+--------+-------------+------------------+------------------+\n",
      "|     loc|teaching_type|sum(class_std_cnt)|avg(class_std_cnt)|\n",
      "+--------+-------------+------------------+------------------+\n",
      "|   Urban|     Standard|               631| 24.26923076923077|\n",
      "|Suburban|     Standard|               433|             21.65|\n",
      "|   Rural|     Standard|               327|           20.4375|\n",
      "+--------+-------------+------------------+------------------+\n",
      "\n",
      "+--------+-------------+------------------+------------------+\n",
      "|     loc|teaching_type|sum(class_std_cnt)|avg(class_std_cnt)|\n",
      "+--------+-------------+------------------+------------------+\n",
      "|   Urban|     Standard|               631| 24.26923076923077|\n",
      "|Suburban|     Standard|               433|             21.65|\n",
      "|   Rural|     Standard|               327|           20.4375|\n",
      "+--------+-------------+------------------+------------------+\n",
      "\n"
     ]
    }
   ],
   "source": [
    "print('2. 지역별 교육타입별 학생 숫자와 평균을 구해보자. 단 전체 학생 수가 300명 미만인 데이터는 제외한다.')\n",
    "cdf.groupby(cdf.loc, cdf.teaching_type)\\\n",
    "    .agg(sum('class_std_cnt'), avg('class_std_cnt'))\\\n",
    "    .where(sum('class_std_cnt') >= 300).show()\n",
    "    #df에 바로 연결하는게 아니니까 컬럼명 문자열로 전달해야함.\n",
    "\n",
    "# 또는 컬럼객체를 만들어 활용하기 위해 아래와 같은 코드로 작성할 수도 있다.\n",
    "cdf.groupby(cdf.loc, cdf.teaching_type)\\\n",
    "    .agg(sum('class_std_cnt'), avg('class_std_cnt'))\\\n",
    "    .where(col('sum(class_std_cnt)') >= 300).show()"
   ]
  },
  {
   "cell_type": "code",
   "execution_count": 23,
   "id": "0a54f824-849d-4a84-98bd-3369074dd6a8",
   "metadata": {
    "collapsed": true,
    "jupyter": {
     "outputs_hidden": true
    }
   },
   "outputs": [
    {
     "name": "stdout",
     "output_type": "stream",
     "text": [
      "컬럼명이 sum(class_std_cnt) 이라니 너무 이상하다. 집계함수를 수행하고 별칭을 붙여보자\n",
      "+--------+-------------+-----+-----------------+\n",
      "|     loc|teaching_type|total|              avg|\n",
      "+--------+-------------+-----+-----------------+\n",
      "|   Urban|     Standard|  631|24.26923076923077|\n",
      "|Suburban|     Standard|  433|            21.65|\n",
      "|   Rural|     Standard|  327|          20.4375|\n",
      "+--------+-------------+-----+-----------------+\n",
      "\n"
     ]
    }
   ],
   "source": [
    "print('컬럼명이 sum(class_std_cnt) 이라니 너무 이상하다. 집계함수를 수행하고 별칭을 붙여보자')\n",
    "cdf.groupby(cdf.loc, cdf.teaching_type)\\\n",
    "    .agg(sum('class_std_cnt').alias('total'), avg('class_std_cnt').alias('avg'))\\\n",
    "    .where(sum('class_std_cnt') >= 300).show()"
   ]
  },
  {
   "cell_type": "code",
   "execution_count": 32,
   "id": "715766e4",
   "metadata": {},
   "outputs": [
    {
     "name": "stderr",
     "output_type": "stream",
     "text": [
      "                                                                                "
     ]
    },
    {
     "name": "stdout",
     "output_type": "stream",
     "text": [
      "+--------+-------------+---+\n",
      "|     loc|count(school)|tot|\n",
      "+--------+-------------+---+\n",
      "|   Urban|           37|906|\n",
      "|Suburban|           34|717|\n",
      "|   Rural|           26|538|\n",
      "+--------+-------------+---+\n",
      "\n",
      "+-----------------------+\n",
      "|지역별 최대-최소 학생수|\n",
      "+-----------------------+\n",
      "|                    368|\n",
      "+-----------------------+\n",
      "\n"
     ]
    }
   ],
   "source": [
    "# 학교가 가장 많이 위치한 지역의 학생 수 총합과, 가장 적게 위치한 지역의 학생 수 총 합 간의 차이를 구해보자\n",
    "# 1. 지역으로 그룹\n",
    "# 2. 지역에 학교가 몇개나 있는지 계수\n",
    "cdf.groupby(cdf.loc)\\\n",
    "    .agg(count('school'), sum('class_std_cnt').alias('tot'))\\\n",
    "    .where(cdf.loc.isNotNull())\\\n",
    "    .show()\n",
    "\n",
    "# 지역별 총 학생수를 구하고 학생이 제일 많은 지역과 제일 적은 지역의 학생수 차이를 확인\n",
    "cdf.groupby(cdf.loc)\\\n",
    "    .agg(count('school'), sum('class_std_cnt').alias('tot'))\\\n",
    "    .where(cdf.loc.isNotNull())\\\n",
    "    .select((max(col('tot')) - min(col('tot'))).alias(\"지역별 최대-최소 학생수\"))\\\n",
    "    .show()"
   ]
  },
  {
   "cell_type": "markdown",
   "id": "e6aa0937",
   "metadata": {},
   "source": [
    "#### sql"
   ]
  },
  {
   "cell_type": "code",
   "execution_count": 33,
   "id": "3a9b267a-4095-41b3-b33a-d30b633028d4",
   "metadata": {},
   "outputs": [],
   "source": [
    "# dataFrame을 테이블로 등록\n",
    "cdf.createOrReplaceTempView('classV')"
   ]
  },
  {
   "cell_type": "code",
   "execution_count": 38,
   "id": "55f422fd-a561-4866-aa73-7ceffc674364",
   "metadata": {},
   "outputs": [
    {
     "name": "stdout",
     "output_type": "stream",
     "text": [
      "1. 지역별 class 숫자를 계산해보자. 단 지역정보가 없는 데이터는 제외한다.\n",
      "+--------+--------+\n",
      "|     loc|count(*)|\n",
      "+--------+--------+\n",
      "|   Urban|      37|\n",
      "|Suburban|      34|\n",
      "|   Rural|      28|\n",
      "+--------+--------+\n",
      "\n",
      "+--------+---------------+\n",
      "|     loc|count(class_cd)|\n",
      "+--------+---------------+\n",
      "|   Urban|             37|\n",
      "|Suburban|             34|\n",
      "|   Rural|             28|\n",
      "+--------+---------------+\n",
      "\n"
     ]
    }
   ],
   "source": [
    "print('1. 지역별 class 숫자를 계산해보자. 단 지역정보가 없는 데이터는 제외한다.')\n",
    "spark.sql('''\n",
    "    select loc, count('*')\n",
    "    from classV\n",
    "    group by loc\n",
    "    having loc is not null\n",
    "''').show()\n",
    "\n",
    "# count('컬럼'): 특정 컬럼의 값을 계수, null제외\n",
    "##코드 작성 다시 보기\n",
    "spark.sql('''\n",
    "    select loc, count('class_cd')\n",
    "    from classV\n",
    "    where loc is not null\n",
    "    group by loc\n",
    "''').show()\n",
    "\n",
    "# 1번코드는 그룹으로 묶어놓고 null 제외, 2번코드는 전체 데이터에서 null 제외하고 그룹화"
   ]
  },
  {
   "cell_type": "code",
   "execution_count": 36,
   "id": "2e21f4df-6ce1-4098-9f1a-d8fbe3108d17",
   "metadata": {},
   "outputs": [
    {
     "name": "stdout",
     "output_type": "stream",
     "text": [
      "2. 지역내 교육타입별 전체 학생 숫자와 평균을 구해보자. 단, 지역내 교육타입별 학생 숫자의 총 합이 300미만인 데이터는 제외한다.\n",
      "+--------+-------------+------------------+------------------+\n",
      "|     loc|teaching_type|sum(class_std_cnt)|avg(class_std_cnt)|\n",
      "+--------+-------------+------------------+------------------+\n",
      "|   Urban|     Standard|               631| 24.26923076923077|\n",
      "|Suburban|     Standard|               433|             21.65|\n",
      "|   Rural|     Standard|               327|           20.4375|\n",
      "+--------+-------------+------------------+------------------+\n",
      "\n"
     ]
    }
   ],
   "source": [
    "print('2. 지역내 교육타입별 전체 학생 숫자와 평균을 구해보자. \\\n",
    "단, 지역내 교육타입별 학생 숫자의 총 합이 300미만인 데이터는 제외한다.')\n",
    "# group data에 대한 조건 확인이 필요함 ==> where절 사용할 수 없고 having절 사용해야함\n",
    "\n",
    "spark.sql('''\n",
    "    select loc, teaching_type, sum(class_std_cnt), avg(class_std_cnt)\n",
    "    from classV\n",
    "    group by loc, teaching_type\n",
    "    having sum(class_std_cnt) >= 300\n",
    "''').show()\n",
    "    # where절 사용할 수 없고 having절 사용해야함"
   ]
  },
  {
   "cell_type": "code",
   "execution_count": 43,
   "id": "694a7e7b-e33c-4250-822f-c6cbc651cca3",
   "metadata": {},
   "outputs": [
    {
     "name": "stdout",
     "output_type": "stream",
     "text": [
      "3. 컬럼명이 sum(class_std_cnt) 이라니 너무 이상하다. 집계함수를 수행하고 별칭을 붙여보자\n",
      "+--------+-------------+------------+-----------------+\n",
      "|     loc|teaching_type|전체 학생 수|              avg|\n",
      "+--------+-------------+------------+-----------------+\n",
      "|   Urban|     Standard|         631|24.26923076923077|\n",
      "|Suburban|     Standard|         433|            21.65|\n",
      "|   Rural|     Standard|         327|          20.4375|\n",
      "+--------+-------------+------------+-----------------+\n",
      "\n"
     ]
    }
   ],
   "source": [
    "print('3. 컬럼명이 sum(class_std_cnt) 이라니 너무 이상하다. 집계함수를 수행하고 별칭을 붙여보자')\n",
    "spark.sql('''\n",
    "    select loc, teaching_type, sum(class_std_cnt) as `전체 학생 수`, avg(class_std_cnt) as avg\n",
    "    from classV\n",
    "    group by loc, teaching_type\n",
    "    having sum(class_std_cnt) >= 300\n",
    "''').show()"
   ]
  },
  {
   "cell_type": "markdown",
   "id": "63967ebe",
   "metadata": {},
   "source": [
    "## orderBy()"
   ]
  },
  {
   "cell_type": "code",
   "execution_count": 47,
   "id": "7e97ec95-f748-4e19-a659-fc4ddc07ed38",
   "metadata": {},
   "outputs": [
    {
     "name": "stdout",
     "output_type": "stream",
     "text": [
      "반 학생 숫자를 기준으로 내림차순 정렬하라\n",
      "+--------+------+-------------+-----+-----------+-------------+\n",
      "|class_cd|school|class_std_cnt|  loc|school_type|teaching_type|\n",
      "+--------+------+-------------+-----+-----------+-------------+\n",
      "|     18K| GOOBU|           31|Urban|     Public|     Standard|\n",
      "|     Q0E| ZOWMK|           30|Urban|     Public| Experimental|\n",
      "|     A93| VVTVA|           30|Urban|     Public| Experimental|\n",
      "+--------+------+-------------+-----+-----------+-------------+\n",
      "only showing top 3 rows\n",
      "\n",
      "loc를 기준으로 오름차순 정렬하라, 이때 같은 지역끼리는 학교이름을 기준으로 내림차순 정렬하라\n",
      "+--------+------+-------------+----+-----------+-------------+\n",
      "|class_cd|school|class_std_cnt| loc|school_type|teaching_type|\n",
      "+--------+------+-------------+----+-----------+-------------+\n",
      "|     5SD|  NULL|         NULL|NULL|       NULL|         NULL|\n",
      "|     6PP|  NULL|         NULL|NULL|       NULL|         NULL|\n",
      "|     4SZ|  NULL|         NULL|NULL|       NULL|         NULL|\n",
      "+--------+------+-------------+----+-----------+-------------+\n",
      "only showing top 3 rows\n",
      "\n"
     ]
    }
   ],
   "source": [
    "print('반 학생 숫자를 기준으로 내림차순 정렬하라')\n",
    "cdf.orderBy(cdf.class_std_cnt.desc()).show(3)\n",
    "\n",
    "print('loc를 기준으로 오름차순 정렬하라, 이때 같은 지역끼리는 학교이름을 기준으로 내림차순 정렬하라')\n",
    "cdf.orderBy(cdf.loc.asc(), cdf.school.desc()).show(3)"
   ]
  },
  {
   "cell_type": "code",
   "execution_count": 55,
   "id": "743aa88a-e608-4936-b283-29e8643945e7",
   "metadata": {},
   "outputs": [
    {
     "name": "stdout",
     "output_type": "stream",
     "text": [
      "학교 종류를 기준으로 오름차순 정렬하라, 만약 school_type이 null인 행이 있다면 제일 위로 오게 하라\n",
      "+--------+------+-------------+-----+-----------+-------------+\n",
      "|class_cd|school|class_std_cnt|  loc|school_type|teaching_type|\n",
      "+--------+------+-------------+-----+-----------+-------------+\n",
      "|     6PP|  NULL|         NULL| NULL|       NULL|         NULL|\n",
      "|     4SZ|  NULL|         NULL| NULL|       NULL|         NULL|\n",
      "|     5SD|  NULL|         NULL| NULL|       NULL|         NULL|\n",
      "|     6OL| ANKYI|           20|Urban| Non-public|     Standard|\n",
      "|     ZNS| ANKYI|           21|Urban| Non-public|     Standard|\n",
      "+--------+------+-------------+-----+-----------+-------------+\n",
      "only showing top 5 rows\n",
      "\n",
      "학교 종류를 기준으로 내림차순 정렬하라, 만약 school_type이 null인 행이 있다면 제일 위로 오게 하라\n",
      "+--------+------+-------------+-----+-----------+-------------+\n",
      "|class_cd|school|class_std_cnt|  loc|school_type|teaching_type|\n",
      "+--------+------+-------------+-----+-----------+-------------+\n",
      "|     1Q1| CUQAM|           28|Urban|     Public|     Standard|\n",
      "|     X6Z| CUQAM|           24|Urban|     Public| Experimental|\n",
      "|     BFY| CUQAM|           27|Urban|     Public|     Standard|\n",
      "+--------+------+-------------+-----+-----------+-------------+\n",
      "only showing top 3 rows\n",
      "\n",
      "+--------+------+-------------+----+-----------+-------------+\n",
      "|class_cd|school|class_std_cnt| loc|school_type|teaching_type|\n",
      "+--------+------+-------------+----+-----------+-------------+\n",
      "|     6PP|  NULL|         NULL|NULL|       NULL|         NULL|\n",
      "|     4SZ|  NULL|         NULL|NULL|       NULL|         NULL|\n",
      "|     5SD|  NULL|         NULL|NULL|       NULL|         NULL|\n",
      "+--------+------+-------------+----+-----------+-------------+\n",
      "only showing top 3 rows\n",
      "\n"
     ]
    }
   ],
   "source": [
    "# 연습\n",
    "# 오름차순 정렬일 경우 null을 가장 적은 값으로 본다.\n",
    "print('학교 종류를 기준으로 오름차순 정렬하라, 만약 school_type이 null인 행이 있다면 제일 위로 오게 하라')\n",
    "cdf.orderBy(cdf.school_type.asc()).show(5)\n",
    "# asc_nulls_first()쓸 수도 있긴한데 뭐..\n",
    "\n",
    "print('학교 종류를 기준으로 내림차순 정렬하라, 만약 school_type이 null인 행이 있다면 제일 위로 오게 하라')\n",
    "cdf.orderBy(cdf.school_type.desc()).show(3)\n",
    "cdf.orderBy(cdf.school_type.desc_nulls_first()).show(3)"
   ]
  },
  {
   "cell_type": "markdown",
   "id": "51d2e484",
   "metadata": {},
   "source": [
    "#### sql"
   ]
  },
  {
   "cell_type": "code",
   "execution_count": null,
   "id": "676b2272-c351-4236-825c-0071b154d995",
   "metadata": {},
   "outputs": [],
   "source": [
    "print('반 학생 숫자를 기준으로 내림차순 정렬하라')\n",
    "spark.sql('''\n",
    "    select * from classV order by class_std_cnt desc\n",
    "''').show()\n",
    "\n",
    "print('loc를 기준으로 오름차순 정렬하라, 이때 같은 지역끼리는 학교이름을 기준으로 내림차순 정렬하라')\n",
    "spark.sql('''\n",
    "    select * from classV order by loc asc, school desc\n",
    "''').show()"
   ]
  },
  {
   "cell_type": "code",
   "execution_count": 54,
   "id": "82f6ec2d-6f7e-4871-80dc-6656726f1f03",
   "metadata": {},
   "outputs": [
    {
     "name": "stdout",
     "output_type": "stream",
     "text": [
      "학교 종류를 기준으로 오름차순 정렬하라, 만약 school_type이 null인 행이 있다면 제일 위로 오게 하라\n",
      "+--------+------+-------------+-----+-----------+-------------+\n",
      "|class_cd|school|class_std_cnt|  loc|school_type|teaching_type|\n",
      "+--------+------+-------------+-----+-----------+-------------+\n",
      "|     6PP|  NULL|         NULL| NULL|       NULL|         NULL|\n",
      "|     4SZ|  NULL|         NULL| NULL|       NULL|         NULL|\n",
      "|     5SD|  NULL|         NULL| NULL|       NULL|         NULL|\n",
      "|     6OL| ANKYI|           20|Urban| Non-public|     Standard|\n",
      "|     ZNS| ANKYI|           21|Urban| Non-public|     Standard|\n",
      "+--------+------+-------------+-----+-----------+-------------+\n",
      "only showing top 5 rows\n",
      "\n",
      "학교 종류를 기준으로 내림차순 정렬하라, 만약 school_type이 null인 행이 있다면 제일 위로 오게 하라\n",
      "+--------+------+-------------+--------+-----------+-------------+\n",
      "|class_cd|school|class_std_cnt|     loc|school_type|teaching_type|\n",
      "+--------+------+-------------+--------+-----------+-------------+\n",
      "|     6PP|  NULL|         NULL|    NULL|       NULL|         NULL|\n",
      "|     4SZ|  NULL|         NULL|    NULL|       NULL|         NULL|\n",
      "|     5SD|  NULL|         NULL|    NULL|       NULL|         NULL|\n",
      "|     1Q1| CUQAM|           28|   Urban|     Public|     Standard|\n",
      "|     PW5| DNQDD|           20|Suburban|     Public| Experimental|\n",
      "+--------+------+-------------+--------+-----------+-------------+\n",
      "only showing top 5 rows\n",
      "\n"
     ]
    }
   ],
   "source": [
    "# 연습\n",
    "print('학교 종류를 기준으로 오름차순 정렬하라, 만약 school_type이 null인 행이 있다면 제일 위로 오게 하라')\n",
    "spark.sql('''\n",
    "    select * from classV order by school_type asc\n",
    "''').show(5)\n",
    "\n",
    "print('학교 종류를 기준으로 내림차순 정렬하라, 만약 school_type이 null인 행이 있다면 제일 위로 오게 하라')\n",
    "spark.sql('''\n",
    "    select * from classV order by school_type desc nulls first\n",
    "''').show(5)"
   ]
  },
  {
   "cell_type": "code",
   "execution_count": null,
   "id": "2563e36c-afa1-4469-a3a5-0cfd6f973350",
   "metadata": {},
   "outputs": [],
   "source": []
  }
 ],
 "metadata": {
  "kernelspec": {
   "display_name": "Python 3 (ipykernel)",
   "language": "python",
   "name": "python3"
  },
  "language_info": {
   "codemirror_mode": {
    "name": "ipython",
    "version": 3
   },
   "file_extension": ".py",
   "mimetype": "text/x-python",
   "name": "python",
   "nbconvert_exporter": "python",
   "pygments_lexer": "ipython3",
   "version": "3.10.12"
  }
 },
 "nbformat": 4,
 "nbformat_minor": 5
}
